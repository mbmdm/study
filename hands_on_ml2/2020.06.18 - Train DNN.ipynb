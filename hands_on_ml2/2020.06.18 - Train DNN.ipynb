{
 "cells": [
  {
   "cell_type": "code",
   "execution_count": 1,
   "metadata": {},
   "outputs": [
    {
     "name": "stdout",
     "output_type": "stream",
     "text": [
      "The tensorboard extension is already loaded. To reload it, use:\n",
      "  %reload_ext tensorboard\n",
      "The tensorboard extension is already loaded. To reload it, use:\n",
      "  %reload_ext tensorboard\n",
      "The tensorboard extension is already loaded. To reload it, use:\n",
      "  %reload_ext tensorboard\n"
     ]
    }
   ],
   "source": [
    "# Python ≥3.5 is required\n",
    "import sys\n",
    "assert sys.version_info >= (3, 5)\n",
    "\n",
    "# Scikit-Learn ≥0.20 is required\n",
    "import sklearn\n",
    "assert sklearn.__version__ >= \"0.20\"\n",
    "\n",
    "try:\n",
    "    # %tensorflow_version only exists in Colab.\n",
    "    %tensorflow_version 2.x\n",
    "except Exception:\n",
    "    pass\n",
    "\n",
    "# TensorFlow ≥2.0 is required\n",
    "import tensorflow as tf\n",
    "from tensorflow import keras\n",
    "assert tf.__version__ >= \"2.0\"\n",
    "\n",
    "%load_ext tensorboard\n",
    "\n",
    "# Common imports\n",
    "import numpy as np\n",
    "\n",
    "\n",
    "# Python ≥3.5 is required\n",
    "import sys\n",
    "assert sys.version_info >= (3, 5)\n",
    "\n",
    "# Scikit-Learn ≥0.20 is required\n",
    "import sklearn\n",
    "assert sklearn.__version__ >= \"0.20\"\n",
    "\n",
    "try:\n",
    "    # %tensorflow_version only exists in Colab.\n",
    "    %tensorflow_version 2.x\n",
    "except Exception:\n",
    "    pass\n",
    "\n",
    "# TensorFlow ≥2.0 is required\n",
    "import tensorflow as tf\n",
    "from tensorflow import keras\n",
    "assert tf.__version__ >= \"2.0\"\n",
    "\n",
    "%load_ext tensorboard\n",
    "\n",
    "# Common imports\n",
    "import numpy as np\n",
    "import os\n",
    "\n",
    "# Python ≥3.5 is required\n",
    "import sys\n",
    "assert sys.version_info >= (3, 5)\n",
    "\n",
    "# Scikit-Learn ≥0.20 is required\n",
    "import sklearn\n",
    "assert sklearn.__version__ >= \"0.20\"\n",
    "\n",
    "try:\n",
    "    # %tensorflow_version only exists in Colab.\n",
    "    %tensorflow_version 2.x\n",
    "except Exception:\n",
    "    pass\n",
    "\n",
    "# TensorFlow ≥2.0 is required\n",
    "import tensorflow as tf\n",
    "from tensorflow import keras\n",
    "assert tf.__version__ >= \"2.0\"\n",
    "\n",
    "%load_ext tensorboard\n",
    "\n",
    "# Common imports\n",
    "import numpy as np\n",
    "import os\n",
    "\n",
    "# Python ≥3.5 is required\n",
    "import sys\n",
    "assert sys.version_info >= (3, 5)\n",
    "\n",
    "# Scikit-Learn ≥0.20 is required\n",
    "import sklearn\n",
    "assert sklearn.__version__ >= \"0.20\"\n",
    "\n",
    "try:\n",
    "    # %tensorflow_version only exists in Colab.\n",
    "    %tensorflow_version 2.x\n",
    "except Exception:\n",
    "    pass\n",
    "\n",
    "# TensorFlow ≥2.0 is required\n",
    "import tensorflow as tf\n",
    "from tensorflow import keras\n",
    "assert tf.__version__ >= \"2.0\"\n",
    "\n",
    "%load_ext tensorboard\n",
    "\n",
    "# Common imports\n",
    "import numpy as np\n",
    "import os\n",
    "\n",
    "# to make this notebook's output stable across runs\n",
    "np.random.seed(42)\n",
    "\n",
    "# To plot pretty figures\n",
    "%matplotlib inline\n",
    "import matplotlib as mpl\n",
    "import matplotlib.pyplot as plt\n",
    "mpl.rc('axes', labelsize=14)\n",
    "mpl.rc('xtick', labelsize=12)\n",
    "mpl.rc('ytick', labelsize=12)\n",
    "\n",
    "# Where to save the figures\n",
    "PROJECT_ROOT_DIR = \".\"\n",
    "CHAPTER_ID = \"deep\"\n",
    "IMAGES_PATH = os.path.join(PROJECT_ROOT_DIR, \"images\", CHAPTER_ID)\n",
    "os.makedirs(IMAGES_PATH, exist_ok=True)\n",
    "\n",
    "def save_fig(fig_id, tight_layout=True, fig_extension=\"png\", resolution=300):\n",
    "    path = os.path.join(IMAGES_PATH, fig_id + \".\" + fig_extension)\n",
    "    print(\"Saving figure\", fig_id)\n",
    "    if tight_layout:\n",
    "        plt.tight_layout()\n",
    "    plt.savefig(path, format=fig_extension, dpi=resolution)"
   ]
  },
  {
   "cell_type": "code",
   "execution_count": 2,
   "metadata": {},
   "outputs": [],
   "source": [
    "import numpy as np\n",
    "from sklearn.datasets import load_iris\n",
    "from sklearn.linear_model import Perceptron\n",
    "import tensorflow as tf\n",
    "from tensorflow import keras\n",
    "from functools import partial\n",
    "\n",
    "def get_run_logdir(prefix=\"\"):\n",
    "    import time\n",
    "    run_id = time.strftime(\"run_%Y_%m_%d-%H_%M_%S\" + prefix)\n",
    "    return os.path.join(\"/home/infodba/Documents/study/hands_on_ml2/my_logs/\", run_id)"
   ]
  },
  {
   "cell_type": "markdown",
   "metadata": {},
   "source": [
    "# Vanishing/Exploding Gradients Problem\n",
    "\n",
    "## Nonsaturating Activation Functions\n",
    "\n",
    "### Leaky ReLU"
   ]
  },
  {
   "cell_type": "code",
   "execution_count": 6,
   "metadata": {},
   "outputs": [],
   "source": [
    "(X_train_full, y_train_full), (X_test, y_test) = keras.datasets.fashion_mnist.load_data()\n",
    "X_train_full = X_train_full / 255.0\n",
    "X_test = X_test / 255.0\n",
    "X_valid, X_train = X_train_full[:5000], X_train_full[5000:]\n",
    "y_valid, y_train = y_train_full[:5000], y_train_full[5000:]\n",
    "\n",
    "#нормализация данных\n",
    "pixel_means = X_train.mean(axis=0, keepdims=True)\n",
    "pixel_stds = X_train.std(axis=0, keepdims=True)\n",
    "X_train_scaled = (X_train - pixel_means) / pixel_stds\n",
    "X_valid_scaled = (X_valid - pixel_means) / pixel_stds\n",
    "X_test_scaled = (X_test - pixel_means) / pixel_stds"
   ]
  },
  {
   "cell_type": "code",
   "execution_count": 4,
   "metadata": {},
   "outputs": [
    {
     "name": "stdout",
     "output_type": "stream",
     "text": [
      "Train on 55000 samples, validate on 5000 samples\n",
      "Epoch 1/10\n",
      "55000/55000 [==============================] - 10s 184us/sample - loss: 1.2810 - accuracy: 0.6205 - val_loss: 0.8869 - val_accuracy: 0.7160\n",
      "Epoch 2/10\n",
      "55000/55000 [==============================] - 10s 176us/sample - loss: 0.7952 - accuracy: 0.7369 - val_loss: 0.7132 - val_accuracy: 0.7626\n",
      "Epoch 3/10\n",
      "55000/55000 [==============================] - 10s 180us/sample - loss: 0.6817 - accuracy: 0.7726 - val_loss: 0.6385 - val_accuracy: 0.7894\n",
      "Epoch 4/10\n",
      "55000/55000 [==============================] - 10s 179us/sample - loss: 0.6219 - accuracy: 0.7942 - val_loss: 0.5931 - val_accuracy: 0.8016\n",
      "Epoch 5/10\n",
      "55000/55000 [==============================] - 10s 177us/sample - loss: 0.5830 - accuracy: 0.8074 - val_loss: 0.5607 - val_accuracy: 0.8172\n",
      "Epoch 6/10\n",
      "55000/55000 [==============================] - 10s 176us/sample - loss: 0.5552 - accuracy: 0.8173 - val_loss: 0.5355 - val_accuracy: 0.8238\n",
      "Epoch 7/10\n",
      "55000/55000 [==============================] - 9s 169us/sample - loss: 0.5339 - accuracy: 0.8226 - val_loss: 0.5166 - val_accuracy: 0.8298\n",
      "Epoch 8/10\n",
      "55000/55000 [==============================] - 10s 173us/sample - loss: 0.5173 - accuracy: 0.8261 - val_loss: 0.5043 - val_accuracy: 0.8356\n",
      "Epoch 9/10\n",
      "55000/55000 [==============================] - 9s 171us/sample - loss: 0.5039 - accuracy: 0.8306 - val_loss: 0.4889 - val_accuracy: 0.8384\n",
      "Epoch 10/10\n",
      "55000/55000 [==============================] - 9s 170us/sample - loss: 0.4923 - accuracy: 0.8333 - val_loss: 0.4816 - val_accuracy: 0.8394\n"
     ]
    }
   ],
   "source": [
    "tf.random.set_seed(42)\n",
    "np.random.seed(42)\n",
    "\n",
    "model = keras.models.Sequential([\n",
    "    keras.layers.Flatten(input_shape=[28, 28]),\n",
    "    keras.layers.Dense(300, kernel_initializer=\"he_normal\"),\n",
    "    keras.layers.LeakyReLU(),\n",
    "    keras.layers.Dense(100, kernel_initializer=\"he_normal\"),\n",
    "    keras.layers.LeakyReLU(),\n",
    "    keras.layers.Dense(10, activation=\"softmax\")\n",
    "])\n",
    "\n",
    "model.compile(loss=\"sparse_categorical_crossentropy\",\n",
    "              optimizer=keras.optimizers.SGD(lr=1e-3),\n",
    "              metrics=[\"accuracy\"])\n",
    "\n",
    "history = model.fit(X_train, y_train, epochs=10,\n",
    "                    validation_data=(X_valid, y_valid))"
   ]
  },
  {
   "cell_type": "markdown",
   "metadata": {},
   "source": [
    "Теперь попробуем PReLU:"
   ]
  },
  {
   "cell_type": "code",
   "execution_count": 12,
   "metadata": {},
   "outputs": [
    {
     "name": "stdout",
     "output_type": "stream",
     "text": [
      "Train on 55000 samples, validate on 5000 samples\n",
      "Epoch 1/10\n",
      "55000/55000 [==============================] - 11s 199us/sample - loss: 1.3452 - accuracy: 0.6203 - val_loss: 0.9241 - val_accuracy: 0.7170\n",
      "Epoch 2/10\n",
      "55000/55000 [==============================] - 10s 186us/sample - loss: 0.8196 - accuracy: 0.7364 - val_loss: 0.7314 - val_accuracy: 0.7602\n",
      "Epoch 3/10\n",
      "55000/55000 [==============================] - 11s 194us/sample - loss: 0.6970 - accuracy: 0.7701 - val_loss: 0.6517 - val_accuracy: 0.7878\n",
      "Epoch 4/10\n",
      "55000/55000 [==============================] - 11s 197us/sample - loss: 0.6333 - accuracy: 0.7914 - val_loss: 0.6032 - val_accuracy: 0.8056\n",
      "Epoch 5/10\n",
      "55000/55000 [==============================] - 10s 187us/sample - loss: 0.5917 - accuracy: 0.8049 - val_loss: 0.5689 - val_accuracy: 0.8162\n",
      "Epoch 6/10\n",
      "55000/55000 [==============================] - 10s 185us/sample - loss: 0.5619 - accuracy: 0.8143 - val_loss: 0.5417 - val_accuracy: 0.8224\n",
      "Epoch 7/10\n",
      "55000/55000 [==============================] - 10s 184us/sample - loss: 0.5392 - accuracy: 0.8205 - val_loss: 0.5214 - val_accuracy: 0.8300\n",
      "Epoch 8/10\n",
      "55000/55000 [==============================] - 10s 181us/sample - loss: 0.5215 - accuracy: 0.8256 - val_loss: 0.5075 - val_accuracy: 0.8352\n",
      "Epoch 9/10\n",
      "55000/55000 [==============================] - 10s 181us/sample - loss: 0.5071 - accuracy: 0.8285 - val_loss: 0.4918 - val_accuracy: 0.8384\n",
      "Epoch 10/10\n",
      "55000/55000 [==============================] - 10s 176us/sample - loss: 0.4946 - accuracy: 0.8322 - val_loss: 0.4839 - val_accuracy: 0.8380\n"
     ]
    }
   ],
   "source": [
    "tf.random.set_seed(42)\n",
    "np.random.seed(42)\n",
    "\n",
    "model = keras.models.Sequential([\n",
    "    keras.layers.Flatten(input_shape=[28, 28]),\n",
    "    keras.layers.Dense(300, kernel_initializer=\"he_normal\"),\n",
    "    keras.layers.PReLU(),\n",
    "    keras.layers.Dense(100, kernel_initializer=\"he_normal\"),\n",
    "    keras.layers.PReLU(),\n",
    "    keras.layers.Dense(10, activation=\"softmax\")\n",
    "])\n",
    "\n",
    "model.compile(loss=\"sparse_categorical_crossentropy\",\n",
    "              optimizer=keras.optimizers.SGD(lr=1e-3),\n",
    "              metrics=[\"accuracy\"])\n",
    "\n",
    "history = model.fit(X_train, y_train, epochs=10,\n",
    "                    validation_data=(X_valid, y_valid))"
   ]
  },
  {
   "cell_type": "markdown",
   "metadata": {},
   "source": [
    "Теперь попробуем SELU для глубокой нейросети:"
   ]
  },
  {
   "cell_type": "code",
   "execution_count": 4,
   "metadata": {},
   "outputs": [],
   "source": [
    "#нормализация данных\n",
    "pixel_means = X_train.mean(axis=0, keepdims=True)\n",
    "pixel_stds = X_train.std(axis=0, keepdims=True)\n",
    "X_train_scaled = (X_train - pixel_means) / pixel_stds\n",
    "X_valid_scaled = (X_valid - pixel_means) / pixel_stds\n",
    "X_test_scaled = (X_test - pixel_means) / pixel_stds"
   ]
  },
  {
   "cell_type": "code",
   "execution_count": 11,
   "metadata": {},
   "outputs": [
    {
     "data": {
      "text/plain": [
       "(1, 28, 28)"
      ]
     },
     "execution_count": 11,
     "metadata": {},
     "output_type": "execute_result"
    }
   ],
   "source": [
    "pixel_means.shape"
   ]
  },
  {
   "cell_type": "code",
   "execution_count": 28,
   "metadata": {},
   "outputs": [
    {
     "name": "stdout",
     "output_type": "stream",
     "text": [
      "Train on 55000 samples, validate on 5000 samples\n",
      "Epoch 1/10\n",
      "55000/55000 [==============================] - 54s 979us/sample - loss: 1.2646 - accuracy: 0.5128 - val_loss: 1.2577 - val_accuracy: 0.5758\n",
      "Epoch 2/10\n",
      "55000/55000 [==============================] - 49s 896us/sample - loss: 0.7850 - accuracy: 0.7119 - val_loss: 1.1055 - val_accuracy: 0.5730\n",
      "Epoch 3/10\n",
      "55000/55000 [==============================] - 52s 937us/sample - loss: 1.0468 - accuracy: 0.6044 - val_loss: 0.9671 - val_accuracy: 0.6326\n",
      "Epoch 4/10\n",
      "55000/55000 [==============================] - 52s 945us/sample - loss: 0.8668 - accuracy: 0.6844 - val_loss: 0.8634 - val_accuracy: 0.6926\n",
      "Epoch 5/10\n",
      "55000/55000 [==============================] - 51s 933us/sample - loss: 0.6951 - accuracy: 0.7502 - val_loss: 0.6166 - val_accuracy: 0.7842\n",
      "Epoch 6/10\n",
      "55000/55000 [==============================] - 50s 911us/sample - loss: 0.5926 - accuracy: 0.7882 - val_loss: 0.5632 - val_accuracy: 0.8058\n",
      "Epoch 7/10\n",
      "55000/55000 [==============================] - 51s 934us/sample - loss: 0.5450 - accuracy: 0.8043 - val_loss: 0.5385 - val_accuracy: 0.8104\n",
      "Epoch 8/10\n",
      "55000/55000 [==============================] - 55s 993us/sample - loss: 0.5108 - accuracy: 0.8191 - val_loss: 0.4891 - val_accuracy: 0.8230\n",
      "Epoch 9/10\n",
      "55000/55000 [==============================] - 50s 916us/sample - loss: 0.4838 - accuracy: 0.8286 - val_loss: 0.5083 - val_accuracy: 0.8250\n",
      "Epoch 10/10\n",
      "55000/55000 [==============================] - 50s 916us/sample - loss: 0.4706 - accuracy: 0.8346 - val_loss: 0.4741 - val_accuracy: 0.8354\n"
     ]
    }
   ],
   "source": [
    "tf.random.set_seed(42)\n",
    "np.random.seed(42)\n",
    "\n",
    "#инициализация для selu должна быть lecun, а архитектура должна быть последовательная и глубокая\n",
    "model = keras.models.Sequential()\n",
    "model.add(keras.layers.Flatten(input_shape=[28, 28]))\n",
    "model.add(keras.layers.Dense(300, activation=\"selu\", kernel_initializer=\"lecun_normal\"))\n",
    "\n",
    "for layer in range(99):\n",
    "    model.add(keras.layers.Dense(100, activation=\"selu\", kernel_initializer=\"lecun_normal\"))\n",
    "\n",
    "model.add(keras.layers.Dense(10, activation=\"softmax\"))\n",
    "\n",
    "model.compile(loss=\"sparse_categorical_crossentropy\",\n",
    "              optimizer=keras.optimizers.SGD(lr=1e-3),\n",
    "              metrics=[\"accuracy\"])\n",
    "\n",
    "history = model.fit(X_train_scaled, y_train, epochs=10, validation_data=(X_valid_scaled, y_valid))"
   ]
  },
  {
   "cell_type": "markdown",
   "metadata": {},
   "source": [
    "посмотрим что произойдет при использовании в той же модели стандартной relu"
   ]
  },
  {
   "cell_type": "code",
   "execution_count": 29,
   "metadata": {},
   "outputs": [
    {
     "name": "stdout",
     "output_type": "stream",
     "text": [
      "Train on 55000 samples, validate on 5000 samples\n",
      "Epoch 1/10\n",
      "55000/55000 [==============================] - 51s 925us/sample - loss: 1.7503 - accuracy: 0.2867 - val_loss: 1.3841 - val_accuracy: 0.3664\n",
      "Epoch 2/10\n",
      "55000/55000 [==============================] - 46s 839us/sample - loss: 1.1652 - accuracy: 0.5032 - val_loss: 0.9573 - val_accuracy: 0.6172\n",
      "Epoch 3/10\n",
      "55000/55000 [==============================] - 46s 842us/sample - loss: 1.0822 - accuracy: 0.5459 - val_loss: 1.0975 - val_accuracy: 0.5280\n",
      "Epoch 4/10\n",
      "55000/55000 [==============================] - 46s 842us/sample - loss: 0.9150 - accuracy: 0.6196 - val_loss: 0.8545 - val_accuracy: 0.6852\n",
      "Epoch 5/10\n",
      "55000/55000 [==============================] - 48s 874us/sample - loss: 0.8962 - accuracy: 0.6392 - val_loss: 0.8214 - val_accuracy: 0.6592\n",
      "Epoch 6/10\n",
      "55000/55000 [==============================] - 48s 876us/sample - loss: 0.8147 - accuracy: 0.6832 - val_loss: 0.8154 - val_accuracy: 0.6878\n",
      "Epoch 7/10\n",
      "55000/55000 [==============================] - 46s 839us/sample - loss: 0.9118 - accuracy: 0.6434 - val_loss: 0.7194 - val_accuracy: 0.7362\n",
      "Epoch 8/10\n",
      "55000/55000 [==============================] - 48s 864us/sample - loss: 0.7239 - accuracy: 0.7254 - val_loss: 0.7084 - val_accuracy: 0.7450\n",
      "Epoch 9/10\n",
      "55000/55000 [==============================] - 48s 870us/sample - loss: 0.6918 - accuracy: 0.7424 - val_loss: 0.6335 - val_accuracy: 0.7638\n",
      "Epoch 10/10\n",
      "55000/55000 [==============================] - 48s 868us/sample - loss: 0.6459 - accuracy: 0.7589 - val_loss: 0.6017 - val_accuracy: 0.7864\n"
     ]
    }
   ],
   "source": [
    "tf.random.set_seed(42)\n",
    "np.random.seed(42)\n",
    "model = keras.models.Sequential()\n",
    "model.add(keras.layers.Flatten(input_shape=[28, 28]))\n",
    "model.add(keras.layers.Dense(300, activation=\"relu\", kernel_initializer=\"he_normal\"))\n",
    "for layer in range(99):\n",
    "    model.add(keras.layers.Dense(100, activation=\"relu\", kernel_initializer=\"he_normal\"))\n",
    "model.add(keras.layers.Dense(10, activation=\"softmax\"))\n",
    "model.compile(loss=\"sparse_categorical_crossentropy\",\n",
    "              optimizer=keras.optimizers.SGD(lr=1e-3),\n",
    "              metrics=[\"accuracy\"])\n",
    "history = model.fit(X_train_scaled, y_train, epochs=10, validation_data=(X_valid_scaled, y_valid))"
   ]
  },
  {
   "cell_type": "markdown",
   "metadata": {},
   "source": [
    "результат чуть хуже, наверное чтобы проблема \"Vanishing/Exploding Gradients\" проявилась ярче нужно еще больше скрытых слоев."
   ]
  },
  {
   "cell_type": "markdown",
   "metadata": {},
   "source": [
    "## Batch Normalization"
   ]
  },
  {
   "cell_type": "code",
   "execution_count": 7,
   "metadata": {},
   "outputs": [],
   "source": [
    "model = keras.models.Sequential([\n",
    "    keras.layers.Flatten(input_shape=[28, 28]),\n",
    "    keras.layers.BatchNormalization(),\n",
    "    keras.layers.Dense(300, activation=\"relu\"),\n",
    "    keras.layers.BatchNormalization(),\n",
    "    keras.layers.Dense(100, activation=\"relu\"),\n",
    "    keras.layers.BatchNormalization(),\n",
    "    keras.layers.Dense(10, activation=\"softmax\")\n",
    "])"
   ]
  },
  {
   "cell_type": "code",
   "execution_count": 8,
   "metadata": {},
   "outputs": [
    {
     "name": "stdout",
     "output_type": "stream",
     "text": [
      "Model: \"sequential_1\"\n",
      "_________________________________________________________________\n",
      "Layer (type)                 Output Shape              Param #   \n",
      "=================================================================\n",
      "flatten_1 (Flatten)          (None, 784)               0         \n",
      "_________________________________________________________________\n",
      "batch_normalization (BatchNo (None, 784)               3136      \n",
      "_________________________________________________________________\n",
      "dense_3 (Dense)              (None, 300)               235500    \n",
      "_________________________________________________________________\n",
      "batch_normalization_1 (Batch (None, 300)               1200      \n",
      "_________________________________________________________________\n",
      "dense_4 (Dense)              (None, 100)               30100     \n",
      "_________________________________________________________________\n",
      "batch_normalization_2 (Batch (None, 100)               400       \n",
      "_________________________________________________________________\n",
      "dense_5 (Dense)              (None, 10)                1010      \n",
      "=================================================================\n",
      "Total params: 271,346\n",
      "Trainable params: 268,978\n",
      "Non-trainable params: 2,368\n",
      "_________________________________________________________________\n"
     ]
    }
   ],
   "source": [
    "model.summary()"
   ]
  },
  {
   "cell_type": "markdown",
   "metadata": {},
   "source": [
    "после входного слоя BN дает 4 дополнительных параметра γ, β, μ и σ для каждого входящего значения, т.о. получается 28х28х4=3136. Параметры μ и σ не корректируются в процессе обратного распространения ошибки. Рассмотрим параметры первого BN слоя"
   ]
  },
  {
   "cell_type": "code",
   "execution_count": 9,
   "metadata": {},
   "outputs": [
    {
     "data": {
      "text/plain": [
       "[('batch_normalization/gamma:0', True),\n",
       " ('batch_normalization/beta:0', True),\n",
       " ('batch_normalization/moving_mean:0', False),\n",
       " ('batch_normalization/moving_variance:0', False)]"
      ]
     },
     "execution_count": 9,
     "metadata": {},
     "output_type": "execute_result"
    }
   ],
   "source": [
    "bn1 = model.layers[1]\n",
    "[(var.name, var.trainable) for var in bn1.variables]"
   ]
  },
  {
   "cell_type": "markdown",
   "metadata": {},
   "source": [
    "Т.о. два параметра обучаемые (в процессе обратного распространения), другие два - нет."
   ]
  },
  {
   "cell_type": "code",
   "execution_count": 10,
   "metadata": {},
   "outputs": [
    {
     "data": {
      "text/plain": [
       "[<tf.Operation 'cond/Identity' type=Identity>,\n",
       " <tf.Operation 'cond_1/Identity' type=Identity>]"
      ]
     },
     "execution_count": 10,
     "metadata": {},
     "output_type": "execute_result"
    }
   ],
   "source": [
    "model.layers[1].updates"
   ]
  },
  {
   "cell_type": "code",
   "execution_count": 11,
   "metadata": {},
   "outputs": [],
   "source": [
    "model.compile(loss=\"sparse_categorical_crossentropy\",\n",
    "              optimizer=keras.optimizers.SGD(lr=1e-3),\n",
    "              metrics=[\"accuracy\"])"
   ]
  },
  {
   "cell_type": "code",
   "execution_count": 12,
   "metadata": {},
   "outputs": [
    {
     "name": "stdout",
     "output_type": "stream",
     "text": [
      "Train on 55000 samples, validate on 5000 samples\n",
      "Epoch 1/10\n",
      "55000/55000 [==============================] - 15s 267us/sample - loss: 0.8317 - accuracy: 0.7230 - val_loss: 0.5517 - val_accuracy: 0.8130\n",
      "Epoch 2/10\n",
      "55000/55000 [==============================] - 13s 237us/sample - loss: 0.5671 - accuracy: 0.8047 - val_loss: 0.4763 - val_accuracy: 0.8386\n",
      "Epoch 3/10\n",
      "55000/55000 [==============================] - 13s 239us/sample - loss: 0.5129 - accuracy: 0.8213 - val_loss: 0.4416 - val_accuracy: 0.8478\n",
      "Epoch 4/10\n",
      "55000/55000 [==============================] - 13s 236us/sample - loss: 0.4812 - accuracy: 0.8319 - val_loss: 0.4186 - val_accuracy: 0.8542\n",
      "Epoch 5/10\n",
      "55000/55000 [==============================] - 13s 239us/sample - loss: 0.4567 - accuracy: 0.8395 - val_loss: 0.4045 - val_accuracy: 0.8604\n",
      "Epoch 6/10\n",
      "55000/55000 [==============================] - 13s 242us/sample - loss: 0.4413 - accuracy: 0.8458 - val_loss: 0.3929 - val_accuracy: 0.8624\n",
      "Epoch 7/10\n",
      "55000/55000 [==============================] - 12s 224us/sample - loss: 0.4256 - accuracy: 0.8499 - val_loss: 0.3821 - val_accuracy: 0.8646\n",
      "Epoch 8/10\n",
      "55000/55000 [==============================] - 13s 230us/sample - loss: 0.4121 - accuracy: 0.8559 - val_loss: 0.3735 - val_accuracy: 0.8660\n",
      "Epoch 9/10\n",
      "55000/55000 [==============================] - 13s 238us/sample - loss: 0.4009 - accuracy: 0.8581 - val_loss: 0.3677 - val_accuracy: 0.8668\n",
      "Epoch 10/10\n",
      "55000/55000 [==============================] - 12s 227us/sample - loss: 0.3907 - accuracy: 0.8630 - val_loss: 0.3634 - val_accuracy: 0.8686\n"
     ]
    }
   ],
   "source": [
    "history = model.fit(X_train, y_train, epochs=10,\n",
    "                    validation_data=(X_valid, y_valid))"
   ]
  },
  {
   "cell_type": "markdown",
   "metadata": {},
   "source": [
    "Иногда размещение слоя BN перед фукнцией активации работает лучше. Кроме того отключим параметр смещения в скрытых слоях нейронов"
   ]
  },
  {
   "cell_type": "code",
   "execution_count": 14,
   "metadata": {},
   "outputs": [
    {
     "name": "stdout",
     "output_type": "stream",
     "text": [
      "Train on 55000 samples, validate on 5000 samples\n",
      "Epoch 1/10\n",
      "55000/55000 [==============================] - 14s 263us/sample - loss: 1.0214 - accuracy: 0.6848 - val_loss: 0.6579 - val_accuracy: 0.7900\n",
      "Epoch 2/10\n",
      "55000/55000 [==============================] - 13s 231us/sample - loss: 0.6595 - accuracy: 0.7874 - val_loss: 0.5467 - val_accuracy: 0.8186\n",
      "Epoch 3/10\n",
      "55000/55000 [==============================] - 13s 232us/sample - loss: 0.5820 - accuracy: 0.8055 - val_loss: 0.4972 - val_accuracy: 0.8332\n",
      "Epoch 4/10\n",
      "55000/55000 [==============================] - 12s 222us/sample - loss: 0.5378 - accuracy: 0.8194 - val_loss: 0.4657 - val_accuracy: 0.8440\n",
      "Epoch 5/10\n",
      "55000/55000 [==============================] - 12s 227us/sample - loss: 0.5071 - accuracy: 0.8267 - val_loss: 0.4433 - val_accuracy: 0.8474\n",
      "Epoch 6/10\n",
      "55000/55000 [==============================] - 14s 248us/sample - loss: 0.4882 - accuracy: 0.8318 - val_loss: 0.4265 - val_accuracy: 0.8522\n",
      "Epoch 7/10\n",
      "55000/55000 [==============================] - 14s 247us/sample - loss: 0.4700 - accuracy: 0.8383 - val_loss: 0.4133 - val_accuracy: 0.8568\n",
      "Epoch 8/10\n",
      "55000/55000 [==============================] - 13s 234us/sample - loss: 0.4543 - accuracy: 0.8433 - val_loss: 0.4030 - val_accuracy: 0.8580\n",
      "Epoch 9/10\n",
      "55000/55000 [==============================] - 16s 283us/sample - loss: 0.4409 - accuracy: 0.8468 - val_loss: 0.3940 - val_accuracy: 0.8632\n",
      "Epoch 10/10\n",
      "55000/55000 [==============================] - 16s 289us/sample - loss: 0.4303 - accuracy: 0.8523 - val_loss: 0.3871 - val_accuracy: 0.8652\n"
     ]
    }
   ],
   "source": [
    "model = keras.models.Sequential([\n",
    "    keras.layers.Flatten(input_shape=[28, 28]),\n",
    "    keras.layers.BatchNormalization(),\n",
    "    keras.layers.Dense(300, use_bias=False),\n",
    "    keras.layers.BatchNormalization(),\n",
    "    keras.layers.Activation(\"relu\"),\n",
    "    keras.layers.Dense(100, use_bias=False),\n",
    "    keras.layers.BatchNormalization(),\n",
    "    keras.layers.Activation(\"relu\"),\n",
    "    keras.layers.Dense(10, activation=\"softmax\")\n",
    "])\n",
    "\n",
    "model.compile(loss=\"sparse_categorical_crossentropy\",\n",
    "              optimizer=keras.optimizers.SGD(lr=1e-3),\n",
    "              metrics=[\"accuracy\"])\n",
    "\n",
    "history = model.fit(X_train, y_train, epochs=10,\n",
    "                    validation_data=(X_valid, y_valid))"
   ]
  },
  {
   "cell_type": "markdown",
   "metadata": {},
   "source": [
    "# Reusing Pretrained Layers"
   ]
  },
  {
   "cell_type": "markdown",
   "metadata": {},
   "source": [
    "Разделим набор данных fashion MNIST на два набора:\n",
    "\n",
    "- набор A не будет содержать сандали и рубашки, но содержит остальные 8 классов;\n",
    "- набор B будет содержить рубашки и сандали. А задача соответствуюещго классификатора будет сведена к бинарной классификации, где позитивный класс - рубашки, неготивный - сандали"
   ]
  },
  {
   "cell_type": "code",
   "execution_count": 6,
   "metadata": {},
   "outputs": [],
   "source": [
    "def split_dataset(X, y):\n",
    "    y_5_or_6 = (y == 5) | (y == 6) # булевый массив указывающий на рубкаши и сандали\n",
    "    y_A = y[~y_5_or_6] # labels данные для набора A\n",
    "    X_A = X[~y_5_or_6] # data данные для набора А\n",
    "    y_A[y_A > 6] -= 2 # индексы классов 7, 8, 9 должны стать индексами 5, 6, 7\n",
    "    y_B = (y[y_5_or_6] == 6).astype(np.float32) # labels данные для набора B (рубашки - положительный класс)\n",
    "    X_B = X[y_5_or_6]\n",
    "    return ((X_A, y_A), (X_B, y_B))\n",
    "\n",
    "(X_train_A, y_train_A), (X_train_B, y_train_B) = split_dataset(X_train, y_train)\n",
    "(X_valid_A, y_valid_A), (X_valid_B, y_valid_B) = split_dataset(X_valid, y_valid)\n",
    "(X_test_A, y_test_A), (X_test_B, y_test_B) = split_dataset(X_test, y_test)\n",
    "\n",
    "#эмуляция того, что наш набор обучения очень мал\n",
    "X_train_B = X_train_B[:200]\n",
    "y_train_B = y_train_B[:200]"
   ]
  },
  {
   "cell_type": "code",
   "execution_count": 7,
   "metadata": {},
   "outputs": [
    {
     "name": "stdout",
     "output_type": "stream",
     "text": [
      "(43986, 28, 28)\n",
      "(200, 28, 28)\n",
      "[4 0 5 7 7 7 4 4 3 4 0 1 6 3 4 3 2 6 5 3 4 5 1 3 4 2 0 6 7 1]\n",
      "[1. 1. 0. 0. 0. 0. 1. 1. 1. 0. 0. 1. 1. 0. 0. 0. 0. 0. 0. 1. 1. 0. 0. 1.\n",
      " 1. 0. 1. 1. 1. 1.]\n"
     ]
    }
   ],
   "source": [
    "print(X_train_A.shape)\n",
    "print(X_train_B.shape)\n",
    "print(y_train_A[:30])\n",
    "print(y_train_B[:30])"
   ]
  },
  {
   "cell_type": "markdown",
   "metadata": {},
   "source": [
    "Поскольку для целей текущей задачи мы считаем что у нас есть некоторая обученная модель A, которую мы будем использовать для обучения модели B, а именно будет использовать веса скрытых слоев модели A, но самой модели A у нас нет - обучим ее"
   ]
  },
  {
   "cell_type": "code",
   "execution_count": 8,
   "metadata": {},
   "outputs": [
    {
     "name": "stdout",
     "output_type": "stream",
     "text": [
      "Train on 43986 samples, validate on 4014 samples\n",
      "Epoch 1/20\n",
      "43986/43986 [==============================] - 8s 185us/sample - loss: 0.5779 - accuracy: 0.8141 - val_loss: 0.3651 - val_accuracy: 0.8777\n",
      "Epoch 2/20\n",
      "43986/43986 [==============================] - 6s 137us/sample - loss: 0.3497 - accuracy: 0.8802 - val_loss: 0.3139 - val_accuracy: 0.8926\n",
      "Epoch 3/20\n",
      "43986/43986 [==============================] - 6s 131us/sample - loss: 0.3139 - accuracy: 0.8912 - val_loss: 0.2940 - val_accuracy: 0.9003\n",
      "Epoch 4/20\n",
      "43986/43986 [==============================] - 6s 136us/sample - loss: 0.2949 - accuracy: 0.8975 - val_loss: 0.2845 - val_accuracy: 0.9033\n",
      "Epoch 5/20\n",
      "43986/43986 [==============================] - 6s 132us/sample - loss: 0.2815 - accuracy: 0.9034 - val_loss: 0.2779 - val_accuracy: 0.9053\n",
      "Epoch 6/20\n",
      "43986/43986 [==============================] - 6s 143us/sample - loss: 0.2718 - accuracy: 0.9071 - val_loss: 0.2639 - val_accuracy: 0.9113\n",
      "Epoch 7/20\n",
      "43986/43986 [==============================] - 6s 142us/sample - loss: 0.2635 - accuracy: 0.9088 - val_loss: 0.2624 - val_accuracy: 0.9126\n",
      "Epoch 8/20\n",
      "43986/43986 [==============================] - 6s 141us/sample - loss: 0.2575 - accuracy: 0.9113 - val_loss: 0.2609 - val_accuracy: 0.9113\n",
      "Epoch 9/20\n",
      "43986/43986 [==============================] - 6s 142us/sample - loss: 0.2520 - accuracy: 0.9142 - val_loss: 0.2581 - val_accuracy: 0.9108\n",
      "Epoch 10/20\n",
      "43986/43986 [==============================] - 7s 155us/sample - loss: 0.2476 - accuracy: 0.9155 - val_loss: 0.2491 - val_accuracy: 0.9160\n",
      "Epoch 11/20\n",
      "43986/43986 [==============================] - 6s 143us/sample - loss: 0.2432 - accuracy: 0.9173 - val_loss: 0.2487 - val_accuracy: 0.9153\n",
      "Epoch 12/20\n",
      "43986/43986 [==============================] - 6s 142us/sample - loss: 0.2394 - accuracy: 0.9186 - val_loss: 0.2449 - val_accuracy: 0.9190\n",
      "Epoch 13/20\n",
      "43986/43986 [==============================] - 6s 143us/sample - loss: 0.2353 - accuracy: 0.9200 - val_loss: 0.2463 - val_accuracy: 0.9158\n",
      "Epoch 14/20\n",
      "43986/43986 [==============================] - 6s 144us/sample - loss: 0.2323 - accuracy: 0.9202 - val_loss: 0.2412 - val_accuracy: 0.9175\n",
      "Epoch 15/20\n",
      "43986/43986 [==============================] - 7s 151us/sample - loss: 0.2292 - accuracy: 0.9222 - val_loss: 0.2380 - val_accuracy: 0.9205\n",
      "Epoch 16/20\n",
      "43986/43986 [==============================] - 6s 142us/sample - loss: 0.2264 - accuracy: 0.9226 - val_loss: 0.2393 - val_accuracy: 0.9195\n",
      "Epoch 17/20\n",
      "43986/43986 [==============================] - 6s 141us/sample - loss: 0.2236 - accuracy: 0.9233 - val_loss: 0.2425 - val_accuracy: 0.9173\n",
      "Epoch 18/20\n",
      "43986/43986 [==============================] - 6s 144us/sample - loss: 0.2208 - accuracy: 0.9244 - val_loss: 0.2374 - val_accuracy: 0.9188\n",
      "Epoch 19/20\n",
      "43986/43986 [==============================] - 6s 143us/sample - loss: 0.2183 - accuracy: 0.9246 - val_loss: 0.2357 - val_accuracy: 0.9180\n",
      "Epoch 20/20\n",
      "43986/43986 [==============================] - 7s 153us/sample - loss: 0.2160 - accuracy: 0.9265 - val_loss: 0.2321 - val_accuracy: 0.9193\n"
     ]
    }
   ],
   "source": [
    "model_A = keras.models.Sequential()\n",
    "model_A.add(keras.layers.Flatten(input_shape=[28, 28]))\n",
    "for n_hidden in (300, 100, 50, 50, 50):\n",
    "    model_A.add(keras.layers.Dense(n_hidden, activation=\"selu\"))\n",
    "model_A.add(keras.layers.Dense(8, activation=\"softmax\"))\n",
    "\n",
    "model_A.compile(loss=\"sparse_categorical_crossentropy\",\n",
    "                optimizer=keras.optimizers.SGD(lr=1e-3),\n",
    "                metrics=[\"accuracy\"])\n",
    "\n",
    "history = model_A.fit(X_train_A, y_train_A, epochs=20,\n",
    "                    validation_data=(X_valid_A, y_valid_A))"
   ]
  },
  {
   "cell_type": "code",
   "execution_count": 9,
   "metadata": {},
   "outputs": [],
   "source": [
    "model_A.save(\"my_model_A.h5\")"
   ]
  },
  {
   "cell_type": "markdown",
   "metadata": {},
   "source": [
    "Создадим модель B и обучим на имеющимся (маленьком) обучающем наборе. В дальнейшем эта модель будет использоваться для сравннения с моделью на наборе B, которая будет использовать обученные слои модели A "
   ]
  },
  {
   "cell_type": "code",
   "execution_count": 10,
   "metadata": {},
   "outputs": [
    {
     "name": "stdout",
     "output_type": "stream",
     "text": [
      "Train on 200 samples, validate on 986 samples\n",
      "Epoch 1/20\n",
      "200/200 [==============================] - 1s 4ms/sample - loss: 0.7442 - accuracy: 0.5500 - val_loss: 0.6407 - val_accuracy: 0.6389\n",
      "Epoch 2/20\n",
      "200/200 [==============================] - 0s 724us/sample - loss: 0.6018 - accuracy: 0.6700 - val_loss: 0.5337 - val_accuracy: 0.7404\n",
      "Epoch 3/20\n",
      "200/200 [==============================] - 0s 607us/sample - loss: 0.4981 - accuracy: 0.7750 - val_loss: 0.4552 - val_accuracy: 0.8215\n",
      "Epoch 4/20\n",
      "200/200 [==============================] - 0s 619us/sample - loss: 0.4226 - accuracy: 0.8500 - val_loss: 0.3939 - val_accuracy: 0.8732\n",
      "Epoch 5/20\n",
      "200/200 [==============================] - 0s 612us/sample - loss: 0.3615 - accuracy: 0.8850 - val_loss: 0.3441 - val_accuracy: 0.9118\n",
      "Epoch 6/20\n",
      "200/200 [==============================] - 0s 740us/sample - loss: 0.3131 - accuracy: 0.9350 - val_loss: 0.3049 - val_accuracy: 0.9351\n",
      "Epoch 7/20\n",
      "200/200 [==============================] - 0s 521us/sample - loss: 0.2750 - accuracy: 0.9450 - val_loss: 0.2738 - val_accuracy: 0.9554\n",
      "Epoch 8/20\n",
      "200/200 [==============================] - 0s 534us/sample - loss: 0.2447 - accuracy: 0.9600 - val_loss: 0.2487 - val_accuracy: 0.9655\n",
      "Epoch 9/20\n",
      "200/200 [==============================] - 0s 562us/sample - loss: 0.2205 - accuracy: 0.9700 - val_loss: 0.2272 - val_accuracy: 0.9706\n",
      "Epoch 10/20\n",
      "200/200 [==============================] - 0s 562us/sample - loss: 0.1994 - accuracy: 0.9700 - val_loss: 0.2094 - val_accuracy: 0.9736\n",
      "Epoch 11/20\n",
      "200/200 [==============================] - 0s 563us/sample - loss: 0.1819 - accuracy: 0.9700 - val_loss: 0.1946 - val_accuracy: 0.9767\n",
      "Epoch 12/20\n",
      "200/200 [==============================] - 0s 527us/sample - loss: 0.1676 - accuracy: 0.9850 - val_loss: 0.1823 - val_accuracy: 0.9777\n",
      "Epoch 13/20\n",
      "200/200 [==============================] - 0s 564us/sample - loss: 0.1551 - accuracy: 0.9850 - val_loss: 0.1713 - val_accuracy: 0.9797\n",
      "Epoch 14/20\n",
      "200/200 [==============================] - 0s 567us/sample - loss: 0.1438 - accuracy: 0.9950 - val_loss: 0.1616 - val_accuracy: 0.9797\n",
      "Epoch 15/20\n",
      "200/200 [==============================] - 0s 585us/sample - loss: 0.1345 - accuracy: 0.9950 - val_loss: 0.1540 - val_accuracy: 0.9807\n",
      "Epoch 16/20\n",
      "200/200 [==============================] - 0s 574us/sample - loss: 0.1262 - accuracy: 0.9950 - val_loss: 0.1461 - val_accuracy: 0.9807\n",
      "Epoch 17/20\n",
      "200/200 [==============================] - 0s 538us/sample - loss: 0.1188 - accuracy: 0.9950 - val_loss: 0.1398 - val_accuracy: 0.9807\n",
      "Epoch 18/20\n",
      "200/200 [==============================] - 0s 628us/sample - loss: 0.1120 - accuracy: 0.9950 - val_loss: 0.1334 - val_accuracy: 0.9828\n",
      "Epoch 19/20\n",
      "200/200 [==============================] - 0s 546us/sample - loss: 0.1059 - accuracy: 0.9950 - val_loss: 0.1278 - val_accuracy: 0.9828\n",
      "Epoch 20/20\n",
      "200/200 [==============================] - 0s 566us/sample - loss: 0.1003 - accuracy: 0.9950 - val_loss: 0.1228 - val_accuracy: 0.9838\n"
     ]
    }
   ],
   "source": [
    "model_B = keras.models.Sequential()\n",
    "\n",
    "model_B.add(keras.layers.Flatten(input_shape=[28, 28]))\n",
    "for n_hidden in (300, 100, 50, 50, 50):\n",
    "    model_B.add(keras.layers.Dense(n_hidden, activation=\"selu\"))\n",
    "model_B.add(keras.layers.Dense(1, activation=\"sigmoid\"))\n",
    "\n",
    "model_B.compile(loss=\"binary_crossentropy\",\n",
    "                optimizer=keras.optimizers.SGD(lr=1e-3),\n",
    "                metrics=[\"accuracy\"])\n",
    "\n",
    "history = model_B.fit(X_train_B, y_train_B, epochs=20,\n",
    "                      validation_data=(X_valid_B, y_valid_B))"
   ]
  },
  {
   "cell_type": "markdown",
   "metadata": {},
   "source": [
    "Теперь будем использовать обученные слои модели A. Клон модели A делается, чтобы мододели не использовали одни и те же слои и не оказывали т.о. влияния друг на друга в процессе обучения одной из них"
   ]
  },
  {
   "cell_type": "code",
   "execution_count": 16,
   "metadata": {},
   "outputs": [],
   "source": [
    "model_A = keras.models.load_model(\"my_model_A.h5\")\n",
    "model_B_on_A = keras.models.Sequential(model_A.layers[:-1])\n",
    "model_B_on_A.add(keras.layers.Dense(1, activation=\"sigmoid\"))\n",
    "\n",
    "model_A_clone = keras.models.clone_model(model_A)\n",
    "model_A_clone.set_weights(model_A.get_weights())"
   ]
  },
  {
   "cell_type": "markdown",
   "metadata": {},
   "source": [
    "Заморозим на несколько эпох веса скрытых заимстоваванных слоев, чтобы избежать влияния больших градиентов на первых эпохах обучения"
   ]
  },
  {
   "cell_type": "code",
   "execution_count": 17,
   "metadata": {},
   "outputs": [],
   "source": [
    "for l in model_B_on_A.layers[:-1]: l.trainable = False\n",
    "    \n",
    "model_B_on_A.compile(loss=\"binary_crossentropy\",\n",
    "                     optimizer=keras.optimizers.SGD(lr=1e-3),\n",
    "                     metrics=[\"accuracy\"])"
   ]
  },
  {
   "cell_type": "code",
   "execution_count": 18,
   "metadata": {},
   "outputs": [
    {
     "name": "stdout",
     "output_type": "stream",
     "text": [
      "Train on 200 samples, validate on 986 samples\n",
      "Epoch 1/10\n",
      "200/200 [==============================] - 1s 3ms/sample - loss: 0.2136 - accuracy: 0.9500 - val_loss: 0.2254 - val_accuracy: 0.9391\n",
      "Epoch 2/10\n",
      "200/200 [==============================] - 0s 509us/sample - loss: 0.2070 - accuracy: 0.9500 - val_loss: 0.2195 - val_accuracy: 0.9402\n",
      "Epoch 3/10\n",
      "200/200 [==============================] - 0s 566us/sample - loss: 0.2009 - accuracy: 0.9500 - val_loss: 0.2135 - val_accuracy: 0.9432\n",
      "Epoch 4/10\n",
      "200/200 [==============================] - 0s 606us/sample - loss: 0.1946 - accuracy: 0.9550 - val_loss: 0.2084 - val_accuracy: 0.9452\n",
      "Epoch 5/10\n",
      "200/200 [==============================] - 0s 502us/sample - loss: 0.1892 - accuracy: 0.9550 - val_loss: 0.2033 - val_accuracy: 0.9483\n",
      "Epoch 6/10\n",
      "200/200 [==============================] - 0s 641us/sample - loss: 0.1839 - accuracy: 0.9600 - val_loss: 0.1983 - val_accuracy: 0.9503\n",
      "Epoch 7/10\n",
      "200/200 [==============================] - 0s 513us/sample - loss: 0.1788 - accuracy: 0.9600 - val_loss: 0.1936 - val_accuracy: 0.9544\n",
      "Epoch 8/10\n",
      "200/200 [==============================] - 0s 507us/sample - loss: 0.1738 - accuracy: 0.9650 - val_loss: 0.1892 - val_accuracy: 0.9554\n",
      "Epoch 9/10\n",
      "200/200 [==============================] - 0s 564us/sample - loss: 0.1693 - accuracy: 0.9650 - val_loss: 0.1853 - val_accuracy: 0.9564\n",
      "Epoch 10/10\n",
      "200/200 [==============================] - 0s 617us/sample - loss: 0.1652 - accuracy: 0.9650 - val_loss: 0.1814 - val_accuracy: 0.9584\n"
     ]
    }
   ],
   "source": [
    "history = model_B_on_A.fit(X_train_B, y_train_B, epochs=10,\n",
    "                           validation_data=(X_valid_B, y_valid_B))"
   ]
  },
  {
   "cell_type": "markdown",
   "metadata": {},
   "source": [
    "Теперь разблокируем скрытые слои и запустим полное обучение"
   ]
  },
  {
   "cell_type": "code",
   "execution_count": 19,
   "metadata": {},
   "outputs": [
    {
     "name": "stdout",
     "output_type": "stream",
     "text": [
      "Train on 200 samples, validate on 986 samples\n",
      "Epoch 1/20\n",
      "200/200 [==============================] - 1s 3ms/sample - loss: 0.1513 - accuracy: 0.9750 - val_loss: 0.1554 - val_accuracy: 0.9625\n",
      "Epoch 2/20\n",
      "200/200 [==============================] - 0s 896us/sample - loss: 0.1260 - accuracy: 0.9800 - val_loss: 0.1383 - val_accuracy: 0.9726\n",
      "Epoch 3/20\n",
      "200/200 [==============================] - 0s 678us/sample - loss: 0.1095 - accuracy: 0.9800 - val_loss: 0.1239 - val_accuracy: 0.9807\n",
      "Epoch 4/20\n",
      "200/200 [==============================] - 0s 716us/sample - loss: 0.0952 - accuracy: 0.9850 - val_loss: 0.1125 - val_accuracy: 0.9828\n",
      "Epoch 5/20\n",
      "200/200 [==============================] - 0s 641us/sample - loss: 0.0836 - accuracy: 0.9850 - val_loss: 0.1031 - val_accuracy: 0.9878\n",
      "Epoch 6/20\n",
      "200/200 [==============================] - 0s 603us/sample - loss: 0.0751 - accuracy: 0.9850 - val_loss: 0.0958 - val_accuracy: 0.9878\n",
      "Epoch 7/20\n",
      "200/200 [==============================] - 0s 563us/sample - loss: 0.0681 - accuracy: 0.9900 - val_loss: 0.0898 - val_accuracy: 0.9888\n",
      "Epoch 8/20\n",
      "200/200 [==============================] - 0s 735us/sample - loss: 0.0622 - accuracy: 0.9950 - val_loss: 0.0850 - val_accuracy: 0.9909\n",
      "Epoch 9/20\n",
      "200/200 [==============================] - 0s 721us/sample - loss: 0.0577 - accuracy: 0.9950 - val_loss: 0.0804 - val_accuracy: 0.9909\n",
      "Epoch 10/20\n",
      "200/200 [==============================] - 0s 636us/sample - loss: 0.0538 - accuracy: 0.9950 - val_loss: 0.0765 - val_accuracy: 0.9909\n",
      "Epoch 11/20\n",
      "200/200 [==============================] - 0s 562us/sample - loss: 0.0506 - accuracy: 0.9950 - val_loss: 0.0733 - val_accuracy: 0.9909\n",
      "Epoch 12/20\n",
      "200/200 [==============================] - 0s 673us/sample - loss: 0.0476 - accuracy: 0.9950 - val_loss: 0.0704 - val_accuracy: 0.9909\n",
      "Epoch 13/20\n",
      "200/200 [==============================] - 0s 714us/sample - loss: 0.0447 - accuracy: 0.9950 - val_loss: 0.0679 - val_accuracy: 0.9909\n",
      "Epoch 14/20\n",
      "200/200 [==============================] - 0s 705us/sample - loss: 0.0423 - accuracy: 0.9950 - val_loss: 0.0655 - val_accuracy: 0.9909\n",
      "Epoch 15/20\n",
      "200/200 [==============================] - 0s 622us/sample - loss: 0.0403 - accuracy: 0.9950 - val_loss: 0.0633 - val_accuracy: 0.9909\n",
      "Epoch 16/20\n",
      "200/200 [==============================] - 0s 638us/sample - loss: 0.0384 - accuracy: 0.9950 - val_loss: 0.0615 - val_accuracy: 0.9909\n",
      "Epoch 17/20\n",
      "200/200 [==============================] - 0s 592us/sample - loss: 0.0368 - accuracy: 0.9950 - val_loss: 0.0597 - val_accuracy: 0.9909\n",
      "Epoch 18/20\n",
      "200/200 [==============================] - 0s 555us/sample - loss: 0.0352 - accuracy: 0.9950 - val_loss: 0.0581 - val_accuracy: 0.9909\n",
      "Epoch 19/20\n",
      "200/200 [==============================] - 0s 744us/sample - loss: 0.0339 - accuracy: 0.9950 - val_loss: 0.0565 - val_accuracy: 0.9909\n",
      "Epoch 20/20\n",
      "200/200 [==============================] - 0s 705us/sample - loss: 0.0325 - accuracy: 0.9950 - val_loss: 0.0551 - val_accuracy: 0.9909\n"
     ]
    }
   ],
   "source": [
    "for l in model_B_on_A.layers[:-1]: l.trainable = True\n",
    "    \n",
    "model_B_on_A.compile(loss=\"binary_crossentropy\",\n",
    "                     optimizer=keras.optimizers.SGD(lr=1e-3),\n",
    "                     metrics=[\"accuracy\"])\n",
    "\n",
    "history = model_B_on_A.fit(X_train_B, y_train_B, epochs=20,\n",
    "                           validation_data=(X_valid_B, y_valid_B))"
   ]
  },
  {
   "cell_type": "markdown",
   "metadata": {},
   "source": [
    "Выполним сравнение моделей B, одна из которых обучена с использованием скрытых слоев модели A"
   ]
  },
  {
   "cell_type": "code",
   "execution_count": 20,
   "metadata": {},
   "outputs": [
    {
     "name": "stdout",
     "output_type": "stream",
     "text": [
      "2000/2000 [==============================] - 0s 83us/sample - loss: 0.1220 - accuracy: 0.9830\n",
      "Оценка простой модели B: [0.12203311598300934, 0.983]\n",
      "2000/2000 [==============================] - 0s 80us/sample - loss: 0.0456 - accuracy: 0.9945\n",
      "Оценка модели B со скрытыми слоями A: [0.04557050058245659, 0.9945]\n"
     ]
    }
   ],
   "source": [
    "print(\"Оценка простой модели B:\", model_B.evaluate(X_test_B, y_test_B))\n",
    "print(\"Оценка модели B со скрытыми слоями A:\", model_B_on_A.evaluate(X_test_B, y_test_B))"
   ]
  },
  {
   "cell_type": "code",
   "execution_count": 21,
   "metadata": {},
   "outputs": [
    {
     "name": "stdout",
     "output_type": "stream",
     "text": [
      "ошибка уменьшилась на коэф.: 3.090909090909112\n"
     ]
    }
   ],
   "source": [
    "print(\"ошибка уменьшилась на коэф.:\", (100 - 98.3) / (100 - 99.45))"
   ]
  },
  {
   "cell_type": "markdown",
   "metadata": {},
   "source": [
    "# Faster Optimizers "
   ]
  },
  {
   "cell_type": "markdown",
   "metadata": {},
   "source": [
    "**Momentum Optimization**"
   ]
  },
  {
   "cell_type": "code",
   "execution_count": 45,
   "metadata": {},
   "outputs": [],
   "source": [
    "optimizer = keras.optimizers.SGD(lr=0.001, momentum=0.9)"
   ]
  },
  {
   "cell_type": "markdown",
   "metadata": {},
   "source": [
    "**Nesterov Accelerated Gradient**"
   ]
  },
  {
   "cell_type": "code",
   "execution_count": 46,
   "metadata": {},
   "outputs": [],
   "source": [
    "optimizer = keras.optimizers.SGD(lr=0.001, momentum=0.9, nesterov=True)"
   ]
  },
  {
   "cell_type": "markdown",
   "metadata": {},
   "source": [
    "**AdaGrad**"
   ]
  },
  {
   "cell_type": "code",
   "execution_count": 47,
   "metadata": {},
   "outputs": [],
   "source": [
    "optimizer = keras.optimizers.Adagrad(lr=0.001)"
   ]
  },
  {
   "cell_type": "markdown",
   "metadata": {},
   "source": [
    "**RMSProp**"
   ]
  },
  {
   "cell_type": "code",
   "execution_count": 4,
   "metadata": {},
   "outputs": [],
   "source": [
    "optimizer = keras.optimizers.RMSprop(lr=0.001, rho=0.9)"
   ]
  },
  {
   "cell_type": "markdown",
   "metadata": {},
   "source": [
    "**Adam Optimization**"
   ]
  },
  {
   "cell_type": "code",
   "execution_count": 5,
   "metadata": {},
   "outputs": [],
   "source": [
    "optimizer = keras.optimizers.Adam(lr=0.001, beta_1=0.9, beta_2=0.999)"
   ]
  },
  {
   "cell_type": "markdown",
   "metadata": {},
   "source": [
    "**Adamax Optimization**"
   ]
  },
  {
   "cell_type": "code",
   "execution_count": 6,
   "metadata": {},
   "outputs": [],
   "source": [
    "optimizer = keras.optimizers.Adamax(lr=0.001, beta_1=0.9, beta_2=0.999)"
   ]
  },
  {
   "cell_type": "markdown",
   "metadata": {},
   "source": [
    "**Nadam Optimization**"
   ]
  },
  {
   "cell_type": "code",
   "execution_count": 7,
   "metadata": {},
   "outputs": [],
   "source": [
    "optimizer = keras.optimizers.Nadam(lr=0.001, beta_1=0.9, beta_2=0.999)"
   ]
  },
  {
   "cell_type": "markdown",
   "metadata": {},
   "source": [
    "##  Learning Rate Scheduling"
   ]
  },
  {
   "cell_type": "markdown",
   "metadata": {},
   "source": [
    "**Power scheduling**"
   ]
  },
  {
   "cell_type": "code",
   "execution_count": 21,
   "metadata": {},
   "outputs": [],
   "source": [
    "learning_rate_ = 0.01\n",
    "decay_ = 1e-4\n",
    "\n",
    "optimizer = keras.optimizers.SGD(lr=learning_rate_, decay=decay_)"
   ]
  },
  {
   "cell_type": "code",
   "execution_count": 12,
   "metadata": {
    "scrolled": true
   },
   "outputs": [
    {
     "name": "stdout",
     "output_type": "stream",
     "text": [
      "Train on 55000 samples, validate on 5000 samples\n",
      "Epoch 1/25\n",
      "55000/55000 [==============================] - 11s 205us/sample - loss: 0.4909 - accuracy: 0.8263 - val_loss: 0.4182 - val_accuracy: 0.8506\n",
      "Epoch 2/25\n",
      "55000/55000 [==============================] - 10s 178us/sample - loss: 0.3823 - accuracy: 0.8644 - val_loss: 0.3746 - val_accuracy: 0.8690\n",
      "Epoch 3/25\n",
      "55000/55000 [==============================] - 10s 185us/sample - loss: 0.3497 - accuracy: 0.8747 - val_loss: 0.3596 - val_accuracy: 0.8722\n",
      "Epoch 4/25\n",
      "55000/55000 [==============================] - 10s 175us/sample - loss: 0.3283 - accuracy: 0.8819 - val_loss: 0.3598 - val_accuracy: 0.8754\n",
      "Epoch 5/25\n",
      "55000/55000 [==============================] - 11s 191us/sample - loss: 0.3115 - accuracy: 0.8888 - val_loss: 0.3429 - val_accuracy: 0.8784\n",
      "Epoch 6/25\n",
      "55000/55000 [==============================] - 10s 182us/sample - loss: 0.2983 - accuracy: 0.8935 - val_loss: 0.3497 - val_accuracy: 0.8748\n",
      "Epoch 7/25\n",
      "55000/55000 [==============================] - 11s 197us/sample - loss: 0.2880 - accuracy: 0.8977 - val_loss: 0.3340 - val_accuracy: 0.8822\n",
      "Epoch 8/25\n",
      "55000/55000 [==============================] - 11s 199us/sample - loss: 0.2792 - accuracy: 0.9012 - val_loss: 0.3342 - val_accuracy: 0.8800\n",
      "Epoch 9/25\n",
      "55000/55000 [==============================] - 11s 193us/sample - loss: 0.2710 - accuracy: 0.9024 - val_loss: 0.3296 - val_accuracy: 0.8820\n",
      "Epoch 10/25\n",
      "55000/55000 [==============================] - 11s 197us/sample - loss: 0.2639 - accuracy: 0.9053 - val_loss: 0.3335 - val_accuracy: 0.8808\n",
      "Epoch 11/25\n",
      "55000/55000 [==============================] - 11s 201us/sample - loss: 0.2577 - accuracy: 0.9087 - val_loss: 0.3251 - val_accuracy: 0.8860\n",
      "Epoch 12/25\n",
      "55000/55000 [==============================] - 10s 189us/sample - loss: 0.2516 - accuracy: 0.9108 - val_loss: 0.3240 - val_accuracy: 0.8862\n",
      "Epoch 13/25\n",
      "55000/55000 [==============================] - 10s 181us/sample - loss: 0.2465 - accuracy: 0.9128 - val_loss: 0.3245 - val_accuracy: 0.8840\n",
      "Epoch 14/25\n",
      "55000/55000 [==============================] - 10s 181us/sample - loss: 0.2419 - accuracy: 0.9156 - val_loss: 0.3286 - val_accuracy: 0.8842\n",
      "Epoch 15/25\n",
      "55000/55000 [==============================] - 10s 178us/sample - loss: 0.2373 - accuracy: 0.9164 - val_loss: 0.3170 - val_accuracy: 0.8868\n",
      "Epoch 16/25\n",
      "55000/55000 [==============================] - 11s 195us/sample - loss: 0.2328 - accuracy: 0.9179 - val_loss: 0.3214 - val_accuracy: 0.8880\n",
      "Epoch 17/25\n",
      "55000/55000 [==============================] - 10s 181us/sample - loss: 0.2295 - accuracy: 0.9196 - val_loss: 0.3226 - val_accuracy: 0.8868\n",
      "Epoch 18/25\n",
      "55000/55000 [==============================] - 10s 186us/sample - loss: 0.2254 - accuracy: 0.9209 - val_loss: 0.3210 - val_accuracy: 0.8876\n",
      "Epoch 19/25\n",
      "55000/55000 [==============================] - 10s 173us/sample - loss: 0.2222 - accuracy: 0.9217 - val_loss: 0.3195 - val_accuracy: 0.8868\n",
      "Epoch 20/25\n",
      "55000/55000 [==============================] - 10s 176us/sample - loss: 0.2189 - accuracy: 0.9241 - val_loss: 0.3198 - val_accuracy: 0.8872\n",
      "Epoch 21/25\n",
      "55000/55000 [==============================] - 10s 177us/sample - loss: 0.2161 - accuracy: 0.9236 - val_loss: 0.3173 - val_accuracy: 0.8878\n",
      "Epoch 22/25\n",
      "55000/55000 [==============================] - 10s 180us/sample - loss: 0.2134 - accuracy: 0.9251 - val_loss: 0.3179 - val_accuracy: 0.8902\n",
      "Epoch 23/25\n",
      "55000/55000 [==============================] - 10s 180us/sample - loss: 0.2104 - accuracy: 0.9262 - val_loss: 0.3179 - val_accuracy: 0.8862\n",
      "Epoch 24/25\n",
      "55000/55000 [==============================] - 9s 170us/sample - loss: 0.2078 - accuracy: 0.9274 - val_loss: 0.3192 - val_accuracy: 0.8876\n",
      "Epoch 25/25\n",
      "55000/55000 [==============================] - 9s 162us/sample - loss: 0.2054 - accuracy: 0.9284 - val_loss: 0.3202 - val_accuracy: 0.8892\n"
     ]
    }
   ],
   "source": [
    "n_epochs = 25\n",
    "\n",
    "model = keras.models.Sequential([\n",
    "    keras.layers.Flatten(input_shape=[28, 28]),\n",
    "    keras.layers.Dense(300, activation=\"selu\", kernel_initializer=\"lecun_normal\"),\n",
    "    keras.layers.Dense(100, activation=\"selu\", kernel_initializer=\"lecun_normal\"),\n",
    "    keras.layers.Dense(10, activation=\"softmax\")\n",
    "])\n",
    "model.compile(loss=\"sparse_categorical_crossentropy\", optimizer=optimizer, metrics=[\"accuracy\"])\n",
    "history = model.fit(X_train_scaled, y_train, epochs=n_epochs,\n",
    "                    validation_data=(X_valid_scaled, y_valid))"
   ]
  },
  {
   "cell_type": "code",
   "execution_count": 20,
   "metadata": {},
   "outputs": [
    {
     "data": {
      "image/png": "[encoded data removed]",
      "text/plain": [
       "<Figure size 432x288 with 1 Axes>"
      ]
     },
     "metadata": {
      "needs_background": "light"
     },
     "output_type": "display_data"
    }
   ],
   "source": [
    "batch_size = 32\n",
    "n_steps_per_epoch = len(X_train) // batch_size\n",
    "epochs = np.arange(n_epochs)\n",
    "lrs = learning_rate_ / (1 + decay_ * epochs * n_steps_per_epoch)\n",
    "\n",
    "plt.xlabel(\"Epoch\")\n",
    "plt.ylabel(\"Learning Rate\")\n",
    "plt.plot(epochs, lrs,  \"o-\")\n",
    "plt.grid(True)\n",
    "\n",
    "plt.show()"
   ]
  },
  {
   "cell_type": "markdown",
   "metadata": {},
   "source": [
    "**Exponential scheduling**"
   ]
  },
  {
   "cell_type": "code",
   "execution_count": 23,
   "metadata": {},
   "outputs": [],
   "source": [
    "def exponential_decay_fn(epoch):\n",
    "    return 0.01 * 0.1**(epoch / 20)\n",
    "\n",
    "def exponential_decay(lr0, s):\n",
    "    def exponential_decay_fn(epoch):\n",
    "        return lr0 * 0.1**(epoch / s)\n",
    "    return exponential_decay_fn"
   ]
  },
  {
   "cell_type": "code",
   "execution_count": 24,
   "metadata": {},
   "outputs": [],
   "source": [
    "exponential_decay_fn = exponential_decay(lr0=0.01, s=20)"
   ]
  },
  {
   "cell_type": "code",
   "execution_count": 31,
   "metadata": {},
   "outputs": [
    {
     "name": "stdout",
     "output_type": "stream",
     "text": [
      "Train on 55000 samples, validate on 5000 samples\n",
      "Epoch 1/25\n",
      "55000/55000 [==============================] - 14s 250us/sample - loss: 1.4784 - accuracy: 0.7035 - val_loss: 1.2069 - val_accuracy: 0.7328\n",
      "Epoch 2/25\n",
      "55000/55000 [==============================] - 13s 238us/sample - loss: 1.1297 - accuracy: 0.7542 - val_loss: 1.9001 - val_accuracy: 0.7764\n",
      "Epoch 3/25\n",
      "55000/55000 [==============================] - 12s 217us/sample - loss: 1.0237 - accuracy: 0.7773 - val_loss: 1.0849 - val_accuracy: 0.7308\n",
      "Epoch 4/25\n",
      "55000/55000 [==============================] - 13s 239us/sample - loss: 0.9149 - accuracy: 0.7940 - val_loss: 1.2414 - val_accuracy: 0.8156\n",
      "Epoch 5/25\n",
      "55000/55000 [==============================] - 12s 223us/sample - loss: 0.8952 - accuracy: 0.8077 - val_loss: 1.1373 - val_accuracy: 0.7942\n",
      "Epoch 6/25\n",
      "55000/55000 [==============================] - 13s 232us/sample - loss: 0.7724 - accuracy: 0.8241 - val_loss: 1.1432 - val_accuracy: 0.8304\n",
      "Epoch 7/25\n",
      "55000/55000 [==============================] - 12s 227us/sample - loss: 0.7047 - accuracy: 0.8354 - val_loss: 0.9483 - val_accuracy: 0.8480\n",
      "Epoch 8/25\n",
      "55000/55000 [==============================] - 12s 224us/sample - loss: 0.6158 - accuracy: 0.8445 - val_loss: 0.8045 - val_accuracy: 0.8476\n",
      "Epoch 9/25\n",
      "55000/55000 [==============================] - 12s 225us/sample - loss: 0.6161 - accuracy: 0.8527 - val_loss: 0.8547 - val_accuracy: 0.8400\n",
      "Epoch 10/25\n",
      "55000/55000 [==============================] - 12s 213us/sample - loss: 0.5723 - accuracy: 0.8600 - val_loss: 0.7814 - val_accuracy: 0.8568\n",
      "Epoch 11/25\n",
      "55000/55000 [==============================] - 12s 217us/sample - loss: 0.5018 - accuracy: 0.8713 - val_loss: 1.2051 - val_accuracy: 0.8602\n",
      "Epoch 12/25\n",
      "55000/55000 [==============================] - 11s 201us/sample - loss: 0.4894 - accuracy: 0.8776 - val_loss: 1.1093 - val_accuracy: 0.8412\n",
      "Epoch 13/25\n",
      "55000/55000 [==============================] - 12s 223us/sample - loss: 0.4353 - accuracy: 0.8840 - val_loss: 0.9681 - val_accuracy: 0.8726\n",
      "Epoch 14/25\n",
      "55000/55000 [==============================] - 13s 233us/sample - loss: 0.4050 - accuracy: 0.8906 - val_loss: 0.8326 - val_accuracy: 0.8726\n",
      "Epoch 15/25\n",
      "55000/55000 [==============================] - 11s 206us/sample - loss: 0.3868 - accuracy: 0.8951 - val_loss: 0.8778 - val_accuracy: 0.8748\n",
      "Epoch 16/25\n",
      "55000/55000 [==============================] - 11s 209us/sample - loss: 0.3529 - accuracy: 0.9006 - val_loss: 1.2203 - val_accuracy: 0.8486\n",
      "Epoch 17/25\n",
      "55000/55000 [==============================] - 12s 224us/sample - loss: 0.3347 - accuracy: 0.9048 - val_loss: 0.8944 - val_accuracy: 0.8698\n",
      "Epoch 18/25\n",
      "55000/55000 [==============================] - 11s 203us/sample - loss: 0.3104 - accuracy: 0.9103 - val_loss: 0.9136 - val_accuracy: 0.8840\n",
      "Epoch 19/25\n",
      "55000/55000 [==============================] - 11s 202us/sample - loss: 0.2989 - accuracy: 0.9163 - val_loss: 1.1983 - val_accuracy: 0.8758\n",
      "Epoch 20/25\n",
      "55000/55000 [==============================] - 11s 202us/sample - loss: 0.3037 - accuracy: 0.9198 - val_loss: 1.3906 - val_accuracy: 0.8674\n",
      "Epoch 21/25\n",
      "55000/55000 [==============================] - 11s 202us/sample - loss: 0.2930 - accuracy: 0.9235 - val_loss: 1.0396 - val_accuracy: 0.8856\n",
      "Epoch 22/25\n",
      "55000/55000 [==============================] - 11s 201us/sample - loss: 0.2793 - accuracy: 0.9269 - val_loss: 1.2266 - val_accuracy: 0.8834\n",
      "Epoch 23/25\n",
      "55000/55000 [==============================] - 13s 231us/sample - loss: 0.2477 - accuracy: 0.9307 - val_loss: 1.1747 - val_accuracy: 0.8860\n",
      "Epoch 24/25\n",
      "55000/55000 [==============================] - 12s 216us/sample - loss: 0.2372 - accuracy: 0.9338 - val_loss: 1.1771 - val_accuracy: 0.8772\n",
      "Epoch 25/25\n",
      "55000/55000 [==============================] - 11s 205us/sample - loss: 0.2157 - accuracy: 0.9368 - val_loss: 1.4206 - val_accuracy: 0.8796\n"
     ]
    }
   ],
   "source": [
    "n_epochs = 25\n",
    "\n",
    "model = keras.models.Sequential([\n",
    "    keras.layers.Flatten(input_shape=[28, 28]),\n",
    "    keras.layers.Dense(300, activation=\"selu\", kernel_initializer=\"lecun_normal\"),\n",
    "    keras.layers.Dense(100, activation=\"selu\", kernel_initializer=\"lecun_normal\"),\n",
    "    keras.layers.Dense(10, activation=\"softmax\")\n",
    "])\n",
    "model.compile(loss=\"sparse_categorical_crossentropy\", metrics=[\"accuracy\"])\n",
    "lr_scheduler = keras.callbacks.LearningRateScheduler(exponential_decay_fn)\n",
    "history = model.fit(X_train_scaled, y_train, epochs=n_epochs,\n",
    "                    validation_data=(X_valid_scaled, y_valid),\n",
    "                    callbacks=[lr_scheduler])"
   ]
  },
  {
   "cell_type": "code",
   "execution_count": 32,
   "metadata": {},
   "outputs": [
    {
     "data": {
      "image/png": "[encoded data removed]",
      "text/plain": [
       "<Figure size 432x288 with 1 Axes>"
      ]
     },
     "metadata": {
      "needs_background": "light"
     },
     "output_type": "display_data"
    }
   ],
   "source": [
    "plt.xlabel(\"Epoch\")\n",
    "plt.ylabel(\"Learning Rate\")\n",
    "plt.plot(history.epoch, history.history[\"lr\"], \"o-\")\n",
    "plt.grid(True)\n",
    "\n",
    "plt.show()"
   ]
  },
  {
   "cell_type": "markdown",
   "metadata": {},
   "source": [
    "Ниже представлен пример изменения learning_rate на каждом шаге, а не на каждой эпохе, как представлено выше"
   ]
  },
  {
   "cell_type": "code",
   "execution_count": 40,
   "metadata": {},
   "outputs": [],
   "source": [
    "s = 25 * len(X_train) // 32 #кол-во итераций за 25 эпох\n",
    "decay_ = 0.1\n",
    "learning_rate_ = 0.01\n",
    "exp_sch = keras.optimizers.schedules.ExponentialDecay(learning_rate_, s, decay_)\n",
    "optimizer = keras.optimizers.SGD(exp_sch)"
   ]
  },
  {
   "cell_type": "code",
   "execution_count": 41,
   "metadata": {},
   "outputs": [
    {
     "name": "stdout",
     "output_type": "stream",
     "text": [
      "Train on 55000 samples, validate on 5000 samples\n",
      "Epoch 1/25\n",
      "55000/55000 [==============================] - 10s 189us/sample - loss: 0.4849 - accuracy: 0.8297 - val_loss: 0.4003 - val_accuracy: 0.8620\n",
      "Epoch 2/25\n",
      "55000/55000 [==============================] - 10s 190us/sample - loss: 0.3775 - accuracy: 0.8665 - val_loss: 0.3772 - val_accuracy: 0.8708\n",
      "Epoch 3/25\n",
      "55000/55000 [==============================] - 10s 187us/sample - loss: 0.3452 - accuracy: 0.8776 - val_loss: 0.3705 - val_accuracy: 0.8676\n",
      "Epoch 4/25\n",
      "55000/55000 [==============================] - 10s 175us/sample - loss: 0.3231 - accuracy: 0.8846 - val_loss: 0.3535 - val_accuracy: 0.8766\n",
      "Epoch 5/25\n",
      "55000/55000 [==============================] - 9s 167us/sample - loss: 0.3069 - accuracy: 0.8898 - val_loss: 0.3452 - val_accuracy: 0.8798\n",
      "Epoch 6/25\n",
      "55000/55000 [==============================] - 10s 178us/sample - loss: 0.2938 - accuracy: 0.8940 - val_loss: 0.3415 - val_accuracy: 0.8814\n",
      "Epoch 7/25\n",
      "55000/55000 [==============================] - 11s 197us/sample - loss: 0.2823 - accuracy: 0.8987 - val_loss: 0.3360 - val_accuracy: 0.8802\n",
      "Epoch 8/25\n",
      "55000/55000 [==============================] - 10s 186us/sample - loss: 0.2723 - accuracy: 0.9024 - val_loss: 0.3367 - val_accuracy: 0.8830\n",
      "Epoch 9/25\n",
      "55000/55000 [==============================] - 10s 181us/sample - loss: 0.2636 - accuracy: 0.9059 - val_loss: 0.3286 - val_accuracy: 0.8846\n",
      "Epoch 10/25\n",
      "55000/55000 [==============================] - 10s 182us/sample - loss: 0.2565 - accuracy: 0.9090 - val_loss: 0.3271 - val_accuracy: 0.8868\n",
      "Epoch 11/25\n",
      "55000/55000 [==============================] - 10s 182us/sample - loss: 0.2497 - accuracy: 0.9103 - val_loss: 0.3289 - val_accuracy: 0.8864\n",
      "Epoch 12/25\n",
      "55000/55000 [==============================] - 10s 182us/sample - loss: 0.2436 - accuracy: 0.9136 - val_loss: 0.3307 - val_accuracy: 0.8840\n",
      "Epoch 13/25\n",
      "55000/55000 [==============================] - 10s 189us/sample - loss: 0.2384 - accuracy: 0.9143 - val_loss: 0.3248 - val_accuracy: 0.8854\n",
      "Epoch 14/25\n",
      "55000/55000 [==============================] - 10s 186us/sample - loss: 0.2339 - accuracy: 0.9165 - val_loss: 0.3276 - val_accuracy: 0.8856\n",
      "Epoch 15/25\n",
      "55000/55000 [==============================] - 10s 180us/sample - loss: 0.2292 - accuracy: 0.9186 - val_loss: 0.3233 - val_accuracy: 0.8858\n",
      "Epoch 16/25\n",
      "55000/55000 [==============================] - 10s 191us/sample - loss: 0.2254 - accuracy: 0.9204 - val_loss: 0.3231 - val_accuracy: 0.8892\n",
      "Epoch 17/25\n",
      "55000/55000 [==============================] - 10s 184us/sample - loss: 0.2220 - accuracy: 0.9211 - val_loss: 0.3218 - val_accuracy: 0.8882\n",
      "Epoch 18/25\n",
      "55000/55000 [==============================] - 11s 192us/sample - loss: 0.2191 - accuracy: 0.9229 - val_loss: 0.3224 - val_accuracy: 0.8888\n",
      "Epoch 19/25\n",
      "55000/55000 [==============================] - 10s 182us/sample - loss: 0.2162 - accuracy: 0.9238 - val_loss: 0.3208 - val_accuracy: 0.8866\n",
      "Epoch 20/25\n",
      "55000/55000 [==============================] - 11s 191us/sample - loss: 0.2134 - accuracy: 0.9245 - val_loss: 0.3197 - val_accuracy: 0.8882\n",
      "Epoch 21/25\n",
      "55000/55000 [==============================] - 10s 186us/sample - loss: 0.2112 - accuracy: 0.9257 - val_loss: 0.3210 - val_accuracy: 0.8888\n",
      "Epoch 22/25\n",
      "55000/55000 [==============================] - 10s 189us/sample - loss: 0.2088 - accuracy: 0.9264 - val_loss: 0.3212 - val_accuracy: 0.8872\n",
      "Epoch 23/25\n",
      "55000/55000 [==============================] - 11s 193us/sample - loss: 0.2069 - accuracy: 0.9276 - val_loss: 0.3227 - val_accuracy: 0.8886\n",
      "Epoch 24/25\n",
      "55000/55000 [==============================] - 10s 188us/sample - loss: 0.2051 - accuracy: 0.9282 - val_loss: 0.3206 - val_accuracy: 0.8890\n",
      "Epoch 25/25\n",
      "55000/55000 [==============================] - 11s 191us/sample - loss: 0.2035 - accuracy: 0.9288 - val_loss: 0.3198 - val_accuracy: 0.8900\n"
     ]
    }
   ],
   "source": [
    "n_epochs = 25\n",
    "\n",
    "model = keras.models.Sequential([\n",
    "    keras.layers.Flatten(input_shape=[28, 28]),\n",
    "    keras.layers.Dense(300, activation=\"selu\", kernel_initializer=\"lecun_normal\"),\n",
    "    keras.layers.Dense(100, activation=\"selu\", kernel_initializer=\"lecun_normal\"),\n",
    "    keras.layers.Dense(10, activation=\"softmax\")\n",
    "])\n",
    "model.compile(loss=\"sparse_categorical_crossentropy\", optimizer=optimizer, metrics=[\"accuracy\"])\n",
    "history = model.fit(X_train_scaled, y_train, epochs=n_epochs,\n",
    "                    validation_data=(X_valid_scaled, y_valid))"
   ]
  },
  {
   "cell_type": "code",
   "execution_count": 87,
   "metadata": {},
   "outputs": [],
   "source": [
    "lr_history = np.ones((s,),dtype=np.float32)\n",
    "for i in range(s):\n",
    "    lr_history[i] = model.optimizer.learning_rate(i)"
   ]
  },
  {
   "cell_type": "code",
   "execution_count": 90,
   "metadata": {},
   "outputs": [
    {
     "data": {
      "image/png": "[encoded data removed]",
      "text/plain": [
       "<Figure size 432x288 with 1 Axes>"
      ]
     },
     "metadata": {
      "needs_background": "light"
     },
     "output_type": "display_data"
    }
   ],
   "source": [
    "plt.xlabel(\"Epoch\")\n",
    "plt.ylabel(\"Learning Rate\")\n",
    "plt.plot(range(s), lr_history)\n",
    "plt.grid(True)\n",
    "\n",
    "plt.show()"
   ]
  },
  {
   "cell_type": "markdown",
   "metadata": {},
   "source": [
    "**Piecewise Constant Scheduling**"
   ]
  },
  {
   "cell_type": "code",
   "execution_count": 91,
   "metadata": {},
   "outputs": [],
   "source": [
    "def piecewise_constant_fn(epoch):\n",
    "    if epoch < 5:\n",
    "        return 0.01\n",
    "    elif epoch < 15:\n",
    "        return 0.005\n",
    "    else:\n",
    "        return 0.001"
   ]
  },
  {
   "cell_type": "code",
   "execution_count": 92,
   "metadata": {},
   "outputs": [
    {
     "name": "stdout",
     "output_type": "stream",
     "text": [
      "Train on 55000 samples, validate on 5000 samples\n",
      "Epoch 1/25\n",
      "55000/55000 [==============================] - 16s 292us/sample - loss: 0.8403 - accuracy: 0.7575 - val_loss: 0.6237 - val_accuracy: 0.7946\n",
      "Epoch 2/25\n",
      "55000/55000 [==============================] - 15s 278us/sample - loss: 0.8701 - accuracy: 0.7514 - val_loss: 0.7352 - val_accuracy: 0.8078\n",
      "Epoch 3/25\n",
      "55000/55000 [==============================] - 15s 277us/sample - loss: 0.9382 - accuracy: 0.7277 - val_loss: 0.8386 - val_accuracy: 0.7364\n",
      "Epoch 4/25\n",
      "55000/55000 [==============================] - 15s 278us/sample - loss: 0.9242 - accuracy: 0.7240 - val_loss: 0.9622 - val_accuracy: 0.7088\n",
      "Epoch 5/25\n",
      "55000/55000 [==============================] - 15s 274us/sample - loss: 0.8952 - accuracy: 0.7154 - val_loss: 0.9735 - val_accuracy: 0.6742\n",
      "Epoch 6/25\n",
      "55000/55000 [==============================] - 16s 287us/sample - loss: 0.6113 - accuracy: 0.7890 - val_loss: 0.7032 - val_accuracy: 0.8164\n",
      "Epoch 7/25\n",
      "55000/55000 [==============================] - 15s 278us/sample - loss: 0.5678 - accuracy: 0.8275 - val_loss: 0.7913 - val_accuracy: 0.7652\n",
      "Epoch 8/25\n",
      "55000/55000 [==============================] - 15s 279us/sample - loss: 0.5356 - accuracy: 0.8415 - val_loss: 0.6302 - val_accuracy: 0.8080\n",
      "Epoch 9/25\n",
      "55000/55000 [==============================] - 15s 280us/sample - loss: 0.5145 - accuracy: 0.8457 - val_loss: 0.6704 - val_accuracy: 0.8206\n",
      "Epoch 10/25\n",
      "55000/55000 [==============================] - 15s 275us/sample - loss: 0.5000 - accuracy: 0.8484 - val_loss: 0.6083 - val_accuracy: 0.8044\n",
      "Epoch 11/25\n",
      "55000/55000 [==============================] - 16s 283us/sample - loss: 0.4902 - accuracy: 0.8553 - val_loss: 0.5442 - val_accuracy: 0.7984\n",
      "Epoch 12/25\n",
      "55000/55000 [==============================] - 15s 281us/sample - loss: 0.5158 - accuracy: 0.8524 - val_loss: 0.6706 - val_accuracy: 0.8470\n",
      "Epoch 13/25\n",
      "55000/55000 [==============================] - 15s 279us/sample - loss: 0.4684 - accuracy: 0.8599 - val_loss: 0.6323 - val_accuracy: 0.8500\n",
      "Epoch 14/25\n",
      "55000/55000 [==============================] - 15s 281us/sample - loss: 0.4606 - accuracy: 0.8617 - val_loss: 0.6277 - val_accuracy: 0.8490\n",
      "Epoch 15/25\n",
      "55000/55000 [==============================] - 15s 276us/sample - loss: 0.4507 - accuracy: 0.8667 - val_loss: 0.5921 - val_accuracy: 0.8508\n",
      "Epoch 16/25\n",
      "55000/55000 [==============================] - 16s 283us/sample - loss: 0.3269 - accuracy: 0.8935 - val_loss: 0.5120 - val_accuracy: 0.8666\n",
      "Epoch 17/25\n",
      "55000/55000 [==============================] - 15s 281us/sample - loss: 0.3028 - accuracy: 0.9004 - val_loss: 0.5152 - val_accuracy: 0.8682\n",
      "Epoch 18/25\n",
      "55000/55000 [==============================] - 16s 283us/sample - loss: 0.2933 - accuracy: 0.9034 - val_loss: 0.5251 - val_accuracy: 0.8704\n",
      "Epoch 19/25\n",
      "55000/55000 [==============================] - 15s 280us/sample - loss: 0.2831 - accuracy: 0.9062 - val_loss: 0.5360 - val_accuracy: 0.8718\n",
      "Epoch 20/25\n",
      "55000/55000 [==============================] - 16s 283us/sample - loss: 0.2744 - accuracy: 0.9094 - val_loss: 0.5874 - val_accuracy: 0.8746\n",
      "Epoch 21/25\n",
      "55000/55000 [==============================] - 15s 276us/sample - loss: 0.2673 - accuracy: 0.9123 - val_loss: 0.5658 - val_accuracy: 0.8772\n",
      "Epoch 22/25\n",
      "55000/55000 [==============================] - 16s 290us/sample - loss: 0.2610 - accuracy: 0.9142 - val_loss: 0.5562 - val_accuracy: 0.8704\n",
      "Epoch 23/25\n",
      "55000/55000 [==============================] - 15s 281us/sample - loss: 0.2591 - accuracy: 0.9150 - val_loss: 0.5640 - val_accuracy: 0.8748\n",
      "Epoch 24/25\n",
      "55000/55000 [==============================] - 15s 278us/sample - loss: 0.2486 - accuracy: 0.9180 - val_loss: 0.5787 - val_accuracy: 0.8762\n",
      "Epoch 25/25\n",
      "55000/55000 [==============================] - 15s 278us/sample - loss: 0.2477 - accuracy: 0.9186 - val_loss: 0.5652 - val_accuracy: 0.8754\n"
     ]
    }
   ],
   "source": [
    "n_epochs = 25\n",
    "lr_scheduler = keras.callbacks.LearningRateScheduler(piecewise_constant_fn)\n",
    "\n",
    "model = keras.models.Sequential([\n",
    "    keras.layers.Flatten(input_shape=[28, 28]),\n",
    "    keras.layers.Dense(300, activation=\"selu\", kernel_initializer=\"lecun_normal\"),\n",
    "    keras.layers.Dense(100, activation=\"selu\", kernel_initializer=\"lecun_normal\"),\n",
    "    keras.layers.Dense(10, activation=\"softmax\")\n",
    "])\n",
    "model.compile(loss=\"sparse_categorical_crossentropy\", optimizer=\"nadam\", metrics=[\"accuracy\"])\n",
    "history = model.fit(X_train_scaled, y_train, epochs=n_epochs,\n",
    "                    validation_data=(X_valid_scaled, y_valid),\n",
    "                    callbacks=[lr_scheduler])"
   ]
  },
  {
   "cell_type": "code",
   "execution_count": 94,
   "metadata": {},
   "outputs": [
    {
     "data": {
      "image/png": "[encoded data removed]",
      "text/plain": [
       "<Figure size 432x288 with 1 Axes>"
      ]
     },
     "metadata": {
      "needs_background": "light"
     },
     "output_type": "display_data"
    }
   ],
   "source": [
    "plt.plot(history.epoch, [piecewise_constant_fn(epoch) for epoch in history.epoch], \"o-\")\n",
    "plt.axis([0, n_epochs - 1, 0, 0.011])\n",
    "plt.xlabel(\"Epoch\")\n",
    "plt.ylabel(\"Learning Rate\")\n",
    "plt.grid(True)\n",
    "plt.show()"
   ]
  },
  {
   "cell_type": "markdown",
   "metadata": {},
   "source": [
    "**Performance Scheduling**"
   ]
  },
  {
   "cell_type": "code",
   "execution_count": 95,
   "metadata": {},
   "outputs": [],
   "source": [
    "tf.random.set_seed(42)\n",
    "np.random.seed(42)"
   ]
  },
  {
   "cell_type": "code",
   "execution_count": 96,
   "metadata": {},
   "outputs": [
    {
     "name": "stdout",
     "output_type": "stream",
     "text": [
      "Train on 55000 samples, validate on 5000 samples\n",
      "Epoch 1/25\n",
      "55000/55000 [==============================] - 11s 192us/sample - loss: 0.5889 - accuracy: 0.8074 - val_loss: 0.4865 - val_accuracy: 0.8436\n",
      "Epoch 2/25\n",
      "55000/55000 [==============================] - 11s 195us/sample - loss: 0.5163 - accuracy: 0.8366 - val_loss: 0.4585 - val_accuracy: 0.8514\n",
      "Epoch 3/25\n",
      "55000/55000 [==============================] - 11s 203us/sample - loss: 0.5024 - accuracy: 0.8431 - val_loss: 0.5680 - val_accuracy: 0.8272\n",
      "Epoch 4/25\n",
      "55000/55000 [==============================] - 11s 203us/sample - loss: 0.5105 - accuracy: 0.8479 - val_loss: 0.6766 - val_accuracy: 0.8480\n",
      "Epoch 5/25\n",
      "55000/55000 [==============================] - 11s 195us/sample - loss: 0.5081 - accuracy: 0.8530 - val_loss: 0.5886 - val_accuracy: 0.8394\n",
      "Epoch 6/25\n",
      "55000/55000 [==============================] - 10s 186us/sample - loss: 0.5079 - accuracy: 0.8531 - val_loss: 0.7926 - val_accuracy: 0.8366\n",
      "Epoch 7/25\n",
      "55000/55000 [==============================] - 10s 184us/sample - loss: 0.5296 - accuracy: 0.8519 - val_loss: 0.6636 - val_accuracy: 0.8372\n",
      "Epoch 8/25\n",
      "55000/55000 [==============================] - 10s 186us/sample - loss: 0.2979 - accuracy: 0.8960 - val_loss: 0.4088 - val_accuracy: 0.8794\n",
      "Epoch 9/25\n",
      "55000/55000 [==============================] - 10s 185us/sample - loss: 0.2481 - accuracy: 0.9086 - val_loss: 0.3989 - val_accuracy: 0.8872\n",
      "Epoch 10/25\n",
      "55000/55000 [==============================] - 10s 190us/sample - loss: 0.2305 - accuracy: 0.9140 - val_loss: 0.4119 - val_accuracy: 0.8832\n",
      "Epoch 11/25\n",
      "55000/55000 [==============================] - 10s 190us/sample - loss: 0.2208 - accuracy: 0.9196 - val_loss: 0.4128 - val_accuracy: 0.8864\n",
      "Epoch 12/25\n",
      "55000/55000 [==============================] - 11s 192us/sample - loss: 0.1999 - accuracy: 0.9252 - val_loss: 0.4356 - val_accuracy: 0.8852\n",
      "Epoch 13/25\n",
      "55000/55000 [==============================] - 10s 191us/sample - loss: 0.1936 - accuracy: 0.9280 - val_loss: 0.4625 - val_accuracy: 0.8880\n",
      "Epoch 14/25\n",
      "55000/55000 [==============================] - 10s 186us/sample - loss: 0.1818 - accuracy: 0.9321 - val_loss: 0.4807 - val_accuracy: 0.8874\n",
      "Epoch 15/25\n",
      "55000/55000 [==============================] - 10s 185us/sample - loss: 0.1280 - accuracy: 0.9495 - val_loss: 0.4451 - val_accuracy: 0.8928\n",
      "Epoch 16/25\n",
      "55000/55000 [==============================] - 10s 186us/sample - loss: 0.1124 - accuracy: 0.9555 - val_loss: 0.4647 - val_accuracy: 0.8836\n",
      "Epoch 17/25\n",
      "55000/55000 [==============================] - 11s 191us/sample - loss: 0.1053 - accuracy: 0.9595 - val_loss: 0.4726 - val_accuracy: 0.8842\n",
      "Epoch 18/25\n",
      "55000/55000 [==============================] - 14s 253us/sample - loss: 0.0972 - accuracy: 0.9628 - val_loss: 0.5018 - val_accuracy: 0.8916\n",
      "Epoch 19/25\n",
      "55000/55000 [==============================] - 12s 215us/sample - loss: 0.0925 - accuracy: 0.9641 - val_loss: 0.5161 - val_accuracy: 0.8866\n",
      "Epoch 20/25\n",
      "55000/55000 [==============================] - 11s 198us/sample - loss: 0.0701 - accuracy: 0.9736 - val_loss: 0.5186 - val_accuracy: 0.8904\n",
      "Epoch 21/25\n",
      "55000/55000 [==============================] - 12s 215us/sample - loss: 0.0641 - accuracy: 0.9769 - val_loss: 0.5190 - val_accuracy: 0.8892\n",
      "Epoch 22/25\n",
      "55000/55000 [==============================] - 11s 194us/sample - loss: 0.0603 - accuracy: 0.9782 - val_loss: 0.5356 - val_accuracy: 0.8886\n",
      "Epoch 23/25\n",
      "55000/55000 [==============================] - 10s 180us/sample - loss: 0.0573 - accuracy: 0.9794 - val_loss: 0.5440 - val_accuracy: 0.8902\n",
      "Epoch 24/25\n",
      "55000/55000 [==============================] - 10s 177us/sample - loss: 0.0540 - accuracy: 0.9805 - val_loss: 0.5693 - val_accuracy: 0.8896\n",
      "Epoch 25/25\n",
      "55000/55000 [==============================] - 10s 185us/sample - loss: 0.0457 - accuracy: 0.9845 - val_loss: 0.5591 - val_accuracy: 0.8896\n"
     ]
    }
   ],
   "source": [
    "n_epochs = 25\n",
    "lr_scheduler = keras.callbacks.ReduceLROnPlateau(factor=0.5, patience=5)\n",
    "\n",
    "model = keras.models.Sequential([\n",
    "    keras.layers.Flatten(input_shape=[28, 28]),\n",
    "    keras.layers.Dense(300, activation=\"selu\", kernel_initializer=\"lecun_normal\"),\n",
    "    keras.layers.Dense(100, activation=\"selu\", kernel_initializer=\"lecun_normal\"),\n",
    "    keras.layers.Dense(10, activation=\"softmax\")\n",
    "])\n",
    "optimizer = keras.optimizers.SGD(lr=0.02, momentum=0.9)\n",
    "model.compile(loss=\"sparse_categorical_crossentropy\", optimizer=optimizer, metrics=[\"accuracy\"])\n",
    "history = model.fit(X_train_scaled, y_train, epochs=n_epochs,\n",
    "                    validation_data=(X_valid_scaled, y_valid),\n",
    "                    callbacks=[lr_scheduler])"
   ]
  },
  {
   "cell_type": "code",
   "execution_count": 99,
   "metadata": {},
   "outputs": [
    {
     "data": {
      "image/png": "[encoded data removed]",
      "text/plain": [
       "<Figure size 432x288 with 2 Axes>"
      ]
     },
     "metadata": {
      "needs_background": "light"
     },
     "output_type": "display_data"
    }
   ],
   "source": [
    "plt.plot(history.epoch, history.history[\"lr\"], \"bo-\")\n",
    "plt.xlabel(\"Epoch\")\n",
    "plt.ylabel(\"Learning Rate\", color='b')\n",
    "plt.tick_params('y', colors='b')\n",
    "plt.gca().set_xlim(0, n_epochs - 1)\n",
    "plt.grid(True)\n",
    "\n",
    "ax2 = plt.gca().twinx()\n",
    "ax2.plot(history.epoch, history.history[\"val_loss\"], \"r^-\")\n",
    "ax2.set_ylabel('Validation Loss', color='r')\n",
    "ax2.tick_params('y', colors='r')\n",
    "\n",
    "plt.title(\"Reduce LR on Plateau\", fontsize=14)\n",
    "plt.show()"
   ]
  },
  {
   "cell_type": "markdown",
   "metadata": {},
   "source": [
    "**Пример сбора данных о модели, изменяемых в процессе обучения.**"
   ]
  },
  {
   "cell_type": "code",
   "execution_count": 5,
   "metadata": {},
   "outputs": [],
   "source": [
    "K = keras.backend\n",
    "\n",
    "class ExponentialLearningRate(keras.callbacks.Callback):\n",
    "    def __init__(self, factor):\n",
    "        self.factor = factor\n",
    "        self.rates = []\n",
    "        self.losses = []\n",
    "    def on_batch_end(self, batch, logs):\n",
    "        self.rates.append(K.get_value(self.model.optimizer.lr))\n",
    "        self.losses.append(logs[\"loss\"])\n",
    "        K.set_value(self.model.optimizer.lr, self.model.optimizer.lr * self.factor)"
   ]
  },
  {
   "cell_type": "code",
   "execution_count": 62,
   "metadata": {},
   "outputs": [],
   "source": [
    "tf.random.set_seed(42)\n",
    "np.random.seed(42)\n",
    "\n",
    "model = keras.models.Sequential([\n",
    "    keras.layers.Flatten(input_shape=[28, 28]),\n",
    "    keras.layers.Dense(300, activation=\"selu\", kernel_initializer=\"lecun_normal\"),\n",
    "    keras.layers.Dense(100, activation=\"selu\", kernel_initializer=\"lecun_normal\"),\n",
    "    keras.layers.Dense(10, activation=\"softmax\")\n",
    "])\n",
    "model.compile(loss=\"sparse_categorical_crossentropy\",\n",
    "              optimizer=keras.optimizers.SGD(lr=1e-3),\n",
    "              metrics=[\"accuracy\"])"
   ]
  },
  {
   "cell_type": "code",
   "execution_count": 63,
   "metadata": {},
   "outputs": [
    {
     "name": "stdout",
     "output_type": "stream",
     "text": [
      "model optimizer curr learning_rate: 0.001\n",
      "model optimizer new learning_rate: 1e-05\n"
     ]
    }
   ],
   "source": [
    "min_rate=10**-5\n",
    "max_rate=1\n",
    "epochs = 1\n",
    "batch_size = 128\n",
    "\n",
    "print('model optimizer curr learning_rate:', K.get_value(model.optimizer.lr))\n",
    "K.set_value(model.optimizer.lr, min_rate)\n",
    "print('model optimizer new learning_rate:', K.get_value(model.optimizer.lr))\n",
    "\n",
    "init_weights = model.get_weights()"
   ]
  },
  {
   "cell_type": "code",
   "execution_count": 64,
   "metadata": {},
   "outputs": [],
   "source": [
    "iterations = len(X_train) // batch_size * epochs\n",
    "factor = np.exp(np.log(max_rate / min_rate) / iterations)\n",
    "exp_lr = ExponentialLearningRate(factor)"
   ]
  },
  {
   "cell_type": "code",
   "execution_count": 65,
   "metadata": {},
   "outputs": [
    {
     "name": "stdout",
     "output_type": "stream",
     "text": [
      "Train on 55000 samples\n",
      "55000/55000 [==============================] - 3s 63us/sample - loss: nan - accuracy: 0.4707 \n"
     ]
    }
   ],
   "source": [
    "history = model.fit(X_train_scaled, y_train, epochs=1, batch_size=batch_size, callbacks=[exp_lr])"
   ]
  },
  {
   "cell_type": "markdown",
   "metadata": {},
   "source": [
    "Чтобы запустить обучение модели с нуля, выполнив возврат инициализированных перед началом обучения весов."
   ]
  },
  {
   "cell_type": "code",
   "execution_count": 67,
   "metadata": {},
   "outputs": [],
   "source": [
    "model.set_weights(init_weights)"
   ]
  },
  {
   "cell_type": "code",
   "execution_count": 109,
   "metadata": {},
   "outputs": [],
   "source": [
    "nan_idx = 0\n",
    "\n",
    "for i in range(len(exp_lr.losses)):\n",
    "    if np.isnan(exp_lr.losses[i]):\n",
    "        nan_idx = i\n",
    "        break;"
   ]
  },
  {
   "cell_type": "markdown",
   "metadata": {},
   "source": [
    "Выведем полученные графики"
   ]
  },
  {
   "cell_type": "code",
   "execution_count": 155,
   "metadata": {},
   "outputs": [
    {
     "data": {
      "text/plain": [
       "[1e-05, 10, 0.43285292, 1.586891531944275]"
      ]
     },
     "execution_count": 155,
     "metadata": {},
     "output_type": "execute_result"
    },
    {
     "data": {
      "image/png": "[encoded data removed]",
      "text/plain": [
       "<Figure size 432x288 with 1 Axes>"
      ]
     },
     "metadata": {
      "needs_background": "light"
     },
     "output_type": "display_data"
    }
   ],
   "source": [
    "plt.plot(exp_lr.rates, exp_lr.losses)\n",
    "plt.gca().set_xscale('log')\n",
    "plt.axis([min_rate, 10, min(exp_lr.losses), \n",
    "          (exp_lr.losses[0] + min(exp_lr.losses)) / 2])"
   ]
  },
  {
   "cell_type": "markdown",
   "metadata": {},
   "source": [
    "# Avoiding Overfitting Through Regularization"
   ]
  },
  {
   "cell_type": "markdown",
   "metadata": {},
   "source": [
    "### $\\ell_1$ and $\\ell_2$ regularization"
   ]
  },
  {
   "cell_type": "code",
   "execution_count": 157,
   "metadata": {},
   "outputs": [],
   "source": [
    "layer = keras.layers.Dense(100, activation=\"elu\",\n",
    "                           kernel_initializer=\"he_normal\",\n",
    "                           kernel_regularizer=keras.regularizers.l2(0.01))"
   ]
  },
  {
   "cell_type": "code",
   "execution_count": 160,
   "metadata": {},
   "outputs": [
    {
     "name": "stdout",
     "output_type": "stream",
     "text": [
      "Train on 55000 samples, validate on 5000 samples\n",
      "Epoch 1/2\n",
      "55000/55000 [==============================] - 13s 239us/sample - loss: 1.6569 - accuracy: 0.8126 - val_loss: 0.7406 - val_accuracy: 0.8214\n",
      "Epoch 2/2\n",
      "55000/55000 [==============================] - 11s 206us/sample - loss: 0.7206 - accuracy: 0.8251 - val_loss: 0.6950 - val_accuracy: 0.8322\n"
     ]
    }
   ],
   "source": [
    "model = keras.models.Sequential([\n",
    "    keras.layers.Flatten(input_shape=[28, 28]),\n",
    "    keras.layers.Dense(300, activation=\"elu\", kernel_initializer=\"he_normal\",\n",
    "                       kernel_regularizer=keras.regularizers.l2(0.01)),\n",
    "    keras.layers.Dense(100, activation=\"elu\", kernel_initializer=\"he_normal\",\n",
    "                       kernel_regularizer=keras.regularizers.l2(0.01)),\n",
    "    keras.layers.Dense(10, activation=\"softmax\", \n",
    "                       kernel_regularizer=keras.regularizers.l2(0.01))\n",
    "])\n",
    "model.compile(loss=\"sparse_categorical_crossentropy\", optimizer=\"nadam\", metrics=[\"accuracy\"])\n",
    "history = model.fit(X_train_scaled, y_train, epochs=2, validation_data=(X_valid_scaled, y_valid))"
   ]
  },
  {
   "cell_type": "markdown",
   "metadata": {},
   "source": [
    "альтернатинвный вариант, чтобы не устанавливать для каждого скрытого слоя атрибут регуляризации"
   ]
  },
  {
   "cell_type": "code",
   "execution_count": 161,
   "metadata": {},
   "outputs": [
    {
     "name": "stdout",
     "output_type": "stream",
     "text": [
      "Train on 55000 samples, validate on 5000 samples\n",
      "Epoch 1/2\n",
      "55000/55000 [==============================] - 13s 228us/sample - loss: 1.6229 - accuracy: 0.8126 - val_loss: 0.7354 - val_accuracy: 0.8216\n",
      "Epoch 2/2\n",
      "55000/55000 [==============================] - 12s 217us/sample - loss: 0.7175 - accuracy: 0.8262 - val_loss: 0.6917 - val_accuracy: 0.8370\n"
     ]
    }
   ],
   "source": [
    "from functools import partial\n",
    "\n",
    "RegularizedDense = partial(keras.layers.Dense,\n",
    "                           activation=\"elu\",\n",
    "                           kernel_initializer=\"he_normal\",\n",
    "                           kernel_regularizer=keras.regularizers.l2(0.01))\n",
    "\n",
    "model = keras.models.Sequential([\n",
    "    keras.layers.Flatten(input_shape=[28, 28]),\n",
    "    RegularizedDense(300),\n",
    "    RegularizedDense(100),\n",
    "    RegularizedDense(10, activation=\"softmax\")\n",
    "])\n",
    "model.compile(loss=\"sparse_categorical_crossentropy\", optimizer=\"nadam\", metrics=[\"accuracy\"])\n",
    "history = model.fit(X_train_scaled, y_train, epochs=2, validation_data=(X_valid_scaled, y_valid))"
   ]
  },
  {
   "cell_type": "markdown",
   "metadata": {},
   "source": [
    "### Dropout"
   ]
  },
  {
   "cell_type": "code",
   "execution_count": 169,
   "metadata": {},
   "outputs": [
    {
     "name": "stdout",
     "output_type": "stream",
     "text": [
      "Train on 55000 samples, validate on 5000 samples\n",
      "Epoch 1/2\n",
      "55000/55000 [==============================] - 13s 244us/sample - loss: 0.5686 - accuracy: 0.8031 - val_loss: 0.3809 - val_accuracy: 0.8606\n",
      "Epoch 2/2\n",
      "55000/55000 [==============================] - 12s 226us/sample - loss: 0.4212 - accuracy: 0.8467 - val_loss: 0.3387 - val_accuracy: 0.8752\n"
     ]
    }
   ],
   "source": [
    "tf.random.set_seed(42)\n",
    "np.random.seed(42)\n",
    "n_epochs = 2\n",
    "\n",
    "model = keras.models.Sequential([\n",
    "    keras.layers.Flatten(input_shape=[28, 28]),\n",
    "    keras.layers.Dropout(rate=0.2),\n",
    "    keras.layers.Dense(300, activation=\"elu\", kernel_initializer=\"he_normal\"),\n",
    "    keras.layers.Dropout(rate=0.2),\n",
    "    keras.layers.Dense(100, activation=\"elu\", kernel_initializer=\"he_normal\"),\n",
    "    keras.layers.Dropout(rate=0.2),\n",
    "    keras.layers.Dense(10, activation=\"softmax\")\n",
    "])\n",
    "model.compile(loss=\"sparse_categorical_crossentropy\", optimizer=\"nadam\", metrics=[\"accuracy\"])\n",
    "history = model.fit(X_train_scaled, y_train, epochs=n_epochs, validation_data=(X_valid_scaled, y_valid))"
   ]
  },
  {
   "cell_type": "markdown",
   "metadata": {},
   "source": [
    "### Alpha Dropout"
   ]
  },
  {
   "cell_type": "code",
   "execution_count": 7,
   "metadata": {},
   "outputs": [
    {
     "name": "stdout",
     "output_type": "stream",
     "text": [
      "Train on 55000 samples, validate on 5000 samples\n",
      "Epoch 1/20\n",
      "55000/55000 [==============================] - 10s 176us/sample - loss: 0.6615 - accuracy: 0.7616 - val_loss: 0.6664 - val_accuracy: 0.8254\n",
      "Epoch 2/20\n",
      "55000/55000 [==============================] - 9s 160us/sample - loss: 0.5526 - accuracy: 0.7967 - val_loss: 0.5846 - val_accuracy: 0.8380\n",
      "Epoch 3/20\n",
      "55000/55000 [==============================] - 9s 159us/sample - loss: 0.5261 - accuracy: 0.8060 - val_loss: 0.5287 - val_accuracy: 0.8544\n",
      "Epoch 4/20\n",
      "55000/55000 [==============================] - 9s 159us/sample - loss: 0.5077 - accuracy: 0.8106 - val_loss: 0.4915 - val_accuracy: 0.8594\n",
      "Epoch 5/20\n",
      "55000/55000 [==============================] - 9s 164us/sample - loss: 0.4934 - accuracy: 0.8177 - val_loss: 0.4901 - val_accuracy: 0.8588\n",
      "Epoch 6/20\n",
      "55000/55000 [==============================] - 9s 162us/sample - loss: 0.4833 - accuracy: 0.8203 - val_loss: 0.5142 - val_accuracy: 0.8550\n",
      "Epoch 7/20\n",
      "55000/55000 [==============================] - 9s 160us/sample - loss: 0.4720 - accuracy: 0.8256 - val_loss: 0.4522 - val_accuracy: 0.8662\n",
      "Epoch 8/20\n",
      "55000/55000 [==============================] - 9s 167us/sample - loss: 0.4644 - accuracy: 0.8271 - val_loss: 0.4544 - val_accuracy: 0.8582\n",
      "Epoch 9/20\n",
      "55000/55000 [==============================] - 9s 167us/sample - loss: 0.4575 - accuracy: 0.8311 - val_loss: 0.4475 - val_accuracy: 0.8660\n",
      "Epoch 10/20\n",
      "55000/55000 [==============================] - 9s 168us/sample - loss: 0.4507 - accuracy: 0.8337 - val_loss: 0.4295 - val_accuracy: 0.8646\n",
      "Epoch 11/20\n",
      "55000/55000 [==============================] - 9s 166us/sample - loss: 0.4486 - accuracy: 0.8326 - val_loss: 0.4480 - val_accuracy: 0.8696\n",
      "Epoch 12/20\n",
      "55000/55000 [==============================] - 9s 171us/sample - loss: 0.4470 - accuracy: 0.8339 - val_loss: 0.4427 - val_accuracy: 0.8694\n",
      "Epoch 13/20\n",
      "55000/55000 [==============================] - 9s 169us/sample - loss: 0.4413 - accuracy: 0.8372 - val_loss: 0.4339 - val_accuracy: 0.8714\n",
      "Epoch 14/20\n",
      "55000/55000 [==============================] - 9s 170us/sample - loss: 0.4327 - accuracy: 0.8384 - val_loss: 0.4698 - val_accuracy: 0.8722\n",
      "Epoch 15/20\n",
      "55000/55000 [==============================] - 10s 176us/sample - loss: 0.4330 - accuracy: 0.8389 - val_loss: 0.4261 - val_accuracy: 0.8758\n",
      "Epoch 16/20\n",
      "55000/55000 [==============================] - 10s 179us/sample - loss: 0.4299 - accuracy: 0.8391 - val_loss: 0.4839 - val_accuracy: 0.8566\n",
      "Epoch 17/20\n",
      "55000/55000 [==============================] - 10s 183us/sample - loss: 0.4291 - accuracy: 0.8404 - val_loss: 0.4351 - val_accuracy: 0.8770\n",
      "Epoch 18/20\n",
      "55000/55000 [==============================] - 10s 174us/sample - loss: 0.4216 - accuracy: 0.8430 - val_loss: 0.4425 - val_accuracy: 0.8726\n",
      "Epoch 19/20\n",
      "55000/55000 [==============================] - 9s 168us/sample - loss: 0.4238 - accuracy: 0.8427 - val_loss: 0.4162 - val_accuracy: 0.8728\n",
      "Epoch 20/20\n",
      "55000/55000 [==============================] - 9s 162us/sample - loss: 0.4204 - accuracy: 0.8457 - val_loss: 0.4118 - val_accuracy: 0.8822\n"
     ]
    }
   ],
   "source": [
    "tf.random.set_seed(42)\n",
    "np.random.seed(42)\n",
    "n_epochs = 20\n",
    "\n",
    "model = keras.models.Sequential([\n",
    "    keras.layers.Flatten(input_shape=[28, 28]),\n",
    "    keras.layers.AlphaDropout(rate=0.2),\n",
    "    keras.layers.Dense(300, activation=\"selu\", kernel_initializer=\"lecun_normal\"),\n",
    "    keras.layers.AlphaDropout(rate=0.2),\n",
    "    keras.layers.Dense(100, activation=\"selu\", kernel_initializer=\"lecun_normal\"),\n",
    "    keras.layers.AlphaDropout(rate=0.2),\n",
    "    keras.layers.Dense(10, activation=\"softmax\")\n",
    "])\n",
    "optimizer = keras.optimizers.SGD(lr=0.01, momentum=0.9, nesterov=True)\n",
    "model.compile(loss=\"sparse_categorical_crossentropy\", optimizer=optimizer, metrics=[\"accuracy\"])\n",
    "history = model.fit(X_train_scaled, y_train, epochs=n_epochs, validation_data=(X_valid_scaled, y_valid))"
   ]
  },
  {
   "cell_type": "code",
   "execution_count": 8,
   "metadata": {},
   "outputs": [
    {
     "name": "stdout",
     "output_type": "stream",
     "text": [
      "55000/55000 [==============================] - 4s 74us/sample - loss: 0.3373 - accuracy: 0.8889\n",
      "10000/10000 [==============================] - 1s 71us/sample - loss: 0.4656 - accuracy: 0.8688\n"
     ]
    },
    {
     "data": {
      "text/plain": [
       "[0.46556087351441383, 0.8688]"
      ]
     },
     "execution_count": 8,
     "metadata": {},
     "output_type": "execute_result"
    }
   ],
   "source": [
    "model.evaluate(X_train_scaled, y_train)\n",
    "model.evaluate(X_test_scaled, y_test)"
   ]
  },
  {
   "cell_type": "markdown",
   "metadata": {},
   "source": [
    "### MC Dropout"
   ]
  },
  {
   "cell_type": "code",
   "execution_count": 10,
   "metadata": {},
   "outputs": [],
   "source": [
    "tf.random.set_seed(42)\n",
    "np.random.seed(42)"
   ]
  },
  {
   "cell_type": "code",
   "execution_count": 11,
   "metadata": {},
   "outputs": [],
   "source": [
    "x_test2 = X_test_scaled.astype('float32')"
   ]
  },
  {
   "cell_type": "code",
   "execution_count": 12,
   "metadata": {},
   "outputs": [],
   "source": [
    "y_probas = np.stack([model(x_test2, training=True)\n",
    "                     for sample in range(100)])\n",
    "y_proba = y_probas.mean(axis=0)\n",
    "y_std = y_probas.std(axis=0)"
   ]
  },
  {
   "cell_type": "markdown",
   "metadata": {},
   "source": [
    "**Сравним результаты** Monte-Carlo Dropout c обычным подходом предсказания принадлежности экземпляра к тому или иному классу"
   ]
  },
  {
   "cell_type": "code",
   "execution_count": 24,
   "metadata": {},
   "outputs": [
    {
     "data": {
      "text/plain": [
       "array([[0., 0., 0., 0., 0., 0., 0., 0., 0., 1.]], dtype=float32)"
      ]
     },
     "execution_count": 24,
     "metadata": {},
     "output_type": "execute_result"
    }
   ],
   "source": [
    "y_pred_test = model.predict(x_test2)\n",
    "y_pred_test = np.round(y_pred_test, 2)\n",
    "y_pred_test[:1]"
   ]
  },
  {
   "cell_type": "markdown",
   "metadata": {},
   "source": [
    "Модель полность уверена, что экземпляр 0 принадлежит к классу 9 \"ankle boot\". Посмотрим на результаты предсказания по методу  Monte-Carlo"
   ]
  },
  {
   "cell_type": "code",
   "execution_count": 40,
   "metadata": {},
   "outputs": [
    {
     "data": {
      "text/plain": [
       "array([[0.  , 0.  , 0.  , 0.  , 0.  , 0.07, 0.  , 0.13, 0.  , 0.8 ]],\n",
       "      dtype=float32)"
      ]
     },
     "execution_count": 40,
     "metadata": {},
     "output_type": "execute_result"
    }
   ],
   "source": [
    "np.round(y_proba[:1], 2)"
   ]
  },
  {
   "cell_type": "markdown",
   "metadata": {},
   "source": [
    "После использования метода MC Dropout модель уже так не уверена на счет принадлежности к классу 9 (уверенность 80%). Модель на 7% считае что это может быть сандаль и на 13% - кросовок (все классы принадлежащие к общему типу - обувь).\n",
    "\n",
    "Посмотрим на отклонения"
   ]
  },
  {
   "cell_type": "code",
   "execution_count": 43,
   "metadata": {},
   "outputs": [
    {
     "data": {
      "text/plain": [
       "array([[0.  , 0.  , 0.  , 0.  , 0.  , 0.14, 0.  , 0.14, 0.  , 0.19]],\n",
       "      dtype=float32)"
      ]
     },
     "execution_count": 43,
     "metadata": {},
     "output_type": "execute_result"
    }
   ],
   "source": [
    "np.round(y_std[:1], 2)"
   ]
  },
  {
   "cell_type": "markdown",
   "metadata": {},
   "source": [
    "Посмотрим на точность предсказаний, полученных с помощью MC Dropout"
   ]
  },
  {
   "cell_type": "code",
   "execution_count": 45,
   "metadata": {},
   "outputs": [
    {
     "data": {
      "text/plain": [
       "0.8665"
      ]
     },
     "execution_count": 45,
     "metadata": {},
     "output_type": "execute_result"
    }
   ],
   "source": [
    "y_pred = np.argmax(y_proba, axis=1)\n",
    "accuracy = np.sum(y_pred == y_test) / len(y_test)\n",
    "accuracy"
   ]
  },
  {
   "cell_type": "markdown",
   "metadata": {},
   "source": [
    "А теперь посмотрим на реальное изображение 1го экземпляра"
   ]
  },
  {
   "cell_type": "code",
   "execution_count": 46,
   "metadata": {},
   "outputs": [
    {
     "data": {
      "image/png": "[encoded data removed]",
      "text/plain": [
       "<Figure size 432x288 with 1 Axes>"
      ]
     },
     "metadata": {
      "needs_background": "light"
     },
     "output_type": "display_data"
    }
   ],
   "source": [
    "plt.imshow(X_test[0], cmap=\"binary\")\n",
    "plt.show()"
   ]
  },
  {
   "cell_type": "markdown",
   "metadata": {},
   "source": [
    "**Применение метода MC Dropout, если используются специальные слои (например, BN)**"
   ]
  },
  {
   "cell_type": "code",
   "execution_count": 47,
   "metadata": {},
   "outputs": [],
   "source": [
    "class MCDropout(keras.layers.Dropout):\n",
    "    def call(self, inputs):\n",
    "        return super().call(inputs, training=True)\n",
    "\n",
    "class MCAlphaDropout(keras.layers.AlphaDropout):\n",
    "    def call(self, inputs):\n",
    "        return super().call(inputs, training=True)"
   ]
  },
  {
   "cell_type": "markdown",
   "metadata": {},
   "source": [
    "Выполним замену Dropout слоев, на наши кастомные Dropout слои. Все это делается, чтобы не включать режим обучения для модели целиком, что может быть в некоторых случая вредно, например, при  использовании BN слоев в процессе обучения."
   ]
  },
  {
   "cell_type": "code",
   "execution_count": 49,
   "metadata": {},
   "outputs": [
    {
     "name": "stdout",
     "output_type": "stream",
     "text": [
      "Model: \"sequential\"\n",
      "_________________________________________________________________\n",
      "Layer (type)                 Output Shape              Param #   \n",
      "=================================================================\n",
      "flatten (Flatten)            (None, 784)               0         \n",
      "_________________________________________________________________\n",
      "alpha_dropout (AlphaDropout) (None, 784)               0         \n",
      "_________________________________________________________________\n",
      "dense (Dense)                (None, 300)               235500    \n",
      "_________________________________________________________________\n",
      "alpha_dropout_1 (AlphaDropou (None, 300)               0         \n",
      "_________________________________________________________________\n",
      "dense_1 (Dense)              (None, 100)               30100     \n",
      "_________________________________________________________________\n",
      "alpha_dropout_2 (AlphaDropou (None, 100)               0         \n",
      "_________________________________________________________________\n",
      "dense_2 (Dense)              (None, 10)                1010      \n",
      "=================================================================\n",
      "Total params: 266,610\n",
      "Trainable params: 266,610\n",
      "Non-trainable params: 0\n",
      "_________________________________________________________________\n"
     ]
    }
   ],
   "source": [
    "model.summary()"
   ]
  },
  {
   "cell_type": "code",
   "execution_count": 50,
   "metadata": {},
   "outputs": [
    {
     "name": "stdout",
     "output_type": "stream",
     "text": [
      "Model: \"sequential_1\"\n",
      "_________________________________________________________________\n",
      "Layer (type)                 Output Shape              Param #   \n",
      "=================================================================\n",
      "flatten (Flatten)            (None, 784)               0         \n",
      "_________________________________________________________________\n",
      "mc_alpha_dropout (MCAlphaDro (None, 784)               0         \n",
      "_________________________________________________________________\n",
      "dense (Dense)                (None, 300)               235500    \n",
      "_________________________________________________________________\n",
      "mc_alpha_dropout_1 (MCAlphaD (None, 300)               0         \n",
      "_________________________________________________________________\n",
      "dense_1 (Dense)              (None, 100)               30100     \n",
      "_________________________________________________________________\n",
      "mc_alpha_dropout_2 (MCAlphaD (None, 100)               0         \n",
      "_________________________________________________________________\n",
      "dense_2 (Dense)              (None, 10)                1010      \n",
      "=================================================================\n",
      "Total params: 266,610\n",
      "Trainable params: 266,610\n",
      "Non-trainable params: 0\n",
      "_________________________________________________________________\n"
     ]
    }
   ],
   "source": [
    "mc_model = keras.models.Sequential([\n",
    "    MCAlphaDropout(layer.rate) if isinstance(layer, keras.layers.AlphaDropout) else layer\n",
    "    for layer in model.layers\n",
    "])\n",
    "\n",
    "mc_model.summary()"
   ]
  },
  {
   "cell_type": "code",
   "execution_count": 51,
   "metadata": {},
   "outputs": [],
   "source": [
    "optimizer = keras.optimizers.SGD(lr=0.01, momentum=0.9, nesterov=True)\n",
    "mc_model.compile(loss=\"sparse_categorical_crossentropy\", optimizer=optimizer, metrics=[\"accuracy\"])\n",
    "mc_model.set_weights(model.get_weights())"
   ]
  },
  {
   "cell_type": "code",
   "execution_count": 52,
   "metadata": {},
   "outputs": [
    {
     "data": {
      "text/plain": [
       "array([[0.  , 0.  , 0.  , 0.  , 0.  , 0.05, 0.  , 0.14, 0.  , 0.8 ]],\n",
       "      dtype=float32)"
      ]
     },
     "execution_count": 52,
     "metadata": {},
     "output_type": "execute_result"
    }
   ],
   "source": [
    "np.round(np.mean([mc_model.predict(X_test_scaled[:1]) for sample in range(100)], axis=0), 2)"
   ]
  },
  {
   "cell_type": "markdown",
   "metadata": {},
   "source": [
    "### Max-Norm Regularization"
   ]
  },
  {
   "cell_type": "code",
   "execution_count": 55,
   "metadata": {},
   "outputs": [],
   "source": [
    "layer = keras.layers.Dense(100, activation=\"selu\", kernel_initializer=\"lecun_normal\",\n",
    "                           kernel_constraint=keras.constraints.max_norm(1.))"
   ]
  },
  {
   "cell_type": "code",
   "execution_count": 56,
   "metadata": {},
   "outputs": [],
   "source": [
    "tf.random.set_seed(42)\n",
    "np.random.seed(42)"
   ]
  },
  {
   "cell_type": "code",
   "execution_count": 59,
   "metadata": {},
   "outputs": [],
   "source": [
    "n_epochs = 2\n",
    "MaxNormDense = partial(keras.layers.Dense,\n",
    "                       activation=\"selu\", kernel_initializer=\"lecun_normal\",\n",
    "                       kernel_constraint=keras.constraints.max_norm(1.))"
   ]
  },
  {
   "cell_type": "code",
   "execution_count": 60,
   "metadata": {},
   "outputs": [
    {
     "name": "stdout",
     "output_type": "stream",
     "text": [
      "Train on 55000 samples, validate on 5000 samples\n",
      "Epoch 1/2\n",
      "55000/55000 [==============================] - 21s 378us/sample - loss: 0.4735 - accuracy: 0.8349 - val_loss: 0.4011 - val_accuracy: 0.8624\n",
      "Epoch 2/2\n",
      "55000/55000 [==============================] - 19s 340us/sample - loss: 0.3570 - accuracy: 0.8685 - val_loss: 0.3474 - val_accuracy: 0.8744\n"
     ]
    }
   ],
   "source": [
    "model = keras.models.Sequential([\n",
    "    keras.layers.Flatten(input_shape=[28, 28]),\n",
    "    MaxNormDense(300),\n",
    "    MaxNormDense(100),\n",
    "    keras.layers.Dense(10, activation=\"softmax\")\n",
    "])\n",
    "model.compile(loss=\"sparse_categorical_crossentropy\", optimizer=\"nadam\", metrics=[\"accuracy\"])\n",
    "history = model.fit(X_train_scaled, y_train, epochs=n_epochs, validation_data=(X_valid_scaled, y_valid))"
   ]
  },
  {
   "cell_type": "markdown",
   "metadata": {},
   "source": [
    "# Tasks\n",
    "\n",
    "### task 1\n",
    "\n",
    "*Is it okay to initialize all the weights to the same value as long as that value is selected randomly using He initialization?*\n",
    "\n",
    "Принцип инициализации заключается в том, чтобы добиться заданной дисперсии между весами при инициализации. Это делает нейроны и их связи максимально независимымми, предотвращая сваливания в локальный минимум нейронной модели в процессе обучения из-за наличия симметрии в ее структуре.\n",
    "\n",
    "### task 2\n",
    "\n",
    "*Is it okay to initialize the bias terms to 0?*\n",
    "\n",
    "Не вижу проблем, чтобы инициализовать смещение нулем.\n",
    "\n",
    "### task 3\n",
    "\n",
    "*Name three advantages of the SELU activation function over ReLU.*\n",
    "\n",
    "- нейрон может выводить занчение < 0, что облегчает проблему взрыва/исчезновения градентов;\n",
    "- функция стоимости дифференциируема при значении вывода нейрона < 0, т.о. нейрон никогда не умирает (кроме того, функция SELU всюду гладкая);\n",
    "- решение проблемы взрыва/исчезновения градиентов за счет того, что вывод слоя будет сохранять в процессе обучение среднее значение - 0 и отклонение - 1, полученное с предыдущего слоя;\n",
    "\n",
    "\n",
    "- It can take on negative values, so the average output of the neurons in any given layer is typically closer to 0 than when using the ReLU activation function (which never outputs negative values). This helps alleviate the vanishing gradients problem;\n",
    "- It always has a nonzero derivative, which avoids the dying units issue that can affect ReLU units;\n",
    "- It is smooth everywhere, whereas the ReLU’s slope abruptly jumps from 0 to 1 at z = 0. Such an abrupt change can slow down Gradient Descent because it will bounce around z = 0.\n",
    "\n",
    "### task 4\n",
    "\n",
    "*In which cases would you want to use each of the following activation functions: SELU, leaky ReLU (and its variants), ReLU, tanh, logistic, and softmax?*\n",
    "\n",
    "- ReLU хорошо себя показывает в большинстве случаев, но фукнции ELU и leaky ReLU ее превосходят. В случае, если производительность вычислений существенна, то стоит попробовать обычную ReLU, т.к. она быстрее вычисляется;\n",
    "- Гиперболический тангентс (tanh) может быть полезен в выходном слое для вывода значений в диапазоне [-1, 1]; \n",
    "- Logistic может быть так же полезна в выходном слое, если нужно оценить вероятность принадлежности к классу. \n",
    "- Softmax так же полезна в выходном слое, когда нужно оценить вероятность принадлежности к взаимноисключающим классам. \n",
    "\n",
    "### task 5\n",
    "\n",
    "*What may happen if you set the momentum hyperparameter too close to 1 (e.g., 0.99999) when using an SGD optimizer?*\n",
    "\n",
    "При большом значении момента, тогда алгоритм наберет быстро большое ускорение. При достижении минимума - алгоритм его перескочит и через некоторое время наберет опять же большое ускорение но в противоположную сторону. Алгоритм будет долго прыгать мимо минимума постепенно замедляясь. Т.о. с меньшим моментом алгоритм быстрее бы сошелся \n",
    "\n",
    "### task 6\n",
    "\n",
    "*Name three ways you can produce a sparse model.*\n",
    "\n",
    "- Обучить модель обычным способом и занулить маленькие веса; \n",
    "- Использовать l1 регуляризацию для весовых коэффициентов; \n",
    "- Использовать FTRL optimizer. \n",
    "\n",
    "### task 7\n",
    "\n",
    "*Does dropout slow down training? Does it slow down inference (i.e., making predictions on new instances)? What are about MC dropout?*\n",
    "\n",
    "Dropout напротив ускоряет обучение на каждой итерации, т.к. модель разряженная, однако кол-ва итераций может потребоваться больше для схождения. Предсказание обученной модели стандартное, т.к. dropout используется только для обучения. MC Dropout - это технология, которая накладыает ограничение на предсказание, которая используя обученную с помощью dropout модель формирует из нее ансамбль из n разряженных моделей и делает предсказание на основе заключения ансамбля. Поэтому производительность предсказания MSDropout зависит от кол-ва моделей в ансамбле и должно быть существенно медленее обычной модели.\n",
    "\n",
    "### task 8\n",
    "\n",
    "*a) Build a DNN with five hidden layers of 100 neurons each, He initialization, and the ELU activation function*"
   ]
  },
  {
   "cell_type": "code",
   "execution_count": 3,
   "metadata": {},
   "outputs": [],
   "source": [
    "tf.random.set_seed(42)\n",
    "np.random.seed(42)\n",
    "\n",
    "model = keras.models.Sequential([\n",
    "    keras.layers.Flatten(input_shape=[28, 28]),\n",
    "    #keras.layers.BatchNormalization(), #для нормализации входных сигналов\n",
    "    keras.layers.Dense(100, kernel_initializer=\"he_normal\", activation=\"elu\"),\n",
    "    keras.layers.Dense(100, kernel_initializer=\"he_normal\", activation=\"elu\"),\n",
    "    keras.layers.Dense(100, kernel_initializer=\"he_normal\", activation=\"elu\"),\n",
    "    keras.layers.Dense(100, kernel_initializer=\"he_normal\", activation=\"elu\"),\n",
    "    keras.layers.Dense(100, kernel_initializer=\"he_normal\", activation=\"elu\"),\n",
    "    keras.layers.Dense(5, activation=\"softmax\")\n",
    "])"
   ]
  },
  {
   "cell_type": "markdown",
   "metadata": {},
   "source": [
    "*b. Using Adam optimization and early stopping, try training it on MNIST but only on digits 0 to 4, as we will use transfer learning for digits 5 to 9 in the next exercise. You will need a softmax output layer with five neurons, and as always make sure to save checkpoints at regular intervals and save the final model so you can reuse it later.*"
   ]
  },
  {
   "cell_type": "code",
   "execution_count": 4,
   "metadata": {},
   "outputs": [],
   "source": [
    "(x_train_full, y_train_full), (x_test, y_test) = keras.datasets.mnist.load_data()"
   ]
  },
  {
   "cell_type": "code",
   "execution_count": 5,
   "metadata": {},
   "outputs": [],
   "source": [
    "x_train_full = x_train_full / 255.0\n",
    "x_test = x_test / 255.0\n",
    "x_valid, x_train = x_train_full[:5000], x_train_full[5000:]\n",
    "y_valid, y_train = y_train_full[:5000], y_train_full[5000:]"
   ]
  },
  {
   "cell_type": "markdown",
   "metadata": {},
   "source": [
    "data normalization"
   ]
  },
  {
   "cell_type": "code",
   "execution_count": 7,
   "metadata": {},
   "outputs": [],
   "source": [
    "pixel_means = x_train.mean(axis=0, keepdims=True)\n",
    "#pixel_stds = x_train.std(axis=0, keepdims=True)\n",
    "\n",
    "x_train_scaled = (x_train - pixel_means) #/ pixel_stds\n",
    "x_valid_scaled = (x_valid - pixel_means) #/ pixel_stds\n",
    "x_test_scaled  = (x_test  - pixel_means) #/ pixel_stds"
   ]
  },
  {
   "cell_type": "markdown",
   "metadata": {},
   "source": [
    "split dataset into 2 parts (numbers [0...4] and [5...9])"
   ]
  },
  {
   "cell_type": "code",
   "execution_count": 8,
   "metadata": {},
   "outputs": [],
   "source": [
    "def split_mnist(x, y):\n",
    "    flags1 = (y == 0) | (y == 1) | (y == 2) | (y == 3) | (y == 4)\n",
    "    flags2 = ~flags1\n",
    "    return x[flags1], x[flags2], y[flags1], y[flags2]\n",
    "\n",
    "x_train1, x_train2, y_train1, y_train2 = split_mnist(x_train, y_train)\n",
    "x_valid1, x_valid2, y_valid1, y_valid2 = split_mnist(x_valid, y_valid)\n",
    "x_test1,  x_test2,  y_test1,  y_test2  = split_mnist(x_test,  y_test)"
   ]
  },
  {
   "cell_type": "code",
   "execution_count": 10,
   "metadata": {},
   "outputs": [
    {
     "name": "stdout",
     "output_type": "stream",
     "text": [
      "Train on 28038 samples, validate on 2558 samples\n",
      "Epoch 1/450\n",
      "28038/28038 [==============================] - 5s 186us/sample - loss: 0.0000e+00 - accuracy: 1.0000 - val_loss: 0.1026 - val_accuracy: 0.9934\n",
      "Epoch 2/450\n",
      "28038/28038 [==============================] - 4s 157us/sample - loss: 0.0000e+00 - accuracy: 1.0000 - val_loss: 0.1031 - val_accuracy: 0.9934\n",
      "Epoch 3/450\n",
      "28038/28038 [==============================] - 4s 149us/sample - loss: 0.0000e+00 - accuracy: 1.0000 - val_loss: 0.1035 - val_accuracy: 0.9934\n",
      "Epoch 4/450\n",
      "28038/28038 [==============================] - 4s 127us/sample - loss: 0.0000e+00 - accuracy: 1.0000 - val_loss: 0.1039 - val_accuracy: 0.9934\n",
      "Epoch 5/450\n",
      "28038/28038 [==============================] - 3s 121us/sample - loss: 0.0000e+00 - accuracy: 1.0000 - val_loss: 0.1043 - val_accuracy: 0.9934\n",
      "Epoch 6/450\n",
      "28038/28038 [==============================] - 4s 128us/sample - loss: 0.0000e+00 - accuracy: 1.0000 - val_loss: 0.1047 - val_accuracy: 0.9934\n",
      "Epoch 7/450\n",
      "28038/28038 [==============================] - 3s 123us/sample - loss: 0.0000e+00 - accuracy: 1.0000 - val_loss: 0.1050 - val_accuracy: 0.9934\n",
      "Epoch 8/450\n",
      "28038/28038 [==============================] - 3s 119us/sample - loss: 0.0000e+00 - accuracy: 1.0000 - val_loss: 0.1054 - val_accuracy: 0.9934\n",
      "Epoch 9/450\n",
      "28038/28038 [==============================] - 3s 120us/sample - loss: 0.0000e+00 - accuracy: 1.0000 - val_loss: 0.1057 - val_accuracy: 0.9934\n",
      "Epoch 10/450\n",
      "28038/28038 [==============================] - 3s 118us/sample - loss: 0.0000e+00 - accuracy: 1.0000 - val_loss: 0.1060 - val_accuracy: 0.9934\n",
      "Epoch 11/450\n",
      "28038/28038 [==============================] - 3s 118us/sample - loss: 0.0000e+00 - accuracy: 1.0000 - val_loss: 0.1062 - val_accuracy: 0.9934\n",
      "Epoch 12/450\n",
      "28038/28038 [==============================] - 3s 117us/sample - loss: 0.0000e+00 - accuracy: 1.0000 - val_loss: 0.1065 - val_accuracy: 0.9934\n",
      "Epoch 13/450\n",
      "28038/28038 [==============================] - 3s 117us/sample - loss: 0.0000e+00 - accuracy: 1.0000 - val_loss: 0.1068 - val_accuracy: 0.9934\n",
      "Epoch 14/450\n",
      "28038/28038 [==============================] - 3s 118us/sample - loss: 0.0000e+00 - accuracy: 1.0000 - val_loss: 0.1070 - val_accuracy: 0.9934\n",
      "Epoch 15/450\n",
      "28038/28038 [==============================] - 4s 131us/sample - loss: 0.0000e+00 - accuracy: 1.0000 - val_loss: 0.1072 - val_accuracy: 0.9934\n",
      "Epoch 16/450\n",
      "28038/28038 [==============================] - 4s 144us/sample - loss: 0.0000e+00 - accuracy: 1.0000 - val_loss: 0.1075 - val_accuracy: 0.9934\n",
      "Epoch 17/450\n",
      "28038/28038 [==============================] - 4s 133us/sample - loss: 0.0000e+00 - accuracy: 1.0000 - val_loss: 0.1077 - val_accuracy: 0.9934\n",
      "Epoch 18/450\n",
      "28038/28038 [==============================] - 4s 129us/sample - loss: 0.0000e+00 - accuracy: 1.0000 - val_loss: 0.1079 - val_accuracy: 0.9934\n",
      "Epoch 19/450\n",
      "28038/28038 [==============================] - 4s 129us/sample - loss: 0.0000e+00 - accuracy: 1.0000 - val_loss: 0.1081 - val_accuracy: 0.9934\n",
      "Epoch 20/450\n",
      "28038/28038 [==============================] - 4s 127us/sample - loss: 0.0000e+00 - accuracy: 1.0000 - val_loss: 0.1083 - val_accuracy: 0.9934\n",
      "Epoch 21/450\n",
      "28038/28038 [==============================] - 4s 130us/sample - loss: 0.0000e+00 - accuracy: 1.0000 - val_loss: 0.1084 - val_accuracy: 0.9934\n"
     ]
    }
   ],
   "source": [
    "checkpoint_cb = keras.callbacks.ModelCheckpoint(\"ch11_mnist_1_4.h5\", save_best_only=True)\n",
    "early_stopping_cb = keras.callbacks.EarlyStopping(patience=20, restore_best_weights=True)\n",
    "optimizer = keras.optimizers.Adam(lr=0.001, beta_1=0.9, beta_2=0.999)\n",
    "model.compile(loss=\"sparse_categorical_crossentropy\", \n",
    "              optimizer=optimizer, \n",
    "              metrics=[\"accuracy\"])\n",
    "history = model.fit(x_train1, y_train1, epochs=450, \n",
    "                   validation_data=(x_valid1, y_valid1),\n",
    "                   callbacks=[checkpoint_cb, early_stopping_cb])\n",
    "model_loaded = keras.models.load_model('ch11_mnist_1_4.h5')"
   ]
  },
  {
   "cell_type": "code",
   "execution_count": 15,
   "metadata": {
    "scrolled": true
   },
   "outputs": [
    {
     "name": "stdout",
     "output_type": "stream",
     "text": [
      "28038/28038 [==============================] - 2s 75us/sample - loss: 0.0000e+00 - accuracy: 1.0000\n",
      "2558/2558 [==============================] - 0s 77us/sample - loss: 0.1026 - accuracy: 0.9934\n",
      "5139/5139 [==============================] - 0s 76us/sample - loss: 0.1139 - accuracy: 0.9946\n"
     ]
    },
    {
     "data": {
      "text/plain": [
       "[0.11392050442058178, 0.9945515]"
      ]
     },
     "execution_count": 15,
     "metadata": {},
     "output_type": "execute_result"
    }
   ],
   "source": [
    "model_loaded.evaluate(x_train1, y_train1),\n",
    "model_loaded.evaluate(x_valid1, y_valid1)"
   ]
  },
  {
   "cell_type": "markdown",
   "metadata": {},
   "source": [
    "Похожего результата можно было бы добиться без предварительной нормализации данных вручную, а добавлением слоя BN после входного слоя. Если нормализацию данных не делать, то получим точность на validation наборе за 450 эпох порядка 50 ... 65%. Кроме того, имеется небольшое переобучение."
   ]
  },
  {
   "cell_type": "markdown",
   "metadata": {},
   "source": [
    "*c. Tune the hyperparameters using cross-validation and see what precision you can achieve.*"
   ]
  },
  {
   "cell_type": "code",
   "execution_count": 19,
   "metadata": {},
   "outputs": [],
   "source": [
    "keras.backend.clear_session()\n",
    "np.random.seed(42)\n",
    "tf.random.set_seed(42)"
   ]
  },
  {
   "cell_type": "code",
   "execution_count": 20,
   "metadata": {},
   "outputs": [],
   "source": [
    "def model_builder(n_hidden=5, n_neurons=100, kernel_initializer=\"he_normal\",\n",
    "                  adam_learning_rate=0.001, batch_size=32, activation=\"elu\",\n",
    "                  input_shape=[28, 28], output_neurons=5):\n",
    "    model = keras.models.Sequential()\n",
    "    model.add(keras.layers.Flatten(input_shape=input_shape))\n",
    "    for layer in range(n_hidden):\n",
    "        model.add(keras.layers.Dense(n_neurons, kernel_initializer=kernel_initializer, activation=activation))\n",
    "    model.add(keras.layers.Dense(output_neurons, activation=\"softmax\"))\n",
    "    optimizer = keras.optimizers.Adam(lr=adam_learning_rate, beta_1=0.9, beta_2=0.999)\n",
    "    model.compile(loss=\"sparse_categorical_crossentropy\", optimizer=optimizer, metrics=[\"accuracy\"])\n",
    "    return model"
   ]
  },
  {
   "cell_type": "code",
   "execution_count": 21,
   "metadata": {},
   "outputs": [],
   "source": [
    "keras_wrapper = keras.wrappers.scikit_learn.KerasClassifier(model_builder)"
   ]
  },
  {
   "cell_type": "code",
   "execution_count": 146,
   "metadata": {},
   "outputs": [
    {
     "name": "stdout",
     "output_type": "stream",
     "text": [
      "Train on 15000 samples, validate on 2558 samples\n",
      "Epoch 1/20\n",
      "15000/15000 [==============================] - 4s 267us/sample - loss: 0.1396 - accuracy: 0.9554 - val_loss: 0.0661 - val_accuracy: 0.9746\n",
      "Epoch 2/20\n",
      "15000/15000 [==============================] - 4s 258us/sample - loss: 0.0606 - accuracy: 0.9801 - val_loss: 0.0488 - val_accuracy: 0.9840\n",
      "Epoch 3/20\n",
      "15000/15000 [==============================] - 3s 185us/sample - loss: 0.0404 - accuracy: 0.9871 - val_loss: 0.0577 - val_accuracy: 0.9824\n",
      "Epoch 4/20\n",
      "15000/15000 [==============================] - 3s 206us/sample - loss: 0.0300 - accuracy: 0.9908 - val_loss: 0.0590 - val_accuracy: 0.9840\n",
      "Epoch 5/20\n",
      "15000/15000 [==============================] - 3s 208us/sample - loss: 0.0343 - accuracy: 0.9903 - val_loss: 0.0339 - val_accuracy: 0.9879\n",
      "Epoch 6/20\n",
      "15000/15000 [==============================] - 3s 212us/sample - loss: 0.0237 - accuracy: 0.9924 - val_loss: 0.0479 - val_accuracy: 0.9855\n",
      "Epoch 7/20\n",
      "15000/15000 [==============================] - 3s 206us/sample - loss: 0.0127 - accuracy: 0.9953 - val_loss: 0.0827 - val_accuracy: 0.9805\n",
      "Epoch 8/20\n",
      "15000/15000 [==============================] - 3s 197us/sample - loss: 0.0169 - accuracy: 0.9942 - val_loss: 0.0453 - val_accuracy: 0.9879\n",
      "Epoch 9/20\n",
      "15000/15000 [==============================] - 3s 206us/sample - loss: 0.0262 - accuracy: 0.9927 - val_loss: 0.0517 - val_accuracy: 0.9879\n",
      "Epoch 10/20\n",
      "15000/15000 [==============================] - 4s 252us/sample - loss: 0.0121 - accuracy: 0.9959 - val_loss: 0.0450 - val_accuracy: 0.9883\n"
     ]
    },
    {
     "data": {
      "text/plain": [
       "RandomizedSearchCV(cv=3, error_score='raise-deprecating',\n",
       "                   estimator=<tensorflow.python.keras.wrappers.scikit_learn.KerasClassifier object at 0x7fa2e7928828>,\n",
       "                   iid='warn', n_iter=200, n_jobs=6,\n",
       "                   param_distributions={'adam_learning_rate': <scipy.stats._distn_infrastructure.rv_frozen object at 0x7fa28416e0f0>,\n",
       "                                        'kernel_initializer': ['he_normal',\n",
       "                                                               'GlorotNormal',\n",
       "                                                               'lecun_n...\n",
       "       180, 181, 182, 183, 184, 185, 186, 187, 188, 189, 190, 191, 192,\n",
       "       193, 194, 195, 196, 197, 198, 199, 200, 201, 202, 203, 204, 205,\n",
       "       206, 207, 208, 209, 210, 211, 212, 213, 214, 215, 216, 217, 218,\n",
       "       219, 220, 221, 222, 223, 224, 225, 226, 227, 228, 229, 230, 231,\n",
       "       232, 233, 234, 235, 236, 237, 238, 239, 240, 241, 242, 243, 244,\n",
       "       245, 246, 247, 248, 249])},\n",
       "                   pre_dispatch='2*n_jobs', random_state=None, refit=True,\n",
       "                   return_train_score=False, scoring=None, verbose=0)"
      ]
     },
     "execution_count": 146,
     "metadata": {},
     "output_type": "execute_result"
    }
   ],
   "source": [
    "from scipy.stats import reciprocal\n",
    "from sklearn.model_selection import RandomizedSearchCV\n",
    "\n",
    "param_distribs = {\n",
    "    'n_hidden': np.arange(3, 10),\n",
    "    'n_neurons': np.arange(50, 250),\n",
    "    'kernel_initializer': [\"he_normal\", \"GlorotNormal\", \"lecun_normal\"],\n",
    "    'adam_learning_rate': reciprocal(5e-5, 1e-2)\n",
    "}\n",
    "\n",
    "early_stopping_cb = keras.callbacks.EarlyStopping(patience=5, restore_best_weights=True)\n",
    "\n",
    "rnd_search_cv = RandomizedSearchCV(keras_wrapper, param_distribs, n_iter=200, cv=3, n_jobs=6)\n",
    "rnd_search_cv.fit(x_train1[:15000], y_train1[:15000], epochs=20, callbacks=[early_stopping_cb],\n",
    "                  validation_data=(x_valid1, y_valid1))"
   ]
  },
  {
   "cell_type": "markdown",
   "metadata": {},
   "source": [
    "Вынужденно установил sklearn 0.21.2 (до этого была установлена 0.22.2.post1), т.к. не работал RandomizedSerchCV с оберткой KerasClassifier."
   ]
  },
  {
   "cell_type": "code",
   "execution_count": 176,
   "metadata": {},
   "outputs": [
    {
     "data": {
      "text/plain": [
       "{'adam_learning_rate': 0.0006800097597834962,\n",
       " 'kernel_initializer': 'he_normal',\n",
       " 'n_hidden': 4,\n",
       " 'n_neurons': 175}"
      ]
     },
     "execution_count": 176,
     "metadata": {},
     "output_type": "execute_result"
    }
   ],
   "source": [
    "rnd_search_cv.best_params_"
   ]
  },
  {
   "cell_type": "code",
   "execution_count": 177,
   "metadata": {
    "scrolled": true
   },
   "outputs": [
    {
     "name": "stdout",
     "output_type": "stream",
     "text": [
      "Train on 28038 samples, validate on 2558 samples\n",
      "Epoch 1/450\n",
      "28038/28038 [==============================] - 6s 209us/sample - loss: 0.1050 - accuracy: 0.9669 - val_loss: 0.0558 - val_accuracy: 0.9805\n",
      "Epoch 2/450\n",
      "28038/28038 [==============================] - 5s 178us/sample - loss: 0.0518 - accuracy: 0.9844 - val_loss: 0.0650 - val_accuracy: 0.9785\n",
      "Epoch 3/450\n",
      "28038/28038 [==============================] - 5s 189us/sample - loss: 0.0346 - accuracy: 0.9890 - val_loss: 0.0589 - val_accuracy: 0.9824\n",
      "Epoch 4/450\n",
      "28038/28038 [==============================] - 5s 174us/sample - loss: 0.0316 - accuracy: 0.9895 - val_loss: 0.0409 - val_accuracy: 0.9879\n",
      "Epoch 5/450\n",
      "28038/28038 [==============================] - 5s 170us/sample - loss: 0.0220 - accuracy: 0.9934 - val_loss: 0.0406 - val_accuracy: 0.9879\n",
      "Epoch 6/450\n",
      "28038/28038 [==============================] - 5s 190us/sample - loss: 0.0250 - accuracy: 0.9922 - val_loss: 0.0391 - val_accuracy: 0.9894\n",
      "Epoch 7/450\n",
      "28038/28038 [==============================] - 5s 191us/sample - loss: 0.0176 - accuracy: 0.9945 - val_loss: 0.0385 - val_accuracy: 0.9898\n",
      "Epoch 8/450\n",
      "28038/28038 [==============================] - 5s 193us/sample - loss: 0.0163 - accuracy: 0.9945 - val_loss: 0.0392 - val_accuracy: 0.9902\n",
      "Epoch 9/450\n",
      "28038/28038 [==============================] - 5s 185us/sample - loss: 0.0134 - accuracy: 0.9958 - val_loss: 0.0432 - val_accuracy: 0.9898\n",
      "Epoch 10/450\n",
      "28038/28038 [==============================] - 5s 185us/sample - loss: 0.0132 - accuracy: 0.9956 - val_loss: 0.0638 - val_accuracy: 0.9883\n",
      "Epoch 11/450\n",
      "28038/28038 [==============================] - 5s 188us/sample - loss: 0.0149 - accuracy: 0.9956 - val_loss: 0.0402 - val_accuracy: 0.9934\n",
      "Epoch 12/450\n",
      "28038/28038 [==============================] - 5s 189us/sample - loss: 0.0114 - accuracy: 0.9966 - val_loss: 0.0325 - val_accuracy: 0.9922\n",
      "Epoch 13/450\n",
      "28038/28038 [==============================] - 5s 190us/sample - loss: 0.0100 - accuracy: 0.9971 - val_loss: 0.0497 - val_accuracy: 0.9914\n",
      "Epoch 14/450\n",
      "28038/28038 [==============================] - 5s 189us/sample - loss: 0.0097 - accuracy: 0.9971 - val_loss: 0.0475 - val_accuracy: 0.9926\n",
      "Epoch 15/450\n",
      "28038/28038 [==============================] - 5s 195us/sample - loss: 0.0115 - accuracy: 0.9970 - val_loss: 0.0272 - val_accuracy: 0.9945\n",
      "Epoch 16/450\n",
      "28038/28038 [==============================] - 5s 181us/sample - loss: 0.0073 - accuracy: 0.9978 - val_loss: 0.0557 - val_accuracy: 0.9902\n",
      "Epoch 17/450\n",
      "28038/28038 [==============================] - 5s 190us/sample - loss: 0.0089 - accuracy: 0.9976 - val_loss: 0.0528 - val_accuracy: 0.9891\n",
      "Epoch 18/450\n",
      "28038/28038 [==============================] - 5s 188us/sample - loss: 0.0103 - accuracy: 0.9970 - val_loss: 0.0338 - val_accuracy: 0.9930\n",
      "Epoch 19/450\n",
      "28038/28038 [==============================] - 5s 185us/sample - loss: 0.0059 - accuracy: 0.9984 - val_loss: 0.0451 - val_accuracy: 0.9914\n",
      "Epoch 20/450\n",
      "28038/28038 [==============================] - 5s 186us/sample - loss: 0.0067 - accuracy: 0.9983 - val_loss: 0.0312 - val_accuracy: 0.9918\n",
      "Epoch 21/450\n",
      "28038/28038 [==============================] - 5s 191us/sample - loss: 1.8148e-04 - accuracy: 1.0000 - val_loss: 0.0229 - val_accuracy: 0.9961\n",
      "Epoch 22/450\n",
      "28038/28038 [==============================] - 5s 187us/sample - loss: 0.0052 - accuracy: 0.9993 - val_loss: 0.1632 - val_accuracy: 0.9805\n",
      "Epoch 23/450\n",
      "28038/28038 [==============================] - 5s 185us/sample - loss: 0.0134 - accuracy: 0.9970 - val_loss: 0.0405 - val_accuracy: 0.9926\n",
      "Epoch 24/450\n",
      "28038/28038 [==============================] - 5s 182us/sample - loss: 0.0119 - accuracy: 0.9968 - val_loss: 0.0301 - val_accuracy: 0.9914\n",
      "Epoch 25/450\n",
      "28038/28038 [==============================] - 5s 191us/sample - loss: 0.0042 - accuracy: 0.9988 - val_loss: 0.0358 - val_accuracy: 0.9945\n",
      "Epoch 26/450\n",
      "28038/28038 [==============================] - 5s 193us/sample - loss: 0.0029 - accuracy: 0.9994 - val_loss: 0.0460 - val_accuracy: 0.9937\n",
      "Epoch 27/450\n",
      "28038/28038 [==============================] - 5s 188us/sample - loss: 0.0115 - accuracy: 0.9976 - val_loss: 0.0760 - val_accuracy: 0.9883\n",
      "Epoch 28/450\n",
      "28038/28038 [==============================] - 5s 189us/sample - loss: 0.0052 - accuracy: 0.9989 - val_loss: 0.0319 - val_accuracy: 0.9910\n",
      "Epoch 29/450\n",
      "28038/28038 [==============================] - 5s 179us/sample - loss: 0.0011 - accuracy: 0.9998 - val_loss: 0.0375 - val_accuracy: 0.9930\n",
      "Epoch 30/450\n",
      "28038/28038 [==============================] - 5s 181us/sample - loss: 0.0018 - accuracy: 0.9997 - val_loss: 0.0483 - val_accuracy: 0.9930\n",
      "Epoch 31/450\n",
      "28038/28038 [==============================] - 5s 177us/sample - loss: 0.0153 - accuracy: 0.9966 - val_loss: 0.0586 - val_accuracy: 0.9906\n",
      "Epoch 32/450\n",
      "28038/28038 [==============================] - 5s 188us/sample - loss: 0.0046 - accuracy: 0.9985 - val_loss: 0.0387 - val_accuracy: 0.9926\n",
      "Epoch 33/450\n",
      "28038/28038 [==============================] - 5s 180us/sample - loss: 0.0035 - accuracy: 0.9991 - val_loss: 0.0477 - val_accuracy: 0.9941\n",
      "Epoch 34/450\n",
      "28038/28038 [==============================] - 5s 184us/sample - loss: 0.0081 - accuracy: 0.9980 - val_loss: 0.0492 - val_accuracy: 0.9898\n",
      "Epoch 35/450\n",
      "28038/28038 [==============================] - 5s 191us/sample - loss: 0.0023 - accuracy: 0.9996 - val_loss: 0.0379 - val_accuracy: 0.9930\n",
      "Epoch 36/450\n",
      "28038/28038 [==============================] - 5s 183us/sample - loss: 4.9867e-05 - accuracy: 1.0000 - val_loss: 0.0323 - val_accuracy: 0.9937\n",
      "Epoch 37/450\n",
      "28038/28038 [==============================] - 5s 182us/sample - loss: 1.1141e-05 - accuracy: 1.0000 - val_loss: 0.0330 - val_accuracy: 0.9934\n",
      "Epoch 38/450\n",
      "28038/28038 [==============================] - 5s 182us/sample - loss: 5.7789e-06 - accuracy: 1.0000 - val_loss: 0.0338 - val_accuracy: 0.9934\n",
      "Epoch 39/450\n",
      "28038/28038 [==============================] - 5s 178us/sample - loss: 3.5231e-06 - accuracy: 1.0000 - val_loss: 0.0343 - val_accuracy: 0.9934\n",
      "Epoch 40/450\n",
      "28038/28038 [==============================] - 5s 187us/sample - loss: 2.2129e-06 - accuracy: 1.0000 - val_loss: 0.0348 - val_accuracy: 0.9934\n",
      "Epoch 41/450\n",
      "28038/28038 [==============================] - 5s 188us/sample - loss: 1.4097e-06 - accuracy: 1.0000 - val_loss: 0.0352 - val_accuracy: 0.9934\n",
      "Epoch 42/450\n",
      "28038/28038 [==============================] - 5s 186us/sample - loss: 8.8480e-07 - accuracy: 1.0000 - val_loss: 0.0357 - val_accuracy: 0.9934\n",
      "Epoch 43/450\n",
      "28038/28038 [==============================] - 5s 182us/sample - loss: 5.5433e-07 - accuracy: 1.0000 - val_loss: 0.0362 - val_accuracy: 0.9937\n",
      "Epoch 44/450\n",
      "28038/28038 [==============================] - 5s 179us/sample - loss: 3.5205e-07 - accuracy: 1.0000 - val_loss: 0.0366 - val_accuracy: 0.9937\n",
      "Epoch 45/450\n",
      "28038/28038 [==============================] - 5s 186us/sample - loss: 2.2149e-07 - accuracy: 1.0000 - val_loss: 0.0372 - val_accuracy: 0.9937\n",
      "Epoch 46/450\n",
      "28038/28038 [==============================] - 5s 188us/sample - loss: 1.3911e-07 - accuracy: 1.0000 - val_loss: 0.0376 - val_accuracy: 0.9937\n",
      "Epoch 47/450\n",
      "28038/28038 [==============================] - 5s 191us/sample - loss: 8.7474e-08 - accuracy: 1.0000 - val_loss: 0.0382 - val_accuracy: 0.9941\n",
      "Epoch 48/450\n",
      "28038/28038 [==============================] - 5s 184us/sample - loss: 5.4855e-08 - accuracy: 1.0000 - val_loss: 0.0389 - val_accuracy: 0.9941\n",
      "Epoch 49/450\n",
      "28038/28038 [==============================] - 5s 189us/sample - loss: 3.4966e-08 - accuracy: 1.0000 - val_loss: 0.0394 - val_accuracy: 0.9941\n",
      "Epoch 50/450\n",
      "28038/28038 [==============================] - 5s 189us/sample - loss: 2.2445e-08 - accuracy: 1.0000 - val_loss: 0.0400 - val_accuracy: 0.9945\n",
      "Epoch 51/450\n",
      "28038/28038 [==============================] - 5s 189us/sample - loss: 1.4175e-08 - accuracy: 1.0000 - val_loss: 0.0407 - val_accuracy: 0.9941\n",
      "Epoch 52/450\n",
      "28038/28038 [==============================] - 5s 194us/sample - loss: 9.2177e-09 - accuracy: 1.0000 - val_loss: 0.0413 - val_accuracy: 0.9945\n",
      "Epoch 53/450\n",
      "28038/28038 [==============================] - 6s 208us/sample - loss: 5.9694e-09 - accuracy: 1.0000 - val_loss: 0.0419 - val_accuracy: 0.9949\n",
      "Epoch 54/450\n",
      "28038/28038 [==============================] - 5s 178us/sample - loss: 3.8733e-09 - accuracy: 1.0000 - val_loss: 0.0425 - val_accuracy: 0.9949\n",
      "Epoch 55/450\n",
      "28038/28038 [==============================] - 5s 174us/sample - loss: 2.6276e-09 - accuracy: 1.0000 - val_loss: 0.0431 - val_accuracy: 0.9945\n",
      "Epoch 56/450\n",
      "28038/28038 [==============================] - 5s 174us/sample - loss: 1.8027e-09 - accuracy: 1.0000 - val_loss: 0.0436 - val_accuracy: 0.9949\n",
      "Epoch 57/450\n",
      "28038/28038 [==============================] - 5s 175us/sample - loss: 1.2415e-09 - accuracy: 1.0000 - val_loss: 0.0441 - val_accuracy: 0.9949\n",
      "Epoch 58/450\n",
      "28038/28038 [==============================] - 5s 178us/sample - loss: 8.5459e-10 - accuracy: 1.0000 - val_loss: 0.0447 - val_accuracy: 0.9945\n",
      "Epoch 59/450\n",
      "28038/28038 [==============================] - 5s 186us/sample - loss: 6.5901e-10 - accuracy: 1.0000 - val_loss: 0.0453 - val_accuracy: 0.9945\n",
      "Epoch 60/450\n",
      "28038/28038 [==============================] - 5s 179us/sample - loss: 4.1667e-10 - accuracy: 1.0000 - val_loss: 0.0456 - val_accuracy: 0.9945\n",
      "Epoch 61/450\n",
      "28038/28038 [==============================] - 5s 187us/sample - loss: 2.8061e-10 - accuracy: 1.0000 - val_loss: 0.0459 - val_accuracy: 0.9945\n",
      "Epoch 62/450\n",
      "28038/28038 [==============================] - 5s 182us/sample - loss: 1.9133e-10 - accuracy: 1.0000 - val_loss: 0.0460 - val_accuracy: 0.9949\n",
      "Epoch 63/450\n",
      "28038/28038 [==============================] - 5s 182us/sample - loss: 1.5306e-10 - accuracy: 1.0000 - val_loss: 0.0462 - val_accuracy: 0.9949\n",
      "Epoch 64/450\n",
      "28038/28038 [==============================] - 5s 184us/sample - loss: 1.2330e-10 - accuracy: 1.0000 - val_loss: 0.0464 - val_accuracy: 0.9949\n",
      "Epoch 65/450\n",
      "28038/28038 [==============================] - 5s 192us/sample - loss: 1.0204e-10 - accuracy: 1.0000 - val_loss: 0.0465 - val_accuracy: 0.9949\n",
      "Epoch 66/450\n",
      "28038/28038 [==============================] - 5s 176us/sample - loss: 5.9524e-11 - accuracy: 1.0000 - val_loss: 0.0466 - val_accuracy: 0.9949\n",
      "Epoch 67/450\n",
      "28038/28038 [==============================] - 5s 178us/sample - loss: 7.2279e-11 - accuracy: 1.0000 - val_loss: 0.0467 - val_accuracy: 0.9949\n",
      "Epoch 68/450\n",
      "28038/28038 [==============================] - 5s 171us/sample - loss: 2.9762e-11 - accuracy: 1.0000 - val_loss: 0.0468 - val_accuracy: 0.9949\n",
      "Epoch 69/450\n",
      "28038/28038 [==============================] - 5s 174us/sample - loss: 2.9762e-11 - accuracy: 1.0000 - val_loss: 0.0468 - val_accuracy: 0.9949\n",
      "Epoch 70/450\n",
      "28038/28038 [==============================] - 5s 177us/sample - loss: 2.5510e-11 - accuracy: 1.0000 - val_loss: 0.0468 - val_accuracy: 0.9949\n",
      "Epoch 71/450\n",
      "28038/28038 [==============================] - 5s 182us/sample - loss: 2.1259e-11 - accuracy: 1.0000 - val_loss: 0.0468 - val_accuracy: 0.9949\n"
     ]
    }
   ],
   "source": [
    "best_model = model_builder(n_hidden=rnd_search_cv.best_params_['n_hidden'],\n",
    "                           n_neurons=rnd_search_cv.best_params_['n_neurons'],\n",
    "                           adam_learning_rate=rnd_search_cv.best_params_['adam_learning_rate'],\n",
    "                           kernel_initializer=rnd_search_cv.best_params_['kernel_initializer'])\n",
    "\n",
    "tensorboard = keras.callbacks.TensorBoard(get_run_logdir(\"_best_model\"))\n",
    "checkpoint_cb = keras.callbacks.ModelCheckpoint(\"ch11_mnist_1_4_best2.h5\", save_best_only=True)\n",
    "early_stopping_cb = keras.callbacks.EarlyStopping(patience=50, restore_best_weights=True)\n",
    "history = best_model.fit(x_train1, y_train1, epochs=450, \n",
    "                   validation_data=(x_valid1, y_valid1),\n",
    "                   callbacks=[checkpoint_cb, early_stopping_cb, tensorboard])\n",
    "best_model_loaded = keras.models.load_model('ch11_mnist_1_4_best2.h5')"
   ]
  },
  {
   "cell_type": "code",
   "execution_count": 178,
   "metadata": {},
   "outputs": [
    {
     "name": "stdout",
     "output_type": "stream",
     "text": [
      "Model: \"sequential_1\"\n",
      "_________________________________________________________________\n",
      "Layer (type)                 Output Shape              Param #   \n",
      "=================================================================\n",
      "flatten_1 (Flatten)          (None, 784)               0         \n",
      "_________________________________________________________________\n",
      "dense_5 (Dense)              (None, 175)               137375    \n",
      "_________________________________________________________________\n",
      "dense_6 (Dense)              (None, 175)               30800     \n",
      "_________________________________________________________________\n",
      "dense_7 (Dense)              (None, 175)               30800     \n",
      "_________________________________________________________________\n",
      "dense_8 (Dense)              (None, 175)               30800     \n",
      "_________________________________________________________________\n",
      "dense_9 (Dense)              (None, 5)                 880       \n",
      "=================================================================\n",
      "Total params: 230,655\n",
      "Trainable params: 230,655\n",
      "Non-trainable params: 0\n",
      "_________________________________________________________________\n"
     ]
    }
   ],
   "source": [
    "best_model.summary()"
   ]
  },
  {
   "cell_type": "code",
   "execution_count": 179,
   "metadata": {},
   "outputs": [
    {
     "name": "stdout",
     "output_type": "stream",
     "text": [
      "28038/28038 [==============================] - 2s 88us/sample - loss: 6.7103e-04 - accuracy: 0.9998\n",
      "2558/2558 [==============================] - 0s 75us/sample - loss: 0.0229 - accuracy: 0.9961\n"
     ]
    },
    {
     "data": {
      "text/plain": [
       "[0.02286479673161387, 0.9960907]"
      ]
     },
     "execution_count": 179,
     "metadata": {},
     "output_type": "execute_result"
    }
   ],
   "source": [
    "best_model_loaded.evaluate(x_train1, y_train1),\n",
    "best_model_loaded.evaluate(x_valid1, y_valid1)"
   ]
  },
  {
   "cell_type": "code",
   "execution_count": 158,
   "metadata": {},
   "outputs": [
    {
     "name": "stdout",
     "output_type": "stream",
     "text": [
      "28038/28038 [==============================] - 2s 81us/sample - loss: 0.0000e+00 - accuracy: 1.0000\n",
      "2558/2558 [==============================] - 0s 81us/sample - loss: 0.1026 - accuracy: 0.9934\n"
     ]
    },
    {
     "data": {
      "text/plain": [
       "[0.10263623228715642, 0.9933542]"
      ]
     },
     "execution_count": 158,
     "metadata": {},
     "output_type": "execute_result"
    }
   ],
   "source": [
    "model_loaded = keras.models.load_model('ch11_mnist_1_4.h5')\n",
    "model_loaded.evaluate(x_train1, y_train1),\n",
    "model_loaded.evaluate(x_valid1, y_valid1)"
   ]
  },
  {
   "cell_type": "markdown",
   "metadata": {},
   "source": [
    "Немного удалось точность увеличить и снизить ошибку на обучающем наборе\n",
    "\n",
    "*d. Now try adding Batch Normalization and compare the learning curves: is it converging faster than before? Does it produce a better model?*"
   ]
  },
  {
   "cell_type": "code",
   "execution_count": 160,
   "metadata": {},
   "outputs": [],
   "source": [
    "keras.backend.clear_session()\n",
    "np.random.seed(42)\n",
    "tf.random.set_seed(42)\n",
    "\n",
    "model_8d = keras.models.Sequential([\n",
    "    keras.layers.Flatten(input_shape=[28, 28]),\n",
    "    keras.layers.BatchNormalization(),\n",
    "    keras.layers.Dense(175, kernel_initializer=\"he_normal\", activation=\"elu\"),\n",
    "    keras.layers.BatchNormalization(),\n",
    "    keras.layers.Dense(175, kernel_initializer=\"he_normal\", activation=\"elu\"),\n",
    "    keras.layers.BatchNormalization(),\n",
    "    keras.layers.Dense(175, kernel_initializer=\"he_normal\", activation=\"elu\"),\n",
    "    keras.layers.BatchNormalization(),\n",
    "    keras.layers.Dense(175, kernel_initializer=\"he_normal\", activation=\"elu\"),\n",
    "    keras.layers.BatchNormalization(),\n",
    "    keras.layers.Dense(5, activation=\"softmax\")\n",
    "])\n",
    "\n",
    "optimizer = keras.optimizers.Adam(lr=0.00068)\n",
    "model_8d.compile(loss=\"sparse_categorical_crossentropy\", optimizer=optimizer, metrics=[\"accuracy\"])"
   ]
  },
  {
   "cell_type": "code",
   "execution_count": 175,
   "metadata": {},
   "outputs": [
    {
     "name": "stdout",
     "output_type": "stream",
     "text": [
      "Train on 28038 samples, validate on 2558 samples\n",
      "Epoch 1/450\n",
      "28038/28038 [==============================] - 10s 346us/sample - loss: 0.0032 - accuracy: 0.9991 - val_loss: 0.0308 - val_accuracy: 0.9934\n",
      "Epoch 2/450\n",
      "28038/28038 [==============================] - 8s 294us/sample - loss: 0.0034 - accuracy: 0.9988 - val_loss: 0.0375 - val_accuracy: 0.9945\n",
      "Epoch 3/450\n",
      "28038/28038 [==============================] - 8s 280us/sample - loss: 0.0027 - accuracy: 0.9992 - val_loss: 0.0404 - val_accuracy: 0.9941\n",
      "Epoch 4/450\n",
      "28038/28038 [==============================] - 9s 330us/sample - loss: 0.0033 - accuracy: 0.9990 - val_loss: 0.0358 - val_accuracy: 0.9937\n",
      "Epoch 5/450\n",
      "28038/28038 [==============================] - 9s 335us/sample - loss: 0.0035 - accuracy: 0.9990 - val_loss: 0.0365 - val_accuracy: 0.9937\n",
      "Epoch 6/450\n",
      "28038/28038 [==============================] - 8s 295us/sample - loss: 0.0031 - accuracy: 0.9991 - val_loss: 0.0402 - val_accuracy: 0.9937\n",
      "Epoch 7/450\n",
      "28038/28038 [==============================] - 8s 299us/sample - loss: 0.0042 - accuracy: 0.9984 - val_loss: 0.0357 - val_accuracy: 0.9937\n",
      "Epoch 8/450\n",
      "28038/28038 [==============================] - 8s 287us/sample - loss: 0.0024 - accuracy: 0.9991 - val_loss: 0.0275 - val_accuracy: 0.9953\n",
      "Epoch 9/450\n",
      "28038/28038 [==============================] - 8s 292us/sample - loss: 0.0032 - accuracy: 0.9993 - val_loss: 0.0386 - val_accuracy: 0.9922\n",
      "Epoch 10/450\n",
      "28038/28038 [==============================] - 8s 302us/sample - loss: 0.0040 - accuracy: 0.9988 - val_loss: 0.0423 - val_accuracy: 0.9930\n",
      "Epoch 11/450\n",
      "28038/28038 [==============================] - 10s 340us/sample - loss: 0.0043 - accuracy: 0.9987 - val_loss: 0.0322 - val_accuracy: 0.9953\n",
      "Epoch 12/450\n",
      "28038/28038 [==============================] - 10s 342us/sample - loss: 0.0028 - accuracy: 0.9993 - val_loss: 0.0337 - val_accuracy: 0.9949\n",
      "Epoch 13/450\n",
      "28038/28038 [==============================] - 8s 284us/sample - loss: 0.0019 - accuracy: 0.9994 - val_loss: 0.0316 - val_accuracy: 0.9957\n",
      "Epoch 14/450\n",
      "28038/28038 [==============================] - 8s 278us/sample - loss: 0.0022 - accuracy: 0.9996 - val_loss: 0.0294 - val_accuracy: 0.9941\n",
      "Epoch 15/450\n",
      "28038/28038 [==============================] - 8s 293us/sample - loss: 0.0026 - accuracy: 0.9993 - val_loss: 0.0440 - val_accuracy: 0.9934\n",
      "Epoch 16/450\n",
      "28038/28038 [==============================] - 8s 293us/sample - loss: 0.0040 - accuracy: 0.9988 - val_loss: 0.0416 - val_accuracy: 0.9937\n",
      "Epoch 17/450\n",
      "28038/28038 [==============================] - 8s 300us/sample - loss: 0.0027 - accuracy: 0.9993 - val_loss: 0.0323 - val_accuracy: 0.9957\n",
      "Epoch 18/450\n",
      "28038/28038 [==============================] - 11s 380us/sample - loss: 0.0034 - accuracy: 0.9992 - val_loss: 0.0372 - val_accuracy: 0.9949\n",
      "Epoch 19/450\n",
      "28038/28038 [==============================] - 9s 322us/sample - loss: 0.0019 - accuracy: 0.9994 - val_loss: 0.0444 - val_accuracy: 0.9930\n",
      "Epoch 20/450\n",
      "28038/28038 [==============================] - 8s 280us/sample - loss: 0.0021 - accuracy: 0.9994 - val_loss: 0.0399 - val_accuracy: 0.9934\n",
      "Epoch 21/450\n",
      "28038/28038 [==============================] - 8s 298us/sample - loss: 0.0046 - accuracy: 0.9986 - val_loss: 0.0414 - val_accuracy: 0.9937\n",
      "Epoch 22/450\n",
      "28038/28038 [==============================] - 10s 358us/sample - loss: 0.0020 - accuracy: 0.9995 - val_loss: 0.0379 - val_accuracy: 0.9949\n",
      "Epoch 23/450\n",
      "28038/28038 [==============================] - 9s 317us/sample - loss: 0.0018 - accuracy: 0.9996 - val_loss: 0.0467 - val_accuracy: 0.9934\n",
      "Epoch 24/450\n",
      "28038/28038 [==============================] - 10s 355us/sample - loss: 0.0015 - accuracy: 0.9995 - val_loss: 0.0452 - val_accuracy: 0.9918\n",
      "Epoch 25/450\n",
      "28038/28038 [==============================] - 8s 299us/sample - loss: 0.0027 - accuracy: 0.9992 - val_loss: 0.0372 - val_accuracy: 0.9949\n",
      "Epoch 26/450\n",
      "28038/28038 [==============================] - 8s 288us/sample - loss: 0.0016 - accuracy: 0.9994 - val_loss: 0.0367 - val_accuracy: 0.9953\n",
      "Epoch 27/450\n",
      "28038/28038 [==============================] - 8s 293us/sample - loss: 0.0014 - accuracy: 0.9995 - val_loss: 0.0369 - val_accuracy: 0.9949\n",
      "Epoch 28/450\n",
      "28038/28038 [==============================] - 8s 280us/sample - loss: 0.0027 - accuracy: 0.9995 - val_loss: 0.0451 - val_accuracy: 0.9930\n",
      "Epoch 29/450\n",
      "28038/28038 [==============================] - 8s 291us/sample - loss: 0.0033 - accuracy: 0.9993 - val_loss: 0.0483 - val_accuracy: 0.9918\n",
      "Epoch 30/450\n",
      "28038/28038 [==============================] - 9s 312us/sample - loss: 0.0027 - accuracy: 0.9991 - val_loss: 0.0445 - val_accuracy: 0.9941\n",
      "Epoch 31/450\n",
      "28038/28038 [==============================] - 7s 267us/sample - loss: 0.0028 - accuracy: 0.9993 - val_loss: 0.0321 - val_accuracy: 0.9949\n",
      "Epoch 32/450\n",
      "28038/28038 [==============================] - 7s 266us/sample - loss: 0.0018 - accuracy: 0.9995 - val_loss: 0.0402 - val_accuracy: 0.9949\n",
      "Epoch 33/450\n",
      "28038/28038 [==============================] - 8s 273us/sample - loss: 0.0017 - accuracy: 0.9994 - val_loss: 0.0301 - val_accuracy: 0.9965\n",
      "Epoch 34/450\n",
      "28038/28038 [==============================] - 8s 274us/sample - loss: 0.0020 - accuracy: 0.9993 - val_loss: 0.0352 - val_accuracy: 0.9957\n",
      "Epoch 35/450\n",
      "28038/28038 [==============================] - 9s 314us/sample - loss: 0.0012 - accuracy: 0.9998 - val_loss: 0.0329 - val_accuracy: 0.9953\n",
      "Epoch 36/450\n",
      "28038/28038 [==============================] - 8s 294us/sample - loss: 0.0020 - accuracy: 0.9993 - val_loss: 0.0324 - val_accuracy: 0.9953\n",
      "Epoch 37/450\n",
      "28038/28038 [==============================] - 8s 285us/sample - loss: 0.0030 - accuracy: 0.9989 - val_loss: 0.0572 - val_accuracy: 0.9926\n",
      "Epoch 38/450\n",
      "28038/28038 [==============================] - 9s 324us/sample - loss: 0.0021 - accuracy: 0.9993 - val_loss: 0.0418 - val_accuracy: 0.9941\n",
      "Epoch 39/450\n",
      "28038/28038 [==============================] - 8s 283us/sample - loss: 0.0029 - accuracy: 0.9990 - val_loss: 0.0404 - val_accuracy: 0.9945\n",
      "Epoch 40/450\n",
      "28038/28038 [==============================] - 7s 265us/sample - loss: 0.0017 - accuracy: 0.9994 - val_loss: 0.0341 - val_accuracy: 0.9953\n",
      "Epoch 41/450\n",
      "28038/28038 [==============================] - 7s 246us/sample - loss: 0.0032 - accuracy: 0.9992 - val_loss: 0.0434 - val_accuracy: 0.9934\n",
      "Epoch 42/450\n",
      "28038/28038 [==============================] - 7s 244us/sample - loss: 0.0025 - accuracy: 0.9994 - val_loss: 0.0392 - val_accuracy: 0.9949\n",
      "Epoch 43/450\n",
      "28038/28038 [==============================] - 7s 247us/sample - loss: 0.0016 - accuracy: 0.9995 - val_loss: 0.0377 - val_accuracy: 0.9945\n",
      "Epoch 44/450\n",
      "28038/28038 [==============================] - 7s 244us/sample - loss: 0.0018 - accuracy: 0.9993 - val_loss: 0.0374 - val_accuracy: 0.9941\n",
      "Epoch 45/450\n",
      "28038/28038 [==============================] - 7s 247us/sample - loss: 0.0027 - accuracy: 0.9994 - val_loss: 0.0471 - val_accuracy: 0.9934\n",
      "Epoch 46/450\n",
      "28038/28038 [==============================] - 7s 241us/sample - loss: 0.0017 - accuracy: 0.9994 - val_loss: 0.0333 - val_accuracy: 0.9934\n",
      "Epoch 47/450\n",
      "28038/28038 [==============================] - 7s 242us/sample - loss: 0.0020 - accuracy: 0.9995 - val_loss: 0.0413 - val_accuracy: 0.9937\n",
      "Epoch 48/450\n",
      "28038/28038 [==============================] - 7s 244us/sample - loss: 0.0011 - accuracy: 0.9997 - val_loss: 0.0324 - val_accuracy: 0.9937\n",
      "Epoch 49/450\n",
      "28038/28038 [==============================] - 7s 243us/sample - loss: 0.0021 - accuracy: 0.9995 - val_loss: 0.0284 - val_accuracy: 0.9949\n",
      "Epoch 50/450\n",
      "28038/28038 [==============================] - 7s 242us/sample - loss: 9.6973e-04 - accuracy: 0.9997 - val_loss: 0.0306 - val_accuracy: 0.9945\n",
      "Epoch 51/450\n",
      "28038/28038 [==============================] - 7s 238us/sample - loss: 0.0011 - accuracy: 0.9996 - val_loss: 0.0293 - val_accuracy: 0.9953\n",
      "Epoch 52/450\n",
      "28038/28038 [==============================] - 7s 240us/sample - loss: 0.0014 - accuracy: 0.9996 - val_loss: 0.0288 - val_accuracy: 0.9949\n",
      "Epoch 53/450\n",
      "28038/28038 [==============================] - 7s 244us/sample - loss: 0.0029 - accuracy: 0.9993 - val_loss: 0.0367 - val_accuracy: 0.9937\n",
      "Epoch 54/450\n",
      "28038/28038 [==============================] - 7s 248us/sample - loss: 0.0035 - accuracy: 0.9991 - val_loss: 0.0277 - val_accuracy: 0.9945\n",
      "Epoch 55/450\n",
      "28038/28038 [==============================] - 7s 248us/sample - loss: 0.0015 - accuracy: 0.9994 - val_loss: 0.0307 - val_accuracy: 0.9953\n",
      "Epoch 56/450\n",
      "28038/28038 [==============================] - 7s 252us/sample - loss: 0.0019 - accuracy: 0.9993 - val_loss: 0.0445 - val_accuracy: 0.9937\n",
      "Epoch 57/450\n",
      "28038/28038 [==============================] - 7s 239us/sample - loss: 0.0014 - accuracy: 0.9995 - val_loss: 0.0460 - val_accuracy: 0.9930\n",
      "Epoch 58/450\n",
      "28038/28038 [==============================] - 7s 245us/sample - loss: 0.0022 - accuracy: 0.9993 - val_loss: 0.0437 - val_accuracy: 0.9922\n"
     ]
    }
   ],
   "source": [
    "tensorboard = keras.callbacks.TensorBoard(get_run_logdir(\"_model_8d\"))\n",
    "checkpoint_cb = keras.callbacks.ModelCheckpoint(\"ch11_mnist_model_8d.h5\", save_best_only=True)\n",
    "early_stopping_cb = keras.callbacks.EarlyStopping(patience=50, restore_best_weights=True)\n",
    "history = model_8d.fit(x_train1, y_train1, epochs=450,\n",
    "                       validation_data=(x_valid1, y_valid1),\n",
    "                       callbacks=[checkpoint_cb, early_stopping_cb, tensorboard])\n",
    "model_8d_loaded = keras.models.load_model('ch11_mnist_model_8d.h5')"
   ]
  },
  {
   "cell_type": "code",
   "execution_count": 163,
   "metadata": {},
   "outputs": [
    {
     "name": "stdout",
     "output_type": "stream",
     "text": [
      "28038/28038 [==============================] - 3s 119us/sample - loss: 0.0073 - accuracy: 0.9990\n",
      "2558/2558 [==============================] - 0s 94us/sample - loss: 0.0273 - accuracy: 0.9941\n"
     ]
    },
    {
     "data": {
      "text/plain": [
       "[0.02727437604251796, 0.99413604]"
      ]
     },
     "execution_count": 163,
     "metadata": {},
     "output_type": "execute_result"
    }
   ],
   "source": [
    "model_8d_loaded.evaluate(x_train1, y_train1),\n",
    "model_8d_loaded.evaluate(x_valid1, y_valid1)"
   ]
  },
  {
   "cell_type": "markdown",
   "metadata": {},
   "source": [
    "Следует отметить, что поиск параметров методом кросс валидации осуществлялся на прототипе модели без использования BN. BN показывает себя лучше на DNN (с большим кол-вом слоев). Кроме того, следует отметить, что входные данных подверглись предварительной нормализации. Если бы это не было сделано, то BN очевидно привел бы к существенно более быстрому схождению (модель без BN и без предварительной нормализации очень бы медленно сходилась ). Learning curves показывают что BN модель сходится быстрее, но к лучшей модели это не привело, т.к. (повторюсь) слишком мало слоев.\n",
    "\n",
    "\n",
    "\n",
    "*e. Is the model overfitting the training set? Try adding dropout to every layer and try again. Does it help?*"
   ]
  },
  {
   "cell_type": "code",
   "execution_count": 180,
   "metadata": {},
   "outputs": [
    {
     "name": "stdout",
     "output_type": "stream",
     "text": [
      "Train on 28038 samples, validate on 2558 samples\n",
      "Epoch 1/450\n",
      "28038/28038 [==============================] - 13s 453us/sample - loss: 0.2247 - accuracy: 0.9277 - val_loss: 0.0651 - val_accuracy: 0.9801\n",
      "Epoch 2/450\n",
      "28038/28038 [==============================] - 10s 345us/sample - loss: 0.1166 - accuracy: 0.9639 - val_loss: 0.0501 - val_accuracy: 0.9848\n",
      "Epoch 3/450\n",
      "28038/28038 [==============================] - 11s 390us/sample - loss: 0.0956 - accuracy: 0.9703 - val_loss: 0.0462 - val_accuracy: 0.9840\n",
      "Epoch 4/450\n",
      "28038/28038 [==============================] - 10s 356us/sample - loss: 0.0801 - accuracy: 0.9750 - val_loss: 0.0380 - val_accuracy: 0.9875\n",
      "Epoch 5/450\n",
      "28038/28038 [==============================] - 10s 352us/sample - loss: 0.0687 - accuracy: 0.9789 - val_loss: 0.0367 - val_accuracy: 0.9871\n",
      "Epoch 6/450\n",
      "28038/28038 [==============================] - 11s 378us/sample - loss: 0.0655 - accuracy: 0.9794 - val_loss: 0.0392 - val_accuracy: 0.9875\n",
      "Epoch 7/450\n",
      "28038/28038 [==============================] - 11s 389us/sample - loss: 0.0577 - accuracy: 0.9820 - val_loss: 0.0349 - val_accuracy: 0.9859\n",
      "Epoch 8/450\n",
      "28038/28038 [==============================] - 11s 394us/sample - loss: 0.0481 - accuracy: 0.9849 - val_loss: 0.0344 - val_accuracy: 0.9883\n",
      "Epoch 9/450\n",
      "28038/28038 [==============================] - 11s 390us/sample - loss: 0.0523 - accuracy: 0.9835 - val_loss: 0.0331 - val_accuracy: 0.9887\n",
      "Epoch 10/450\n",
      "28038/28038 [==============================] - 11s 388us/sample - loss: 0.0446 - accuracy: 0.9854 - val_loss: 0.0283 - val_accuracy: 0.9902\n",
      "Epoch 11/450\n",
      "28038/28038 [==============================] - 11s 383us/sample - loss: 0.0450 - accuracy: 0.9855 - val_loss: 0.0343 - val_accuracy: 0.9891\n",
      "Epoch 12/450\n",
      "28038/28038 [==============================] - 11s 393us/sample - loss: 0.0395 - accuracy: 0.9888 - val_loss: 0.0318 - val_accuracy: 0.9898\n",
      "Epoch 13/450\n",
      "28038/28038 [==============================] - 11s 394us/sample - loss: 0.0397 - accuracy: 0.9877 - val_loss: 0.0296 - val_accuracy: 0.9918\n",
      "Epoch 14/450\n",
      "28038/28038 [==============================] - 11s 396us/sample - loss: 0.0343 - accuracy: 0.9888 - val_loss: 0.0291 - val_accuracy: 0.9902\n",
      "Epoch 15/450\n",
      "28038/28038 [==============================] - 8s 303us/sample - loss: 0.0345 - accuracy: 0.9890 - val_loss: 0.0291 - val_accuracy: 0.9922\n",
      "Epoch 16/450\n",
      "28038/28038 [==============================] - 9s 318us/sample - loss: 0.0314 - accuracy: 0.9898 - val_loss: 0.0256 - val_accuracy: 0.9926\n",
      "Epoch 17/450\n",
      "28038/28038 [==============================] - 9s 318us/sample - loss: 0.0321 - accuracy: 0.9900 - val_loss: 0.0267 - val_accuracy: 0.9930\n",
      "Epoch 18/450\n",
      "28038/28038 [==============================] - 9s 318us/sample - loss: 0.0286 - accuracy: 0.9906 - val_loss: 0.0225 - val_accuracy: 0.9941\n",
      "Epoch 19/450\n",
      "28038/28038 [==============================] - 9s 339us/sample - loss: 0.0266 - accuracy: 0.9911 - val_loss: 0.0249 - val_accuracy: 0.9945\n",
      "Epoch 20/450\n",
      "28038/28038 [==============================] - 10s 371us/sample - loss: 0.0303 - accuracy: 0.9908 - val_loss: 0.0282 - val_accuracy: 0.9914\n",
      "Epoch 21/450\n",
      "28038/28038 [==============================] - 10s 373us/sample - loss: 0.0292 - accuracy: 0.9909 - val_loss: 0.0217 - val_accuracy: 0.9934\n",
      "Epoch 22/450\n",
      "28038/28038 [==============================] - 11s 376us/sample - loss: 0.0238 - accuracy: 0.9926 - val_loss: 0.0247 - val_accuracy: 0.9934\n",
      "Epoch 23/450\n",
      "28038/28038 [==============================] - 9s 330us/sample - loss: 0.0242 - accuracy: 0.9923 - val_loss: 0.0263 - val_accuracy: 0.9930\n",
      "Epoch 24/450\n",
      "28038/28038 [==============================] - 9s 328us/sample - loss: 0.0254 - accuracy: 0.9917 - val_loss: 0.0213 - val_accuracy: 0.9941\n",
      "Epoch 25/450\n",
      "28038/28038 [==============================] - 9s 309us/sample - loss: 0.0220 - accuracy: 0.9933 - val_loss: 0.0260 - val_accuracy: 0.9945\n",
      "Epoch 26/450\n",
      "28038/28038 [==============================] - 9s 310us/sample - loss: 0.0251 - accuracy: 0.9921 - val_loss: 0.0183 - val_accuracy: 0.9957\n",
      "Epoch 27/450\n",
      "28038/28038 [==============================] - 9s 316us/sample - loss: 0.0226 - accuracy: 0.9935 - val_loss: 0.0208 - val_accuracy: 0.9945\n",
      "Epoch 28/450\n",
      "28038/28038 [==============================] - 11s 384us/sample - loss: 0.0200 - accuracy: 0.9938 - val_loss: 0.0171 - val_accuracy: 0.9957\n",
      "Epoch 29/450\n",
      "28038/28038 [==============================] - 10s 362us/sample - loss: 0.0210 - accuracy: 0.9935 - val_loss: 0.0268 - val_accuracy: 0.9945\n",
      "Epoch 30/450\n",
      "28038/28038 [==============================] - 11s 379us/sample - loss: 0.0225 - accuracy: 0.9932 - val_loss: 0.0243 - val_accuracy: 0.9934\n",
      "Epoch 31/450\n",
      "28038/28038 [==============================] - 11s 378us/sample - loss: 0.0195 - accuracy: 0.9942 - val_loss: 0.0255 - val_accuracy: 0.9922\n",
      "Epoch 32/450\n",
      "28038/28038 [==============================] - 10s 346us/sample - loss: 0.0177 - accuracy: 0.9944 - val_loss: 0.0265 - val_accuracy: 0.9922\n",
      "Epoch 33/450\n",
      "28038/28038 [==============================] - 11s 383us/sample - loss: 0.0204 - accuracy: 0.9935 - val_loss: 0.0198 - val_accuracy: 0.9945\n",
      "Epoch 34/450\n",
      "28038/28038 [==============================] - 10s 371us/sample - loss: 0.0164 - accuracy: 0.9946 - val_loss: 0.0207 - val_accuracy: 0.9945\n",
      "Epoch 35/450\n",
      "28038/28038 [==============================] - 10s 363us/sample - loss: 0.0198 - accuracy: 0.9936 - val_loss: 0.0243 - val_accuracy: 0.9937\n",
      "Epoch 36/450\n",
      "28038/28038 [==============================] - 10s 357us/sample - loss: 0.0150 - accuracy: 0.9949 - val_loss: 0.0284 - val_accuracy: 0.9934\n",
      "Epoch 37/450\n",
      "28038/28038 [==============================] - 10s 359us/sample - loss: 0.0177 - accuracy: 0.9945 - val_loss: 0.0264 - val_accuracy: 0.9934\n",
      "Epoch 38/450\n",
      "28038/28038 [==============================] - 10s 355us/sample - loss: 0.0169 - accuracy: 0.9946 - val_loss: 0.0214 - val_accuracy: 0.9945\n",
      "Epoch 39/450\n",
      "28038/28038 [==============================] - 11s 377us/sample - loss: 0.0168 - accuracy: 0.9950 - val_loss: 0.0252 - val_accuracy: 0.9941\n",
      "Epoch 40/450\n",
      "28038/28038 [==============================] - 9s 330us/sample - loss: 0.0162 - accuracy: 0.9951 - val_loss: 0.0160 - val_accuracy: 0.9965\n",
      "Epoch 41/450\n",
      "28038/28038 [==============================] - 9s 321us/sample - loss: 0.0156 - accuracy: 0.9947 - val_loss: 0.0215 - val_accuracy: 0.9937\n",
      "Epoch 42/450\n",
      "28038/28038 [==============================] - 9s 308us/sample - loss: 0.0177 - accuracy: 0.9945 - val_loss: 0.0212 - val_accuracy: 0.9926\n",
      "Epoch 43/450\n",
      "28038/28038 [==============================] - 9s 315us/sample - loss: 0.0144 - accuracy: 0.9953 - val_loss: 0.0222 - val_accuracy: 0.9941\n",
      "Epoch 44/450\n",
      "28038/28038 [==============================] - 9s 308us/sample - loss: 0.0159 - accuracy: 0.9953 - val_loss: 0.0256 - val_accuracy: 0.9949\n",
      "Epoch 45/450\n",
      "28038/28038 [==============================] - 8s 297us/sample - loss: 0.0138 - accuracy: 0.9957 - val_loss: 0.0180 - val_accuracy: 0.9941\n",
      "Epoch 46/450\n",
      "28038/28038 [==============================] - 9s 309us/sample - loss: 0.0143 - accuracy: 0.9953 - val_loss: 0.0198 - val_accuracy: 0.9937\n",
      "Epoch 47/450\n",
      "28038/28038 [==============================] - 9s 304us/sample - loss: 0.0152 - accuracy: 0.9950 - val_loss: 0.0210 - val_accuracy: 0.9949\n",
      "Epoch 48/450\n",
      "28038/28038 [==============================] - 8s 296us/sample - loss: 0.0152 - accuracy: 0.9953 - val_loss: 0.0152 - val_accuracy: 0.9953\n",
      "Epoch 49/450\n",
      "28038/28038 [==============================] - 9s 310us/sample - loss: 0.0145 - accuracy: 0.9950 - val_loss: 0.0218 - val_accuracy: 0.9957\n",
      "Epoch 50/450\n",
      "28038/28038 [==============================] - 9s 331us/sample - loss: 0.0145 - accuracy: 0.9959 - val_loss: 0.0237 - val_accuracy: 0.9941\n",
      "Epoch 51/450\n",
      "28038/28038 [==============================] - 9s 321us/sample - loss: 0.0123 - accuracy: 0.9957 - val_loss: 0.0160 - val_accuracy: 0.9949\n",
      "Epoch 52/450\n",
      "28038/28038 [==============================] - 9s 323us/sample - loss: 0.0111 - accuracy: 0.9964 - val_loss: 0.0220 - val_accuracy: 0.9949\n",
      "Epoch 53/450\n",
      "28038/28038 [==============================] - 9s 334us/sample - loss: 0.0122 - accuracy: 0.9962 - val_loss: 0.0228 - val_accuracy: 0.9953\n",
      "Epoch 54/450\n",
      "28038/28038 [==============================] - 8s 303us/sample - loss: 0.0140 - accuracy: 0.9957 - val_loss: 0.0181 - val_accuracy: 0.9961\n",
      "Epoch 55/450\n",
      "28038/28038 [==============================] - 9s 306us/sample - loss: 0.0132 - accuracy: 0.9954 - val_loss: 0.0229 - val_accuracy: 0.9953\n",
      "Epoch 56/450\n",
      "28038/28038 [==============================] - 9s 312us/sample - loss: 0.0150 - accuracy: 0.9952 - val_loss: 0.0188 - val_accuracy: 0.9953\n",
      "Epoch 57/450\n",
      "28038/28038 [==============================] - 9s 314us/sample - loss: 0.0123 - accuracy: 0.9963 - val_loss: 0.0189 - val_accuracy: 0.9957\n",
      "Epoch 58/450\n",
      "28038/28038 [==============================] - 9s 328us/sample - loss: 0.0134 - accuracy: 0.9958 - val_loss: 0.0255 - val_accuracy: 0.9945\n",
      "Epoch 59/450\n",
      "28038/28038 [==============================] - 9s 315us/sample - loss: 0.0103 - accuracy: 0.9969 - val_loss: 0.0195 - val_accuracy: 0.9945\n",
      "Epoch 60/450\n",
      "28038/28038 [==============================] - 9s 323us/sample - loss: 0.0115 - accuracy: 0.9964 - val_loss: 0.0248 - val_accuracy: 0.9949\n",
      "Epoch 61/450\n",
      "28038/28038 [==============================] - 11s 381us/sample - loss: 0.0139 - accuracy: 0.9960 - val_loss: 0.0179 - val_accuracy: 0.9953\n",
      "Epoch 62/450\n",
      "28038/28038 [==============================] - 12s 421us/sample - loss: 0.0108 - accuracy: 0.9963 - val_loss: 0.0258 - val_accuracy: 0.9949\n",
      "Epoch 63/450\n",
      "28038/28038 [==============================] - 10s 358us/sample - loss: 0.0095 - accuracy: 0.9971 - val_loss: 0.0278 - val_accuracy: 0.9945\n",
      "Epoch 64/450\n",
      "28038/28038 [==============================] - 11s 395us/sample - loss: 0.0140 - accuracy: 0.9956 - val_loss: 0.0250 - val_accuracy: 0.9941\n",
      "Epoch 65/450\n",
      "28038/28038 [==============================] - 9s 330us/sample - loss: 0.0122 - accuracy: 0.9964 - val_loss: 0.0276 - val_accuracy: 0.9934\n",
      "Epoch 66/450\n",
      "28038/28038 [==============================] - 10s 344us/sample - loss: 0.0123 - accuracy: 0.9964 - val_loss: 0.0265 - val_accuracy: 0.9949\n",
      "Epoch 67/450\n",
      "28038/28038 [==============================] - 10s 350us/sample - loss: 0.0136 - accuracy: 0.9963 - val_loss: 0.0205 - val_accuracy: 0.9937\n",
      "Epoch 68/450\n",
      "28038/28038 [==============================] - 11s 398us/sample - loss: 0.0108 - accuracy: 0.9967 - val_loss: 0.0247 - val_accuracy: 0.9953\n",
      "Epoch 69/450\n",
      "28038/28038 [==============================] - 10s 358us/sample - loss: 0.0084 - accuracy: 0.9974 - val_loss: 0.0182 - val_accuracy: 0.9957\n",
      "Epoch 70/450\n",
      "28038/28038 [==============================] - 10s 354us/sample - loss: 0.0100 - accuracy: 0.9968 - val_loss: 0.0219 - val_accuracy: 0.9953\n",
      "Epoch 71/450\n",
      "28038/28038 [==============================] - 10s 360us/sample - loss: 0.0097 - accuracy: 0.9966 - val_loss: 0.0226 - val_accuracy: 0.9945\n",
      "Epoch 72/450\n",
      "28038/28038 [==============================] - 9s 327us/sample - loss: 0.0111 - accuracy: 0.9968 - val_loss: 0.0229 - val_accuracy: 0.9945\n",
      "Epoch 73/450\n",
      "28038/28038 [==============================] - 8s 297us/sample - loss: 0.0100 - accuracy: 0.9968 - val_loss: 0.0230 - val_accuracy: 0.9961\n",
      "Epoch 74/450\n",
      "28038/28038 [==============================] - 8s 286us/sample - loss: 0.0094 - accuracy: 0.9969 - val_loss: 0.0227 - val_accuracy: 0.9949\n",
      "Epoch 75/450\n",
      "28038/28038 [==============================] - 8s 289us/sample - loss: 0.0113 - accuracy: 0.9960 - val_loss: 0.0237 - val_accuracy: 0.9945\n",
      "Epoch 76/450\n",
      "28038/28038 [==============================] - 8s 285us/sample - loss: 0.0095 - accuracy: 0.9968 - val_loss: 0.0217 - val_accuracy: 0.9949\n",
      "Epoch 77/450\n",
      "28038/28038 [==============================] - 9s 324us/sample - loss: 0.0105 - accuracy: 0.9970 - val_loss: 0.0252 - val_accuracy: 0.9953\n",
      "Epoch 78/450\n",
      "28038/28038 [==============================] - 10s 360us/sample - loss: 0.0084 - accuracy: 0.9972 - val_loss: 0.0264 - val_accuracy: 0.9941\n",
      "Epoch 79/450\n",
      "28038/28038 [==============================] - 10s 366us/sample - loss: 0.0079 - accuracy: 0.9976 - val_loss: 0.0235 - val_accuracy: 0.9941\n",
      "Epoch 80/450\n",
      "28038/28038 [==============================] - 10s 349us/sample - loss: 0.0110 - accuracy: 0.9966 - val_loss: 0.0219 - val_accuracy: 0.9945\n",
      "Epoch 81/450\n",
      "28038/28038 [==============================] - 9s 332us/sample - loss: 0.0092 - accuracy: 0.9971 - val_loss: 0.0184 - val_accuracy: 0.9953\n",
      "Epoch 82/450\n",
      "28038/28038 [==============================] - 10s 362us/sample - loss: 0.0109 - accuracy: 0.9970 - val_loss: 0.0170 - val_accuracy: 0.9945\n",
      "Epoch 83/450\n",
      "28038/28038 [==============================] - 10s 358us/sample - loss: 0.0089 - accuracy: 0.9969 - val_loss: 0.0192 - val_accuracy: 0.9961\n",
      "Epoch 84/450\n",
      "28038/28038 [==============================] - 8s 296us/sample - loss: 0.0080 - accuracy: 0.9976 - val_loss: 0.0216 - val_accuracy: 0.9941\n",
      "Epoch 85/450\n",
      "28038/28038 [==============================] - 9s 320us/sample - loss: 0.0102 - accuracy: 0.9965 - val_loss: 0.0208 - val_accuracy: 0.9953\n",
      "Epoch 86/450\n",
      "28038/28038 [==============================] - 9s 315us/sample - loss: 0.0093 - accuracy: 0.9969 - val_loss: 0.0170 - val_accuracy: 0.9957\n",
      "Epoch 87/450\n",
      "28038/28038 [==============================] - 10s 352us/sample - loss: 0.0082 - accuracy: 0.9976 - val_loss: 0.0201 - val_accuracy: 0.9941\n",
      "Epoch 88/450\n",
      "28038/28038 [==============================] - 10s 368us/sample - loss: 0.0087 - accuracy: 0.9971 - val_loss: 0.0178 - val_accuracy: 0.9961\n",
      "Epoch 89/450\n",
      "28038/28038 [==============================] - 10s 353us/sample - loss: 0.0116 - accuracy: 0.9963 - val_loss: 0.0182 - val_accuracy: 0.9945\n",
      "Epoch 90/450\n",
      "28038/28038 [==============================] - 10s 353us/sample - loss: 0.0084 - accuracy: 0.9976 - val_loss: 0.0174 - val_accuracy: 0.9953\n",
      "Epoch 91/450\n",
      "28038/28038 [==============================] - 10s 343us/sample - loss: 0.0063 - accuracy: 0.9980 - val_loss: 0.0261 - val_accuracy: 0.9945\n",
      "Epoch 92/450\n",
      "28038/28038 [==============================] - 9s 328us/sample - loss: 0.0086 - accuracy: 0.9973 - val_loss: 0.0197 - val_accuracy: 0.9949\n",
      "Epoch 93/450\n",
      "28038/28038 [==============================] - 9s 327us/sample - loss: 0.0090 - accuracy: 0.9971 - val_loss: 0.0193 - val_accuracy: 0.9949\n",
      "Epoch 94/450\n",
      "28038/28038 [==============================] - 9s 319us/sample - loss: 0.0075 - accuracy: 0.9973 - val_loss: 0.0167 - val_accuracy: 0.9937\n",
      "Epoch 95/450\n",
      "28038/28038 [==============================] - 9s 332us/sample - loss: 0.0080 - accuracy: 0.9976 - val_loss: 0.0185 - val_accuracy: 0.9945\n",
      "Epoch 96/450\n",
      "28038/28038 [==============================] - 11s 389us/sample - loss: 0.0083 - accuracy: 0.9974 - val_loss: 0.0192 - val_accuracy: 0.9961\n",
      "Epoch 97/450\n",
      "28038/28038 [==============================] - 11s 388us/sample - loss: 0.0103 - accuracy: 0.9967 - val_loss: 0.0205 - val_accuracy: 0.9949\n",
      "Epoch 98/450\n",
      "28038/28038 [==============================] - 9s 321us/sample - loss: 0.0061 - accuracy: 0.9980 - val_loss: 0.0176 - val_accuracy: 0.9941\n",
      "28038/28038 [==============================] - 3s 106us/sample - loss: 0.0023 - accuracy: 0.9996\n",
      "2558/2558 [==============================] - 0s 97us/sample - loss: 0.0152 - accuracy: 0.9953\n"
     ]
    },
    {
     "data": {
      "text/plain": [
       "[0.015223896747856947, 0.9953088]"
      ]
     },
     "execution_count": 180,
     "metadata": {},
     "output_type": "execute_result"
    }
   ],
   "source": [
    "keras.backend.clear_session()\n",
    "np.random.seed(42)\n",
    "tf.random.set_seed(42)\n",
    "\n",
    "model_8e = keras.models.Sequential([\n",
    "    keras.layers.Flatten(input_shape=[28, 28]),\n",
    "    keras.layers.BatchNormalization(),\n",
    "    keras.layers.Dropout(rate=0.2),\n",
    "    keras.layers.Dense(175, kernel_initializer=\"he_normal\", activation=\"elu\"),\n",
    "    keras.layers.BatchNormalization(),\n",
    "    keras.layers.Dropout(rate=0.2),\n",
    "    keras.layers.Dense(175, kernel_initializer=\"he_normal\", activation=\"elu\"),\n",
    "    keras.layers.BatchNormalization(),\n",
    "    keras.layers.Dropout(rate=0.2),\n",
    "    keras.layers.Dense(175, kernel_initializer=\"he_normal\", activation=\"elu\"),\n",
    "    keras.layers.BatchNormalization(),\n",
    "    keras.layers.Dropout(rate=0.2),\n",
    "    keras.layers.Dense(175, kernel_initializer=\"he_normal\", activation=\"elu\"),\n",
    "    keras.layers.BatchNormalization(),\n",
    "    keras.layers.Dropout(rate=0.2),\n",
    "    keras.layers.Dense(5, activation=\"softmax\")\n",
    "])\n",
    "\n",
    "optimizer = keras.optimizers.Adam(lr=0.00068)\n",
    "model_8e.compile(loss=\"sparse_categorical_crossentropy\", optimizer=optimizer, metrics=[\"accuracy\"])\n",
    "\n",
    "tensorboard = keras.callbacks.TensorBoard(get_run_logdir(\"_model_8e\"))\n",
    "checkpoint_cb = keras.callbacks.ModelCheckpoint(\"ch11_mnist_model_8e.h5\", save_best_only=True)\n",
    "early_stopping_cb = keras.callbacks.EarlyStopping(patience=50, restore_best_weights=True)\n",
    "\n",
    "history = model_8e.fit(x_train1, y_train1, epochs=450,\n",
    "                       validation_data=(x_valid1, y_valid1),\n",
    "                       callbacks=[checkpoint_cb, early_stopping_cb, tensorboard])\n",
    "model_8e_loaded = keras.models.load_model('ch11_mnist_model_8e.h5')\n",
    "\n",
    "model_8e_loaded.evaluate(x_train1, y_train1),\n",
    "model_8e_loaded.evaluate(x_valid1, y_valid1)"
   ]
  },
  {
   "cell_type": "markdown",
   "metadata": {},
   "source": [
    "Особой проблемы с переобучением не наблюдалось и в best_model и в model_8d (ошибка порядка 0.02 в отличие от ошибки на обучающем наборе близкой к 0). Однако dropout дополнительно сократил переобучение, снизив ошибку на наборе валидации и увеличив на обучающем (теперь он мой фаворит) и повысил результатативность модели model_8d с BN слоями.\n",
    "\n",
    "\n",
    "Можно попробовать использовать кросс-валидацию для поиска оптимальных параметров модели с BN и dropout, но что-то лень.\n",
    "\n",
    "\n",
    "### taks 9. Transfer learning.\n",
    "*a. Create a new DNN that reuses all the pretrained hidden layers of the previous model, freezes them, and replaces the softmax output layer with a new one.*"
   ]
  },
  {
   "cell_type": "code",
   "execution_count": 191,
   "metadata": {},
   "outputs": [],
   "source": [
    "model_8e_loaded = keras.models.load_model('ch11_mnist_model_8e.h5')\n",
    "model_9a = keras.models.Sequential(model_8e_loaded.layers[:-1])"
   ]
  },
  {
   "cell_type": "code",
   "execution_count": 192,
   "metadata": {},
   "outputs": [],
   "source": [
    "for l in model_9a.layers[:-1]: \n",
    "    l.trainable = False"
   ]
  },
  {
   "cell_type": "code",
   "execution_count": 193,
   "metadata": {},
   "outputs": [],
   "source": [
    "model_9a.add(keras.layers.Dense(5, activation=\"sigmoid\"))"
   ]
  },
  {
   "cell_type": "markdown",
   "metadata": {},
   "source": [
    "Клонировать модель смысл нет, поскольку модель model_8e сохранена в файле."
   ]
  },
  {
   "cell_type": "markdown",
   "metadata": {},
   "source": [
    "*Prepare train dataset for task 9.b*"
   ]
  },
  {
   "cell_type": "code",
   "execution_count": 224,
   "metadata": {},
   "outputs": [],
   "source": [
    "def pick_part(x, y, picked_num, size=100):\n",
    "    idx = y == picked_num\n",
    "    x_ = x[idx]\n",
    "    x_ = x_[:size]\n",
    "    return x_\n",
    "\n",
    "x_train2_5 = pick_part(x_train2, y_train2, 5)\n",
    "x_train2_6 = pick_part(x_train2, y_train2, 6)\n",
    "x_train2_7 = pick_part(x_train2, y_train2, 7)\n",
    "x_train2_8 = pick_part(x_train2, y_train2, 8)\n",
    "x_train2_9 = pick_part(x_train2, y_train2, 9)"
   ]
  },
  {
   "cell_type": "code",
   "execution_count": 11,
   "metadata": {},
   "outputs": [],
   "source": [
    "def print_imgs(x, n_rows = 10, n_cols = 10, labels=[], img_xsize=10, img_ysize=5):\n",
    "    plt.figure(figsize=(img_xsize, img_ysize))\n",
    "    for row in range(n_rows):\n",
    "        for col in range(n_cols):\n",
    "            index = n_cols * row + col\n",
    "            plt.subplot(n_rows, n_cols, index + 1)\n",
    "            plt.imshow(x[index], cmap=\"binary\", interpolation=\"nearest\")\n",
    "            plt.axis('off')\n",
    "            if len(labels) != 0:\n",
    "                plt.title(labels[index])"
   ]
  },
  {
   "cell_type": "code",
   "execution_count": 297,
   "metadata": {},
   "outputs": [
    {
     "data": {
      "image/png": "[encoded data removed]",
      "text/plain": [
       "<Figure size 720x360 with 100 Axes>"
      ]
     },
     "metadata": {
      "needs_background": "light"
     },
     "output_type": "display_data"
    }
   ],
   "source": [
    "print_imgs(x_train2_8)"
   ]
  },
  {
   "cell_type": "code",
   "execution_count": 282,
   "metadata": {},
   "outputs": [],
   "source": [
    "x_train2_new = np.r_[x_train2_5, x_train2_6, x_train2_7, x_train2_8, x_train2_9]\n",
    "y_train2_new = np.ones(len(x_train2_new), dtype=np.int8)\n",
    "y_train2_new[0:]    = 5\n",
    "y_train2_new[100:]  = 6\n",
    "y_train2_new[200:]  = 7\n",
    "y_train2_new[300:]  = 8\n",
    "y_train2_new[400:]  = 9"
   ]
  },
  {
   "cell_type": "markdown",
   "metadata": {},
   "source": [
    "perform permutation"
   ]
  },
  {
   "cell_type": "code",
   "execution_count": 299,
   "metadata": {},
   "outputs": [],
   "source": [
    "idx = np.random.permutation(500)\n",
    "x_train2_new = x_train2_new[idx]\n",
    "y_train2_new = y_train2_new[idx]"
   ]
  },
  {
   "cell_type": "code",
   "execution_count": 300,
   "metadata": {},
   "outputs": [
    {
     "data": {
      "image/png": "[encoded data removed]",
      "text/plain": [
       "<Figure size 1440x720 with 500 Axes>"
      ]
     },
     "metadata": {
      "needs_background": "light"
     },
     "output_type": "display_data"
    }
   ],
   "source": [
    "print_imgs(x_train2_new, 10, 50, labels=y_train2_new, img_xsize=20, img_ysize=10)"
   ]
  },
  {
   "cell_type": "code",
   "execution_count": 312,
   "metadata": {},
   "outputs": [],
   "source": [
    "y_train2_new = y_train2_new - 5\n",
    "y_valid2_new = y_valid2 - 5\n",
    "y_test2_new = y_test2 - 5"
   ]
  },
  {
   "cell_type": "markdown",
   "metadata": {},
   "source": [
    "*b. Train this new DNN on digits 5 to 9, using only 100 images per digit, and time how long it takes. Despite this small number of examples, can you achieve high precision?*"
   ]
  },
  {
   "cell_type": "code",
   "execution_count": 313,
   "metadata": {},
   "outputs": [
    {
     "name": "stdout",
     "output_type": "stream",
     "text": [
      "Train on 500 samples, validate on 2442 samples\n",
      "Epoch 1/450\n",
      "500/500 [==============================] - 2s 4ms/sample - loss: 1.7914 - accuracy: 0.1880 - val_loss: 1.6208 - val_accuracy: 0.1929\n",
      "Epoch 2/450\n",
      "500/500 [==============================] - 1s 1ms/sample - loss: 1.6158 - accuracy: 0.2600 - val_loss: 1.5211 - val_accuracy: 0.2961\n",
      "Epoch 3/450\n",
      "500/500 [==============================] - 1s 1ms/sample - loss: 1.4649 - accuracy: 0.3360 - val_loss: 1.4553 - val_accuracy: 0.3722\n",
      "Epoch 4/450\n",
      "500/500 [==============================] - 0s 967us/sample - loss: 1.4080 - accuracy: 0.3900 - val_loss: 1.4114 - val_accuracy: 0.4156\n",
      "Epoch 5/450\n",
      "500/500 [==============================] - 1s 1ms/sample - loss: 1.3409 - accuracy: 0.4500 - val_loss: 1.3768 - val_accuracy: 0.4472\n",
      "Epoch 6/450\n",
      "500/500 [==============================] - 1s 1ms/sample - loss: 1.2955 - accuracy: 0.5100 - val_loss: 1.3445 - val_accuracy: 0.4676\n",
      "Epoch 7/450\n",
      "500/500 [==============================] - 1s 1ms/sample - loss: 1.2497 - accuracy: 0.5500 - val_loss: 1.3186 - val_accuracy: 0.4889\n",
      "Epoch 8/450\n",
      "500/500 [==============================] - 0s 969us/sample - loss: 1.2564 - accuracy: 0.5500 - val_loss: 1.2948 - val_accuracy: 0.5029\n",
      "Epoch 9/450\n",
      "500/500 [==============================] - 0s 931us/sample - loss: 1.2315 - accuracy: 0.5580 - val_loss: 1.2761 - val_accuracy: 0.5070\n",
      "Epoch 10/450\n",
      "500/500 [==============================] - 0s 914us/sample - loss: 1.2176 - accuracy: 0.5700 - val_loss: 1.2544 - val_accuracy: 0.5172\n",
      "Epoch 11/450\n",
      "500/500 [==============================] - 0s 912us/sample - loss: 1.1983 - accuracy: 0.6100 - val_loss: 1.2385 - val_accuracy: 0.5324\n",
      "Epoch 12/450\n",
      "500/500 [==============================] - 0s 993us/sample - loss: 1.1814 - accuracy: 0.5900 - val_loss: 1.2242 - val_accuracy: 0.5450\n",
      "Epoch 13/450\n",
      "500/500 [==============================] - 1s 1ms/sample - loss: 1.1182 - accuracy: 0.6460 - val_loss: 1.2111 - val_accuracy: 0.5581\n",
      "Epoch 14/450\n",
      "500/500 [==============================] - 1s 1ms/sample - loss: 1.1537 - accuracy: 0.6040 - val_loss: 1.2004 - val_accuracy: 0.5663\n",
      "Epoch 15/450\n",
      "500/500 [==============================] - 0s 988us/sample - loss: 1.1370 - accuracy: 0.5980 - val_loss: 1.1917 - val_accuracy: 0.5839\n",
      "Epoch 16/450\n",
      "500/500 [==============================] - 0s 950us/sample - loss: 1.1013 - accuracy: 0.6180 - val_loss: 1.1830 - val_accuracy: 0.6052\n",
      "Epoch 17/450\n",
      "500/500 [==============================] - 0s 969us/sample - loss: 1.1224 - accuracy: 0.6040 - val_loss: 1.1705 - val_accuracy: 0.6200\n",
      "Epoch 18/450\n",
      "500/500 [==============================] - 0s 1000us/sample - loss: 1.0935 - accuracy: 0.6200 - val_loss: 1.1562 - val_accuracy: 0.6323\n",
      "Epoch 19/450\n",
      "500/500 [==============================] - 1s 1ms/sample - loss: 1.0754 - accuracy: 0.6560 - val_loss: 1.1451 - val_accuracy: 0.6413\n",
      "Epoch 20/450\n",
      "500/500 [==============================] - 1s 1ms/sample - loss: 1.0284 - accuracy: 0.6920 - val_loss: 1.1314 - val_accuracy: 0.6548\n",
      "Epoch 21/450\n",
      "500/500 [==============================] - 1s 1ms/sample - loss: 1.0622 - accuracy: 0.6680 - val_loss: 1.1183 - val_accuracy: 0.6593\n",
      "Epoch 22/450\n",
      "500/500 [==============================] - 1s 1ms/sample - loss: 1.0383 - accuracy: 0.6640 - val_loss: 1.1080 - val_accuracy: 0.6589\n",
      "Epoch 23/450\n",
      "500/500 [==============================] - 1s 1ms/sample - loss: 1.0231 - accuracy: 0.6560 - val_loss: 1.0981 - val_accuracy: 0.6630\n",
      "Epoch 24/450\n",
      "500/500 [==============================] - 0s 942us/sample - loss: 1.0642 - accuracy: 0.6540 - val_loss: 1.0899 - val_accuracy: 0.6646\n",
      "Epoch 25/450\n",
      "500/500 [==============================] - 1s 1ms/sample - loss: 1.0294 - accuracy: 0.6480 - val_loss: 1.0795 - val_accuracy: 0.6691\n",
      "Epoch 26/450\n",
      "500/500 [==============================] - 1s 1ms/sample - loss: 1.0157 - accuracy: 0.6520 - val_loss: 1.0668 - val_accuracy: 0.6724\n",
      "Epoch 27/450\n",
      "500/500 [==============================] - 1s 2ms/sample - loss: 0.9804 - accuracy: 0.6880 - val_loss: 1.0580 - val_accuracy: 0.6753\n",
      "Epoch 28/450\n",
      "500/500 [==============================] - 1s 1ms/sample - loss: 1.0171 - accuracy: 0.6740 - val_loss: 1.0499 - val_accuracy: 0.6790\n",
      "Epoch 29/450\n",
      "500/500 [==============================] - 1s 1ms/sample - loss: 0.9822 - accuracy: 0.6700 - val_loss: 1.0437 - val_accuracy: 0.6810\n",
      "Epoch 30/450\n",
      "500/500 [==============================] - 1s 1ms/sample - loss: 0.9899 - accuracy: 0.6900 - val_loss: 1.0381 - val_accuracy: 0.6859\n",
      "Epoch 31/450\n",
      "500/500 [==============================] - 1s 1ms/sample - loss: 0.9772 - accuracy: 0.6780 - val_loss: 1.0355 - val_accuracy: 0.6904\n",
      "Epoch 32/450\n",
      "500/500 [==============================] - 1s 1ms/sample - loss: 0.9986 - accuracy: 0.6640 - val_loss: 1.0333 - val_accuracy: 0.6884\n",
      "Epoch 33/450\n",
      "500/500 [==============================] - 0s 949us/sample - loss: 0.9978 - accuracy: 0.6560 - val_loss: 1.0349 - val_accuracy: 0.6871\n",
      "Epoch 34/450\n",
      "500/500 [==============================] - 1s 1ms/sample - loss: 0.9878 - accuracy: 0.6460 - val_loss: 1.0345 - val_accuracy: 0.6855\n",
      "Epoch 35/450\n",
      "500/500 [==============================] - 1s 1ms/sample - loss: 0.9689 - accuracy: 0.6740 - val_loss: 1.0324 - val_accuracy: 0.6822\n",
      "Epoch 36/450\n",
      "500/500 [==============================] - 1s 1ms/sample - loss: 0.9295 - accuracy: 0.6860 - val_loss: 1.0247 - val_accuracy: 0.6851\n",
      "Epoch 37/450\n",
      "500/500 [==============================] - 1s 1ms/sample - loss: 0.9453 - accuracy: 0.6880 - val_loss: 1.0180 - val_accuracy: 0.6867\n",
      "Epoch 38/450\n",
      "500/500 [==============================] - 1s 1ms/sample - loss: 0.9580 - accuracy: 0.6660 - val_loss: 1.0169 - val_accuracy: 0.6847\n",
      "Epoch 39/450\n",
      "500/500 [==============================] - 0s 983us/sample - loss: 0.9364 - accuracy: 0.6780 - val_loss: 1.0181 - val_accuracy: 0.6814\n",
      "Epoch 40/450\n",
      "500/500 [==============================] - 1s 1ms/sample - loss: 0.9226 - accuracy: 0.6940 - val_loss: 1.0127 - val_accuracy: 0.6818\n",
      "Epoch 41/450\n",
      "500/500 [==============================] - 1s 1ms/sample - loss: 0.9349 - accuracy: 0.6860 - val_loss: 1.0145 - val_accuracy: 0.6843\n",
      "Epoch 42/450\n",
      "500/500 [==============================] - 0s 959us/sample - loss: 0.9004 - accuracy: 0.7020 - val_loss: 1.0147 - val_accuracy: 0.6859\n",
      "Epoch 43/450\n",
      "500/500 [==============================] - 0s 936us/sample - loss: 0.9259 - accuracy: 0.6980 - val_loss: 1.0159 - val_accuracy: 0.6851\n",
      "Epoch 44/450\n",
      "500/500 [==============================] - 1s 1ms/sample - loss: 0.9619 - accuracy: 0.6840 - val_loss: 1.0112 - val_accuracy: 0.6880\n",
      "Epoch 45/450\n",
      "500/500 [==============================] - 1s 1ms/sample - loss: 0.9203 - accuracy: 0.7040 - val_loss: 1.0107 - val_accuracy: 0.6876\n",
      "Epoch 46/450\n",
      "500/500 [==============================] - 0s 901us/sample - loss: 0.9379 - accuracy: 0.7100 - val_loss: 1.0132 - val_accuracy: 0.6871\n",
      "Epoch 47/450\n",
      "500/500 [==============================] - 0s 914us/sample - loss: 0.9184 - accuracy: 0.6800 - val_loss: 1.0172 - val_accuracy: 0.6888\n",
      "Epoch 48/450\n",
      "500/500 [==============================] - 0s 907us/sample - loss: 0.9435 - accuracy: 0.6600 - val_loss: 1.0144 - val_accuracy: 0.6916\n",
      "Epoch 49/450\n",
      "500/500 [==============================] - 0s 985us/sample - loss: 0.8906 - accuracy: 0.7000 - val_loss: 1.0045 - val_accuracy: 0.6941\n",
      "Epoch 50/450\n",
      "500/500 [==============================] - 1s 1ms/sample - loss: 0.8951 - accuracy: 0.6940 - val_loss: 1.0027 - val_accuracy: 0.6933\n",
      "Epoch 51/450\n",
      "500/500 [==============================] - 0s 881us/sample - loss: 0.9141 - accuracy: 0.7020 - val_loss: 1.0029 - val_accuracy: 0.6933\n",
      "Epoch 52/450\n",
      "500/500 [==============================] - 0s 846us/sample - loss: 0.8853 - accuracy: 0.7180 - val_loss: 0.9935 - val_accuracy: 0.6966\n",
      "Epoch 53/450\n",
      "500/500 [==============================] - 1s 1ms/sample - loss: 0.8637 - accuracy: 0.7060 - val_loss: 0.9840 - val_accuracy: 0.6998\n",
      "Epoch 54/450\n",
      "500/500 [==============================] - 1s 1ms/sample - loss: 0.9018 - accuracy: 0.7400 - val_loss: 0.9757 - val_accuracy: 0.7048\n",
      "Epoch 55/450\n",
      "500/500 [==============================] - 0s 854us/sample - loss: 0.9003 - accuracy: 0.7020 - val_loss: 0.9693 - val_accuracy: 0.7056\n",
      "Epoch 56/450\n",
      "500/500 [==============================] - 0s 675us/sample - loss: 0.8550 - accuracy: 0.7160 - val_loss: 0.9728 - val_accuracy: 0.7052\n",
      "Epoch 57/450\n",
      "500/500 [==============================] - 0s 821us/sample - loss: 0.8988 - accuracy: 0.6860 - val_loss: 0.9770 - val_accuracy: 0.7056\n",
      "Epoch 58/450\n",
      "500/500 [==============================] - 0s 805us/sample - loss: 0.9056 - accuracy: 0.7040 - val_loss: 0.9800 - val_accuracy: 0.7039\n",
      "Epoch 59/450\n",
      "500/500 [==============================] - 1s 1ms/sample - loss: 0.8933 - accuracy: 0.6800 - val_loss: 0.9725 - val_accuracy: 0.7048\n",
      "Epoch 60/450\n",
      "500/500 [==============================] - 1s 1ms/sample - loss: 0.9286 - accuracy: 0.6680 - val_loss: 0.9663 - val_accuracy: 0.7048\n",
      "Epoch 61/450\n",
      "500/500 [==============================] - 0s 866us/sample - loss: 0.8805 - accuracy: 0.7200 - val_loss: 0.9611 - val_accuracy: 0.7064\n",
      "Epoch 62/450\n",
      "500/500 [==============================] - 0s 795us/sample - loss: 0.8926 - accuracy: 0.7100 - val_loss: 0.9593 - val_accuracy: 0.7068\n",
      "Epoch 63/450\n",
      "500/500 [==============================] - 0s 951us/sample - loss: 0.8479 - accuracy: 0.7300 - val_loss: 0.9556 - val_accuracy: 0.7101\n",
      "Epoch 64/450\n",
      "500/500 [==============================] - 0s 876us/sample - loss: 0.8789 - accuracy: 0.6820 - val_loss: 0.9507 - val_accuracy: 0.7117\n",
      "Epoch 65/450\n",
      "500/500 [==============================] - 0s 855us/sample - loss: 0.8749 - accuracy: 0.7100 - val_loss: 0.9494 - val_accuracy: 0.7093\n",
      "Epoch 66/450\n",
      "500/500 [==============================] - 1s 1ms/sample - loss: 0.8716 - accuracy: 0.7100 - val_loss: 0.9488 - val_accuracy: 0.7093\n",
      "Epoch 67/450\n",
      "500/500 [==============================] - 0s 935us/sample - loss: 0.8681 - accuracy: 0.6960 - val_loss: 0.9545 - val_accuracy: 0.7084\n",
      "Epoch 68/450\n",
      "500/500 [==============================] - 0s 837us/sample - loss: 0.8484 - accuracy: 0.6860 - val_loss: 0.9490 - val_accuracy: 0.7101\n",
      "Epoch 69/450\n",
      "500/500 [==============================] - 0s 866us/sample - loss: 0.8429 - accuracy: 0.7160 - val_loss: 0.9473 - val_accuracy: 0.7097\n",
      "Epoch 70/450\n",
      "500/500 [==============================] - 0s 724us/sample - loss: 0.8428 - accuracy: 0.7240 - val_loss: 0.9524 - val_accuracy: 0.7109\n",
      "Epoch 71/450\n",
      "500/500 [==============================] - 0s 820us/sample - loss: 0.8140 - accuracy: 0.7200 - val_loss: 0.9465 - val_accuracy: 0.7125\n",
      "Epoch 72/450\n",
      "500/500 [==============================] - 0s 758us/sample - loss: 0.8644 - accuracy: 0.7020 - val_loss: 0.9418 - val_accuracy: 0.7133\n",
      "Epoch 73/450\n",
      "500/500 [==============================] - 0s 809us/sample - loss: 0.8655 - accuracy: 0.7100 - val_loss: 0.9404 - val_accuracy: 0.7138\n",
      "Epoch 74/450\n",
      "500/500 [==============================] - 0s 713us/sample - loss: 0.8329 - accuracy: 0.7440 - val_loss: 0.9453 - val_accuracy: 0.7129\n",
      "Epoch 75/450\n",
      "500/500 [==============================] - 0s 656us/sample - loss: 0.8328 - accuracy: 0.7000 - val_loss: 0.9431 - val_accuracy: 0.7129\n",
      "Epoch 76/450\n",
      "500/500 [==============================] - 0s 760us/sample - loss: 0.8115 - accuracy: 0.7220 - val_loss: 0.9393 - val_accuracy: 0.7133\n",
      "Epoch 77/450\n",
      "500/500 [==============================] - 0s 899us/sample - loss: 0.8397 - accuracy: 0.7080 - val_loss: 0.9369 - val_accuracy: 0.7121\n",
      "Epoch 78/450\n",
      "500/500 [==============================] - 0s 828us/sample - loss: 0.8804 - accuracy: 0.7120 - val_loss: 0.9354 - val_accuracy: 0.7133\n",
      "Epoch 79/450\n",
      "500/500 [==============================] - 0s 812us/sample - loss: 0.8535 - accuracy: 0.7080 - val_loss: 0.9378 - val_accuracy: 0.7138\n",
      "Epoch 80/450\n",
      "500/500 [==============================] - 0s 854us/sample - loss: 0.8045 - accuracy: 0.7080 - val_loss: 0.9411 - val_accuracy: 0.7146\n",
      "Epoch 81/450\n",
      "500/500 [==============================] - 0s 923us/sample - loss: 0.8382 - accuracy: 0.7120 - val_loss: 0.9448 - val_accuracy: 0.7125\n",
      "Epoch 82/450\n",
      "500/500 [==============================] - 0s 865us/sample - loss: 0.8362 - accuracy: 0.7300 - val_loss: 0.9362 - val_accuracy: 0.7129\n",
      "Epoch 83/450\n",
      "500/500 [==============================] - 1s 1ms/sample - loss: 0.7941 - accuracy: 0.7480 - val_loss: 0.9287 - val_accuracy: 0.7117\n",
      "Epoch 84/450\n",
      "500/500 [==============================] - 1s 1ms/sample - loss: 0.8251 - accuracy: 0.7260 - val_loss: 0.9252 - val_accuracy: 0.7109\n",
      "Epoch 85/450\n",
      "500/500 [==============================] - 0s 947us/sample - loss: 0.8188 - accuracy: 0.7300 - val_loss: 0.9297 - val_accuracy: 0.7117\n",
      "Epoch 86/450\n",
      "500/500 [==============================] - 0s 936us/sample - loss: 0.7906 - accuracy: 0.7320 - val_loss: 0.9337 - val_accuracy: 0.7113\n",
      "Epoch 87/450\n",
      "500/500 [==============================] - 0s 937us/sample - loss: 0.8216 - accuracy: 0.7060 - val_loss: 0.9301 - val_accuracy: 0.7113\n",
      "Epoch 88/450\n",
      "500/500 [==============================] - 1s 1ms/sample - loss: 0.7829 - accuracy: 0.7320 - val_loss: 0.9307 - val_accuracy: 0.7101\n",
      "Epoch 89/450\n",
      "500/500 [==============================] - 1s 1ms/sample - loss: 0.8624 - accuracy: 0.6900 - val_loss: 0.9279 - val_accuracy: 0.7129\n",
      "Epoch 90/450\n",
      "500/500 [==============================] - 0s 954us/sample - loss: 0.8015 - accuracy: 0.7160 - val_loss: 0.9254 - val_accuracy: 0.7133\n",
      "Epoch 91/450\n",
      "500/500 [==============================] - 1s 1ms/sample - loss: 0.8457 - accuracy: 0.7020 - val_loss: 0.9187 - val_accuracy: 0.7142\n",
      "Epoch 92/450\n",
      "500/500 [==============================] - 1s 1ms/sample - loss: 0.8319 - accuracy: 0.7400 - val_loss: 0.9101 - val_accuracy: 0.7146\n",
      "Epoch 93/450\n",
      "500/500 [==============================] - 1s 1ms/sample - loss: 0.8145 - accuracy: 0.7340 - val_loss: 0.9054 - val_accuracy: 0.7154\n",
      "Epoch 94/450\n",
      "500/500 [==============================] - 1s 1ms/sample - loss: 0.8521 - accuracy: 0.7000 - val_loss: 0.9069 - val_accuracy: 0.7154\n",
      "Epoch 95/450\n",
      "500/500 [==============================] - 0s 953us/sample - loss: 0.8162 - accuracy: 0.7280 - val_loss: 0.9068 - val_accuracy: 0.7162\n",
      "Epoch 96/450\n",
      "500/500 [==============================] - 1s 1ms/sample - loss: 0.8324 - accuracy: 0.7080 - val_loss: 0.9016 - val_accuracy: 0.7166\n",
      "Epoch 97/450\n",
      "500/500 [==============================] - 1s 1ms/sample - loss: 0.7661 - accuracy: 0.7480 - val_loss: 0.9027 - val_accuracy: 0.7150\n",
      "Epoch 98/450\n",
      "500/500 [==============================] - 1s 1ms/sample - loss: 0.7990 - accuracy: 0.7440 - val_loss: 0.9035 - val_accuracy: 0.7158\n",
      "Epoch 99/450\n",
      "500/500 [==============================] - 1s 1ms/sample - loss: 0.8235 - accuracy: 0.7160 - val_loss: 0.9077 - val_accuracy: 0.7162\n",
      "Epoch 100/450\n",
      "500/500 [==============================] - 1s 1ms/sample - loss: 0.7883 - accuracy: 0.7020 - val_loss: 0.9014 - val_accuracy: 0.7174\n",
      "Epoch 101/450\n",
      "500/500 [==============================] - 1s 1ms/sample - loss: 0.8370 - accuracy: 0.7280 - val_loss: 0.8997 - val_accuracy: 0.7187\n",
      "Epoch 102/450\n",
      "500/500 [==============================] - 1s 1ms/sample - loss: 0.8181 - accuracy: 0.7200 - val_loss: 0.8952 - val_accuracy: 0.7195\n",
      "Epoch 103/450\n",
      "500/500 [==============================] - 1s 1ms/sample - loss: 0.8069 - accuracy: 0.7360 - val_loss: 0.8925 - val_accuracy: 0.7207\n",
      "Epoch 104/450\n",
      "500/500 [==============================] - 1s 1ms/sample - loss: 0.8127 - accuracy: 0.7120 - val_loss: 0.8904 - val_accuracy: 0.7187\n",
      "Epoch 105/450\n",
      "500/500 [==============================] - 1s 1ms/sample - loss: 0.8043 - accuracy: 0.7540 - val_loss: 0.8938 - val_accuracy: 0.7199\n",
      "Epoch 106/450\n",
      "500/500 [==============================] - 0s 960us/sample - loss: 0.7862 - accuracy: 0.7540 - val_loss: 0.8963 - val_accuracy: 0.7203\n",
      "Epoch 107/450\n",
      "500/500 [==============================] - 0s 978us/sample - loss: 0.8130 - accuracy: 0.7240 - val_loss: 0.9027 - val_accuracy: 0.7187\n",
      "Epoch 108/450\n",
      "500/500 [==============================] - 1s 1ms/sample - loss: 0.8095 - accuracy: 0.7180 - val_loss: 0.9097 - val_accuracy: 0.7150\n",
      "Epoch 109/450\n",
      "500/500 [==============================] - 0s 984us/sample - loss: 0.8090 - accuracy: 0.7080 - val_loss: 0.9122 - val_accuracy: 0.7158\n",
      "Epoch 110/450\n",
      "500/500 [==============================] - 0s 958us/sample - loss: 0.7821 - accuracy: 0.7260 - val_loss: 0.9124 - val_accuracy: 0.7174\n",
      "Epoch 111/450\n",
      "500/500 [==============================] - 0s 940us/sample - loss: 0.8162 - accuracy: 0.7160 - val_loss: 0.9102 - val_accuracy: 0.7166\n"
     ]
    },
    {
     "name": "stdout",
     "output_type": "stream",
     "text": [
      "Epoch 112/450\n",
      "500/500 [==============================] - 0s 935us/sample - loss: 0.8367 - accuracy: 0.7120 - val_loss: 0.9044 - val_accuracy: 0.7170\n",
      "Epoch 113/450\n",
      "500/500 [==============================] - 1s 1ms/sample - loss: 0.7501 - accuracy: 0.7360 - val_loss: 0.9048 - val_accuracy: 0.7195\n",
      "Epoch 114/450\n",
      "500/500 [==============================] - 1s 1ms/sample - loss: 0.7738 - accuracy: 0.7220 - val_loss: 0.9016 - val_accuracy: 0.7179\n",
      "Epoch 115/450\n",
      "500/500 [==============================] - 0s 895us/sample - loss: 0.8307 - accuracy: 0.7100 - val_loss: 0.8970 - val_accuracy: 0.7183\n",
      "Epoch 116/450\n",
      "500/500 [==============================] - 0s 898us/sample - loss: 0.7782 - accuracy: 0.7440 - val_loss: 0.8932 - val_accuracy: 0.7187\n",
      "Epoch 117/450\n",
      "500/500 [==============================] - 0s 942us/sample - loss: 0.8239 - accuracy: 0.7200 - val_loss: 0.8966 - val_accuracy: 0.7162\n",
      "Epoch 118/450\n",
      "500/500 [==============================] - 0s 826us/sample - loss: 0.7835 - accuracy: 0.7300 - val_loss: 0.8960 - val_accuracy: 0.7179\n",
      "Epoch 119/450\n",
      "500/500 [==============================] - 0s 793us/sample - loss: 0.7657 - accuracy: 0.7480 - val_loss: 0.8984 - val_accuracy: 0.7170\n",
      "Epoch 120/450\n",
      "500/500 [==============================] - 0s 914us/sample - loss: 0.8356 - accuracy: 0.7220 - val_loss: 0.9014 - val_accuracy: 0.7183\n",
      "Epoch 121/450\n",
      "500/500 [==============================] - 0s 737us/sample - loss: 0.7841 - accuracy: 0.7400 - val_loss: 0.9047 - val_accuracy: 0.7133\n",
      "Epoch 122/450\n",
      "500/500 [==============================] - 0s 782us/sample - loss: 0.7972 - accuracy: 0.7240 - val_loss: 0.9009 - val_accuracy: 0.7174\n",
      "Epoch 123/450\n",
      "500/500 [==============================] - 0s 742us/sample - loss: 0.7730 - accuracy: 0.7100 - val_loss: 0.9036 - val_accuracy: 0.7174\n",
      "Epoch 124/450\n",
      "500/500 [==============================] - 0s 871us/sample - loss: 0.7894 - accuracy: 0.7560 - val_loss: 0.9073 - val_accuracy: 0.7170\n",
      "Epoch 125/450\n",
      "500/500 [==============================] - 0s 750us/sample - loss: 0.8182 - accuracy: 0.7300 - val_loss: 0.9039 - val_accuracy: 0.7170\n",
      "Epoch 126/450\n",
      "500/500 [==============================] - 0s 811us/sample - loss: 0.7368 - accuracy: 0.7700 - val_loss: 0.9062 - val_accuracy: 0.7195\n",
      "Epoch 127/450\n",
      "500/500 [==============================] - 0s 805us/sample - loss: 0.7811 - accuracy: 0.7200 - val_loss: 0.9084 - val_accuracy: 0.7179\n",
      "Epoch 128/450\n",
      "500/500 [==============================] - 0s 758us/sample - loss: 0.8194 - accuracy: 0.7060 - val_loss: 0.9056 - val_accuracy: 0.7183\n",
      "Epoch 129/450\n",
      "500/500 [==============================] - 0s 758us/sample - loss: 0.7504 - accuracy: 0.6980 - val_loss: 0.9028 - val_accuracy: 0.7199\n",
      "Epoch 130/450\n",
      "500/500 [==============================] - 0s 783us/sample - loss: 0.7542 - accuracy: 0.7600 - val_loss: 0.8994 - val_accuracy: 0.7199\n",
      "Epoch 131/450\n",
      "500/500 [==============================] - 0s 764us/sample - loss: 0.7855 - accuracy: 0.7640 - val_loss: 0.8997 - val_accuracy: 0.7183\n",
      "Epoch 132/450\n",
      "500/500 [==============================] - 0s 760us/sample - loss: 0.8327 - accuracy: 0.7340 - val_loss: 0.9045 - val_accuracy: 0.7191\n",
      "Epoch 133/450\n",
      "500/500 [==============================] - 0s 844us/sample - loss: 0.7773 - accuracy: 0.7100 - val_loss: 0.9060 - val_accuracy: 0.7158\n",
      "Epoch 134/450\n",
      "500/500 [==============================] - 0s 807us/sample - loss: 0.7677 - accuracy: 0.7540 - val_loss: 0.9078 - val_accuracy: 0.7150\n",
      "Epoch 135/450\n",
      "500/500 [==============================] - 0s 883us/sample - loss: 0.7529 - accuracy: 0.7500 - val_loss: 0.9001 - val_accuracy: 0.7162\n",
      "Epoch 136/450\n",
      "500/500 [==============================] - 0s 937us/sample - loss: 0.7498 - accuracy: 0.7500 - val_loss: 0.9002 - val_accuracy: 0.7142\n",
      "Epoch 137/450\n",
      "500/500 [==============================] - 0s 816us/sample - loss: 0.8029 - accuracy: 0.7360 - val_loss: 0.9056 - val_accuracy: 0.7129\n",
      "Epoch 138/450\n",
      "500/500 [==============================] - 0s 833us/sample - loss: 0.7535 - accuracy: 0.7460 - val_loss: 0.9048 - val_accuracy: 0.7142\n",
      "Epoch 139/450\n",
      "500/500 [==============================] - 0s 765us/sample - loss: 0.7834 - accuracy: 0.7220 - val_loss: 0.9109 - val_accuracy: 0.7105\n",
      "Epoch 140/450\n",
      "500/500 [==============================] - 0s 807us/sample - loss: 0.7917 - accuracy: 0.7540 - val_loss: 0.9118 - val_accuracy: 0.7105\n",
      "Epoch 141/450\n",
      "500/500 [==============================] - 0s 869us/sample - loss: 0.7687 - accuracy: 0.7340 - val_loss: 0.9089 - val_accuracy: 0.7133\n",
      "Epoch 142/450\n",
      "500/500 [==============================] - 0s 956us/sample - loss: 0.7468 - accuracy: 0.7440 - val_loss: 0.9115 - val_accuracy: 0.7162\n",
      "Epoch 143/450\n",
      "500/500 [==============================] - 0s 912us/sample - loss: 0.7481 - accuracy: 0.7480 - val_loss: 0.9083 - val_accuracy: 0.7187\n",
      "Epoch 144/450\n",
      "500/500 [==============================] - 0s 886us/sample - loss: 0.8110 - accuracy: 0.7140 - val_loss: 0.9083 - val_accuracy: 0.7166\n",
      "Epoch 145/450\n",
      "500/500 [==============================] - 0s 867us/sample - loss: 0.7660 - accuracy: 0.7340 - val_loss: 0.9080 - val_accuracy: 0.7150\n",
      "Epoch 146/450\n",
      "500/500 [==============================] - 0s 812us/sample - loss: 0.7429 - accuracy: 0.7520 - val_loss: 0.9067 - val_accuracy: 0.7109\n",
      "Epoch 147/450\n",
      "500/500 [==============================] - 0s 858us/sample - loss: 0.7653 - accuracy: 0.7480 - val_loss: 0.9024 - val_accuracy: 0.7125\n",
      "Epoch 148/450\n",
      "500/500 [==============================] - 0s 814us/sample - loss: 0.7768 - accuracy: 0.7280 - val_loss: 0.9051 - val_accuracy: 0.7138\n",
      "Epoch 149/450\n",
      "500/500 [==============================] - 0s 783us/sample - loss: 0.7682 - accuracy: 0.7400 - val_loss: 0.9025 - val_accuracy: 0.7162\n",
      "Epoch 150/450\n",
      "500/500 [==============================] - 0s 842us/sample - loss: 0.7435 - accuracy: 0.7760 - val_loss: 0.9028 - val_accuracy: 0.7170\n",
      "Epoch 151/450\n",
      "500/500 [==============================] - 0s 847us/sample - loss: 0.7453 - accuracy: 0.7180 - val_loss: 0.9095 - val_accuracy: 0.7146\n",
      "Epoch 152/450\n",
      "500/500 [==============================] - 0s 858us/sample - loss: 0.7399 - accuracy: 0.7660 - val_loss: 0.9157 - val_accuracy: 0.7113\n",
      "Epoch 153/450\n",
      "500/500 [==============================] - 0s 811us/sample - loss: 0.7284 - accuracy: 0.7420 - val_loss: 0.9142 - val_accuracy: 0.7121\n",
      "Epoch 154/450\n",
      "500/500 [==============================] - 0s 823us/sample - loss: 0.7666 - accuracy: 0.7260 - val_loss: 0.9122 - val_accuracy: 0.7125\n"
     ]
    }
   ],
   "source": [
    "optimizer = keras.optimizers.Adam(lr=0.00068)\n",
    "model_9a.compile(loss=\"sparse_categorical_crossentropy\", optimizer=optimizer, metrics=[\"accuracy\"])\n",
    "\n",
    "tensorboard = keras.callbacks.TensorBoard(get_run_logdir(\"_model_9a\"))\n",
    "checkpoint_cb = keras.callbacks.ModelCheckpoint(\"ch11_mnist_model_9a.h5\", save_best_only=True)\n",
    "early_stopping_cb = keras.callbacks.EarlyStopping(patience=50, restore_best_weights=True)\n",
    "\n",
    "history = model_9a.fit(x_train2_new, y_train2_new, epochs=450,\n",
    "                       validation_data=(x_valid2, y_valid2_new),\n",
    "                       callbacks=[checkpoint_cb, early_stopping_cb, tensorboard])"
   ]
  },
  {
   "cell_type": "code",
   "execution_count": 318,
   "metadata": {},
   "outputs": [
    {
     "name": "stdout",
     "output_type": "stream",
     "text": [
      "500/500 [==============================] - 0s 578us/sample - loss: 0.8679 - accuracy: 0.7340\n",
      "2442/2442 [==============================] - 1s 228us/sample - loss: 0.8904 - accuracy: 0.7187\n"
     ]
    },
    {
     "data": {
      "text/plain": [
       "[0.890367075080856, 0.7186732]"
      ]
     },
     "execution_count": 318,
     "metadata": {},
     "output_type": "execute_result"
    }
   ],
   "source": [
    "model_9a_loaded = keras.models.load_model('ch11_mnist_model_9a.h5')\n",
    "model_9a_loaded.evaluate(x_train2_new, y_train2_new),\n",
    "model_9a_loaded.evaluate(x_valid2, y_valid2_new)"
   ]
  },
  {
   "cell_type": "markdown",
   "metadata": {},
   "source": [
    "точность модели порядка 72% для обучающего набора из 500 данных достаточно не плохая я думаю. время обучения конечно существенно быстрее чем при обучении с нуля на полном обучающем наборе (см. лог выше)"
   ]
  },
  {
   "cell_type": "markdown",
   "metadata": {},
   "source": [
    "*c. Try caching the frozen layers, and train the model again: how much faster is it now?*\n",
    "\n",
    "Смысл в том, чтобы подсчитать для каждого экземпляра обучаюещего набора вывод вплоть до последнего замороженного слоя т.к. он не меняется в процессе обучения и использовать эти значения для определения весов последнего слоя без необходимости каждый раз вычислять проход сигнала по всем скрытым слоям. Полагаю это можно сделать только работая из под tf, а не в keras или полностью в ручном режиме. Не хочется.\n",
    "\n",
    "\n",
    "*d. Try again reusing just four hidden layers instead of five. Can you achieve a higher precision?*"
   ]
  },
  {
   "cell_type": "code",
   "execution_count": 351,
   "metadata": {},
   "outputs": [
    {
     "name": "stdout",
     "output_type": "stream",
     "text": [
      "dense False\n",
      "dense_1 False\n",
      "dense_2 False\n",
      "dense_3 False\n",
      "dense_7 True\n"
     ]
    }
   ],
   "source": [
    "model_9d = keras.models.load_model('ch11_mnist_model_9a.h5')\n",
    "for l in model_9d.layers:\n",
    "    if isinstance(l, tf.keras.layers.Dense):\n",
    "        print(l.name, l.trainable)"
   ]
  },
  {
   "cell_type": "code",
   "execution_count": 352,
   "metadata": {},
   "outputs": [
    {
     "name": "stdout",
     "output_type": "stream",
     "text": [
      "dense False\n",
      "dense_1 False\n",
      "dense_2 False\n",
      "dense_3 True\n",
      "dense_7 True\n"
     ]
    }
   ],
   "source": [
    "model_9d.get_layer('dense_3').trainable = True\n",
    "for l in model_9d.layers:\n",
    "    if isinstance(l, tf.keras.layers.Dense):\n",
    "        print(l.name, l.trainable)"
   ]
  },
  {
   "cell_type": "code",
   "execution_count": 356,
   "metadata": {},
   "outputs": [
    {
     "name": "stdout",
     "output_type": "stream",
     "text": [
      "Train on 500 samples, validate on 2442 samples\n",
      "Epoch 1/450\n",
      "500/500 [==============================] - 3s 5ms/sample - loss: 0.3428 - accuracy: 0.8940 - val_loss: 0.5803 - val_accuracy: 0.8133\n",
      "Epoch 2/450\n",
      "500/500 [==============================] - 0s 880us/sample - loss: 0.3510 - accuracy: 0.8820 - val_loss: 0.5929 - val_accuracy: 0.8071\n",
      "Epoch 3/450\n",
      "500/500 [==============================] - 0s 909us/sample - loss: 0.3786 - accuracy: 0.8720 - val_loss: 0.6021 - val_accuracy: 0.8047\n",
      "Epoch 4/450\n",
      "500/500 [==============================] - 1s 1ms/sample - loss: 0.3629 - accuracy: 0.8860 - val_loss: 0.6052 - val_accuracy: 0.8002\n",
      "Epoch 5/450\n",
      "500/500 [==============================] - 1s 1ms/sample - loss: 0.3655 - accuracy: 0.8720 - val_loss: 0.6115 - val_accuracy: 0.7998\n",
      "Epoch 6/450\n",
      "500/500 [==============================] - 1s 1ms/sample - loss: 0.3561 - accuracy: 0.8720 - val_loss: 0.6086 - val_accuracy: 0.7989\n",
      "Epoch 7/450\n",
      "500/500 [==============================] - 0s 977us/sample - loss: 0.3722 - accuracy: 0.8720 - val_loss: 0.6033 - val_accuracy: 0.8030\n",
      "Epoch 8/450\n",
      "500/500 [==============================] - 1s 1ms/sample - loss: 0.3361 - accuracy: 0.8880 - val_loss: 0.6007 - val_accuracy: 0.8051\n",
      "Epoch 9/450\n",
      "500/500 [==============================] - 1s 1ms/sample - loss: 0.4049 - accuracy: 0.8580 - val_loss: 0.5956 - val_accuracy: 0.8079\n",
      "Epoch 10/450\n",
      "500/500 [==============================] - 1s 2ms/sample - loss: 0.3638 - accuracy: 0.8780 - val_loss: 0.5944 - val_accuracy: 0.8071\n",
      "Epoch 11/450\n",
      "500/500 [==============================] - 1s 1ms/sample - loss: 0.3941 - accuracy: 0.8620 - val_loss: 0.5964 - val_accuracy: 0.8022\n",
      "Epoch 12/450\n",
      "500/500 [==============================] - 1s 1ms/sample - loss: 0.3881 - accuracy: 0.8600 - val_loss: 0.5929 - val_accuracy: 0.8022\n",
      "Epoch 13/450\n",
      "500/500 [==============================] - 0s 983us/sample - loss: 0.3314 - accuracy: 0.8840 - val_loss: 0.5988 - val_accuracy: 0.7989\n",
      "Epoch 14/450\n",
      "500/500 [==============================] - 0s 951us/sample - loss: 0.3961 - accuracy: 0.8760 - val_loss: 0.6000 - val_accuracy: 0.8034\n",
      "Epoch 15/450\n",
      "500/500 [==============================] - 1s 1ms/sample - loss: 0.3541 - accuracy: 0.8840 - val_loss: 0.6001 - val_accuracy: 0.8026\n",
      "Epoch 16/450\n",
      "500/500 [==============================] - 1s 1ms/sample - loss: 0.3642 - accuracy: 0.8840 - val_loss: 0.6120 - val_accuracy: 0.7985\n",
      "Epoch 17/450\n",
      "500/500 [==============================] - 1s 2ms/sample - loss: 0.3663 - accuracy: 0.8640 - val_loss: 0.6151 - val_accuracy: 0.7965\n",
      "Epoch 18/450\n",
      "500/500 [==============================] - 1s 2ms/sample - loss: 0.4050 - accuracy: 0.8580 - val_loss: 0.6043 - val_accuracy: 0.7985\n",
      "Epoch 19/450\n",
      "500/500 [==============================] - 1s 1ms/sample - loss: 0.3266 - accuracy: 0.8760 - val_loss: 0.5952 - val_accuracy: 0.8059\n",
      "Epoch 20/450\n",
      "500/500 [==============================] - 1s 1ms/sample - loss: 0.2956 - accuracy: 0.8960 - val_loss: 0.6008 - val_accuracy: 0.8006\n",
      "Epoch 21/450\n",
      "500/500 [==============================] - 0s 998us/sample - loss: 0.3414 - accuracy: 0.8920 - val_loss: 0.6030 - val_accuracy: 0.8014\n",
      "Epoch 22/450\n",
      "500/500 [==============================] - 1s 1ms/sample - loss: 0.3887 - accuracy: 0.8680 - val_loss: 0.5983 - val_accuracy: 0.8026\n",
      "Epoch 23/450\n",
      "500/500 [==============================] - 0s 980us/sample - loss: 0.3273 - accuracy: 0.8880 - val_loss: 0.5980 - val_accuracy: 0.8030\n",
      "Epoch 24/450\n",
      "500/500 [==============================] - 0s 980us/sample - loss: 0.3854 - accuracy: 0.8720 - val_loss: 0.5987 - val_accuracy: 0.8026\n",
      "Epoch 25/450\n",
      "500/500 [==============================] - 0s 945us/sample - loss: 0.3667 - accuracy: 0.8700 - val_loss: 0.6025 - val_accuracy: 0.8010\n",
      "Epoch 26/450\n",
      "500/500 [==============================] - 1s 1ms/sample - loss: 0.3910 - accuracy: 0.8900 - val_loss: 0.6025 - val_accuracy: 0.8030\n",
      "Epoch 27/450\n",
      "500/500 [==============================] - 1s 1ms/sample - loss: 0.3221 - accuracy: 0.8880 - val_loss: 0.6037 - val_accuracy: 0.7993\n",
      "Epoch 28/450\n",
      "500/500 [==============================] - 1s 1ms/sample - loss: 0.3789 - accuracy: 0.8560 - val_loss: 0.5994 - val_accuracy: 0.8051\n",
      "Epoch 29/450\n",
      "500/500 [==============================] - 0s 835us/sample - loss: 0.3498 - accuracy: 0.8760 - val_loss: 0.6026 - val_accuracy: 0.8047\n",
      "Epoch 30/450\n",
      "500/500 [==============================] - 0s 882us/sample - loss: 0.3369 - accuracy: 0.8800 - val_loss: 0.6042 - val_accuracy: 0.8034\n",
      "Epoch 31/450\n",
      "500/500 [==============================] - 0s 914us/sample - loss: 0.3809 - accuracy: 0.8600 - val_loss: 0.6051 - val_accuracy: 0.8043\n",
      "Epoch 32/450\n",
      "500/500 [==============================] - 0s 907us/sample - loss: 0.4413 - accuracy: 0.8600 - val_loss: 0.6058 - val_accuracy: 0.8059\n",
      "Epoch 33/450\n",
      "500/500 [==============================] - 0s 963us/sample - loss: 0.3815 - accuracy: 0.8700 - val_loss: 0.5995 - val_accuracy: 0.8071\n",
      "Epoch 34/450\n",
      "500/500 [==============================] - 0s 989us/sample - loss: 0.3916 - accuracy: 0.8520 - val_loss: 0.5957 - val_accuracy: 0.8043\n",
      "Epoch 35/450\n",
      "500/500 [==============================] - 0s 965us/sample - loss: 0.3451 - accuracy: 0.8700 - val_loss: 0.6044 - val_accuracy: 0.8022\n",
      "Epoch 36/450\n",
      "500/500 [==============================] - 1s 1ms/sample - loss: 0.3371 - accuracy: 0.8940 - val_loss: 0.6087 - val_accuracy: 0.7981\n",
      "Epoch 37/450\n",
      "500/500 [==============================] - 0s 849us/sample - loss: 0.3653 - accuracy: 0.8760 - val_loss: 0.6018 - val_accuracy: 0.8010\n",
      "Epoch 38/450\n",
      "500/500 [==============================] - 0s 948us/sample - loss: 0.3600 - accuracy: 0.8780 - val_loss: 0.5989 - val_accuracy: 0.8043\n",
      "Epoch 39/450\n",
      "500/500 [==============================] - 1s 1ms/sample - loss: 0.3358 - accuracy: 0.9080 - val_loss: 0.5954 - val_accuracy: 0.8034\n",
      "Epoch 40/450\n",
      "500/500 [==============================] - 1s 1ms/sample - loss: 0.3462 - accuracy: 0.8860 - val_loss: 0.5891 - val_accuracy: 0.8071\n",
      "Epoch 41/450\n",
      "500/500 [==============================] - 0s 988us/sample - loss: 0.3413 - accuracy: 0.8860 - val_loss: 0.5907 - val_accuracy: 0.8055\n",
      "Epoch 42/450\n",
      "500/500 [==============================] - 1s 1ms/sample - loss: 0.3573 - accuracy: 0.8720 - val_loss: 0.5976 - val_accuracy: 0.8038\n",
      "Epoch 43/450\n",
      "500/500 [==============================] - 1s 1ms/sample - loss: 0.3473 - accuracy: 0.8540 - val_loss: 0.5996 - val_accuracy: 0.8026\n",
      "Epoch 44/450\n",
      "500/500 [==============================] - 0s 925us/sample - loss: 0.3422 - accuracy: 0.8940 - val_loss: 0.5984 - val_accuracy: 0.8047\n",
      "Epoch 45/450\n",
      "500/500 [==============================] - 0s 884us/sample - loss: 0.3245 - accuracy: 0.9020 - val_loss: 0.6053 - val_accuracy: 0.8034\n",
      "Epoch 46/450\n",
      "500/500 [==============================] - 0s 889us/sample - loss: 0.3272 - accuracy: 0.8940 - val_loss: 0.6086 - val_accuracy: 0.8038\n",
      "Epoch 47/450\n",
      "500/500 [==============================] - 1s 1ms/sample - loss: 0.3511 - accuracy: 0.8740 - val_loss: 0.6084 - val_accuracy: 0.8030\n",
      "Epoch 48/450\n",
      "500/500 [==============================] - 0s 890us/sample - loss: 0.3698 - accuracy: 0.8680 - val_loss: 0.6087 - val_accuracy: 0.7977\n",
      "Epoch 49/450\n",
      "500/500 [==============================] - 0s 852us/sample - loss: 0.3205 - accuracy: 0.8680 - val_loss: 0.6122 - val_accuracy: 0.7961\n",
      "Epoch 50/450\n",
      "500/500 [==============================] - 0s 859us/sample - loss: 0.3345 - accuracy: 0.9020 - val_loss: 0.6064 - val_accuracy: 0.7998\n",
      "Epoch 51/450\n",
      "500/500 [==============================] - 0s 816us/sample - loss: 0.3221 - accuracy: 0.9040 - val_loss: 0.6041 - val_accuracy: 0.8063\n"
     ]
    }
   ],
   "source": [
    "optimizer = keras.optimizers.Adam(lr=0.00068)\n",
    "model_9d.compile(loss=\"sparse_categorical_crossentropy\", optimizer=optimizer, metrics=[\"accuracy\"])\n",
    "\n",
    "tensorboard = keras.callbacks.TensorBoard(get_run_logdir(\"_model_9d\"))\n",
    "checkpoint_cb = keras.callbacks.ModelCheckpoint(\"ch11_mnist_model_9d.h5\", save_best_only=True)\n",
    "early_stopping_cb = keras.callbacks.EarlyStopping(patience=50, restore_best_weights=True)\n",
    "\n",
    "history = model_9d.fit(x_train2_new, y_train2_new, epochs=450,\n",
    "                       validation_data=(x_valid2, y_valid2_new),\n",
    "                       callbacks=[checkpoint_cb, early_stopping_cb, tensorboard])"
   ]
  },
  {
   "cell_type": "code",
   "execution_count": 358,
   "metadata": {},
   "outputs": [
    {
     "name": "stdout",
     "output_type": "stream",
     "text": [
      "500/500 [==============================] - 0s 563us/sample - loss: 0.4750 - accuracy: 0.8560\n",
      "2442/2442 [==============================] - 1s 259us/sample - loss: 0.5803 - accuracy: 0.8133\n"
     ]
    },
    {
     "data": {
      "text/plain": [
       "[0.5803407753568317, 0.8132678]"
      ]
     },
     "execution_count": 358,
     "metadata": {},
     "output_type": "execute_result"
    }
   ],
   "source": [
    "model_9d_loaded = keras.models.load_model('ch11_mnist_model_9d.h5')\n",
    "model_9d_loaded.evaluate(x_train2_new, y_train2_new),\n",
    "model_9d_loaded.evaluate(x_valid2, y_valid2_new)"
   ]
  },
  {
   "cell_type": "markdown",
   "metadata": {},
   "source": [
    "it's better, but still not grate. \n",
    "\n",
    "*e. Now unfreeze the top two hidden layers and continue training: can you get the model to perform even better?*"
   ]
  },
  {
   "cell_type": "code",
   "execution_count": 360,
   "metadata": {},
   "outputs": [
    {
     "name": "stdout",
     "output_type": "stream",
     "text": [
      "dense False\n",
      "dense_1 False\n",
      "dense_2 True\n",
      "dense_3 True\n",
      "dense_7 True\n"
     ]
    }
   ],
   "source": [
    "model_9e = keras.models.load_model('ch11_mnist_model_9d.h5')\n",
    "model_9e.get_layer('dense_2').trainable = True\n",
    "for l in model_9e.layers:\n",
    "    if isinstance(l, tf.keras.layers.Dense):\n",
    "        print(l.name, l.trainable)"
   ]
  },
  {
   "cell_type": "code",
   "execution_count": 361,
   "metadata": {},
   "outputs": [
    {
     "name": "stdout",
     "output_type": "stream",
     "text": [
      "Train on 500 samples, validate on 2442 samples\n",
      "Epoch 1/450\n",
      "500/500 [==============================] - 2s 4ms/sample - loss: 0.3143 - accuracy: 0.9060 - val_loss: 0.5840 - val_accuracy: 0.8124\n",
      "Epoch 2/450\n",
      "500/500 [==============================] - 0s 919us/sample - loss: 0.3445 - accuracy: 0.8820 - val_loss: 0.5930 - val_accuracy: 0.8079\n",
      "Epoch 3/450\n",
      "500/500 [==============================] - 0s 844us/sample - loss: 0.3770 - accuracy: 0.8660 - val_loss: 0.5922 - val_accuracy: 0.8108\n",
      "Epoch 4/450\n",
      "500/500 [==============================] - 0s 826us/sample - loss: 0.3463 - accuracy: 0.8920 - val_loss: 0.5853 - val_accuracy: 0.8104\n",
      "Epoch 5/450\n",
      "500/500 [==============================] - 1s 1ms/sample - loss: 0.3515 - accuracy: 0.8800 - val_loss: 0.5879 - val_accuracy: 0.8055\n",
      "Epoch 6/450\n",
      "500/500 [==============================] - 1s 1ms/sample - loss: 0.3393 - accuracy: 0.8820 - val_loss: 0.5788 - val_accuracy: 0.8124\n",
      "Epoch 7/450\n",
      "500/500 [==============================] - 0s 888us/sample - loss: 0.3500 - accuracy: 0.8860 - val_loss: 0.5686 - val_accuracy: 0.8190\n",
      "Epoch 8/450\n",
      "500/500 [==============================] - 0s 985us/sample - loss: 0.3057 - accuracy: 0.9000 - val_loss: 0.5628 - val_accuracy: 0.8227\n",
      "Epoch 9/450\n",
      "500/500 [==============================] - 1s 1ms/sample - loss: 0.3800 - accuracy: 0.8760 - val_loss: 0.5524 - val_accuracy: 0.8219\n",
      "Epoch 10/450\n",
      "500/500 [==============================] - 1s 1ms/sample - loss: 0.3327 - accuracy: 0.8800 - val_loss: 0.5460 - val_accuracy: 0.8239\n",
      "Epoch 11/450\n",
      "500/500 [==============================] - 1s 1ms/sample - loss: 0.3526 - accuracy: 0.8760 - val_loss: 0.5460 - val_accuracy: 0.8186\n",
      "Epoch 12/450\n",
      "500/500 [==============================] - 1s 1ms/sample - loss: 0.3487 - accuracy: 0.8660 - val_loss: 0.5400 - val_accuracy: 0.8210\n",
      "Epoch 13/450\n",
      "500/500 [==============================] - 1s 1ms/sample - loss: 0.2990 - accuracy: 0.8920 - val_loss: 0.5447 - val_accuracy: 0.8165\n",
      "Epoch 14/450\n",
      "500/500 [==============================] - 1s 1ms/sample - loss: 0.3535 - accuracy: 0.8820 - val_loss: 0.5457 - val_accuracy: 0.8178\n",
      "Epoch 15/450\n",
      "500/500 [==============================] - 0s 933us/sample - loss: 0.3079 - accuracy: 0.9080 - val_loss: 0.5407 - val_accuracy: 0.8206\n",
      "Epoch 16/450\n",
      "500/500 [==============================] - 1s 1ms/sample - loss: 0.3215 - accuracy: 0.9000 - val_loss: 0.5491 - val_accuracy: 0.8174\n",
      "Epoch 17/450\n",
      "500/500 [==============================] - 0s 943us/sample - loss: 0.3140 - accuracy: 0.8860 - val_loss: 0.5490 - val_accuracy: 0.8202\n",
      "Epoch 18/450\n",
      "500/500 [==============================] - 0s 975us/sample - loss: 0.3450 - accuracy: 0.8820 - val_loss: 0.5376 - val_accuracy: 0.8227\n",
      "Epoch 19/450\n",
      "500/500 [==============================] - 1s 1ms/sample - loss: 0.2778 - accuracy: 0.9000 - val_loss: 0.5271 - val_accuracy: 0.8309\n",
      "Epoch 20/450\n",
      "500/500 [==============================] - 1s 1ms/sample - loss: 0.2492 - accuracy: 0.9080 - val_loss: 0.5307 - val_accuracy: 0.8251\n",
      "Epoch 21/450\n",
      "500/500 [==============================] - 1s 1ms/sample - loss: 0.3025 - accuracy: 0.8860 - val_loss: 0.5303 - val_accuracy: 0.8264\n",
      "Epoch 22/450\n",
      "500/500 [==============================] - 1s 1ms/sample - loss: 0.3148 - accuracy: 0.8860 - val_loss: 0.5241 - val_accuracy: 0.8325\n",
      "Epoch 23/450\n",
      "500/500 [==============================] - 1s 1ms/sample - loss: 0.2662 - accuracy: 0.9140 - val_loss: 0.5221 - val_accuracy: 0.8313\n",
      "Epoch 24/450\n",
      "500/500 [==============================] - 1s 1ms/sample - loss: 0.3142 - accuracy: 0.8920 - val_loss: 0.5195 - val_accuracy: 0.8284\n",
      "Epoch 25/450\n",
      "500/500 [==============================] - 1s 1ms/sample - loss: 0.2997 - accuracy: 0.9040 - val_loss: 0.5227 - val_accuracy: 0.8309\n",
      "Epoch 26/450\n",
      "500/500 [==============================] - 0s 980us/sample - loss: 0.3279 - accuracy: 0.9020 - val_loss: 0.5234 - val_accuracy: 0.8362\n",
      "Epoch 27/450\n",
      "500/500 [==============================] - 1s 1ms/sample - loss: 0.2630 - accuracy: 0.9160 - val_loss: 0.5260 - val_accuracy: 0.8358\n",
      "Epoch 28/450\n",
      "500/500 [==============================] - 1s 1ms/sample - loss: 0.3025 - accuracy: 0.8900 - val_loss: 0.5172 - val_accuracy: 0.8387\n",
      "Epoch 29/450\n",
      "500/500 [==============================] - 1s 1ms/sample - loss: 0.2873 - accuracy: 0.9040 - val_loss: 0.5180 - val_accuracy: 0.8317\n",
      "Epoch 30/450\n",
      "500/500 [==============================] - 1s 1ms/sample - loss: 0.2646 - accuracy: 0.9080 - val_loss: 0.5178 - val_accuracy: 0.8321\n",
      "Epoch 31/450\n",
      "500/500 [==============================] - 1s 1ms/sample - loss: 0.3118 - accuracy: 0.8940 - val_loss: 0.5156 - val_accuracy: 0.8370\n",
      "Epoch 32/450\n",
      "500/500 [==============================] - 1s 1ms/sample - loss: 0.3641 - accuracy: 0.8960 - val_loss: 0.5136 - val_accuracy: 0.8419\n",
      "Epoch 33/450\n",
      "500/500 [==============================] - 1s 1ms/sample - loss: 0.3028 - accuracy: 0.9040 - val_loss: 0.5033 - val_accuracy: 0.8452\n",
      "Epoch 34/450\n",
      "500/500 [==============================] - 1s 1ms/sample - loss: 0.3189 - accuracy: 0.8900 - val_loss: 0.4992 - val_accuracy: 0.8432\n",
      "Epoch 35/450\n",
      "500/500 [==============================] - 0s 986us/sample - loss: 0.2733 - accuracy: 0.9000 - val_loss: 0.5064 - val_accuracy: 0.8387\n",
      "Epoch 36/450\n",
      "500/500 [==============================] - 0s 940us/sample - loss: 0.2595 - accuracy: 0.9140 - val_loss: 0.5133 - val_accuracy: 0.8346\n",
      "Epoch 37/450\n",
      "500/500 [==============================] - 0s 920us/sample - loss: 0.2865 - accuracy: 0.9040 - val_loss: 0.5055 - val_accuracy: 0.8370\n",
      "Epoch 38/450\n",
      "500/500 [==============================] - 0s 974us/sample - loss: 0.2711 - accuracy: 0.9060 - val_loss: 0.5026 - val_accuracy: 0.8370\n",
      "Epoch 39/450\n",
      "500/500 [==============================] - 1s 1ms/sample - loss: 0.2577 - accuracy: 0.9260 - val_loss: 0.4989 - val_accuracy: 0.8415\n",
      "Epoch 40/450\n",
      "500/500 [==============================] - 1s 1ms/sample - loss: 0.2702 - accuracy: 0.9080 - val_loss: 0.4939 - val_accuracy: 0.8518\n",
      "Epoch 41/450\n",
      "500/500 [==============================] - 1s 1ms/sample - loss: 0.2599 - accuracy: 0.9140 - val_loss: 0.4929 - val_accuracy: 0.8522\n",
      "Epoch 42/450\n",
      "500/500 [==============================] - 1s 1ms/sample - loss: 0.2582 - accuracy: 0.9140 - val_loss: 0.4941 - val_accuracy: 0.8509\n",
      "Epoch 43/450\n",
      "500/500 [==============================] - 1s 1ms/sample - loss: 0.2542 - accuracy: 0.9040 - val_loss: 0.4923 - val_accuracy: 0.8501\n",
      "Epoch 44/450\n",
      "500/500 [==============================] - 1s 1ms/sample - loss: 0.2564 - accuracy: 0.9240 - val_loss: 0.4870 - val_accuracy: 0.8497\n",
      "Epoch 45/450\n",
      "500/500 [==============================] - 1s 1ms/sample - loss: 0.2488 - accuracy: 0.9300 - val_loss: 0.4903 - val_accuracy: 0.8481\n",
      "Epoch 46/450\n",
      "500/500 [==============================] - 1s 1ms/sample - loss: 0.2479 - accuracy: 0.9100 - val_loss: 0.4970 - val_accuracy: 0.8477\n",
      "Epoch 47/450\n",
      "500/500 [==============================] - 1s 1ms/sample - loss: 0.2501 - accuracy: 0.9140 - val_loss: 0.4999 - val_accuracy: 0.8464\n",
      "Epoch 48/450\n",
      "500/500 [==============================] - 0s 908us/sample - loss: 0.2812 - accuracy: 0.8980 - val_loss: 0.4981 - val_accuracy: 0.8428\n",
      "Epoch 49/450\n",
      "500/500 [==============================] - 0s 962us/sample - loss: 0.2263 - accuracy: 0.9300 - val_loss: 0.4927 - val_accuracy: 0.8473\n",
      "Epoch 50/450\n",
      "500/500 [==============================] - 1s 1ms/sample - loss: 0.2402 - accuracy: 0.9120 - val_loss: 0.4851 - val_accuracy: 0.8509\n",
      "Epoch 51/450\n",
      "500/500 [==============================] - 1s 1ms/sample - loss: 0.2352 - accuracy: 0.9280 - val_loss: 0.4837 - val_accuracy: 0.8522\n",
      "Epoch 52/450\n",
      "500/500 [==============================] - 1s 1ms/sample - loss: 0.2435 - accuracy: 0.9200 - val_loss: 0.4818 - val_accuracy: 0.8542\n",
      "Epoch 53/450\n",
      "500/500 [==============================] - 1s 1ms/sample - loss: 0.2102 - accuracy: 0.9280 - val_loss: 0.4779 - val_accuracy: 0.8563\n",
      "Epoch 54/450\n",
      "500/500 [==============================] - 1s 1ms/sample - loss: 0.2488 - accuracy: 0.9060 - val_loss: 0.4754 - val_accuracy: 0.8559\n",
      "Epoch 55/450\n",
      "500/500 [==============================] - 0s 983us/sample - loss: 0.2423 - accuracy: 0.9220 - val_loss: 0.4680 - val_accuracy: 0.8624\n",
      "Epoch 56/450\n",
      "500/500 [==============================] - 1s 1ms/sample - loss: 0.2447 - accuracy: 0.9240 - val_loss: 0.4670 - val_accuracy: 0.8636\n",
      "Epoch 57/450\n",
      "500/500 [==============================] - 0s 877us/sample - loss: 0.2467 - accuracy: 0.9180 - val_loss: 0.4696 - val_accuracy: 0.8620\n",
      "Epoch 58/450\n",
      "500/500 [==============================] - 0s 849us/sample - loss: 0.2749 - accuracy: 0.9100 - val_loss: 0.4675 - val_accuracy: 0.8649\n",
      "Epoch 59/450\n",
      "500/500 [==============================] - 0s 875us/sample - loss: 0.2872 - accuracy: 0.9080 - val_loss: 0.4670 - val_accuracy: 0.8616\n",
      "Epoch 60/450\n",
      "500/500 [==============================] - 0s 947us/sample - loss: 0.2399 - accuracy: 0.9140 - val_loss: 0.4703 - val_accuracy: 0.8657\n",
      "Epoch 61/450\n",
      "500/500 [==============================] - 1s 1ms/sample - loss: 0.2446 - accuracy: 0.9220 - val_loss: 0.4665 - val_accuracy: 0.8665\n",
      "Epoch 62/450\n",
      "500/500 [==============================] - 1s 1ms/sample - loss: 0.2753 - accuracy: 0.9080 - val_loss: 0.4648 - val_accuracy: 0.8632\n",
      "Epoch 63/450\n",
      "500/500 [==============================] - 1s 1ms/sample - loss: 0.1994 - accuracy: 0.9380 - val_loss: 0.4580 - val_accuracy: 0.8636\n",
      "Epoch 64/450\n",
      "500/500 [==============================] - 0s 777us/sample - loss: 0.2392 - accuracy: 0.9260 - val_loss: 0.4631 - val_accuracy: 0.8620\n",
      "Epoch 65/450\n",
      "500/500 [==============================] - 0s 812us/sample - loss: 0.2084 - accuracy: 0.9280 - val_loss: 0.4655 - val_accuracy: 0.8591\n",
      "Epoch 66/450\n",
      "500/500 [==============================] - 0s 874us/sample - loss: 0.2467 - accuracy: 0.9160 - val_loss: 0.4636 - val_accuracy: 0.8575\n",
      "Epoch 67/450\n",
      "500/500 [==============================] - 1s 1ms/sample - loss: 0.2464 - accuracy: 0.9100 - val_loss: 0.4643 - val_accuracy: 0.8579\n",
      "Epoch 68/450\n",
      "500/500 [==============================] - 0s 975us/sample - loss: 0.2077 - accuracy: 0.9360 - val_loss: 0.4602 - val_accuracy: 0.8571\n",
      "Epoch 69/450\n",
      "500/500 [==============================] - 1s 1ms/sample - loss: 0.2058 - accuracy: 0.9280 - val_loss: 0.4599 - val_accuracy: 0.8600\n",
      "Epoch 70/450\n",
      "500/500 [==============================] - 0s 862us/sample - loss: 0.2349 - accuracy: 0.9320 - val_loss: 0.4606 - val_accuracy: 0.8665\n",
      "Epoch 71/450\n",
      "500/500 [==============================] - 0s 921us/sample - loss: 0.1951 - accuracy: 0.9360 - val_loss: 0.4702 - val_accuracy: 0.8665\n",
      "Epoch 72/450\n",
      "500/500 [==============================] - 0s 932us/sample - loss: 0.2354 - accuracy: 0.9120 - val_loss: 0.4694 - val_accuracy: 0.8616\n",
      "Epoch 73/450\n",
      "500/500 [==============================] - 1s 1ms/sample - loss: 0.2113 - accuracy: 0.9400 - val_loss: 0.4656 - val_accuracy: 0.8616\n",
      "Epoch 74/450\n",
      "500/500 [==============================] - 0s 954us/sample - loss: 0.2161 - accuracy: 0.9320 - val_loss: 0.4649 - val_accuracy: 0.8616\n",
      "Epoch 75/450\n",
      "500/500 [==============================] - 0s 968us/sample - loss: 0.2115 - accuracy: 0.9220 - val_loss: 0.4577 - val_accuracy: 0.8628\n",
      "Epoch 76/450\n",
      "500/500 [==============================] - 0s 801us/sample - loss: 0.2057 - accuracy: 0.9380 - val_loss: 0.4578 - val_accuracy: 0.8640\n",
      "Epoch 77/450\n",
      "500/500 [==============================] - 0s 749us/sample - loss: 0.2117 - accuracy: 0.9420 - val_loss: 0.4640 - val_accuracy: 0.8640\n",
      "Epoch 78/450\n",
      "500/500 [==============================] - 0s 792us/sample - loss: 0.2134 - accuracy: 0.9320 - val_loss: 0.4649 - val_accuracy: 0.8649\n",
      "Epoch 79/450\n",
      "500/500 [==============================] - 0s 856us/sample - loss: 0.2472 - accuracy: 0.9300 - val_loss: 0.4570 - val_accuracy: 0.8616\n",
      "Epoch 80/450\n",
      "500/500 [==============================] - 0s 817us/sample - loss: 0.2039 - accuracy: 0.9360 - val_loss: 0.4617 - val_accuracy: 0.8612\n",
      "Epoch 81/450\n",
      "500/500 [==============================] - 0s 725us/sample - loss: 0.1680 - accuracy: 0.9500 - val_loss: 0.4638 - val_accuracy: 0.8624\n",
      "Epoch 82/450\n",
      "500/500 [==============================] - 0s 689us/sample - loss: 0.2022 - accuracy: 0.9360 - val_loss: 0.4650 - val_accuracy: 0.8636\n",
      "Epoch 83/450\n",
      "500/500 [==============================] - 1s 1ms/sample - loss: 0.2007 - accuracy: 0.9320 - val_loss: 0.4567 - val_accuracy: 0.8665\n",
      "Epoch 84/450\n",
      "500/500 [==============================] - 1s 1ms/sample - loss: 0.1981 - accuracy: 0.9300 - val_loss: 0.4497 - val_accuracy: 0.8673\n",
      "Epoch 85/450\n",
      "500/500 [==============================] - 1s 1ms/sample - loss: 0.2175 - accuracy: 0.9180 - val_loss: 0.4472 - val_accuracy: 0.8681\n",
      "Epoch 86/450\n",
      "500/500 [==============================] - 0s 812us/sample - loss: 0.2056 - accuracy: 0.9380 - val_loss: 0.4488 - val_accuracy: 0.8681\n",
      "Epoch 87/450\n",
      "500/500 [==============================] - 0s 863us/sample - loss: 0.2036 - accuracy: 0.9240 - val_loss: 0.4432 - val_accuracy: 0.8694\n",
      "Epoch 88/450\n",
      "500/500 [==============================] - 0s 870us/sample - loss: 0.1721 - accuracy: 0.9440 - val_loss: 0.4364 - val_accuracy: 0.8698\n",
      "Epoch 89/450\n",
      "500/500 [==============================] - 0s 955us/sample - loss: 0.2553 - accuracy: 0.9120 - val_loss: 0.4361 - val_accuracy: 0.8686\n",
      "Epoch 90/450\n",
      "500/500 [==============================] - 0s 951us/sample - loss: 0.2043 - accuracy: 0.9180 - val_loss: 0.4346 - val_accuracy: 0.8702\n",
      "Epoch 91/450\n",
      "500/500 [==============================] - 0s 930us/sample - loss: 0.2373 - accuracy: 0.9160 - val_loss: 0.4319 - val_accuracy: 0.8755\n",
      "Epoch 92/450\n",
      "500/500 [==============================] - 0s 765us/sample - loss: 0.2122 - accuracy: 0.9400 - val_loss: 0.4350 - val_accuracy: 0.8763\n",
      "Epoch 93/450\n",
      "500/500 [==============================] - 0s 830us/sample - loss: 0.1822 - accuracy: 0.9460 - val_loss: 0.4393 - val_accuracy: 0.8698\n",
      "Epoch 94/450\n",
      "500/500 [==============================] - 0s 813us/sample - loss: 0.2601 - accuracy: 0.9160 - val_loss: 0.4434 - val_accuracy: 0.8690\n",
      "Epoch 95/450\n",
      "500/500 [==============================] - 0s 765us/sample - loss: 0.2071 - accuracy: 0.9380 - val_loss: 0.4392 - val_accuracy: 0.8690\n",
      "Epoch 96/450\n",
      "500/500 [==============================] - 0s 955us/sample - loss: 0.2537 - accuracy: 0.9240 - val_loss: 0.4321 - val_accuracy: 0.8731\n",
      "Epoch 97/450\n",
      "500/500 [==============================] - 1s 1ms/sample - loss: 0.2014 - accuracy: 0.9380 - val_loss: 0.4302 - val_accuracy: 0.8690\n",
      "Epoch 98/450\n",
      "500/500 [==============================] - 1s 1ms/sample - loss: 0.2176 - accuracy: 0.9320 - val_loss: 0.4314 - val_accuracy: 0.8735\n",
      "Epoch 99/450\n",
      "500/500 [==============================] - 0s 776us/sample - loss: 0.1942 - accuracy: 0.9340 - val_loss: 0.4328 - val_accuracy: 0.8739\n",
      "Epoch 100/450\n",
      "500/500 [==============================] - 0s 760us/sample - loss: 0.2141 - accuracy: 0.9240 - val_loss: 0.4340 - val_accuracy: 0.8780\n",
      "Epoch 101/450\n",
      "500/500 [==============================] - 0s 972us/sample - loss: 0.2476 - accuracy: 0.9120 - val_loss: 0.4377 - val_accuracy: 0.8767\n",
      "Epoch 102/450\n",
      "500/500 [==============================] - 0s 862us/sample - loss: 0.2012 - accuracy: 0.9160 - val_loss: 0.4386 - val_accuracy: 0.8739\n",
      "Epoch 103/450\n",
      "500/500 [==============================] - 0s 880us/sample - loss: 0.2134 - accuracy: 0.9260 - val_loss: 0.4385 - val_accuracy: 0.8722\n",
      "Epoch 104/450\n",
      "500/500 [==============================] - 1s 1ms/sample - loss: 0.2485 - accuracy: 0.9240 - val_loss: 0.4354 - val_accuracy: 0.8763\n",
      "Epoch 105/450\n",
      "500/500 [==============================] - 0s 817us/sample - loss: 0.2048 - accuracy: 0.9280 - val_loss: 0.4343 - val_accuracy: 0.8771\n",
      "Epoch 106/450\n",
      "500/500 [==============================] - 1s 1ms/sample - loss: 0.2054 - accuracy: 0.9400 - val_loss: 0.4331 - val_accuracy: 0.8739\n",
      "Epoch 107/450\n",
      "500/500 [==============================] - 0s 873us/sample - loss: 0.2105 - accuracy: 0.9180 - val_loss: 0.4344 - val_accuracy: 0.8739\n",
      "Epoch 108/450\n",
      "500/500 [==============================] - 0s 901us/sample - loss: 0.1992 - accuracy: 0.9460 - val_loss: 0.4300 - val_accuracy: 0.8718\n",
      "Epoch 109/450\n",
      "500/500 [==============================] - 0s 835us/sample - loss: 0.1997 - accuracy: 0.9400 - val_loss: 0.4366 - val_accuracy: 0.8718\n",
      "Epoch 110/450\n",
      "500/500 [==============================] - 1s 1ms/sample - loss: 0.1898 - accuracy: 0.9360 - val_loss: 0.4390 - val_accuracy: 0.8714\n",
      "Epoch 111/450\n"
     ]
    },
    {
     "name": "stdout",
     "output_type": "stream",
     "text": [
      "500/500 [==============================] - 1s 1ms/sample - loss: 0.2137 - accuracy: 0.9460 - val_loss: 0.4389 - val_accuracy: 0.8714\n",
      "Epoch 112/450\n",
      "500/500 [==============================] - 0s 865us/sample - loss: 0.2221 - accuracy: 0.9260 - val_loss: 0.4331 - val_accuracy: 0.8763\n",
      "Epoch 113/450\n",
      "500/500 [==============================] - 0s 904us/sample - loss: 0.1994 - accuracy: 0.9320 - val_loss: 0.4344 - val_accuracy: 0.8771\n",
      "Epoch 114/450\n",
      "500/500 [==============================] - 0s 927us/sample - loss: 0.1833 - accuracy: 0.9460 - val_loss: 0.4344 - val_accuracy: 0.8755\n",
      "Epoch 115/450\n",
      "500/500 [==============================] - 0s 926us/sample - loss: 0.2279 - accuracy: 0.9300 - val_loss: 0.4311 - val_accuracy: 0.8755\n",
      "Epoch 116/450\n",
      "500/500 [==============================] - 0s 812us/sample - loss: 0.1821 - accuracy: 0.9400 - val_loss: 0.4336 - val_accuracy: 0.8780\n",
      "Epoch 117/450\n",
      "500/500 [==============================] - 0s 837us/sample - loss: 0.2596 - accuracy: 0.9000 - val_loss: 0.4342 - val_accuracy: 0.8800\n",
      "Epoch 118/450\n",
      "500/500 [==============================] - 0s 850us/sample - loss: 0.1713 - accuracy: 0.9340 - val_loss: 0.4349 - val_accuracy: 0.8776\n",
      "Epoch 119/450\n",
      "500/500 [==============================] - 0s 900us/sample - loss: 0.2006 - accuracy: 0.9360 - val_loss: 0.4339 - val_accuracy: 0.8788\n",
      "Epoch 120/450\n",
      "500/500 [==============================] - 1s 1ms/sample - loss: 0.2353 - accuracy: 0.9160 - val_loss: 0.4368 - val_accuracy: 0.8796\n",
      "Epoch 121/450\n",
      "500/500 [==============================] - 1s 1ms/sample - loss: 0.1623 - accuracy: 0.9420 - val_loss: 0.4413 - val_accuracy: 0.8747\n",
      "Epoch 122/450\n",
      "500/500 [==============================] - 0s 972us/sample - loss: 0.1740 - accuracy: 0.9520 - val_loss: 0.4477 - val_accuracy: 0.8747\n",
      "Epoch 123/450\n",
      "500/500 [==============================] - 0s 869us/sample - loss: 0.1985 - accuracy: 0.9240 - val_loss: 0.4431 - val_accuracy: 0.8755\n",
      "Epoch 124/450\n",
      "500/500 [==============================] - 0s 822us/sample - loss: 0.2041 - accuracy: 0.9400 - val_loss: 0.4382 - val_accuracy: 0.8767\n",
      "Epoch 125/450\n",
      "500/500 [==============================] - 1s 1ms/sample - loss: 0.1899 - accuracy: 0.9320 - val_loss: 0.4360 - val_accuracy: 0.8812\n",
      "Epoch 126/450\n",
      "500/500 [==============================] - 1s 1ms/sample - loss: 0.1986 - accuracy: 0.9380 - val_loss: 0.4340 - val_accuracy: 0.8796\n",
      "Epoch 127/450\n",
      "500/500 [==============================] - 0s 927us/sample - loss: 0.2298 - accuracy: 0.9340 - val_loss: 0.4329 - val_accuracy: 0.8812\n",
      "Epoch 128/450\n",
      "500/500 [==============================] - 1s 1ms/sample - loss: 0.1926 - accuracy: 0.9420 - val_loss: 0.4295 - val_accuracy: 0.8841\n",
      "Epoch 129/450\n",
      "500/500 [==============================] - 1s 1ms/sample - loss: 0.1821 - accuracy: 0.9380 - val_loss: 0.4310 - val_accuracy: 0.8817\n",
      "Epoch 130/450\n",
      "500/500 [==============================] - 0s 947us/sample - loss: 0.2090 - accuracy: 0.9340 - val_loss: 0.4364 - val_accuracy: 0.8771\n",
      "Epoch 131/450\n",
      "500/500 [==============================] - 1s 1ms/sample - loss: 0.2054 - accuracy: 0.9360 - val_loss: 0.4354 - val_accuracy: 0.8804\n",
      "Epoch 132/450\n",
      "500/500 [==============================] - 0s 864us/sample - loss: 0.1784 - accuracy: 0.9400 - val_loss: 0.4352 - val_accuracy: 0.8796\n",
      "Epoch 133/450\n",
      "500/500 [==============================] - 0s 807us/sample - loss: 0.2342 - accuracy: 0.9300 - val_loss: 0.4379 - val_accuracy: 0.8845\n",
      "Epoch 134/450\n",
      "500/500 [==============================] - 1s 1ms/sample - loss: 0.1799 - accuracy: 0.9400 - val_loss: 0.4434 - val_accuracy: 0.8841\n",
      "Epoch 135/450\n",
      "500/500 [==============================] - 0s 991us/sample - loss: 0.1723 - accuracy: 0.9380 - val_loss: 0.4513 - val_accuracy: 0.8792\n",
      "Epoch 136/450\n",
      "500/500 [==============================] - 1s 1ms/sample - loss: 0.1851 - accuracy: 0.9480 - val_loss: 0.4468 - val_accuracy: 0.8800\n",
      "Epoch 137/450\n",
      "500/500 [==============================] - 1s 1ms/sample - loss: 0.1968 - accuracy: 0.9380 - val_loss: 0.4499 - val_accuracy: 0.8763\n",
      "Epoch 138/450\n",
      "500/500 [==============================] - 1s 1ms/sample - loss: 0.1821 - accuracy: 0.9360 - val_loss: 0.4482 - val_accuracy: 0.8808\n",
      "Epoch 139/450\n",
      "500/500 [==============================] - 0s 975us/sample - loss: 0.1857 - accuracy: 0.9380 - val_loss: 0.4485 - val_accuracy: 0.8808\n",
      "Epoch 140/450\n",
      "500/500 [==============================] - 0s 937us/sample - loss: 0.1998 - accuracy: 0.9340 - val_loss: 0.4436 - val_accuracy: 0.8776\n",
      "Epoch 141/450\n",
      "500/500 [==============================] - 1s 1ms/sample - loss: 0.1857 - accuracy: 0.9460 - val_loss: 0.4485 - val_accuracy: 0.8788\n",
      "Epoch 142/450\n",
      "500/500 [==============================] - 0s 976us/sample - loss: 0.1919 - accuracy: 0.9400 - val_loss: 0.4534 - val_accuracy: 0.8776\n",
      "Epoch 143/450\n",
      "500/500 [==============================] - 0s 951us/sample - loss: 0.1756 - accuracy: 0.9480 - val_loss: 0.4556 - val_accuracy: 0.8788\n",
      "Epoch 144/450\n",
      "500/500 [==============================] - 1s 1ms/sample - loss: 0.2105 - accuracy: 0.9220 - val_loss: 0.4645 - val_accuracy: 0.8796\n",
      "Epoch 145/450\n",
      "500/500 [==============================] - 1s 1ms/sample - loss: 0.1811 - accuracy: 0.9380 - val_loss: 0.4603 - val_accuracy: 0.8796\n",
      "Epoch 146/450\n",
      "500/500 [==============================] - 1s 1ms/sample - loss: 0.1764 - accuracy: 0.9500 - val_loss: 0.4499 - val_accuracy: 0.8784\n",
      "Epoch 147/450\n",
      "500/500 [==============================] - 1s 1ms/sample - loss: 0.2122 - accuracy: 0.9340 - val_loss: 0.4499 - val_accuracy: 0.8759\n",
      "Epoch 148/450\n",
      "500/500 [==============================] - 0s 866us/sample - loss: 0.2035 - accuracy: 0.9280 - val_loss: 0.4512 - val_accuracy: 0.8780\n",
      "Epoch 149/450\n",
      "500/500 [==============================] - 0s 843us/sample - loss: 0.1878 - accuracy: 0.9340 - val_loss: 0.4554 - val_accuracy: 0.8821\n",
      "Epoch 150/450\n",
      "500/500 [==============================] - 0s 893us/sample - loss: 0.1616 - accuracy: 0.9500 - val_loss: 0.4511 - val_accuracy: 0.8792\n",
      "Epoch 151/450\n",
      "500/500 [==============================] - 0s 952us/sample - loss: 0.1791 - accuracy: 0.9540 - val_loss: 0.4448 - val_accuracy: 0.8808\n",
      "Epoch 152/450\n",
      "500/500 [==============================] - 0s 999us/sample - loss: 0.2050 - accuracy: 0.9340 - val_loss: 0.4432 - val_accuracy: 0.8804\n",
      "Epoch 153/450\n",
      "500/500 [==============================] - 0s 943us/sample - loss: 0.1622 - accuracy: 0.9500 - val_loss: 0.4409 - val_accuracy: 0.8788\n",
      "Epoch 154/450\n",
      "500/500 [==============================] - 0s 870us/sample - loss: 0.2252 - accuracy: 0.9160 - val_loss: 0.4436 - val_accuracy: 0.8808\n",
      "Epoch 155/450\n",
      "500/500 [==============================] - 1s 1ms/sample - loss: 0.1855 - accuracy: 0.9480 - val_loss: 0.4413 - val_accuracy: 0.8821\n",
      "Epoch 156/450\n",
      "500/500 [==============================] - 0s 992us/sample - loss: 0.1635 - accuracy: 0.9520 - val_loss: 0.4430 - val_accuracy: 0.8825\n",
      "Epoch 157/450\n",
      "500/500 [==============================] - 1s 1ms/sample - loss: 0.1769 - accuracy: 0.9540 - val_loss: 0.4408 - val_accuracy: 0.8817\n",
      "Epoch 158/450\n",
      "500/500 [==============================] - 0s 884us/sample - loss: 0.2135 - accuracy: 0.9400 - val_loss: 0.4367 - val_accuracy: 0.8853\n",
      "Epoch 159/450\n",
      "500/500 [==============================] - 0s 915us/sample - loss: 0.1745 - accuracy: 0.9480 - val_loss: 0.4384 - val_accuracy: 0.8784\n",
      "Epoch 160/450\n",
      "500/500 [==============================] - 0s 833us/sample - loss: 0.1953 - accuracy: 0.9360 - val_loss: 0.4406 - val_accuracy: 0.8845\n",
      "Epoch 161/450\n",
      "500/500 [==============================] - 0s 848us/sample - loss: 0.1973 - accuracy: 0.9300 - val_loss: 0.4444 - val_accuracy: 0.8837\n",
      "Epoch 162/450\n",
      "500/500 [==============================] - 0s 812us/sample - loss: 0.1888 - accuracy: 0.9420 - val_loss: 0.4470 - val_accuracy: 0.8829\n",
      "Epoch 163/450\n",
      "500/500 [==============================] - 0s 909us/sample - loss: 0.2159 - accuracy: 0.9300 - val_loss: 0.4382 - val_accuracy: 0.8857\n",
      "Epoch 164/450\n",
      "500/500 [==============================] - 0s 954us/sample - loss: 0.1731 - accuracy: 0.9440 - val_loss: 0.4332 - val_accuracy: 0.8845\n",
      "Epoch 165/450\n",
      "500/500 [==============================] - 1s 1ms/sample - loss: 0.2138 - accuracy: 0.9180 - val_loss: 0.4343 - val_accuracy: 0.8804\n",
      "Epoch 166/450\n",
      "500/500 [==============================] - 0s 848us/sample - loss: 0.1809 - accuracy: 0.9440 - val_loss: 0.4344 - val_accuracy: 0.8857\n",
      "Epoch 167/450\n",
      "500/500 [==============================] - 1s 1ms/sample - loss: 0.1663 - accuracy: 0.9520 - val_loss: 0.4303 - val_accuracy: 0.8874\n",
      "Epoch 168/450\n",
      "500/500 [==============================] - 1s 1ms/sample - loss: 0.1814 - accuracy: 0.9320 - val_loss: 0.4271 - val_accuracy: 0.8882\n",
      "Epoch 169/450\n",
      "500/500 [==============================] - 0s 980us/sample - loss: 0.2170 - accuracy: 0.9260 - val_loss: 0.4326 - val_accuracy: 0.8878\n",
      "Epoch 170/450\n",
      "500/500 [==============================] - 0s 770us/sample - loss: 0.1670 - accuracy: 0.9520 - val_loss: 0.4342 - val_accuracy: 0.8894\n",
      "Epoch 171/450\n",
      "500/500 [==============================] - 0s 858us/sample - loss: 0.1505 - accuracy: 0.9400 - val_loss: 0.4340 - val_accuracy: 0.8874\n",
      "Epoch 172/450\n",
      "500/500 [==============================] - 0s 835us/sample - loss: 0.1603 - accuracy: 0.9400 - val_loss: 0.4275 - val_accuracy: 0.8903\n",
      "Epoch 173/450\n",
      "500/500 [==============================] - 1s 1ms/sample - loss: 0.2057 - accuracy: 0.9360 - val_loss: 0.4239 - val_accuracy: 0.8898\n",
      "Epoch 174/450\n",
      "500/500 [==============================] - 0s 836us/sample - loss: 0.1709 - accuracy: 0.9500 - val_loss: 0.4280 - val_accuracy: 0.8915\n",
      "Epoch 175/450\n",
      "500/500 [==============================] - 0s 784us/sample - loss: 0.1521 - accuracy: 0.9540 - val_loss: 0.4262 - val_accuracy: 0.8927\n",
      "Epoch 176/450\n",
      "500/500 [==============================] - 0s 920us/sample - loss: 0.1857 - accuracy: 0.9440 - val_loss: 0.4239 - val_accuracy: 0.8931\n",
      "Epoch 177/450\n",
      "500/500 [==============================] - 0s 892us/sample - loss: 0.1364 - accuracy: 0.9640 - val_loss: 0.4273 - val_accuracy: 0.8919\n",
      "Epoch 178/450\n",
      "500/500 [==============================] - 1s 1ms/sample - loss: 0.2026 - accuracy: 0.9300 - val_loss: 0.4217 - val_accuracy: 0.8886\n",
      "Epoch 179/450\n",
      "500/500 [==============================] - 0s 912us/sample - loss: 0.1575 - accuracy: 0.9620 - val_loss: 0.4239 - val_accuracy: 0.8853\n",
      "Epoch 180/450\n",
      "500/500 [==============================] - 1s 1ms/sample - loss: 0.1552 - accuracy: 0.9460 - val_loss: 0.4202 - val_accuracy: 0.8862\n",
      "Epoch 181/450\n",
      "500/500 [==============================] - 1s 1ms/sample - loss: 0.1731 - accuracy: 0.9600 - val_loss: 0.4190 - val_accuracy: 0.8866\n",
      "Epoch 182/450\n",
      "500/500 [==============================] - 0s 951us/sample - loss: 0.1745 - accuracy: 0.9360 - val_loss: 0.4212 - val_accuracy: 0.8898\n",
      "Epoch 183/450\n",
      "500/500 [==============================] - 0s 820us/sample - loss: 0.2240 - accuracy: 0.9280 - val_loss: 0.4349 - val_accuracy: 0.8853\n",
      "Epoch 184/450\n",
      "500/500 [==============================] - 0s 827us/sample - loss: 0.1608 - accuracy: 0.9380 - val_loss: 0.4455 - val_accuracy: 0.8821\n",
      "Epoch 185/450\n",
      "500/500 [==============================] - 0s 792us/sample - loss: 0.1542 - accuracy: 0.9520 - val_loss: 0.4475 - val_accuracy: 0.8804\n",
      "Epoch 186/450\n",
      "500/500 [==============================] - 0s 885us/sample - loss: 0.1487 - accuracy: 0.9600 - val_loss: 0.4480 - val_accuracy: 0.8825\n",
      "Epoch 187/450\n",
      "500/500 [==============================] - 0s 832us/sample - loss: 0.1775 - accuracy: 0.9380 - val_loss: 0.4392 - val_accuracy: 0.8878\n",
      "Epoch 188/450\n",
      "500/500 [==============================] - 0s 798us/sample - loss: 0.1679 - accuracy: 0.9580 - val_loss: 0.4361 - val_accuracy: 0.8874\n",
      "Epoch 189/450\n",
      "500/500 [==============================] - 0s 858us/sample - loss: 0.1629 - accuracy: 0.9460 - val_loss: 0.4315 - val_accuracy: 0.8878\n",
      "Epoch 190/450\n",
      "500/500 [==============================] - 0s 872us/sample - loss: 0.1711 - accuracy: 0.9420 - val_loss: 0.4307 - val_accuracy: 0.8866\n",
      "Epoch 191/450\n",
      "500/500 [==============================] - 0s 944us/sample - loss: 0.1808 - accuracy: 0.9420 - val_loss: 0.4315 - val_accuracy: 0.8878\n",
      "Epoch 192/450\n",
      "500/500 [==============================] - 0s 843us/sample - loss: 0.1377 - accuracy: 0.9500 - val_loss: 0.4332 - val_accuracy: 0.8886\n",
      "Epoch 193/450\n",
      "500/500 [==============================] - 0s 930us/sample - loss: 0.1538 - accuracy: 0.9520 - val_loss: 0.4316 - val_accuracy: 0.8882\n",
      "Epoch 194/450\n",
      "500/500 [==============================] - 0s 888us/sample - loss: 0.1621 - accuracy: 0.9480 - val_loss: 0.4350 - val_accuracy: 0.8862\n",
      "Epoch 195/450\n",
      "500/500 [==============================] - 1s 1ms/sample - loss: 0.1410 - accuracy: 0.9560 - val_loss: 0.4350 - val_accuracy: 0.8890\n",
      "Epoch 196/450\n",
      "500/500 [==============================] - 0s 940us/sample - loss: 0.1524 - accuracy: 0.9460 - val_loss: 0.4284 - val_accuracy: 0.8882\n",
      "Epoch 197/450\n",
      "500/500 [==============================] - 0s 936us/sample - loss: 0.1696 - accuracy: 0.9480 - val_loss: 0.4317 - val_accuracy: 0.8841\n",
      "Epoch 198/450\n",
      "500/500 [==============================] - 0s 939us/sample - loss: 0.1558 - accuracy: 0.9620 - val_loss: 0.4361 - val_accuracy: 0.8845\n",
      "Epoch 199/450\n",
      "500/500 [==============================] - 0s 900us/sample - loss: 0.1943 - accuracy: 0.9320 - val_loss: 0.4325 - val_accuracy: 0.8894\n",
      "Epoch 200/450\n",
      "500/500 [==============================] - 0s 917us/sample - loss: 0.1459 - accuracy: 0.9420 - val_loss: 0.4266 - val_accuracy: 0.8911\n",
      "Epoch 201/450\n",
      "500/500 [==============================] - 0s 878us/sample - loss: 0.1667 - accuracy: 0.9380 - val_loss: 0.4221 - val_accuracy: 0.8935\n",
      "Epoch 202/450\n",
      "500/500 [==============================] - 0s 978us/sample - loss: 0.1724 - accuracy: 0.9460 - val_loss: 0.4217 - val_accuracy: 0.8894\n",
      "Epoch 203/450\n",
      "500/500 [==============================] - 0s 886us/sample - loss: 0.2439 - accuracy: 0.9100 - val_loss: 0.4287 - val_accuracy: 0.8927\n",
      "Epoch 204/450\n",
      "500/500 [==============================] - 0s 911us/sample - loss: 0.1911 - accuracy: 0.9340 - val_loss: 0.4302 - val_accuracy: 0.8874\n",
      "Epoch 205/450\n",
      "500/500 [==============================] - 0s 826us/sample - loss: 0.1262 - accuracy: 0.9660 - val_loss: 0.4245 - val_accuracy: 0.8882\n",
      "Epoch 206/450\n",
      "500/500 [==============================] - 0s 963us/sample - loss: 0.1524 - accuracy: 0.9460 - val_loss: 0.4219 - val_accuracy: 0.8898\n",
      "Epoch 207/450\n",
      "500/500 [==============================] - 0s 879us/sample - loss: 0.1651 - accuracy: 0.9480 - val_loss: 0.4225 - val_accuracy: 0.8915\n",
      "Epoch 208/450\n",
      "500/500 [==============================] - 0s 898us/sample - loss: 0.1636 - accuracy: 0.9460 - val_loss: 0.4259 - val_accuracy: 0.8911\n",
      "Epoch 209/450\n",
      "500/500 [==============================] - 0s 900us/sample - loss: 0.1249 - accuracy: 0.9700 - val_loss: 0.4280 - val_accuracy: 0.8915\n",
      "Epoch 210/450\n",
      "500/500 [==============================] - 0s 895us/sample - loss: 0.1380 - accuracy: 0.9540 - val_loss: 0.4298 - val_accuracy: 0.8894\n",
      "Epoch 211/450\n",
      "500/500 [==============================] - 0s 830us/sample - loss: 0.1378 - accuracy: 0.9580 - val_loss: 0.4257 - val_accuracy: 0.8935\n",
      "Epoch 212/450\n",
      "500/500 [==============================] - 0s 884us/sample - loss: 0.1500 - accuracy: 0.9400 - val_loss: 0.4308 - val_accuracy: 0.8894\n",
      "Epoch 213/450\n",
      "500/500 [==============================] - 0s 918us/sample - loss: 0.1285 - accuracy: 0.9620 - val_loss: 0.4355 - val_accuracy: 0.8841\n",
      "Epoch 214/450\n",
      "500/500 [==============================] - 0s 833us/sample - loss: 0.1846 - accuracy: 0.9420 - val_loss: 0.4370 - val_accuracy: 0.8841\n",
      "Epoch 215/450\n",
      "500/500 [==============================] - 0s 880us/sample - loss: 0.1658 - accuracy: 0.9440 - val_loss: 0.4352 - val_accuracy: 0.8915\n",
      "Epoch 216/450\n",
      "500/500 [==============================] - 0s 864us/sample - loss: 0.1568 - accuracy: 0.9420 - val_loss: 0.4353 - val_accuracy: 0.8915\n",
      "Epoch 217/450\n",
      "500/500 [==============================] - 0s 869us/sample - loss: 0.1721 - accuracy: 0.9460 - val_loss: 0.4346 - val_accuracy: 0.8878\n",
      "Epoch 218/450\n",
      "500/500 [==============================] - 0s 838us/sample - loss: 0.1913 - accuracy: 0.9320 - val_loss: 0.4353 - val_accuracy: 0.8878\n",
      "Epoch 219/450\n",
      "500/500 [==============================] - 0s 810us/sample - loss: 0.1412 - accuracy: 0.9600 - val_loss: 0.4373 - val_accuracy: 0.8882\n",
      "Epoch 220/450\n",
      "500/500 [==============================] - 0s 812us/sample - loss: 0.1620 - accuracy: 0.9440 - val_loss: 0.4400 - val_accuracy: 0.8886\n",
      "Epoch 221/450\n"
     ]
    },
    {
     "name": "stdout",
     "output_type": "stream",
     "text": [
      "500/500 [==============================] - 0s 933us/sample - loss: 0.1207 - accuracy: 0.9580 - val_loss: 0.4408 - val_accuracy: 0.8915\n",
      "Epoch 222/450\n",
      "500/500 [==============================] - 0s 921us/sample - loss: 0.1381 - accuracy: 0.9520 - val_loss: 0.4411 - val_accuracy: 0.8903\n",
      "Epoch 223/450\n",
      "500/500 [==============================] - 0s 942us/sample - loss: 0.1510 - accuracy: 0.9500 - val_loss: 0.4442 - val_accuracy: 0.8927\n",
      "Epoch 224/450\n",
      "500/500 [==============================] - 1s 1ms/sample - loss: 0.1344 - accuracy: 0.9700 - val_loss: 0.4403 - val_accuracy: 0.8923\n",
      "Epoch 225/450\n",
      "500/500 [==============================] - 0s 985us/sample - loss: 0.1383 - accuracy: 0.9500 - val_loss: 0.4357 - val_accuracy: 0.8878\n",
      "Epoch 226/450\n",
      "500/500 [==============================] - 0s 903us/sample - loss: 0.1652 - accuracy: 0.9440 - val_loss: 0.4256 - val_accuracy: 0.8923\n",
      "Epoch 227/450\n",
      "500/500 [==============================] - 0s 895us/sample - loss: 0.1860 - accuracy: 0.9380 - val_loss: 0.4230 - val_accuracy: 0.8907\n",
      "Epoch 228/450\n",
      "500/500 [==============================] - 0s 920us/sample - loss: 0.1337 - accuracy: 0.9560 - val_loss: 0.4224 - val_accuracy: 0.8923\n",
      "Epoch 229/450\n",
      "500/500 [==============================] - 0s 934us/sample - loss: 0.1560 - accuracy: 0.9500 - val_loss: 0.4206 - val_accuracy: 0.8948\n",
      "Epoch 230/450\n",
      "500/500 [==============================] - 0s 857us/sample - loss: 0.1340 - accuracy: 0.9660 - val_loss: 0.4199 - val_accuracy: 0.8980\n",
      "Epoch 231/450\n",
      "500/500 [==============================] - 0s 977us/sample - loss: 0.1340 - accuracy: 0.9660 - val_loss: 0.4162 - val_accuracy: 0.8960\n",
      "Epoch 232/450\n",
      "500/500 [==============================] - 1s 1ms/sample - loss: 0.1437 - accuracy: 0.9600 - val_loss: 0.4123 - val_accuracy: 0.8968\n",
      "Epoch 233/450\n",
      "500/500 [==============================] - 0s 966us/sample - loss: 0.1267 - accuracy: 0.9640 - val_loss: 0.4104 - val_accuracy: 0.8976\n",
      "Epoch 234/450\n",
      "500/500 [==============================] - 0s 944us/sample - loss: 0.1759 - accuracy: 0.9400 - val_loss: 0.4128 - val_accuracy: 0.8972\n",
      "Epoch 235/450\n",
      "500/500 [==============================] - 0s 883us/sample - loss: 0.1546 - accuracy: 0.9500 - val_loss: 0.4219 - val_accuracy: 0.8943\n",
      "Epoch 236/450\n",
      "500/500 [==============================] - 0s 798us/sample - loss: 0.1411 - accuracy: 0.9480 - val_loss: 0.4278 - val_accuracy: 0.8923\n",
      "Epoch 237/450\n",
      "500/500 [==============================] - 0s 936us/sample - loss: 0.1785 - accuracy: 0.9400 - val_loss: 0.4320 - val_accuracy: 0.8915\n",
      "Epoch 238/450\n",
      "500/500 [==============================] - 0s 891us/sample - loss: 0.1531 - accuracy: 0.9620 - val_loss: 0.4257 - val_accuracy: 0.8948\n",
      "Epoch 239/450\n",
      "500/500 [==============================] - 0s 854us/sample - loss: 0.1503 - accuracy: 0.9540 - val_loss: 0.4272 - val_accuracy: 0.8919\n",
      "Epoch 240/450\n",
      "500/500 [==============================] - 1s 1ms/sample - loss: 0.1708 - accuracy: 0.9420 - val_loss: 0.4217 - val_accuracy: 0.8882\n",
      "Epoch 241/450\n",
      "500/500 [==============================] - 0s 937us/sample - loss: 0.1428 - accuracy: 0.9580 - val_loss: 0.4292 - val_accuracy: 0.8882\n",
      "Epoch 242/450\n",
      "500/500 [==============================] - 1s 1ms/sample - loss: 0.1575 - accuracy: 0.9540 - val_loss: 0.4349 - val_accuracy: 0.8857\n",
      "Epoch 243/450\n",
      "500/500 [==============================] - 0s 884us/sample - loss: 0.1542 - accuracy: 0.9500 - val_loss: 0.4346 - val_accuracy: 0.8845\n",
      "Epoch 244/450\n",
      "500/500 [==============================] - 0s 979us/sample - loss: 0.1564 - accuracy: 0.9500 - val_loss: 0.4331 - val_accuracy: 0.8874\n",
      "Epoch 245/450\n",
      "500/500 [==============================] - 1s 1ms/sample - loss: 0.1230 - accuracy: 0.9500 - val_loss: 0.4344 - val_accuracy: 0.8866\n",
      "Epoch 246/450\n",
      "500/500 [==============================] - 0s 910us/sample - loss: 0.1581 - accuracy: 0.9520 - val_loss: 0.4411 - val_accuracy: 0.8853\n",
      "Epoch 247/450\n",
      "500/500 [==============================] - 1s 1ms/sample - loss: 0.1459 - accuracy: 0.9580 - val_loss: 0.4378 - val_accuracy: 0.8862\n",
      "Epoch 248/450\n",
      "500/500 [==============================] - 0s 889us/sample - loss: 0.1144 - accuracy: 0.9680 - val_loss: 0.4383 - val_accuracy: 0.8886\n",
      "Epoch 249/450\n",
      "500/500 [==============================] - 0s 913us/sample - loss: 0.1288 - accuracy: 0.9620 - val_loss: 0.4341 - val_accuracy: 0.8890\n",
      "Epoch 250/450\n",
      "500/500 [==============================] - 0s 895us/sample - loss: 0.1229 - accuracy: 0.9600 - val_loss: 0.4301 - val_accuracy: 0.8894\n",
      "Epoch 251/450\n",
      "500/500 [==============================] - 1s 1ms/sample - loss: 0.1379 - accuracy: 0.9580 - val_loss: 0.4293 - val_accuracy: 0.8927\n",
      "Epoch 252/450\n",
      "500/500 [==============================] - 0s 929us/sample - loss: 0.1454 - accuracy: 0.9520 - val_loss: 0.4278 - val_accuracy: 0.8935\n",
      "Epoch 253/450\n",
      "500/500 [==============================] - 1s 1ms/sample - loss: 0.1335 - accuracy: 0.9600 - val_loss: 0.4234 - val_accuracy: 0.8939\n",
      "Epoch 254/450\n",
      "500/500 [==============================] - 0s 999us/sample - loss: 0.1613 - accuracy: 0.9320 - val_loss: 0.4219 - val_accuracy: 0.8919\n",
      "Epoch 255/450\n",
      "500/500 [==============================] - 1s 1ms/sample - loss: 0.1704 - accuracy: 0.9440 - val_loss: 0.4226 - val_accuracy: 0.8903\n",
      "Epoch 256/450\n",
      "500/500 [==============================] - 1s 1ms/sample - loss: 0.1808 - accuracy: 0.9500 - val_loss: 0.4201 - val_accuracy: 0.8943\n",
      "Epoch 257/450\n",
      "500/500 [==============================] - 0s 993us/sample - loss: 0.1193 - accuracy: 0.9560 - val_loss: 0.4124 - val_accuracy: 0.8952\n",
      "Epoch 258/450\n",
      "500/500 [==============================] - 1s 1ms/sample - loss: 0.1055 - accuracy: 0.9740 - val_loss: 0.4089 - val_accuracy: 0.8964\n",
      "Epoch 259/450\n",
      "500/500 [==============================] - 1s 1ms/sample - loss: 0.1506 - accuracy: 0.9560 - val_loss: 0.4093 - val_accuracy: 0.8972\n",
      "Epoch 260/450\n",
      "500/500 [==============================] - 1s 1ms/sample - loss: 0.1436 - accuracy: 0.9520 - val_loss: 0.4144 - val_accuracy: 0.8939\n",
      "Epoch 261/450\n",
      "500/500 [==============================] - 0s 996us/sample - loss: 0.1477 - accuracy: 0.9560 - val_loss: 0.4146 - val_accuracy: 0.8960\n",
      "Epoch 262/450\n",
      "500/500 [==============================] - 0s 947us/sample - loss: 0.1046 - accuracy: 0.9680 - val_loss: 0.4190 - val_accuracy: 0.8948\n",
      "Epoch 263/450\n",
      "500/500 [==============================] - 0s 864us/sample - loss: 0.1072 - accuracy: 0.9680 - val_loss: 0.4152 - val_accuracy: 0.8911\n",
      "Epoch 264/450\n",
      "500/500 [==============================] - 0s 987us/sample - loss: 0.1708 - accuracy: 0.9420 - val_loss: 0.4125 - val_accuracy: 0.8927\n",
      "Epoch 265/450\n",
      "500/500 [==============================] - 0s 948us/sample - loss: 0.1638 - accuracy: 0.9560 - val_loss: 0.4222 - val_accuracy: 0.8935\n",
      "Epoch 266/450\n",
      "500/500 [==============================] - 0s 915us/sample - loss: 0.1068 - accuracy: 0.9700 - val_loss: 0.4236 - val_accuracy: 0.8943\n",
      "Epoch 267/450\n",
      "500/500 [==============================] - 0s 986us/sample - loss: 0.1685 - accuracy: 0.9420 - val_loss: 0.4176 - val_accuracy: 0.8960\n",
      "Epoch 268/450\n",
      "500/500 [==============================] - 0s 889us/sample - loss: 0.1725 - accuracy: 0.9460 - val_loss: 0.4198 - val_accuracy: 0.8935\n",
      "Epoch 269/450\n",
      "500/500 [==============================] - 0s 908us/sample - loss: 0.1411 - accuracy: 0.9580 - val_loss: 0.4210 - val_accuracy: 0.8956\n",
      "Epoch 270/450\n",
      "500/500 [==============================] - 0s 911us/sample - loss: 0.1127 - accuracy: 0.9620 - val_loss: 0.4198 - val_accuracy: 0.8964\n",
      "Epoch 271/450\n",
      "500/500 [==============================] - 0s 970us/sample - loss: 0.1632 - accuracy: 0.9420 - val_loss: 0.4216 - val_accuracy: 0.8952\n",
      "Epoch 272/450\n",
      "500/500 [==============================] - 0s 907us/sample - loss: 0.1385 - accuracy: 0.9520 - val_loss: 0.4232 - val_accuracy: 0.8943\n",
      "Epoch 273/450\n",
      "500/500 [==============================] - 0s 943us/sample - loss: 0.1544 - accuracy: 0.9500 - val_loss: 0.4253 - val_accuracy: 0.8903\n",
      "Epoch 274/450\n",
      "500/500 [==============================] - 1s 1ms/sample - loss: 0.1560 - accuracy: 0.9700 - val_loss: 0.4235 - val_accuracy: 0.8931\n",
      "Epoch 275/450\n",
      "500/500 [==============================] - 0s 982us/sample - loss: 0.1454 - accuracy: 0.9500 - val_loss: 0.4228 - val_accuracy: 0.8915\n",
      "Epoch 276/450\n",
      "500/500 [==============================] - 0s 904us/sample - loss: 0.1101 - accuracy: 0.9720 - val_loss: 0.4204 - val_accuracy: 0.8931\n",
      "Epoch 277/450\n",
      "500/500 [==============================] - 0s 858us/sample - loss: 0.1214 - accuracy: 0.9720 - val_loss: 0.4230 - val_accuracy: 0.8898\n",
      "Epoch 278/450\n",
      "500/500 [==============================] - 0s 789us/sample - loss: 0.1681 - accuracy: 0.9520 - val_loss: 0.4202 - val_accuracy: 0.8894\n",
      "Epoch 279/450\n",
      "500/500 [==============================] - 0s 855us/sample - loss: 0.1324 - accuracy: 0.9640 - val_loss: 0.4279 - val_accuracy: 0.8927\n",
      "Epoch 280/450\n",
      "500/500 [==============================] - 0s 889us/sample - loss: 0.1817 - accuracy: 0.9520 - val_loss: 0.4301 - val_accuracy: 0.8923\n",
      "Epoch 281/450\n",
      "500/500 [==============================] - 0s 881us/sample - loss: 0.1473 - accuracy: 0.9560 - val_loss: 0.4422 - val_accuracy: 0.8907\n",
      "Epoch 282/450\n",
      "500/500 [==============================] - 0s 851us/sample - loss: 0.1294 - accuracy: 0.9580 - val_loss: 0.4525 - val_accuracy: 0.8862\n",
      "Epoch 283/450\n",
      "500/500 [==============================] - 0s 857us/sample - loss: 0.1329 - accuracy: 0.9640 - val_loss: 0.4468 - val_accuracy: 0.8862\n",
      "Epoch 284/450\n",
      "500/500 [==============================] - 0s 869us/sample - loss: 0.1327 - accuracy: 0.9560 - val_loss: 0.4376 - val_accuracy: 0.8890\n",
      "Epoch 285/450\n",
      "500/500 [==============================] - 0s 762us/sample - loss: 0.1911 - accuracy: 0.9400 - val_loss: 0.4354 - val_accuracy: 0.8874\n",
      "Epoch 286/450\n",
      "500/500 [==============================] - 0s 749us/sample - loss: 0.1931 - accuracy: 0.9360 - val_loss: 0.4427 - val_accuracy: 0.8866\n",
      "Epoch 287/450\n",
      "500/500 [==============================] - 0s 791us/sample - loss: 0.1350 - accuracy: 0.9520 - val_loss: 0.4415 - val_accuracy: 0.8882\n",
      "Epoch 288/450\n",
      "500/500 [==============================] - 0s 794us/sample - loss: 0.1790 - accuracy: 0.9460 - val_loss: 0.4354 - val_accuracy: 0.8903\n",
      "Epoch 289/450\n",
      "500/500 [==============================] - 0s 772us/sample - loss: 0.1355 - accuracy: 0.9560 - val_loss: 0.4396 - val_accuracy: 0.8886\n",
      "Epoch 290/450\n",
      "500/500 [==============================] - 0s 912us/sample - loss: 0.1300 - accuracy: 0.9580 - val_loss: 0.4438 - val_accuracy: 0.8915\n",
      "Epoch 291/450\n",
      "500/500 [==============================] - 0s 949us/sample - loss: 0.1218 - accuracy: 0.9600 - val_loss: 0.4382 - val_accuracy: 0.8927\n",
      "Epoch 292/450\n",
      "500/500 [==============================] - 0s 895us/sample - loss: 0.1317 - accuracy: 0.9540 - val_loss: 0.4289 - val_accuracy: 0.8931\n",
      "Epoch 293/450\n",
      "500/500 [==============================] - 0s 844us/sample - loss: 0.1253 - accuracy: 0.9620 - val_loss: 0.4297 - val_accuracy: 0.8915\n",
      "Epoch 294/450\n",
      "500/500 [==============================] - 0s 888us/sample - loss: 0.1168 - accuracy: 0.9600 - val_loss: 0.4293 - val_accuracy: 0.8890\n",
      "Epoch 295/450\n",
      "500/500 [==============================] - 0s 856us/sample - loss: 0.1159 - accuracy: 0.9640 - val_loss: 0.4296 - val_accuracy: 0.8882\n",
      "Epoch 296/450\n",
      "500/500 [==============================] - 0s 904us/sample - loss: 0.1607 - accuracy: 0.9540 - val_loss: 0.4261 - val_accuracy: 0.8898\n",
      "Epoch 297/450\n",
      "500/500 [==============================] - 0s 804us/sample - loss: 0.1352 - accuracy: 0.9580 - val_loss: 0.4258 - val_accuracy: 0.8898\n",
      "Epoch 298/450\n",
      "500/500 [==============================] - 0s 806us/sample - loss: 0.1149 - accuracy: 0.9640 - val_loss: 0.4262 - val_accuracy: 0.8903\n",
      "Epoch 299/450\n",
      "500/500 [==============================] - 0s 900us/sample - loss: 0.1406 - accuracy: 0.9540 - val_loss: 0.4275 - val_accuracy: 0.8911\n",
      "Epoch 300/450\n",
      "500/500 [==============================] - 0s 868us/sample - loss: 0.0978 - accuracy: 0.9660 - val_loss: 0.4311 - val_accuracy: 0.8903\n",
      "Epoch 301/450\n",
      "500/500 [==============================] - 0s 850us/sample - loss: 0.1016 - accuracy: 0.9700 - val_loss: 0.4267 - val_accuracy: 0.8886\n",
      "Epoch 302/450\n",
      "500/500 [==============================] - 0s 870us/sample - loss: 0.1260 - accuracy: 0.9580 - val_loss: 0.4332 - val_accuracy: 0.8878\n",
      "Epoch 303/450\n",
      "500/500 [==============================] - 0s 876us/sample - loss: 0.1467 - accuracy: 0.9620 - val_loss: 0.4319 - val_accuracy: 0.8915\n",
      "Epoch 304/450\n",
      "500/500 [==============================] - 0s 907us/sample - loss: 0.1046 - accuracy: 0.9640 - val_loss: 0.4313 - val_accuracy: 0.8931\n",
      "Epoch 305/450\n",
      "500/500 [==============================] - 0s 806us/sample - loss: 0.1325 - accuracy: 0.9560 - val_loss: 0.4324 - val_accuracy: 0.8948\n",
      "Epoch 306/450\n",
      "500/500 [==============================] - 0s 887us/sample - loss: 0.1187 - accuracy: 0.9580 - val_loss: 0.4325 - val_accuracy: 0.8956\n",
      "Epoch 307/450\n",
      "500/500 [==============================] - 0s 856us/sample - loss: 0.1169 - accuracy: 0.9600 - val_loss: 0.4286 - val_accuracy: 0.8952\n",
      "Epoch 308/450\n",
      "500/500 [==============================] - 0s 912us/sample - loss: 0.1363 - accuracy: 0.9480 - val_loss: 0.4205 - val_accuracy: 0.8948\n"
     ]
    }
   ],
   "source": [
    "optimizer = keras.optimizers.Adam(lr=0.00068)\n",
    "model_9e.compile(loss=\"sparse_categorical_crossentropy\", optimizer=optimizer, metrics=[\"accuracy\"])\n",
    "\n",
    "tensorboard = keras.callbacks.TensorBoard(get_run_logdir(\"_model_9e\"))\n",
    "checkpoint_cb = keras.callbacks.ModelCheckpoint(\"ch11_mnist_model_9e.h5\", save_best_only=True)\n",
    "early_stopping_cb = keras.callbacks.EarlyStopping(patience=50, restore_best_weights=True)\n",
    "\n",
    "history = model_9e.fit(x_train2_new, y_train2_new, epochs=450,\n",
    "                       validation_data=(x_valid2, y_valid2_new),\n",
    "                       callbacks=[checkpoint_cb, early_stopping_cb, tensorboard])"
   ]
  },
  {
   "cell_type": "code",
   "execution_count": 363,
   "metadata": {},
   "outputs": [
    {
     "name": "stdout",
     "output_type": "stream",
     "text": [
      "500/500 [==============================] - 0s 686us/sample - loss: 0.2759 - accuracy: 0.9620\n",
      "2442/2442 [==============================] - 1s 262us/sample - loss: 0.4089 - accuracy: 0.8964\n"
     ]
    },
    {
     "data": {
      "text/plain": [
       "[0.4089006201885061, 0.8963964]"
      ]
     },
     "execution_count": 363,
     "metadata": {},
     "output_type": "execute_result"
    }
   ],
   "source": [
    "model_9e_loaded = keras.models.load_model('ch11_mnist_model_9e.h5')\n",
    "model_9e_loaded.evaluate(x_train2_new, y_train2_new),\n",
    "model_9e_loaded.evaluate(x_valid2, y_valid2_new)"
   ]
  },
  {
   "cell_type": "markdown",
   "metadata": {},
   "source": [
    "Неплохо. Теперь разморозим все слои"
   ]
  },
  {
   "cell_type": "code",
   "execution_count": 365,
   "metadata": {},
   "outputs": [
    {
     "name": "stdout",
     "output_type": "stream",
     "text": [
      "flatten True\n",
      "batch_normalization True\n",
      "dropout True\n",
      "dense True\n",
      "batch_normalization_1 True\n",
      "dropout_1 True\n",
      "dense_1 True\n",
      "batch_normalization_2 True\n",
      "dropout_2 True\n",
      "dense_2 True\n",
      "batch_normalization_3 True\n",
      "dropout_3 True\n",
      "dense_3 True\n",
      "batch_normalization_4 True\n",
      "dropout_4 True\n",
      "dense_7 True\n"
     ]
    }
   ],
   "source": [
    "model_9e2 = keras.models.load_model('ch11_mnist_model_9e.h5')\n",
    "for l in model_9e2.layers: \n",
    "    l.trainable=True\n",
    "    print(l.name, l.trainable)"
   ]
  },
  {
   "cell_type": "code",
   "execution_count": 366,
   "metadata": {},
   "outputs": [
    {
     "name": "stdout",
     "output_type": "stream",
     "text": [
      "Train on 500 samples, validate on 2442 samples\n",
      "Epoch 1/450\n",
      "500/500 [==============================] - 3s 5ms/sample - loss: 0.1921 - accuracy: 0.9380 - val_loss: 0.3450 - val_accuracy: 0.9132\n",
      "Epoch 2/450\n",
      "500/500 [==============================] - 1s 1ms/sample - loss: 0.1322 - accuracy: 0.9540 - val_loss: 0.2808 - val_accuracy: 0.9247\n",
      "Epoch 3/450\n",
      "500/500 [==============================] - 1s 1ms/sample - loss: 0.1610 - accuracy: 0.9460 - val_loss: 0.2403 - val_accuracy: 0.9312\n",
      "Epoch 4/450\n",
      "500/500 [==============================] - 1s 1ms/sample - loss: 0.1084 - accuracy: 0.9700 - val_loss: 0.2219 - val_accuracy: 0.9320\n",
      "Epoch 5/450\n",
      "500/500 [==============================] - 1s 1ms/sample - loss: 0.1007 - accuracy: 0.9740 - val_loss: 0.2153 - val_accuracy: 0.9316\n",
      "Epoch 6/450\n",
      "500/500 [==============================] - 1s 2ms/sample - loss: 0.1175 - accuracy: 0.9700 - val_loss: 0.2064 - val_accuracy: 0.9353\n",
      "Epoch 7/450\n",
      "500/500 [==============================] - 1s 1ms/sample - loss: 0.0916 - accuracy: 0.9700 - val_loss: 0.1993 - val_accuracy: 0.9369\n",
      "Epoch 8/450\n",
      "500/500 [==============================] - 1s 1ms/sample - loss: 0.0801 - accuracy: 0.9720 - val_loss: 0.1954 - val_accuracy: 0.9373\n",
      "Epoch 9/450\n",
      "500/500 [==============================] - 1s 1ms/sample - loss: 0.0696 - accuracy: 0.9860 - val_loss: 0.1935 - val_accuracy: 0.9394\n",
      "Epoch 10/450\n",
      "500/500 [==============================] - 1s 1ms/sample - loss: 0.0729 - accuracy: 0.9820 - val_loss: 0.1951 - val_accuracy: 0.9390\n",
      "Epoch 11/450\n",
      "500/500 [==============================] - 1s 1ms/sample - loss: 0.0882 - accuracy: 0.9760 - val_loss: 0.1991 - val_accuracy: 0.9390\n",
      "Epoch 12/450\n",
      "500/500 [==============================] - 1s 1ms/sample - loss: 0.1057 - accuracy: 0.9660 - val_loss: 0.2067 - val_accuracy: 0.9357\n",
      "Epoch 13/450\n",
      "500/500 [==============================] - 1s 1ms/sample - loss: 0.0689 - accuracy: 0.9700 - val_loss: 0.2063 - val_accuracy: 0.9390\n",
      "Epoch 14/450\n",
      "500/500 [==============================] - 1s 1ms/sample - loss: 0.0888 - accuracy: 0.9740 - val_loss: 0.2167 - val_accuracy: 0.9369\n",
      "Epoch 15/450\n",
      "500/500 [==============================] - 1s 1ms/sample - loss: 0.0612 - accuracy: 0.9820 - val_loss: 0.2126 - val_accuracy: 0.9394\n",
      "Epoch 16/450\n",
      "500/500 [==============================] - 1s 1ms/sample - loss: 0.0747 - accuracy: 0.9760 - val_loss: 0.2194 - val_accuracy: 0.9402\n",
      "Epoch 17/450\n",
      "500/500 [==============================] - 1s 1ms/sample - loss: 0.0772 - accuracy: 0.9820 - val_loss: 0.2224 - val_accuracy: 0.9394\n",
      "Epoch 18/450\n",
      "500/500 [==============================] - 1s 1ms/sample - loss: 0.0647 - accuracy: 0.9800 - val_loss: 0.2209 - val_accuracy: 0.9390\n",
      "Epoch 19/450\n",
      "500/500 [==============================] - 1s 1ms/sample - loss: 0.0579 - accuracy: 0.9820 - val_loss: 0.2168 - val_accuracy: 0.9390\n",
      "Epoch 20/450\n",
      "500/500 [==============================] - 0s 969us/sample - loss: 0.0548 - accuracy: 0.9820 - val_loss: 0.2123 - val_accuracy: 0.9398\n",
      "Epoch 21/450\n",
      "500/500 [==============================] - 1s 1ms/sample - loss: 0.0569 - accuracy: 0.9820 - val_loss: 0.2105 - val_accuracy: 0.9398\n",
      "Epoch 22/450\n",
      "500/500 [==============================] - 1s 1ms/sample - loss: 0.0382 - accuracy: 0.9900 - val_loss: 0.2025 - val_accuracy: 0.9427\n",
      "Epoch 23/450\n",
      "500/500 [==============================] - 0s 984us/sample - loss: 0.0659 - accuracy: 0.9740 - val_loss: 0.2061 - val_accuracy: 0.9427\n",
      "Epoch 24/450\n",
      "500/500 [==============================] - 0s 965us/sample - loss: 0.0650 - accuracy: 0.9760 - val_loss: 0.2043 - val_accuracy: 0.9435\n",
      "Epoch 25/450\n",
      "500/500 [==============================] - 1s 1ms/sample - loss: 0.0412 - accuracy: 0.9860 - val_loss: 0.2073 - val_accuracy: 0.9423\n",
      "Epoch 26/450\n",
      "500/500 [==============================] - 1s 1ms/sample - loss: 0.0650 - accuracy: 0.9740 - val_loss: 0.2134 - val_accuracy: 0.9443\n",
      "Epoch 27/450\n",
      "500/500 [==============================] - 1s 1ms/sample - loss: 0.0528 - accuracy: 0.9800 - val_loss: 0.2211 - val_accuracy: 0.9431\n",
      "Epoch 28/450\n",
      "500/500 [==============================] - 1s 1ms/sample - loss: 0.0587 - accuracy: 0.9860 - val_loss: 0.2102 - val_accuracy: 0.9443\n",
      "Epoch 29/450\n",
      "500/500 [==============================] - 0s 994us/sample - loss: 0.0781 - accuracy: 0.9740 - val_loss: 0.2102 - val_accuracy: 0.9439\n",
      "Epoch 30/450\n",
      "500/500 [==============================] - 1s 1ms/sample - loss: 0.0569 - accuracy: 0.9840 - val_loss: 0.2143 - val_accuracy: 0.9406\n",
      "Epoch 31/450\n",
      "500/500 [==============================] - 1s 1ms/sample - loss: 0.0486 - accuracy: 0.9860 - val_loss: 0.2185 - val_accuracy: 0.9410\n",
      "Epoch 32/450\n",
      "500/500 [==============================] - 0s 977us/sample - loss: 0.0572 - accuracy: 0.9820 - val_loss: 0.2210 - val_accuracy: 0.9390\n",
      "Epoch 33/450\n",
      "500/500 [==============================] - 0s 894us/sample - loss: 0.0466 - accuracy: 0.9820 - val_loss: 0.2199 - val_accuracy: 0.9386\n",
      "Epoch 34/450\n",
      "500/500 [==============================] - 1s 1ms/sample - loss: 0.0609 - accuracy: 0.9760 - val_loss: 0.2161 - val_accuracy: 0.9410\n",
      "Epoch 35/450\n",
      "500/500 [==============================] - 1s 1ms/sample - loss: 0.0410 - accuracy: 0.9900 - val_loss: 0.2125 - val_accuracy: 0.9435\n",
      "Epoch 36/450\n",
      "500/500 [==============================] - 0s 948us/sample - loss: 0.0328 - accuracy: 0.9880 - val_loss: 0.2157 - val_accuracy: 0.9443\n",
      "Epoch 37/450\n",
      "500/500 [==============================] - 0s 958us/sample - loss: 0.0537 - accuracy: 0.9840 - val_loss: 0.2220 - val_accuracy: 0.9398\n",
      "Epoch 38/450\n",
      "500/500 [==============================] - 1s 1ms/sample - loss: 0.0505 - accuracy: 0.9820 - val_loss: 0.2231 - val_accuracy: 0.9406\n",
      "Epoch 39/450\n",
      "500/500 [==============================] - 1s 1ms/sample - loss: 0.0387 - accuracy: 0.9900 - val_loss: 0.2203 - val_accuracy: 0.9419\n",
      "Epoch 40/450\n",
      "500/500 [==============================] - 0s 953us/sample - loss: 0.0338 - accuracy: 0.9920 - val_loss: 0.2134 - val_accuracy: 0.9451\n",
      "Epoch 41/450\n",
      "500/500 [==============================] - 0s 928us/sample - loss: 0.0285 - accuracy: 0.9920 - val_loss: 0.2062 - val_accuracy: 0.9455\n",
      "Epoch 42/450\n",
      "500/500 [==============================] - 1s 1ms/sample - loss: 0.0253 - accuracy: 0.9920 - val_loss: 0.2047 - val_accuracy: 0.9435\n",
      "Epoch 43/450\n",
      "500/500 [==============================] - 1s 1ms/sample - loss: 0.0438 - accuracy: 0.9900 - val_loss: 0.2098 - val_accuracy: 0.9439\n",
      "Epoch 44/450\n",
      "500/500 [==============================] - 0s 962us/sample - loss: 0.0628 - accuracy: 0.9740 - val_loss: 0.2162 - val_accuracy: 0.9431\n",
      "Epoch 45/450\n",
      "500/500 [==============================] - 1s 1ms/sample - loss: 0.0304 - accuracy: 0.9860 - val_loss: 0.2310 - val_accuracy: 0.9419\n",
      "Epoch 46/450\n",
      "500/500 [==============================] - 1s 1ms/sample - loss: 0.0367 - accuracy: 0.9860 - val_loss: 0.2380 - val_accuracy: 0.9394\n",
      "Epoch 47/450\n",
      "500/500 [==============================] - 1s 1ms/sample - loss: 0.0276 - accuracy: 0.9920 - val_loss: 0.2337 - val_accuracy: 0.9410\n",
      "Epoch 48/450\n",
      "500/500 [==============================] - 1s 1ms/sample - loss: 0.0473 - accuracy: 0.9860 - val_loss: 0.2329 - val_accuracy: 0.9419\n",
      "Epoch 49/450\n",
      "500/500 [==============================] - 1s 1ms/sample - loss: 0.0351 - accuracy: 0.9880 - val_loss: 0.2316 - val_accuracy: 0.9447\n",
      "Epoch 50/450\n",
      "500/500 [==============================] - 0s 964us/sample - loss: 0.0405 - accuracy: 0.9880 - val_loss: 0.2199 - val_accuracy: 0.9451\n",
      "Epoch 51/450\n",
      "500/500 [==============================] - 1s 1ms/sample - loss: 0.0327 - accuracy: 0.9940 - val_loss: 0.2176 - val_accuracy: 0.9447\n",
      "Epoch 52/450\n",
      "500/500 [==============================] - 1s 1ms/sample - loss: 0.0222 - accuracy: 0.9900 - val_loss: 0.2222 - val_accuracy: 0.9431\n",
      "Epoch 53/450\n",
      "500/500 [==============================] - 1s 1ms/sample - loss: 0.0290 - accuracy: 0.9920 - val_loss: 0.2237 - val_accuracy: 0.9443\n",
      "Epoch 54/450\n",
      "500/500 [==============================] - 1s 1ms/sample - loss: 0.0153 - accuracy: 0.9960 - val_loss: 0.2240 - val_accuracy: 0.9459\n",
      "Epoch 55/450\n",
      "500/500 [==============================] - 1s 1ms/sample - loss: 0.0243 - accuracy: 0.9880 - val_loss: 0.2219 - val_accuracy: 0.9451\n",
      "Epoch 56/450\n",
      "500/500 [==============================] - 0s 916us/sample - loss: 0.0468 - accuracy: 0.9900 - val_loss: 0.2312 - val_accuracy: 0.9406\n"
     ]
    },
    {
     "name": "stdout",
     "output_type": "stream",
     "text": [
      "Epoch 57/450\n",
      "500/500 [==============================] - 0s 902us/sample - loss: 0.0541 - accuracy: 0.9800 - val_loss: 0.2362 - val_accuracy: 0.9386\n",
      "Epoch 58/450\n",
      "500/500 [==============================] - 0s 948us/sample - loss: 0.0317 - accuracy: 0.9900 - val_loss: 0.2355 - val_accuracy: 0.9398\n",
      "Epoch 59/450\n",
      "500/500 [==============================] - 0s 945us/sample - loss: 0.0462 - accuracy: 0.9860 - val_loss: 0.2476 - val_accuracy: 0.9365\n",
      "500/500 [==============================] - 0s 649us/sample - loss: 0.0117 - accuracy: 0.9980\n",
      "2442/2442 [==============================] - 1s 210us/sample - loss: 0.1935 - accuracy: 0.9394\n"
     ]
    },
    {
     "data": {
      "text/plain": [
       "[0.193495776086289, 0.93939394]"
      ]
     },
     "execution_count": 366,
     "metadata": {},
     "output_type": "execute_result"
    }
   ],
   "source": [
    "optimizer = keras.optimizers.Adam(lr=0.00068)\n",
    "model_9e2.compile(loss=\"sparse_categorical_crossentropy\", optimizer=optimizer, metrics=[\"accuracy\"])\n",
    "\n",
    "tensorboard = keras.callbacks.TensorBoard(get_run_logdir(\"model_9e2\"))\n",
    "checkpoint_cb = keras.callbacks.ModelCheckpoint(\"ch11_mnist_model_9e2.h5\", save_best_only=True)\n",
    "early_stopping_cb = keras.callbacks.EarlyStopping(patience=50, restore_best_weights=True)\n",
    "\n",
    "history = model_9e2.fit(x_train2_new, y_train2_new, epochs=450,\n",
    "                       validation_data=(x_valid2, y_valid2_new),\n",
    "                       callbacks=[checkpoint_cb, early_stopping_cb, tensorboard])\n",
    "\n",
    "model_9e2_loaded = keras.models.load_model('ch11_mnist_model_9e2.h5')\n",
    "model_9e2_loaded.evaluate(x_train2_new, y_train2_new),\n",
    "model_9e2_loaded.evaluate(x_valid2, y_valid2_new)"
   ]
  },
  {
   "cell_type": "code",
   "execution_count": 367,
   "metadata": {},
   "outputs": [
    {
     "name": "stdout",
     "output_type": "stream",
     "text": [
      "4861/4861 [==============================] - 1s 127us/sample - loss: 0.1858 - accuracy: 0.9408\n"
     ]
    },
    {
     "data": {
      "text/plain": [
       "[0.1858406301049067, 0.9407529]"
      ]
     },
     "execution_count": 367,
     "metadata": {},
     "output_type": "execute_result"
    }
   ],
   "source": [
    "model_9e2_loaded.evaluate(x_test2, y_test2_new)"
   ]
  },
  {
   "cell_type": "markdown",
   "metadata": {},
   "source": [
    "nice!\n",
    "\n",
    "### task 10 Pretraining on an auxiliary task.\n",
    "\n",
    "*a. In this exercise you will build a DNN that compares two MNIST digit images and predicts whether they represent the same digit or not. Then you will reuse the lower layers of this network to train an MNIST classifier using very little training data. Start by building two DNNs (let’s call them DNN A and B), both similar to the one you built earlier but without the output layer: each DNN should have five hidden layers of 100 neurons each, He initialization, and ELU activation. Next, add one more hidden layer with 10 units on top of both DNNs. To do this, you should use a keras.layers.Concatenate layer to concatenate the outputs of both DNNs for each instance, then feed the result to the hidden layer. Finally, add an output layer with a single neuron using the logistic activation function.*"
   ]
  },
  {
   "cell_type": "code",
   "execution_count": 57,
   "metadata": {},
   "outputs": [],
   "source": [
    "keras.backend.clear_session()\n",
    "np.random.seed(42)\n",
    "tf.random.set_seed(42)\n",
    "\n",
    "def build_model():\n",
    "    model_in = keras.layers.Input(shape=[28*28])\n",
    "    h1 = keras.layers.Dense(100, kernel_initializer=\"he_normal\", activation=\"elu\")(model_in)\n",
    "    h2 = keras.layers.Dense(100, kernel_initializer=\"he_normal\", activation=\"elu\")(h1)\n",
    "    h3 = keras.layers.Dense(100, kernel_initializer=\"he_normal\", activation=\"elu\")(h2)\n",
    "    h4 = keras.layers.Dense(100, kernel_initializer=\"he_normal\", activation=\"elu\")(h3)\n",
    "    h5 = keras.layers.Dense(100, kernel_initializer=\"he_normal\", activation=\"elu\")(h4)\n",
    "    model = keras.models.Model(model_in, h5)\n",
    "    return model, model_in, h5\n",
    "    \n",
    "dnnA, dnnA_in, dnnA_out = build_model()\n",
    "dnnB, dnnB_in, dnnB_out = build_model()\n",
    "\n",
    "merged = tf.keras.layers.concatenate([dnnA_out, dnnB_out])\n",
    "hidden = keras.layers.Dense(10, kernel_initializer=\"he_normal\", activation=\"elu\")(merged)\n",
    "output = keras.layers.Dense(1, activation=\"sigmoid\")(hidden)\n",
    "dnn = keras.models.Model([dnnA_in, dnnB_in], output)\n",
    "dnn.compile(loss=\"mse\", optimizer=\"sgd\", metrics=[\"accuracy\"]) #sparse_categorical_crossentropy"
   ]
  },
  {
   "cell_type": "markdown",
   "metadata": {},
   "source": [
    "\n",
    "*b. Split the MNIST training set in two sets: split #1 should containing 55,000 images, and split #2 should contain contain 5,000 images. Create a function that generates a training batch where each instance is a pair of MNIST images picked from split #1. Half of the training instances should be pairs of images that belong to the same class, while the other half should be images from different classes. For each pair, the training label should be 0 if the images are from the same class, or 1 if they are from different classes.*"
   ]
  },
  {
   "cell_type": "code",
   "execution_count": 18,
   "metadata": {},
   "outputs": [],
   "source": [
    "def get_number_img(x, y, target, start_i=0):\n",
    "    for i in range(start_i, len(x)):\n",
    "        if y[i] == target:\n",
    "            return x[i]\n",
    "    for i in range(0, start_i):\n",
    "        if y[i] == target:\n",
    "            return x[i]\n",
    "    return None\n",
    "\n",
    "def picker_random_numb(n):\n",
    "    while(True):\n",
    "        res = np.random.randint(0, 10)\n",
    "        if (res != n):\n",
    "            return res\n",
    "    \n",
    "def prepare_set(x, y):\n",
    "    y_pairs = np.ones(len(y), dtype=np.uint8)\n",
    "    x1 = np.zeros((x.shape))\n",
    "    x2 = np.zeros((x.shape))\n",
    "    for i in range(len(x)):\n",
    "        x1[i] = x[i]\n",
    "        dig   = y[i]\n",
    "        if np.random.rand() >= 0.5: #put the same number into x1 and x2\n",
    "            y_pairs[i] = 0\n",
    "            x2[i] =  get_number_img(x, y, dig, i+1)\n",
    "        else:\n",
    "            another_dig = picker_random_numb(dig)\n",
    "            x2[i] = get_number_img(x, y, another_dig, i+1)\n",
    "    return x1, x2, y_pairs"
   ]
  },
  {
   "cell_type": "code",
   "execution_count": 20,
   "metadata": {},
   "outputs": [],
   "source": [
    "x1_train10_1, x1_train10_2, y1_train10 = prepare_set(x_train, y_train)\n",
    "x2_train10_1, x2_train10_2, y2_train10 = prepare_set(x_valid, y_valid)\n",
    "x_test10_1,   x_test10_2,   y_test10   = prepare_set(x_test,  y_test)"
   ]
  },
  {
   "cell_type": "markdown",
   "metadata": {},
   "source": [
    "print some pairs\n",
    "\n",
    "- 1 - mean that the pair of numbers isn't the same\n",
    "- 0 - mean that is the same numbers"
   ]
  },
  {
   "cell_type": "code",
   "execution_count": 21,
   "metadata": {},
   "outputs": [
    {
     "data": {
      "image/png": "[encoded data removed]",
      "text/plain": [
       "<Figure size 1080x144 with 30 Axes>"
      ]
     },
     "metadata": {
      "needs_background": "light"
     },
     "output_type": "display_data"
    }
   ],
   "source": [
    "start = 1000\n",
    "\n",
    "x1_print_set = x1_train10_1[start:start+15]\n",
    "x2_print_set = x1_train10_2[start:start+15]\n",
    "y_print_set  = y1_train10[start:start+15]\n",
    "\n",
    "x_print_set = np.r_[x1_print_set, x2_print_set]\n",
    "y_print_set = np.r_[y_print_set,  y_print_set]\n",
    "\n",
    "print_imgs(x=x_print_set, labels=y_print_set,\n",
    "           n_rows=2, n_cols=len(x_print_set)//2,\n",
    "           img_ysize=2, img_xsize=15)"
   ]
  },
  {
   "cell_type": "markdown",
   "metadata": {},
   "source": [
    "*c. Train the DNN on this training set. For each image pair, you can simultaneously feed the first image to DNN A and the second image to DNN B. The whole network will gradually learn to tell whether two images belong to the same class or not.*"
   ]
  },
  {
   "cell_type": "code",
   "execution_count": 58,
   "metadata": {},
   "outputs": [
    {
     "name": "stdout",
     "output_type": "stream",
     "text": [
      "Train on 55000 samples\n",
      "Epoch 1/40\n",
      "55000/55000 [==============================] - 9s 166us/sample - loss: 0.2138 - accuracy: 0.6488\n",
      "Epoch 2/40\n",
      "55000/55000 [==============================] - 9s 155us/sample - loss: 0.1371 - accuracy: 0.8093\n",
      "Epoch 3/40\n",
      "55000/55000 [==============================] - 9s 156us/sample - loss: 0.1152 - accuracy: 0.8422\n",
      "Epoch 4/40\n",
      "55000/55000 [==============================] - 9s 160us/sample - loss: 0.1042 - accuracy: 0.8579\n",
      "Epoch 5/40\n",
      "55000/55000 [==============================] - 9s 159us/sample - loss: 0.0959 - accuracy: 0.8693\n",
      "Epoch 6/40\n",
      "55000/55000 [==============================] - 9s 158us/sample - loss: 0.0887 - accuracy: 0.8796\n",
      "Epoch 7/40\n",
      "55000/55000 [==============================] - 9s 157us/sample - loss: 0.0822 - accuracy: 0.8899\n",
      "Epoch 8/40\n",
      "55000/55000 [==============================] - 9s 157us/sample - loss: 0.0765 - accuracy: 0.8987\n",
      "Epoch 9/40\n",
      "55000/55000 [==============================] - 9s 156us/sample - loss: 0.0713 - accuracy: 0.9052\n",
      "Epoch 10/40\n",
      "55000/55000 [==============================] - 9s 158us/sample - loss: 0.0667 - accuracy: 0.9131\n",
      "Epoch 11/40\n",
      "55000/55000 [==============================] - 9s 155us/sample - loss: 0.0629 - accuracy: 0.9181\n",
      "Epoch 12/40\n",
      "55000/55000 [==============================] - 9s 155us/sample - loss: 0.0594 - accuracy: 0.9234\n",
      "Epoch 13/40\n",
      "55000/55000 [==============================] - 9s 167us/sample - loss: 0.0564 - accuracy: 0.9280\n",
      "Epoch 14/40\n",
      "55000/55000 [==============================] - 10s 177us/sample - loss: 0.0539 - accuracy: 0.9308\n",
      "Epoch 15/40\n",
      "55000/55000 [==============================] - 10s 181us/sample - loss: 0.0514 - accuracy: 0.9349\n",
      "Epoch 16/40\n",
      "55000/55000 [==============================] - 10s 182us/sample - loss: 0.0490 - accuracy: 0.9388\n",
      "Epoch 17/40\n",
      "55000/55000 [==============================] - 11s 207us/sample - loss: 0.0470 - accuracy: 0.9413\n",
      "Epoch 18/40\n",
      "55000/55000 [==============================] - 11s 200us/sample - loss: 0.0450 - accuracy: 0.9446\n",
      "Epoch 19/40\n",
      "55000/55000 [==============================] - 10s 181us/sample - loss: 0.0433 - accuracy: 0.9472\n",
      "Epoch 20/40\n",
      "55000/55000 [==============================] - 9s 173us/sample - loss: 0.0416 - accuracy: 0.9492\n",
      "Epoch 21/40\n",
      "55000/55000 [==============================] - 10s 182us/sample - loss: 0.0400 - accuracy: 0.9509\n",
      "Epoch 22/40\n",
      "55000/55000 [==============================] - 10s 177us/sample - loss: 0.0385 - accuracy: 0.9540\n",
      "Epoch 23/40\n",
      "55000/55000 [==============================] - 11s 205us/sample - loss: 0.0369 - accuracy: 0.9561\n",
      "Epoch 24/40\n",
      "55000/55000 [==============================] - 11s 209us/sample - loss: 0.0356 - accuracy: 0.9579\n",
      "Epoch 25/40\n",
      "55000/55000 [==============================] - 10s 180us/sample - loss: 0.0343 - accuracy: 0.9596\n",
      "Epoch 26/40\n",
      "55000/55000 [==============================] - 10s 190us/sample - loss: 0.0330 - accuracy: 0.9611\n",
      "Epoch 27/40\n",
      "55000/55000 [==============================] - 11s 194us/sample - loss: 0.0318 - accuracy: 0.9633\n",
      "Epoch 28/40\n",
      "55000/55000 [==============================] - 11s 192us/sample - loss: 0.0306 - accuracy: 0.9651\n",
      "Epoch 29/40\n",
      "55000/55000 [==============================] - 10s 181us/sample - loss: 0.0297 - accuracy: 0.9665\n",
      "Epoch 30/40\n",
      "55000/55000 [==============================] - 10s 178us/sample - loss: 0.0286 - accuracy: 0.9675\n",
      "Epoch 31/40\n",
      "55000/55000 [==============================] - 10s 185us/sample - loss: 0.0275 - accuracy: 0.9700\n",
      "Epoch 32/40\n",
      "55000/55000 [==============================] - 10s 182us/sample - loss: 0.0267 - accuracy: 0.9701\n",
      "Epoch 33/40\n",
      "55000/55000 [==============================] - 10s 182us/sample - loss: 0.0257 - accuracy: 0.9717\n",
      "Epoch 34/40\n",
      "55000/55000 [==============================] - 10s 180us/sample - loss: 0.0248 - accuracy: 0.9727\n",
      "Epoch 35/40\n",
      "55000/55000 [==============================] - 10s 178us/sample - loss: 0.0240 - accuracy: 0.9742\n",
      "Epoch 36/40\n",
      "55000/55000 [==============================] - 10s 180us/sample - loss: 0.0231 - accuracy: 0.9753\n",
      "Epoch 37/40\n",
      "55000/55000 [==============================] - 10s 181us/sample - loss: 0.0224 - accuracy: 0.9757\n",
      "Epoch 38/40\n",
      "55000/55000 [==============================] - 10s 181us/sample - loss: 0.0216 - accuracy: 0.9773\n",
      "Epoch 39/40\n",
      "55000/55000 [==============================] - 10s 179us/sample - loss: 0.0208 - accuracy: 0.9787\n",
      "Epoch 40/40\n",
      "55000/55000 [==============================] - 10s 185us/sample - loss: 0.0201 - accuracy: 0.9794\n"
     ]
    },
    {
     "data": {
      "text/plain": [
       "<tensorflow.python.keras.callbacks.History at 0x7f2cd85ff080>"
      ]
     },
     "execution_count": 58,
     "metadata": {},
     "output_type": "execute_result"
    }
   ],
   "source": [
    "x1 = x1_train10_1.reshape(-1, 28*28)\n",
    "x2 = x1_train10_2.reshape(-1, 28*28)\n",
    "dnn.fit(x=[x1, x2], y=y1_train10, epochs=40)"
   ]
  },
  {
   "cell_type": "markdown",
   "metadata": {},
   "source": [
    "*d. Now create a new DNN by reusing and freezing the hidden layers of DNN A and adding a softmax output layer on top with 10 neurons. Train this network on split #2 and see if you can achieve high performance despite having only 500 images per class.*"
   ]
  },
  {
   "cell_type": "code",
   "execution_count": 161,
   "metadata": {},
   "outputs": [],
   "source": [
    "keras.backend.clear_session()\n",
    "np.random.seed(42)\n",
    "tf.random.set_seed(42)"
   ]
  },
  {
   "cell_type": "markdown",
   "metadata": {},
   "source": [
    "Я уже потестил с разным кол-вом замороженных слоев и выбрал указанное ниже значение "
   ]
  },
  {
   "cell_type": "code",
   "execution_count": 162,
   "metadata": {},
   "outputs": [],
   "source": [
    "model_10d = keras.models.Sequential(keras.models.clone_model(dnnA).layers)\n",
    "\n",
    "freeze_layers = 4\n",
    "for l in range(freeze_layers): model_10d.layers[l].trainable=False"
   ]
  },
  {
   "cell_type": "code",
   "execution_count": 165,
   "metadata": {},
   "outputs": [
    {
     "name": "stdout",
     "output_type": "stream",
     "text": [
      "Train on 5000 samples\n",
      "Epoch 1/100\n",
      "5000/5000 [==============================] - 1s 232us/sample - loss: 1.3774 - accuracy: 0.5728\n",
      "Epoch 2/100\n",
      "5000/5000 [==============================] - 1s 103us/sample - loss: 0.7735 - accuracy: 0.7660\n",
      "Epoch 3/100\n",
      "5000/5000 [==============================] - 1s 102us/sample - loss: 0.6539 - accuracy: 0.8024\n",
      "Epoch 4/100\n",
      "5000/5000 [==============================] - 1s 104us/sample - loss: 0.5898 - accuracy: 0.8198\n",
      "Epoch 5/100\n",
      "5000/5000 [==============================] - 1s 112us/sample - loss: 0.5516 - accuracy: 0.8290\n",
      "Epoch 6/100\n",
      "5000/5000 [==============================] - 1s 122us/sample - loss: 0.5167 - accuracy: 0.8384\n",
      "Epoch 7/100\n",
      "5000/5000 [==============================] - 1s 105us/sample - loss: 0.4930 - accuracy: 0.8472\n",
      "Epoch 8/100\n",
      "5000/5000 [==============================] - 1s 111us/sample - loss: 0.4677 - accuracy: 0.8574\n",
      "Epoch 9/100\n",
      "5000/5000 [==============================] - 1s 130us/sample - loss: 0.4479 - accuracy: 0.8618\n",
      "Epoch 10/100\n",
      "5000/5000 [==============================] - 1s 104us/sample - loss: 0.4278 - accuracy: 0.8676\n",
      "Epoch 11/100\n",
      "5000/5000 [==============================] - 1s 105us/sample - loss: 0.4098 - accuracy: 0.8758\n",
      "Epoch 12/100\n",
      "5000/5000 [==============================] - 1s 107us/sample - loss: 0.3933 - accuracy: 0.8804\n",
      "Epoch 13/100\n",
      "5000/5000 [==============================] - 1s 110us/sample - loss: 0.3775 - accuracy: 0.8860\n",
      "Epoch 14/100\n",
      "5000/5000 [==============================] - 1s 130us/sample - loss: 0.3626 - accuracy: 0.8882\n",
      "Epoch 15/100\n",
      "5000/5000 [==============================] - 1s 105us/sample - loss: 0.3479 - accuracy: 0.8916\n",
      "Epoch 16/100\n",
      "5000/5000 [==============================] - 1s 102us/sample - loss: 0.3333 - accuracy: 0.8986\n",
      "Epoch 17/100\n",
      "5000/5000 [==============================] - 1s 115us/sample - loss: 0.3220 - accuracy: 0.9016\n",
      "Epoch 18/100\n",
      "5000/5000 [==============================] - 1s 115us/sample - loss: 0.3090 - accuracy: 0.9048\n",
      "Epoch 19/100\n",
      "5000/5000 [==============================] - 1s 105us/sample - loss: 0.2985 - accuracy: 0.9084\n",
      "Epoch 20/100\n",
      "5000/5000 [==============================] - 1s 105us/sample - loss: 0.2859 - accuracy: 0.9140\n",
      "Epoch 21/100\n",
      "5000/5000 [==============================] - 1s 105us/sample - loss: 0.2743 - accuracy: 0.9178\n",
      "Epoch 22/100\n",
      "5000/5000 [==============================] - 1s 125us/sample - loss: 0.2648 - accuracy: 0.9178\n",
      "Epoch 23/100\n",
      "5000/5000 [==============================] - 1s 115us/sample - loss: 0.2543 - accuracy: 0.9244\n",
      "Epoch 24/100\n",
      "5000/5000 [==============================] - 1s 103us/sample - loss: 0.2435 - accuracy: 0.9274\n",
      "Epoch 25/100\n",
      "5000/5000 [==============================] - 1s 113us/sample - loss: 0.2363 - accuracy: 0.9282\n",
      "Epoch 26/100\n",
      "5000/5000 [==============================] - 1s 117us/sample - loss: 0.2268 - accuracy: 0.9322\n",
      "Epoch 27/100\n",
      "5000/5000 [==============================] - 1s 105us/sample - loss: 0.2197 - accuracy: 0.9316\n",
      "Epoch 28/100\n",
      "5000/5000 [==============================] - 1s 105us/sample - loss: 0.2102 - accuracy: 0.9408\n",
      "Epoch 29/100\n",
      "5000/5000 [==============================] - 1s 103us/sample - loss: 0.2027 - accuracy: 0.9414\n",
      "Epoch 30/100\n",
      "5000/5000 [==============================] - 1s 109us/sample - loss: 0.1963 - accuracy: 0.9396\n",
      "Epoch 31/100\n",
      "5000/5000 [==============================] - 1s 104us/sample - loss: 0.1887 - accuracy: 0.9486\n",
      "Epoch 32/100\n",
      "5000/5000 [==============================] - 1s 104us/sample - loss: 0.1814 - accuracy: 0.9528\n",
      "Epoch 33/100\n",
      "5000/5000 [==============================] - 1s 108us/sample - loss: 0.1745 - accuracy: 0.9534\n",
      "Epoch 34/100\n",
      "5000/5000 [==============================] - 1s 122us/sample - loss: 0.1703 - accuracy: 0.9512\n",
      "Epoch 35/100\n",
      "5000/5000 [==============================] - 1s 132us/sample - loss: 0.1622 - accuracy: 0.9574\n",
      "Epoch 36/100\n",
      "5000/5000 [==============================] - 1s 104us/sample - loss: 0.1553 - accuracy: 0.9564\n",
      "Epoch 37/100\n",
      "5000/5000 [==============================] - 1s 111us/sample - loss: 0.1509 - accuracy: 0.9582\n",
      "Epoch 38/100\n",
      "5000/5000 [==============================] - 1s 114us/sample - loss: 0.1438 - accuracy: 0.9614\n",
      "Epoch 39/100\n",
      "5000/5000 [==============================] - 1s 113us/sample - loss: 0.1376 - accuracy: 0.9632\n",
      "Epoch 40/100\n",
      "5000/5000 [==============================] - 1s 109us/sample - loss: 0.1333 - accuracy: 0.9670\n",
      "Epoch 41/100\n",
      "5000/5000 [==============================] - 1s 110us/sample - loss: 0.1280 - accuracy: 0.9672\n",
      "Epoch 42/100\n",
      "5000/5000 [==============================] - 1s 112us/sample - loss: 0.1232 - accuracy: 0.9686\n",
      "Epoch 43/100\n",
      "5000/5000 [==============================] - ETA: 0s - loss: 0.1186 - accuracy: 0.96 - 1s 114us/sample - loss: 0.1188 - accuracy: 0.9688\n",
      "Epoch 44/100\n",
      "5000/5000 [==============================] - 1s 116us/sample - loss: 0.1136 - accuracy: 0.9754\n",
      "Epoch 45/100\n",
      "5000/5000 [==============================] - 1s 109us/sample - loss: 0.1100 - accuracy: 0.9742\n",
      "Epoch 46/100\n",
      "5000/5000 [==============================] - 1s 104us/sample - loss: 0.1057 - accuracy: 0.9768\n",
      "Epoch 47/100\n",
      "5000/5000 [==============================] - 1s 110us/sample - loss: 0.1008 - accuracy: 0.9754\n",
      "Epoch 48/100\n",
      "5000/5000 [==============================] - 1s 113us/sample - loss: 0.0969 - accuracy: 0.9776\n",
      "Epoch 49/100\n",
      "5000/5000 [==============================] - 1s 116us/sample - loss: 0.0926 - accuracy: 0.9810\n",
      "Epoch 50/100\n",
      "5000/5000 [==============================] - 1s 107us/sample - loss: 0.0889 - accuracy: 0.9790\n",
      "Epoch 51/100\n",
      "5000/5000 [==============================] - 1s 115us/sample - loss: 0.0856 - accuracy: 0.9812\n",
      "Epoch 52/100\n",
      "5000/5000 [==============================] - 1s 102us/sample - loss: 0.0818 - accuracy: 0.9814\n",
      "Epoch 53/100\n",
      "5000/5000 [==============================] - 1s 102us/sample - loss: 0.0770 - accuracy: 0.9852\n",
      "Epoch 54/100\n",
      "5000/5000 [==============================] - 1s 120us/sample - loss: 0.0752 - accuracy: 0.9842\n",
      "Epoch 55/100\n",
      "5000/5000 [==============================] - 1s 121us/sample - loss: 0.0709 - accuracy: 0.9848\n",
      "Epoch 56/100\n",
      "5000/5000 [==============================] - 1s 111us/sample - loss: 0.0681 - accuracy: 0.9880\n",
      "Epoch 57/100\n",
      "5000/5000 [==============================] - 1s 102us/sample - loss: 0.0672 - accuracy: 0.9870\n",
      "Epoch 58/100\n",
      "5000/5000 [==============================] - 1s 108us/sample - loss: 0.0626 - accuracy: 0.9890\n",
      "Epoch 59/100\n",
      "5000/5000 [==============================] - 1s 108us/sample - loss: 0.0591 - accuracy: 0.9898\n",
      "Epoch 60/100\n",
      "5000/5000 [==============================] - 1s 111us/sample - loss: 0.0557 - accuracy: 0.9910\n",
      "Epoch 61/100\n",
      "5000/5000 [==============================] - 1s 106us/sample - loss: 0.0542 - accuracy: 0.9912\n",
      "Epoch 62/100\n",
      "5000/5000 [==============================] - 1s 110us/sample - loss: 0.0516 - accuracy: 0.9912\n",
      "Epoch 63/100\n",
      "5000/5000 [==============================] - 1s 102us/sample - loss: 0.0488 - accuracy: 0.9926\n",
      "Epoch 64/100\n",
      "5000/5000 [==============================] - 1s 114us/sample - loss: 0.0485 - accuracy: 0.9938\n",
      "Epoch 65/100\n",
      "5000/5000 [==============================] - 1s 112us/sample - loss: 0.0447 - accuracy: 0.9950\n",
      "Epoch 66/100\n",
      "5000/5000 [==============================] - 1s 106us/sample - loss: 0.0424 - accuracy: 0.9964\n",
      "Epoch 67/100\n",
      "5000/5000 [==============================] - 1s 106us/sample - loss: 0.0405 - accuracy: 0.9950\n",
      "Epoch 68/100\n",
      "5000/5000 [==============================] - 1s 102us/sample - loss: 0.0382 - accuracy: 0.9950\n",
      "Epoch 69/100\n",
      "5000/5000 [==============================] - 1s 128us/sample - loss: 0.0368 - accuracy: 0.9970\n",
      "Epoch 70/100\n",
      "5000/5000 [==============================] - 1s 101us/sample - loss: 0.0341 - accuracy: 0.9966\n",
      "Epoch 71/100\n",
      "5000/5000 [==============================] - 0s 97us/sample - loss: 0.0332 - accuracy: 0.9970\n",
      "Epoch 72/100\n",
      "5000/5000 [==============================] - 1s 100us/sample - loss: 0.0316 - accuracy: 0.9976\n",
      "Epoch 73/100\n",
      "5000/5000 [==============================] - 0s 98us/sample - loss: 0.0296 - accuracy: 0.9974\n",
      "Epoch 74/100\n",
      "5000/5000 [==============================] - 0s 99us/sample - loss: 0.0290 - accuracy: 0.9978\n",
      "Epoch 75/100\n",
      "5000/5000 [==============================] - 0s 99us/sample - loss: 0.0260 - accuracy: 0.9988\n",
      "Epoch 76/100\n",
      "5000/5000 [==============================] - 0s 100us/sample - loss: 0.0258 - accuracy: 0.9974\n",
      "Epoch 77/100\n",
      "5000/5000 [==============================] - 1s 102us/sample - loss: 0.0240 - accuracy: 0.9988\n",
      "Epoch 78/100\n",
      "5000/5000 [==============================] - 0s 96us/sample - loss: 0.0222 - accuracy: 0.9992\n",
      "Epoch 79/100\n",
      "5000/5000 [==============================] - 1s 103us/sample - loss: 0.0219 - accuracy: 0.9996\n",
      "Epoch 80/100\n",
      "5000/5000 [==============================] - 1s 106us/sample - loss: 0.0208 - accuracy: 0.9998\n",
      "Epoch 81/100\n",
      "5000/5000 [==============================] - 0s 95us/sample - loss: 0.0197 - accuracy: 0.9992\n",
      "Epoch 82/100\n",
      "5000/5000 [==============================] - 0s 96us/sample - loss: 0.0187 - accuracy: 0.9998\n",
      "Epoch 83/100\n",
      "5000/5000 [==============================] - 0s 98us/sample - loss: 0.0174 - accuracy: 0.9996\n",
      "Epoch 84/100\n",
      "5000/5000 [==============================] - 0s 95us/sample - loss: 0.0175 - accuracy: 0.9994\n",
      "Epoch 85/100\n",
      "5000/5000 [==============================] - 0s 98us/sample - loss: 0.0161 - accuracy: 0.9996\n",
      "Epoch 86/100\n",
      "5000/5000 [==============================] - 1s 101us/sample - loss: 0.0152 - accuracy: 0.9998\n",
      "Epoch 87/100\n",
      "5000/5000 [==============================] - 0s 94us/sample - loss: 0.0145 - accuracy: 1.0000\n",
      "Epoch 88/100\n",
      "5000/5000 [==============================] - 0s 96us/sample - loss: 0.0130 - accuracy: 0.9998\n",
      "Epoch 89/100\n",
      "5000/5000 [==============================] - 0s 95us/sample - loss: 0.0142 - accuracy: 0.9998\n",
      "Epoch 90/100\n",
      "5000/5000 [==============================] - 1s 101us/sample - loss: 0.0119 - accuracy: 1.0000\n",
      "Epoch 91/100\n",
      "5000/5000 [==============================] - 0s 96us/sample - loss: 0.0114 - accuracy: 1.0000\n",
      "Epoch 92/100\n",
      "5000/5000 [==============================] - 0s 95us/sample - loss: 0.0105 - accuracy: 1.0000\n",
      "Epoch 93/100\n",
      "5000/5000 [==============================] - 1s 100us/sample - loss: 0.0103 - accuracy: 1.0000\n",
      "Epoch 94/100\n",
      "5000/5000 [==============================] - 0s 96us/sample - loss: 0.0096 - accuracy: 1.0000\n",
      "Epoch 95/100\n",
      "5000/5000 [==============================] - 0s 95us/sample - loss: 0.0096 - accuracy: 1.0000\n",
      "Epoch 96/100\n",
      "5000/5000 [==============================] - 0s 97us/sample - loss: 0.0086 - accuracy: 1.0000\n",
      "Epoch 97/100\n",
      "5000/5000 [==============================] - 0s 97us/sample - loss: 0.0084 - accuracy: 1.0000\n",
      "Epoch 98/100\n",
      "5000/5000 [==============================] - 0s 96us/sample - loss: 0.0084 - accuracy: 1.0000\n",
      "Epoch 99/100\n",
      "5000/5000 [==============================] - 0s 96us/sample - loss: 0.0073 - accuracy: 1.0000\n",
      "Epoch 100/100\n",
      "5000/5000 [==============================] - 1s 103us/sample - loss: 0.0065 - accuracy: 1.0000\n"
     ]
    }
   ],
   "source": [
    "model_10d.add(keras.layers.Dense(10, activation=\"softmax\", name=\"out_dense\"))\n",
    "model_10d.compile(loss=\"sparse_categorical_crossentropy\", optimizer=\"nadam\", metrics=[\"accuracy\"])\n",
    "history = model_10d.fit(x_valid.reshape(-1, 28*28), y_valid, epochs=100)"
   ]
  },
  {
   "cell_type": "code",
   "execution_count": 166,
   "metadata": {},
   "outputs": [
    {
     "name": "stdout",
     "output_type": "stream",
     "text": [
      "10000/10000 [==============================] - 1s 79us/sample - loss: 0.5937 - accuracy: 0.8792\n"
     ]
    },
    {
     "data": {
      "text/plain": [
       "[0.5937169122906402, 0.8792]"
      ]
     },
     "execution_count": 166,
     "metadata": {},
     "output_type": "execute_result"
    }
   ],
   "source": [
    "model_10d.evaluate(x_test.reshape(-1, 28*28), y_test)"
   ]
  },
  {
   "cell_type": "markdown",
   "metadata": {},
   "source": [
    "нууу... плюс-минус как-то )\n",
    "\n",
    "посмотрим чего мы добились бы при тех же параметрах на пустой модели"
   ]
  },
  {
   "cell_type": "code",
   "execution_count": 168,
   "metadata": {
    "scrolled": true
   },
   "outputs": [
    {
     "name": "stdout",
     "output_type": "stream",
     "text": [
      "Train on 5000 samples\n",
      "Epoch 1/100\n",
      "5000/5000 [==============================] - 2s 446us/sample - loss: 0.5602 - accuracy: 0.8214\n",
      "Epoch 2/100\n",
      "5000/5000 [==============================] - 1s 189us/sample - loss: 0.2232 - accuracy: 0.9302\n",
      "Epoch 3/100\n",
      "5000/5000 [==============================] - 1s 162us/sample - loss: 0.1385 - accuracy: 0.9556\n",
      "Epoch 4/100\n",
      "5000/5000 [==============================] - 1s 172us/sample - loss: 0.0945 - accuracy: 0.9692\n",
      "Epoch 5/100\n",
      "5000/5000 [==============================] - 1s 164us/sample - loss: 0.0724 - accuracy: 0.9770\n",
      "Epoch 6/100\n",
      "5000/5000 [==============================] - 1s 163us/sample - loss: 0.0576 - accuracy: 0.9796\n",
      "Epoch 7/100\n",
      "5000/5000 [==============================] - 1s 158us/sample - loss: 0.0384 - accuracy: 0.9896\n",
      "Epoch 8/100\n",
      "5000/5000 [==============================] - 1s 174us/sample - loss: 0.0272 - accuracy: 0.9918\n",
      "Epoch 9/100\n",
      "5000/5000 [==============================] - 1s 180us/sample - loss: 0.0415 - accuracy: 0.9866\n",
      "Epoch 10/100\n",
      "5000/5000 [==============================] - 1s 179us/sample - loss: 0.0316 - accuracy: 0.9906\n",
      "Epoch 11/100\n",
      "5000/5000 [==============================] - 1s 177us/sample - loss: 0.0650 - accuracy: 0.9776\n",
      "Epoch 12/100\n",
      "5000/5000 [==============================] - 1s 178us/sample - loss: 0.0267 - accuracy: 0.9910\n",
      "Epoch 13/100\n",
      "5000/5000 [==============================] - 1s 158us/sample - loss: 0.0259 - accuracy: 0.9914\n",
      "Epoch 14/100\n",
      "5000/5000 [==============================] - 1s 188us/sample - loss: 0.0169 - accuracy: 0.9940\n",
      "Epoch 15/100\n",
      "5000/5000 [==============================] - 1s 174us/sample - loss: 0.0205 - accuracy: 0.9946\n",
      "Epoch 16/100\n",
      "5000/5000 [==============================] - 1s 185us/sample - loss: 0.0159 - accuracy: 0.9952\n",
      "Epoch 17/100\n",
      "5000/5000 [==============================] - 1s 174us/sample - loss: 0.0418 - accuracy: 0.9852\n",
      "Epoch 18/100\n",
      "5000/5000 [==============================] - 1s 176us/sample - loss: 0.0425 - accuracy: 0.9874\n",
      "Epoch 19/100\n",
      "5000/5000 [==============================] - 1s 166us/sample - loss: 0.0301 - accuracy: 0.9906\n",
      "Epoch 20/100\n",
      "5000/5000 [==============================] - 1s 198us/sample - loss: 0.0142 - accuracy: 0.9956\n",
      "Epoch 21/100\n",
      "5000/5000 [==============================] - 1s 199us/sample - loss: 0.0037 - accuracy: 0.9988\n",
      "Epoch 22/100\n",
      "5000/5000 [==============================] - 1s 169us/sample - loss: 4.9530e-04 - accuracy: 1.0000\n",
      "Epoch 23/100\n",
      "5000/5000 [==============================] - 1s 162us/sample - loss: 1.7341e-04 - accuracy: 1.0000\n",
      "Epoch 24/100\n",
      "5000/5000 [==============================] - 1s 163us/sample - loss: 1.3371e-04 - accuracy: 1.0000\n",
      "Epoch 25/100\n",
      "5000/5000 [==============================] - 1s 164us/sample - loss: 1.1136e-04 - accuracy: 1.0000\n",
      "Epoch 26/100\n",
      "5000/5000 [==============================] - 1s 167us/sample - loss: 9.6081e-05 - accuracy: 1.0000\n",
      "Epoch 27/100\n",
      "5000/5000 [==============================] - 1s 187us/sample - loss: 8.4349e-05 - accuracy: 1.0000\n",
      "Epoch 28/100\n",
      "5000/5000 [==============================] - 1s 181us/sample - loss: 7.4942e-05 - accuracy: 1.0000\n",
      "Epoch 29/100\n",
      "5000/5000 [==============================] - 1s 190us/sample - loss: 6.7168e-05 - accuracy: 1.0000\n",
      "Epoch 30/100\n",
      "5000/5000 [==============================] - 1s 181us/sample - loss: 6.0682e-05 - accuracy: 1.0000\n",
      "Epoch 31/100\n",
      "5000/5000 [==============================] - 1s 207us/sample - loss: 5.5139e-05 - accuracy: 1.0000\n",
      "Epoch 32/100\n",
      "5000/5000 [==============================] - 1s 204us/sample - loss: 5.0211e-05 - accuracy: 1.0000\n",
      "Epoch 33/100\n",
      "5000/5000 [==============================] - 1s 169us/sample - loss: 4.5996e-05 - accuracy: 1.0000\n",
      "Epoch 34/100\n",
      "5000/5000 [==============================] - 1s 158us/sample - loss: 4.1958e-05 - accuracy: 1.0000\n",
      "Epoch 35/100\n",
      "5000/5000 [==============================] - 1s 163us/sample - loss: 3.8679e-05 - accuracy: 1.0000\n",
      "Epoch 36/100\n",
      "5000/5000 [==============================] - 1s 168us/sample - loss: 3.5482e-05 - accuracy: 1.0000\n",
      "Epoch 37/100\n",
      "5000/5000 [==============================] - 1s 168us/sample - loss: 3.2838e-05 - accuracy: 1.0000\n",
      "Epoch 38/100\n",
      "5000/5000 [==============================] - 1s 190us/sample - loss: 3.0353e-05 - accuracy: 1.0000\n",
      "Epoch 39/100\n",
      "5000/5000 [==============================] - 1s 172us/sample - loss: 2.8107e-05 - accuracy: 1.0000\n",
      "Epoch 40/100\n",
      "5000/5000 [==============================] - 1s 170us/sample - loss: 2.5964e-05 - accuracy: 1.0000\n",
      "Epoch 41/100\n",
      "5000/5000 [==============================] - 1s 184us/sample - loss: 2.4032e-05 - accuracy: 1.0000\n",
      "Epoch 42/100\n",
      "5000/5000 [==============================] - 1s 171us/sample - loss: 2.2329e-05 - accuracy: 1.0000\n",
      "Epoch 43/100\n",
      "5000/5000 [==============================] - 1s 200us/sample - loss: 2.0660e-05 - accuracy: 1.0000\n",
      "Epoch 44/100\n",
      "5000/5000 [==============================] - 1s 188us/sample - loss: 1.9194e-05 - accuracy: 1.0000\n",
      "Epoch 45/100\n",
      "5000/5000 [==============================] - 1s 186us/sample - loss: 1.7834e-05 - accuracy: 1.0000\n",
      "Epoch 46/100\n",
      "5000/5000 [==============================] - 1s 168us/sample - loss: 1.6531e-05 - accuracy: 1.0000\n",
      "Epoch 47/100\n",
      "5000/5000 [==============================] - 1s 163us/sample - loss: 1.5369e-05 - accuracy: 1.0000\n",
      "Epoch 48/100\n",
      "5000/5000 [==============================] - 1s 161us/sample - loss: 1.4292e-05 - accuracy: 1.0000\n",
      "Epoch 49/100\n",
      "5000/5000 [==============================] - 1s 168us/sample - loss: 1.3226e-05 - accuracy: 1.0000\n",
      "Epoch 50/100\n",
      "5000/5000 [==============================] - 1s 171us/sample - loss: 1.2279e-05 - accuracy: 1.0000\n",
      "Epoch 51/100\n",
      "5000/5000 [==============================] - 1s 165us/sample - loss: 1.1397e-05 - accuracy: 1.0000\n",
      "Epoch 52/100\n",
      "5000/5000 [==============================] - 1s 165us/sample - loss: 1.0585e-05 - accuracy: 1.0000\n",
      "Epoch 53/100\n",
      "5000/5000 [==============================] - 1s 161us/sample - loss: 9.8108e-06 - accuracy: 1.0000\n",
      "Epoch 54/100\n",
      "5000/5000 [==============================] - 1s 157us/sample - loss: 9.0857e-06 - accuracy: 1.0000\n",
      "Epoch 55/100\n",
      "5000/5000 [==============================] - 1s 167us/sample - loss: 8.4295e-06 - accuracy: 1.0000\n",
      "Epoch 56/100\n",
      "5000/5000 [==============================] - 1s 197us/sample - loss: 7.8104e-06 - accuracy: 1.0000\n",
      "Epoch 57/100\n",
      "5000/5000 [==============================] - 1s 195us/sample - loss: 7.2219e-06 - accuracy: 1.0000\n",
      "Epoch 58/100\n",
      "5000/5000 [==============================] - 1s 197us/sample - loss: 6.6759e-06 - accuracy: 1.0000\n",
      "Epoch 59/100\n",
      "5000/5000 [==============================] - 1s 206us/sample - loss: 6.1912e-06 - accuracy: 1.0000\n",
      "Epoch 60/100\n",
      "5000/5000 [==============================] - 1s 193us/sample - loss: 5.7208e-06 - accuracy: 1.0000\n",
      "Epoch 61/100\n",
      "5000/5000 [==============================] - 1s 214us/sample - loss: 5.2995e-06 - accuracy: 1.0000\n",
      "Epoch 62/100\n",
      "5000/5000 [==============================] - 1s 183us/sample - loss: 4.9171e-06 - accuracy: 1.0000\n",
      "Epoch 63/100\n",
      "5000/5000 [==============================] - 1s 182us/sample - loss: 4.5512e-06 - accuracy: 1.0000\n",
      "Epoch 64/100\n",
      "5000/5000 [==============================] - 1s 176us/sample - loss: 4.1913e-06 - accuracy: 1.0000\n",
      "Epoch 65/100\n",
      "5000/5000 [==============================] - 1s 180us/sample - loss: 3.8657e-06 - accuracy: 1.0000\n",
      "Epoch 66/100\n",
      "5000/5000 [==============================] - 1s 184us/sample - loss: 3.5664e-06 - accuracy: 1.0000\n",
      "Epoch 67/100\n",
      "5000/5000 [==============================] - 1s 189us/sample - loss: 3.2964e-06 - accuracy: 1.0000\n",
      "Epoch 68/100\n",
      "5000/5000 [==============================] - 1s 166us/sample - loss: 3.0455e-06 - accuracy: 1.0000\n",
      "Epoch 69/100\n",
      "5000/5000 [==============================] - 1s 199us/sample - loss: 2.8079e-06 - accuracy: 1.0000\n",
      "Epoch 70/100\n",
      "5000/5000 [==============================] - 1s 169us/sample - loss: 2.5957e-06 - accuracy: 1.0000\n",
      "Epoch 71/100\n",
      "5000/5000 [==============================] - 1s 172us/sample - loss: 2.3931e-06 - accuracy: 1.0000\n",
      "Epoch 72/100\n",
      "5000/5000 [==============================] - 1s 183us/sample - loss: 2.2038e-06 - accuracy: 1.0000\n",
      "Epoch 73/100\n",
      "5000/5000 [==============================] - 1s 178us/sample - loss: 2.0359e-06 - accuracy: 1.0000\n",
      "Epoch 74/100\n",
      "5000/5000 [==============================] - 1s 170us/sample - loss: 1.8778e-06 - accuracy: 1.0000\n",
      "Epoch 75/100\n",
      "5000/5000 [==============================] - 1s 170us/sample - loss: 1.7351e-06 - accuracy: 1.0000\n",
      "Epoch 76/100\n",
      "5000/5000 [==============================] - 1s 163us/sample - loss: 1.5959e-06 - accuracy: 1.0000\n",
      "Epoch 77/100\n",
      "5000/5000 [==============================] - 1s 180us/sample - loss: 1.4662e-06 - accuracy: 1.0000\n",
      "Epoch 78/100\n",
      "5000/5000 [==============================] - 1s 174us/sample - loss: 1.3538e-06 - accuracy: 1.0000\n",
      "Epoch 79/100\n",
      "5000/5000 [==============================] - 1s 160us/sample - loss: 1.2477e-06 - accuracy: 1.0000\n",
      "Epoch 80/100\n",
      "5000/5000 [==============================] - 1s 159us/sample - loss: 1.1500e-06 - accuracy: 1.0000\n",
      "Epoch 81/100\n",
      "5000/5000 [==============================] - 1s 157us/sample - loss: 1.0577e-06 - accuracy: 1.0000\n",
      "Epoch 82/100\n",
      "5000/5000 [==============================] - 1s 166us/sample - loss: 9.7207e-07 - accuracy: 1.0000\n",
      "Epoch 83/100\n",
      "5000/5000 [==============================] - 1s 159us/sample - loss: 8.9478e-07 - accuracy: 1.0000\n",
      "Epoch 84/100\n",
      "5000/5000 [==============================] - 1s 165us/sample - loss: 8.2468e-07 - accuracy: 1.0000\n",
      "Epoch 85/100\n",
      "5000/5000 [==============================] - 1s 162us/sample - loss: 7.5693e-07 - accuracy: 1.0000\n",
      "Epoch 86/100\n",
      "5000/5000 [==============================] - 1s 165us/sample - loss: 6.9644e-07 - accuracy: 1.0000\n",
      "Epoch 87/100\n",
      "5000/5000 [==============================] - 1s 162us/sample - loss: 6.3989e-07 - accuracy: 1.0000\n",
      "Epoch 88/100\n",
      "5000/5000 [==============================] - 1s 169us/sample - loss: 5.8927e-07 - accuracy: 1.0000\n",
      "Epoch 89/100\n",
      "5000/5000 [==============================] - 1s 159us/sample - loss: 5.4700e-07 - accuracy: 1.0000\n",
      "Epoch 90/100\n",
      "5000/5000 [==============================] - 1s 171us/sample - loss: 4.9758e-07 - accuracy: 1.0000\n",
      "Epoch 91/100\n",
      "5000/5000 [==============================] - 1s 172us/sample - loss: 4.5681e-07 - accuracy: 1.0000\n",
      "Epoch 92/100\n",
      "5000/5000 [==============================] - 1s 164us/sample - loss: 4.2014e-07 - accuracy: 1.0000\n",
      "Epoch 93/100\n",
      "5000/5000 [==============================] - 1s 152us/sample - loss: 3.8712e-07 - accuracy: 1.0000\n",
      "Epoch 94/100\n",
      "5000/5000 [==============================] - 1s 155us/sample - loss: 3.5553e-07 - accuracy: 1.0000\n",
      "Epoch 95/100\n",
      "5000/5000 [==============================] - 1s 161us/sample - loss: 3.2504e-07 - accuracy: 1.0000\n",
      "Epoch 96/100\n",
      "5000/5000 [==============================] - 1s 179us/sample - loss: 3.0003e-07 - accuracy: 1.0000\n",
      "Epoch 97/100\n",
      "5000/5000 [==============================] - 1s 162us/sample - loss: 2.7444e-07 - accuracy: 1.0000\n",
      "Epoch 98/100\n",
      "5000/5000 [==============================] - 1s 157us/sample - loss: 2.5237e-07 - accuracy: 1.0000\n",
      "Epoch 99/100\n",
      "5000/5000 [==============================] - 1s 156us/sample - loss: 2.3196e-07 - accuracy: 1.0000\n",
      "Epoch 100/100\n",
      "5000/5000 [==============================] - 1s 160us/sample - loss: 2.1379e-07 - accuracy: 1.0000\n"
     ]
    }
   ],
   "source": [
    "keras.backend.clear_session()\n",
    "np.random.seed(42)\n",
    "tf.random.set_seed(42)\n",
    "\n",
    "test_model = keras.models.Sequential([\n",
    "    keras.layers.Flatten(input_shape=[28,28]),\n",
    "    keras.layers.Dense(100, kernel_initializer=\"he_normal\", activation=\"elu\"),\n",
    "    keras.layers.Dense(100, kernel_initializer=\"he_normal\", activation=\"elu\"),\n",
    "    keras.layers.Dense(100, kernel_initializer=\"he_normal\", activation=\"elu\"),\n",
    "    keras.layers.Dense(100, kernel_initializer=\"he_normal\", activation=\"elu\"),\n",
    "    keras.layers.Dense(100, kernel_initializer=\"he_normal\", activation=\"elu\"),\n",
    "    keras.layers.Dense(10, activation=\"softmax\")])\n",
    "\n",
    "test_model.compile(loss=\"sparse_categorical_crossentropy\", optimizer=\"nadam\", metrics=[\"accuracy\"])\n",
    "\n",
    "history = test_model.fit(x_valid, y_valid, epochs=100)"
   ]
  },
  {
   "cell_type": "code",
   "execution_count": 169,
   "metadata": {},
   "outputs": [
    {
     "name": "stdout",
     "output_type": "stream",
     "text": [
      "10000/10000 [==============================] - 1s 90us/sample - loss: 0.3912 - accuracy: 0.9513\n"
     ]
    },
    {
     "data": {
      "text/plain": [
       "[0.3912055212758752, 0.9513]"
      ]
     },
     "execution_count": 169,
     "metadata": {},
     "output_type": "execute_result"
    }
   ],
   "source": [
    "test_model.evaluate(x_test, y_test)"
   ]
  },
  {
   "cell_type": "markdown",
   "metadata": {},
   "source": [
    "В моем примере случай оказался не показательным. "
   ]
  }
 ],
 "metadata": {
  "kernelspec": {
   "display_name": "Python 3",
   "language": "python",
   "name": "python3"
  },
  "language_info": {
   "codemirror_mode": {
    "name": "ipython",
    "version": 3
   },
   "file_extension": ".py",
   "mimetype": "text/x-python",
   "name": "python",
   "nbconvert_exporter": "python",
   "pygments_lexer": "ipython3",
   "version": "3.6.9"
  }
 },
 "nbformat": 4,
 "nbformat_minor": 4
}
