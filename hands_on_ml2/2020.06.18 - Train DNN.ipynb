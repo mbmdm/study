{
 "cells": [
  {
   "cell_type": "code",
   "execution_count": 2,
   "metadata": {},
   "outputs": [],
   "source": [
    "# Python ≥3.5 is required\n",
    "import sys\n",
    "assert sys.version_info >= (3, 5)\n",
    "\n",
    "# Scikit-Learn ≥0.20 is required\n",
    "import sklearn\n",
    "assert sklearn.__version__ >= \"0.20\"\n",
    "\n",
    "try:\n",
    "    # %tensorflow_version only exists in Colab.\n",
    "    %tensorflow_version 2.x\n",
    "except Exception:\n",
    "    pass\n",
    "\n",
    "# TensorFlow ≥2.0 is required\n",
    "import tensorflow as tf\n",
    "from tensorflow import keras\n",
    "assert tf.__version__ >= \"2.0\"\n",
    "\n",
    "%load_ext tensorboard\n",
    "\n",
    "# Common imports\n",
    "import numpy as np\n",
    "import os\n",
    "\n",
    "# to make this notebook's output stable across runs\n",
    "np.random.seed(42)\n",
    "\n",
    "# To plot pretty figures\n",
    "%matplotlib inline\n",
    "import matplotlib as mpl\n",
    "import matplotlib.pyplot as plt\n",
    "mpl.rc('axes', labelsize=14)\n",
    "mpl.rc('xtick', labelsize=12)\n",
    "mpl.rc('ytick', labelsize=12)\n",
    "\n",
    "# Where to save the figures\n",
    "PROJECT_ROOT_DIR = \".\"\n",
    "CHAPTER_ID = \"deep\"\n",
    "IMAGES_PATH = os.path.join(PROJECT_ROOT_DIR, \"images\", CHAPTER_ID)\n",
    "os.makedirs(IMAGES_PATH, exist_ok=True)\n",
    "\n",
    "def save_fig(fig_id, tight_layout=True, fig_extension=\"png\", resolution=300):\n",
    "    path = os.path.join(IMAGES_PATH, fig_id + \".\" + fig_extension)\n",
    "    print(\"Saving figure\", fig_id)\n",
    "    if tight_layout:\n",
    "        plt.tight_layout()\n",
    "    plt.savefig(path, format=fig_extension, dpi=resolution)"
   ]
  },
  {
   "cell_type": "code",
   "execution_count": 3,
   "metadata": {},
   "outputs": [],
   "source": [
    "import numpy as np\n",
    "from sklearn.datasets import load_iris\n",
    "from sklearn.linear_model import Perceptron\n",
    "import tensorflow as tf\n",
    "from tensorflow import keras"
   ]
  },
  {
   "cell_type": "markdown",
   "metadata": {},
   "source": [
    "# Vanishing/Exploding Gradients Problem\n",
    "\n",
    "## Nonsaturating Activation Functions\n",
    "\n",
    "### Leaky ReLU"
   ]
  },
  {
   "cell_type": "code",
   "execution_count": 9,
   "metadata": {},
   "outputs": [],
   "source": [
    "(X_train_full, y_train_full), (X_test, y_test) = keras.datasets.fashion_mnist.load_data()\n",
    "X_train_full = X_train_full / 255.0\n",
    "X_test = X_test / 255.0\n",
    "X_valid, X_train = X_train_full[:5000], X_train_full[5000:]\n",
    "y_valid, y_train = y_train_full[:5000], y_train_full[5000:]"
   ]
  },
  {
   "cell_type": "code",
   "execution_count": 4,
   "metadata": {},
   "outputs": [
    {
     "name": "stdout",
     "output_type": "stream",
     "text": [
      "Train on 55000 samples, validate on 5000 samples\n",
      "Epoch 1/10\n",
      "55000/55000 [==============================] - 10s 184us/sample - loss: 1.2810 - accuracy: 0.6205 - val_loss: 0.8869 - val_accuracy: 0.7160\n",
      "Epoch 2/10\n",
      "55000/55000 [==============================] - 10s 176us/sample - loss: 0.7952 - accuracy: 0.7369 - val_loss: 0.7132 - val_accuracy: 0.7626\n",
      "Epoch 3/10\n",
      "55000/55000 [==============================] - 10s 180us/sample - loss: 0.6817 - accuracy: 0.7726 - val_loss: 0.6385 - val_accuracy: 0.7894\n",
      "Epoch 4/10\n",
      "55000/55000 [==============================] - 10s 179us/sample - loss: 0.6219 - accuracy: 0.7942 - val_loss: 0.5931 - val_accuracy: 0.8016\n",
      "Epoch 5/10\n",
      "55000/55000 [==============================] - 10s 177us/sample - loss: 0.5830 - accuracy: 0.8074 - val_loss: 0.5607 - val_accuracy: 0.8172\n",
      "Epoch 6/10\n",
      "55000/55000 [==============================] - 10s 176us/sample - loss: 0.5552 - accuracy: 0.8173 - val_loss: 0.5355 - val_accuracy: 0.8238\n",
      "Epoch 7/10\n",
      "55000/55000 [==============================] - 9s 169us/sample - loss: 0.5339 - accuracy: 0.8226 - val_loss: 0.5166 - val_accuracy: 0.8298\n",
      "Epoch 8/10\n",
      "55000/55000 [==============================] - 10s 173us/sample - loss: 0.5173 - accuracy: 0.8261 - val_loss: 0.5043 - val_accuracy: 0.8356\n",
      "Epoch 9/10\n",
      "55000/55000 [==============================] - 9s 171us/sample - loss: 0.5039 - accuracy: 0.8306 - val_loss: 0.4889 - val_accuracy: 0.8384\n",
      "Epoch 10/10\n",
      "55000/55000 [==============================] - 9s 170us/sample - loss: 0.4923 - accuracy: 0.8333 - val_loss: 0.4816 - val_accuracy: 0.8394\n"
     ]
    }
   ],
   "source": [
    "tf.random.set_seed(42)\n",
    "np.random.seed(42)\n",
    "\n",
    "model = keras.models.Sequential([\n",
    "    keras.layers.Flatten(input_shape=[28, 28]),\n",
    "    keras.layers.Dense(300, kernel_initializer=\"he_normal\"),\n",
    "    keras.layers.LeakyReLU(),\n",
    "    keras.layers.Dense(100, kernel_initializer=\"he_normal\"),\n",
    "    keras.layers.LeakyReLU(),\n",
    "    keras.layers.Dense(10, activation=\"softmax\")\n",
    "])\n",
    "\n",
    "model.compile(loss=\"sparse_categorical_crossentropy\",\n",
    "              optimizer=keras.optimizers.SGD(lr=1e-3),\n",
    "              metrics=[\"accuracy\"])\n",
    "\n",
    "history = model.fit(X_train, y_train, epochs=10,\n",
    "                    validation_data=(X_valid, y_valid))"
   ]
  },
  {
   "cell_type": "markdown",
   "metadata": {},
   "source": [
    "Теперь попробуем PReLU:"
   ]
  },
  {
   "cell_type": "code",
   "execution_count": 12,
   "metadata": {},
   "outputs": [
    {
     "name": "stdout",
     "output_type": "stream",
     "text": [
      "Train on 55000 samples, validate on 5000 samples\n",
      "Epoch 1/10\n",
      "55000/55000 [==============================] - 11s 199us/sample - loss: 1.3452 - accuracy: 0.6203 - val_loss: 0.9241 - val_accuracy: 0.7170\n",
      "Epoch 2/10\n",
      "55000/55000 [==============================] - 10s 186us/sample - loss: 0.8196 - accuracy: 0.7364 - val_loss: 0.7314 - val_accuracy: 0.7602\n",
      "Epoch 3/10\n",
      "55000/55000 [==============================] - 11s 194us/sample - loss: 0.6970 - accuracy: 0.7701 - val_loss: 0.6517 - val_accuracy: 0.7878\n",
      "Epoch 4/10\n",
      "55000/55000 [==============================] - 11s 197us/sample - loss: 0.6333 - accuracy: 0.7914 - val_loss: 0.6032 - val_accuracy: 0.8056\n",
      "Epoch 5/10\n",
      "55000/55000 [==============================] - 10s 187us/sample - loss: 0.5917 - accuracy: 0.8049 - val_loss: 0.5689 - val_accuracy: 0.8162\n",
      "Epoch 6/10\n",
      "55000/55000 [==============================] - 10s 185us/sample - loss: 0.5619 - accuracy: 0.8143 - val_loss: 0.5417 - val_accuracy: 0.8224\n",
      "Epoch 7/10\n",
      "55000/55000 [==============================] - 10s 184us/sample - loss: 0.5392 - accuracy: 0.8205 - val_loss: 0.5214 - val_accuracy: 0.8300\n",
      "Epoch 8/10\n",
      "55000/55000 [==============================] - 10s 181us/sample - loss: 0.5215 - accuracy: 0.8256 - val_loss: 0.5075 - val_accuracy: 0.8352\n",
      "Epoch 9/10\n",
      "55000/55000 [==============================] - 10s 181us/sample - loss: 0.5071 - accuracy: 0.8285 - val_loss: 0.4918 - val_accuracy: 0.8384\n",
      "Epoch 10/10\n",
      "55000/55000 [==============================] - 10s 176us/sample - loss: 0.4946 - accuracy: 0.8322 - val_loss: 0.4839 - val_accuracy: 0.8380\n"
     ]
    }
   ],
   "source": [
    "tf.random.set_seed(42)\n",
    "np.random.seed(42)\n",
    "\n",
    "model = keras.models.Sequential([\n",
    "    keras.layers.Flatten(input_shape=[28, 28]),\n",
    "    keras.layers.Dense(300, kernel_initializer=\"he_normal\"),\n",
    "    keras.layers.PReLU(),\n",
    "    keras.layers.Dense(100, kernel_initializer=\"he_normal\"),\n",
    "    keras.layers.PReLU(),\n",
    "    keras.layers.Dense(10, activation=\"softmax\")\n",
    "])\n",
    "\n",
    "model.compile(loss=\"sparse_categorical_crossentropy\",\n",
    "              optimizer=keras.optimizers.SGD(lr=1e-3),\n",
    "              metrics=[\"accuracy\"])\n",
    "\n",
    "history = model.fit(X_train, y_train, epochs=10,\n",
    "                    validation_data=(X_valid, y_valid))"
   ]
  },
  {
   "cell_type": "markdown",
   "metadata": {},
   "source": [
    "Теперь попробуем SELU для глубокой нейросети:"
   ]
  },
  {
   "cell_type": "code",
   "execution_count": 10,
   "metadata": {},
   "outputs": [],
   "source": [
    "#нормализация данных\n",
    "pixel_means = X_train.mean(axis=0, keepdims=True)\n",
    "pixel_stds = X_train.std(axis=0, keepdims=True)\n",
    "X_train_scaled = (X_train - pixel_means) / pixel_stds\n",
    "X_valid_scaled = (X_valid - pixel_means) / pixel_stds\n",
    "X_test_scaled = (X_test - pixel_means) / pixel_stds"
   ]
  },
  {
   "cell_type": "code",
   "execution_count": 11,
   "metadata": {},
   "outputs": [
    {
     "data": {
      "text/plain": [
       "(1, 28, 28)"
      ]
     },
     "execution_count": 11,
     "metadata": {},
     "output_type": "execute_result"
    }
   ],
   "source": [
    "pixel_means.shape"
   ]
  },
  {
   "cell_type": "code",
   "execution_count": 28,
   "metadata": {},
   "outputs": [
    {
     "name": "stdout",
     "output_type": "stream",
     "text": [
      "Train on 55000 samples, validate on 5000 samples\n",
      "Epoch 1/10\n",
      "55000/55000 [==============================] - 54s 979us/sample - loss: 1.2646 - accuracy: 0.5128 - val_loss: 1.2577 - val_accuracy: 0.5758\n",
      "Epoch 2/10\n",
      "55000/55000 [==============================] - 49s 896us/sample - loss: 0.7850 - accuracy: 0.7119 - val_loss: 1.1055 - val_accuracy: 0.5730\n",
      "Epoch 3/10\n",
      "55000/55000 [==============================] - 52s 937us/sample - loss: 1.0468 - accuracy: 0.6044 - val_loss: 0.9671 - val_accuracy: 0.6326\n",
      "Epoch 4/10\n",
      "55000/55000 [==============================] - 52s 945us/sample - loss: 0.8668 - accuracy: 0.6844 - val_loss: 0.8634 - val_accuracy: 0.6926\n",
      "Epoch 5/10\n",
      "55000/55000 [==============================] - 51s 933us/sample - loss: 0.6951 - accuracy: 0.7502 - val_loss: 0.6166 - val_accuracy: 0.7842\n",
      "Epoch 6/10\n",
      "55000/55000 [==============================] - 50s 911us/sample - loss: 0.5926 - accuracy: 0.7882 - val_loss: 0.5632 - val_accuracy: 0.8058\n",
      "Epoch 7/10\n",
      "55000/55000 [==============================] - 51s 934us/sample - loss: 0.5450 - accuracy: 0.8043 - val_loss: 0.5385 - val_accuracy: 0.8104\n",
      "Epoch 8/10\n",
      "55000/55000 [==============================] - 55s 993us/sample - loss: 0.5108 - accuracy: 0.8191 - val_loss: 0.4891 - val_accuracy: 0.8230\n",
      "Epoch 9/10\n",
      "55000/55000 [==============================] - 50s 916us/sample - loss: 0.4838 - accuracy: 0.8286 - val_loss: 0.5083 - val_accuracy: 0.8250\n",
      "Epoch 10/10\n",
      "55000/55000 [==============================] - 50s 916us/sample - loss: 0.4706 - accuracy: 0.8346 - val_loss: 0.4741 - val_accuracy: 0.8354\n"
     ]
    }
   ],
   "source": [
    "tf.random.set_seed(42)\n",
    "np.random.seed(42)\n",
    "\n",
    "#инициализация для selu должна быть lecun, а архитектура должна быть последовательная и глубокая\n",
    "model = keras.models.Sequential()\n",
    "model.add(keras.layers.Flatten(input_shape=[28, 28]))\n",
    "model.add(keras.layers.Dense(300, activation=\"selu\", kernel_initializer=\"lecun_normal\"))\n",
    "\n",
    "for layer in range(99):\n",
    "    model.add(keras.layers.Dense(100, activation=\"selu\", kernel_initializer=\"lecun_normal\"))\n",
    "\n",
    "model.add(keras.layers.Dense(10, activation=\"softmax\"))\n",
    "\n",
    "model.compile(loss=\"sparse_categorical_crossentropy\",\n",
    "              optimizer=keras.optimizers.SGD(lr=1e-3),\n",
    "              metrics=[\"accuracy\"])\n",
    "\n",
    "history = model.fit(X_train_scaled, y_train, epochs=10, validation_data=(X_valid_scaled, y_valid))"
   ]
  },
  {
   "cell_type": "markdown",
   "metadata": {},
   "source": [
    "посмотрим что произойдет при использовании в той же модели стандартной relu"
   ]
  },
  {
   "cell_type": "code",
   "execution_count": 29,
   "metadata": {},
   "outputs": [
    {
     "name": "stdout",
     "output_type": "stream",
     "text": [
      "Train on 55000 samples, validate on 5000 samples\n",
      "Epoch 1/10\n",
      "55000/55000 [==============================] - 51s 925us/sample - loss: 1.7503 - accuracy: 0.2867 - val_loss: 1.3841 - val_accuracy: 0.3664\n",
      "Epoch 2/10\n",
      "55000/55000 [==============================] - 46s 839us/sample - loss: 1.1652 - accuracy: 0.5032 - val_loss: 0.9573 - val_accuracy: 0.6172\n",
      "Epoch 3/10\n",
      "55000/55000 [==============================] - 46s 842us/sample - loss: 1.0822 - accuracy: 0.5459 - val_loss: 1.0975 - val_accuracy: 0.5280\n",
      "Epoch 4/10\n",
      "55000/55000 [==============================] - 46s 842us/sample - loss: 0.9150 - accuracy: 0.6196 - val_loss: 0.8545 - val_accuracy: 0.6852\n",
      "Epoch 5/10\n",
      "55000/55000 [==============================] - 48s 874us/sample - loss: 0.8962 - accuracy: 0.6392 - val_loss: 0.8214 - val_accuracy: 0.6592\n",
      "Epoch 6/10\n",
      "55000/55000 [==============================] - 48s 876us/sample - loss: 0.8147 - accuracy: 0.6832 - val_loss: 0.8154 - val_accuracy: 0.6878\n",
      "Epoch 7/10\n",
      "55000/55000 [==============================] - 46s 839us/sample - loss: 0.9118 - accuracy: 0.6434 - val_loss: 0.7194 - val_accuracy: 0.7362\n",
      "Epoch 8/10\n",
      "55000/55000 [==============================] - 48s 864us/sample - loss: 0.7239 - accuracy: 0.7254 - val_loss: 0.7084 - val_accuracy: 0.7450\n",
      "Epoch 9/10\n",
      "55000/55000 [==============================] - 48s 870us/sample - loss: 0.6918 - accuracy: 0.7424 - val_loss: 0.6335 - val_accuracy: 0.7638\n",
      "Epoch 10/10\n",
      "55000/55000 [==============================] - 48s 868us/sample - loss: 0.6459 - accuracy: 0.7589 - val_loss: 0.6017 - val_accuracy: 0.7864\n"
     ]
    }
   ],
   "source": [
    "tf.random.set_seed(42)\n",
    "np.random.seed(42)\n",
    "model = keras.models.Sequential()\n",
    "model.add(keras.layers.Flatten(input_shape=[28, 28]))\n",
    "model.add(keras.layers.Dense(300, activation=\"relu\", kernel_initializer=\"he_normal\"))\n",
    "for layer in range(99):\n",
    "    model.add(keras.layers.Dense(100, activation=\"relu\", kernel_initializer=\"he_normal\"))\n",
    "model.add(keras.layers.Dense(10, activation=\"softmax\"))\n",
    "model.compile(loss=\"sparse_categorical_crossentropy\",\n",
    "              optimizer=keras.optimizers.SGD(lr=1e-3),\n",
    "              metrics=[\"accuracy\"])\n",
    "history = model.fit(X_train_scaled, y_train, epochs=10, validation_data=(X_valid_scaled, y_valid))"
   ]
  },
  {
   "cell_type": "markdown",
   "metadata": {},
   "source": [
    "результат чуть хуже, наверное чтобы проблема \"Vanishing/Exploding Gradients\" проявилась ярче нужно еще больше скрытых слоев."
   ]
  },
  {
   "cell_type": "markdown",
   "metadata": {},
   "source": [
    "## Batch Normalization"
   ]
  },
  {
   "cell_type": "code",
   "execution_count": 7,
   "metadata": {},
   "outputs": [],
   "source": [
    "model = keras.models.Sequential([\n",
    "    keras.layers.Flatten(input_shape=[28, 28]),\n",
    "    keras.layers.BatchNormalization(),\n",
    "    keras.layers.Dense(300, activation=\"relu\"),\n",
    "    keras.layers.BatchNormalization(),\n",
    "    keras.layers.Dense(100, activation=\"relu\"),\n",
    "    keras.layers.BatchNormalization(),\n",
    "    keras.layers.Dense(10, activation=\"softmax\")\n",
    "])"
   ]
  },
  {
   "cell_type": "code",
   "execution_count": 8,
   "metadata": {},
   "outputs": [
    {
     "name": "stdout",
     "output_type": "stream",
     "text": [
      "Model: \"sequential_1\"\n",
      "_________________________________________________________________\n",
      "Layer (type)                 Output Shape              Param #   \n",
      "=================================================================\n",
      "flatten_1 (Flatten)          (None, 784)               0         \n",
      "_________________________________________________________________\n",
      "batch_normalization (BatchNo (None, 784)               3136      \n",
      "_________________________________________________________________\n",
      "dense_3 (Dense)              (None, 300)               235500    \n",
      "_________________________________________________________________\n",
      "batch_normalization_1 (Batch (None, 300)               1200      \n",
      "_________________________________________________________________\n",
      "dense_4 (Dense)              (None, 100)               30100     \n",
      "_________________________________________________________________\n",
      "batch_normalization_2 (Batch (None, 100)               400       \n",
      "_________________________________________________________________\n",
      "dense_5 (Dense)              (None, 10)                1010      \n",
      "=================================================================\n",
      "Total params: 271,346\n",
      "Trainable params: 268,978\n",
      "Non-trainable params: 2,368\n",
      "_________________________________________________________________\n"
     ]
    }
   ],
   "source": [
    "model.summary()"
   ]
  },
  {
   "cell_type": "markdown",
   "metadata": {},
   "source": [
    "после входного слоя BN дает 4 дополнительных параметра γ, β, μ и σ для каждого входящего значения, т.о. получается 28х28х4=3136. Параметры μ и σ не корректируются в процессе обратного распространения ошибки. Рассмотрим параметры первого BN слоя"
   ]
  },
  {
   "cell_type": "code",
   "execution_count": 9,
   "metadata": {},
   "outputs": [
    {
     "data": {
      "text/plain": [
       "[('batch_normalization/gamma:0', True),\n",
       " ('batch_normalization/beta:0', True),\n",
       " ('batch_normalization/moving_mean:0', False),\n",
       " ('batch_normalization/moving_variance:0', False)]"
      ]
     },
     "execution_count": 9,
     "metadata": {},
     "output_type": "execute_result"
    }
   ],
   "source": [
    "bn1 = model.layers[1]\n",
    "[(var.name, var.trainable) for var in bn1.variables]"
   ]
  },
  {
   "cell_type": "markdown",
   "metadata": {},
   "source": [
    "Т.о. два параметра обучаемые (в процессе обратного распространения), другие два - нет."
   ]
  },
  {
   "cell_type": "code",
   "execution_count": 10,
   "metadata": {},
   "outputs": [
    {
     "data": {
      "text/plain": [
       "[<tf.Operation 'cond/Identity' type=Identity>,\n",
       " <tf.Operation 'cond_1/Identity' type=Identity>]"
      ]
     },
     "execution_count": 10,
     "metadata": {},
     "output_type": "execute_result"
    }
   ],
   "source": [
    "model.layers[1].updates"
   ]
  },
  {
   "cell_type": "code",
   "execution_count": 11,
   "metadata": {},
   "outputs": [],
   "source": [
    "model.compile(loss=\"sparse_categorical_crossentropy\",\n",
    "              optimizer=keras.optimizers.SGD(lr=1e-3),\n",
    "              metrics=[\"accuracy\"])"
   ]
  },
  {
   "cell_type": "code",
   "execution_count": 12,
   "metadata": {},
   "outputs": [
    {
     "name": "stdout",
     "output_type": "stream",
     "text": [
      "Train on 55000 samples, validate on 5000 samples\n",
      "Epoch 1/10\n",
      "55000/55000 [==============================] - 15s 267us/sample - loss: 0.8317 - accuracy: 0.7230 - val_loss: 0.5517 - val_accuracy: 0.8130\n",
      "Epoch 2/10\n",
      "55000/55000 [==============================] - 13s 237us/sample - loss: 0.5671 - accuracy: 0.8047 - val_loss: 0.4763 - val_accuracy: 0.8386\n",
      "Epoch 3/10\n",
      "55000/55000 [==============================] - 13s 239us/sample - loss: 0.5129 - accuracy: 0.8213 - val_loss: 0.4416 - val_accuracy: 0.8478\n",
      "Epoch 4/10\n",
      "55000/55000 [==============================] - 13s 236us/sample - loss: 0.4812 - accuracy: 0.8319 - val_loss: 0.4186 - val_accuracy: 0.8542\n",
      "Epoch 5/10\n",
      "55000/55000 [==============================] - 13s 239us/sample - loss: 0.4567 - accuracy: 0.8395 - val_loss: 0.4045 - val_accuracy: 0.8604\n",
      "Epoch 6/10\n",
      "55000/55000 [==============================] - 13s 242us/sample - loss: 0.4413 - accuracy: 0.8458 - val_loss: 0.3929 - val_accuracy: 0.8624\n",
      "Epoch 7/10\n",
      "55000/55000 [==============================] - 12s 224us/sample - loss: 0.4256 - accuracy: 0.8499 - val_loss: 0.3821 - val_accuracy: 0.8646\n",
      "Epoch 8/10\n",
      "55000/55000 [==============================] - 13s 230us/sample - loss: 0.4121 - accuracy: 0.8559 - val_loss: 0.3735 - val_accuracy: 0.8660\n",
      "Epoch 9/10\n",
      "55000/55000 [==============================] - 13s 238us/sample - loss: 0.4009 - accuracy: 0.8581 - val_loss: 0.3677 - val_accuracy: 0.8668\n",
      "Epoch 10/10\n",
      "55000/55000 [==============================] - 12s 227us/sample - loss: 0.3907 - accuracy: 0.8630 - val_loss: 0.3634 - val_accuracy: 0.8686\n"
     ]
    }
   ],
   "source": [
    "history = model.fit(X_train, y_train, epochs=10,\n",
    "                    validation_data=(X_valid, y_valid))"
   ]
  },
  {
   "cell_type": "markdown",
   "metadata": {},
   "source": [
    "Иногда размещение слоя BN перед фукнцией активации работает лучше. Кроме того отключим параметр смещения в скрытых слоях нейронов"
   ]
  },
  {
   "cell_type": "code",
   "execution_count": 14,
   "metadata": {},
   "outputs": [
    {
     "name": "stdout",
     "output_type": "stream",
     "text": [
      "Train on 55000 samples, validate on 5000 samples\n",
      "Epoch 1/10\n",
      "55000/55000 [==============================] - 14s 263us/sample - loss: 1.0214 - accuracy: 0.6848 - val_loss: 0.6579 - val_accuracy: 0.7900\n",
      "Epoch 2/10\n",
      "55000/55000 [==============================] - 13s 231us/sample - loss: 0.6595 - accuracy: 0.7874 - val_loss: 0.5467 - val_accuracy: 0.8186\n",
      "Epoch 3/10\n",
      "55000/55000 [==============================] - 13s 232us/sample - loss: 0.5820 - accuracy: 0.8055 - val_loss: 0.4972 - val_accuracy: 0.8332\n",
      "Epoch 4/10\n",
      "55000/55000 [==============================] - 12s 222us/sample - loss: 0.5378 - accuracy: 0.8194 - val_loss: 0.4657 - val_accuracy: 0.8440\n",
      "Epoch 5/10\n",
      "55000/55000 [==============================] - 12s 227us/sample - loss: 0.5071 - accuracy: 0.8267 - val_loss: 0.4433 - val_accuracy: 0.8474\n",
      "Epoch 6/10\n",
      "55000/55000 [==============================] - 14s 248us/sample - loss: 0.4882 - accuracy: 0.8318 - val_loss: 0.4265 - val_accuracy: 0.8522\n",
      "Epoch 7/10\n",
      "55000/55000 [==============================] - 14s 247us/sample - loss: 0.4700 - accuracy: 0.8383 - val_loss: 0.4133 - val_accuracy: 0.8568\n",
      "Epoch 8/10\n",
      "55000/55000 [==============================] - 13s 234us/sample - loss: 0.4543 - accuracy: 0.8433 - val_loss: 0.4030 - val_accuracy: 0.8580\n",
      "Epoch 9/10\n",
      "55000/55000 [==============================] - 16s 283us/sample - loss: 0.4409 - accuracy: 0.8468 - val_loss: 0.3940 - val_accuracy: 0.8632\n",
      "Epoch 10/10\n",
      "55000/55000 [==============================] - 16s 289us/sample - loss: 0.4303 - accuracy: 0.8523 - val_loss: 0.3871 - val_accuracy: 0.8652\n"
     ]
    }
   ],
   "source": [
    "model = keras.models.Sequential([\n",
    "    keras.layers.Flatten(input_shape=[28, 28]),\n",
    "    keras.layers.BatchNormalization(),\n",
    "    keras.layers.Dense(300, use_bias=False),\n",
    "    keras.layers.BatchNormalization(),\n",
    "    keras.layers.Activation(\"relu\"),\n",
    "    keras.layers.Dense(100, use_bias=False),\n",
    "    keras.layers.BatchNormalization(),\n",
    "    keras.layers.Activation(\"relu\"),\n",
    "    keras.layers.Dense(10, activation=\"softmax\")\n",
    "])\n",
    "\n",
    "model.compile(loss=\"sparse_categorical_crossentropy\",\n",
    "              optimizer=keras.optimizers.SGD(lr=1e-3),\n",
    "              metrics=[\"accuracy\"])\n",
    "\n",
    "history = model.fit(X_train, y_train, epochs=10,\n",
    "                    validation_data=(X_valid, y_valid))"
   ]
  },
  {
   "cell_type": "markdown",
   "metadata": {},
   "source": [
    "# Reusing Pretrained Layers"
   ]
  },
  {
   "cell_type": "markdown",
   "metadata": {},
   "source": [
    "Разделим набор данных fashion MNIST на два набора:\n",
    "\n",
    "- набор A не будет содержать сандали и рубашки, но содержит остальные 8 классов;\n",
    "- набор B будет содержить рубашки и сандали. А задача соответствуюещго классификатора будет сведена к бинарной классификации, где позитивный класс - рубашки, неготивный - сандали"
   ]
  },
  {
   "cell_type": "code",
   "execution_count": 6,
   "metadata": {},
   "outputs": [],
   "source": [
    "def split_dataset(X, y):\n",
    "    y_5_or_6 = (y == 5) | (y == 6) # булевый массив указывающий на рубкаши и сандали\n",
    "    y_A = y[~y_5_or_6] # labels данные для набора A\n",
    "    X_A = X[~y_5_or_6] # data данные для набора А\n",
    "    y_A[y_A > 6] -= 2 # индексы классов 7, 8, 9 должны стать индексами 5, 6, 7\n",
    "    y_B = (y[y_5_or_6] == 6).astype(np.float32) # labels данные для набора B (рубашки - положительный класс)\n",
    "    X_B = X[y_5_or_6]\n",
    "    return ((X_A, y_A), (X_B, y_B))\n",
    "\n",
    "(X_train_A, y_train_A), (X_train_B, y_train_B) = split_dataset(X_train, y_train)\n",
    "(X_valid_A, y_valid_A), (X_valid_B, y_valid_B) = split_dataset(X_valid, y_valid)\n",
    "(X_test_A, y_test_A), (X_test_B, y_test_B) = split_dataset(X_test, y_test)\n",
    "\n",
    "#эмуляция того, что наш набор обучения очень мал\n",
    "X_train_B = X_train_B[:200]\n",
    "y_train_B = y_train_B[:200]"
   ]
  },
  {
   "cell_type": "code",
   "execution_count": 7,
   "metadata": {},
   "outputs": [
    {
     "name": "stdout",
     "output_type": "stream",
     "text": [
      "(43986, 28, 28)\n",
      "(200, 28, 28)\n",
      "[4 0 5 7 7 7 4 4 3 4 0 1 6 3 4 3 2 6 5 3 4 5 1 3 4 2 0 6 7 1]\n",
      "[1. 1. 0. 0. 0. 0. 1. 1. 1. 0. 0. 1. 1. 0. 0. 0. 0. 0. 0. 1. 1. 0. 0. 1.\n",
      " 1. 0. 1. 1. 1. 1.]\n"
     ]
    }
   ],
   "source": [
    "print(X_train_A.shape)\n",
    "print(X_train_B.shape)\n",
    "print(y_train_A[:30])\n",
    "print(y_train_B[:30])"
   ]
  },
  {
   "cell_type": "markdown",
   "metadata": {},
   "source": [
    "Поскольку для целей текущей задачи мы считаем что у нас есть некоторая обученная модель A, которую мы будем использовать для обучения модели B, а именно будет использовать веса скрытых слоев модели A, но самой модели A у нас нет - обучим ее"
   ]
  },
  {
   "cell_type": "code",
   "execution_count": 8,
   "metadata": {},
   "outputs": [
    {
     "name": "stdout",
     "output_type": "stream",
     "text": [
      "Train on 43986 samples, validate on 4014 samples\n",
      "Epoch 1/20\n",
      "43986/43986 [==============================] - 8s 185us/sample - loss: 0.5779 - accuracy: 0.8141 - val_loss: 0.3651 - val_accuracy: 0.8777\n",
      "Epoch 2/20\n",
      "43986/43986 [==============================] - 6s 137us/sample - loss: 0.3497 - accuracy: 0.8802 - val_loss: 0.3139 - val_accuracy: 0.8926\n",
      "Epoch 3/20\n",
      "43986/43986 [==============================] - 6s 131us/sample - loss: 0.3139 - accuracy: 0.8912 - val_loss: 0.2940 - val_accuracy: 0.9003\n",
      "Epoch 4/20\n",
      "43986/43986 [==============================] - 6s 136us/sample - loss: 0.2949 - accuracy: 0.8975 - val_loss: 0.2845 - val_accuracy: 0.9033\n",
      "Epoch 5/20\n",
      "43986/43986 [==============================] - 6s 132us/sample - loss: 0.2815 - accuracy: 0.9034 - val_loss: 0.2779 - val_accuracy: 0.9053\n",
      "Epoch 6/20\n",
      "43986/43986 [==============================] - 6s 143us/sample - loss: 0.2718 - accuracy: 0.9071 - val_loss: 0.2639 - val_accuracy: 0.9113\n",
      "Epoch 7/20\n",
      "43986/43986 [==============================] - 6s 142us/sample - loss: 0.2635 - accuracy: 0.9088 - val_loss: 0.2624 - val_accuracy: 0.9126\n",
      "Epoch 8/20\n",
      "43986/43986 [==============================] - 6s 141us/sample - loss: 0.2575 - accuracy: 0.9113 - val_loss: 0.2609 - val_accuracy: 0.9113\n",
      "Epoch 9/20\n",
      "43986/43986 [==============================] - 6s 142us/sample - loss: 0.2520 - accuracy: 0.9142 - val_loss: 0.2581 - val_accuracy: 0.9108\n",
      "Epoch 10/20\n",
      "43986/43986 [==============================] - 7s 155us/sample - loss: 0.2476 - accuracy: 0.9155 - val_loss: 0.2491 - val_accuracy: 0.9160\n",
      "Epoch 11/20\n",
      "43986/43986 [==============================] - 6s 143us/sample - loss: 0.2432 - accuracy: 0.9173 - val_loss: 0.2487 - val_accuracy: 0.9153\n",
      "Epoch 12/20\n",
      "43986/43986 [==============================] - 6s 142us/sample - loss: 0.2394 - accuracy: 0.9186 - val_loss: 0.2449 - val_accuracy: 0.9190\n",
      "Epoch 13/20\n",
      "43986/43986 [==============================] - 6s 143us/sample - loss: 0.2353 - accuracy: 0.9200 - val_loss: 0.2463 - val_accuracy: 0.9158\n",
      "Epoch 14/20\n",
      "43986/43986 [==============================] - 6s 144us/sample - loss: 0.2323 - accuracy: 0.9202 - val_loss: 0.2412 - val_accuracy: 0.9175\n",
      "Epoch 15/20\n",
      "43986/43986 [==============================] - 7s 151us/sample - loss: 0.2292 - accuracy: 0.9222 - val_loss: 0.2380 - val_accuracy: 0.9205\n",
      "Epoch 16/20\n",
      "43986/43986 [==============================] - 6s 142us/sample - loss: 0.2264 - accuracy: 0.9226 - val_loss: 0.2393 - val_accuracy: 0.9195\n",
      "Epoch 17/20\n",
      "43986/43986 [==============================] - 6s 141us/sample - loss: 0.2236 - accuracy: 0.9233 - val_loss: 0.2425 - val_accuracy: 0.9173\n",
      "Epoch 18/20\n",
      "43986/43986 [==============================] - 6s 144us/sample - loss: 0.2208 - accuracy: 0.9244 - val_loss: 0.2374 - val_accuracy: 0.9188\n",
      "Epoch 19/20\n",
      "43986/43986 [==============================] - 6s 143us/sample - loss: 0.2183 - accuracy: 0.9246 - val_loss: 0.2357 - val_accuracy: 0.9180\n",
      "Epoch 20/20\n",
      "43986/43986 [==============================] - 7s 153us/sample - loss: 0.2160 - accuracy: 0.9265 - val_loss: 0.2321 - val_accuracy: 0.9193\n"
     ]
    }
   ],
   "source": [
    "model_A = keras.models.Sequential()\n",
    "model_A.add(keras.layers.Flatten(input_shape=[28, 28]))\n",
    "for n_hidden in (300, 100, 50, 50, 50):\n",
    "    model_A.add(keras.layers.Dense(n_hidden, activation=\"selu\"))\n",
    "model_A.add(keras.layers.Dense(8, activation=\"softmax\"))\n",
    "\n",
    "model_A.compile(loss=\"sparse_categorical_crossentropy\",\n",
    "                optimizer=keras.optimizers.SGD(lr=1e-3),\n",
    "                metrics=[\"accuracy\"])\n",
    "\n",
    "history = model_A.fit(X_train_A, y_train_A, epochs=20,\n",
    "                    validation_data=(X_valid_A, y_valid_A))"
   ]
  },
  {
   "cell_type": "code",
   "execution_count": 9,
   "metadata": {},
   "outputs": [],
   "source": [
    "model_A.save(\"my_model_A.h5\")"
   ]
  },
  {
   "cell_type": "markdown",
   "metadata": {},
   "source": [
    "Создадим модель B и обучим на имеющимся (маленьком) обучающем наборе. В дальнейшем эта модель будет использоваться для сравннения с моделью на наборе B, которая будет использовать обученные слои модели A "
   ]
  },
  {
   "cell_type": "code",
   "execution_count": 10,
   "metadata": {},
   "outputs": [
    {
     "name": "stdout",
     "output_type": "stream",
     "text": [
      "Train on 200 samples, validate on 986 samples\n",
      "Epoch 1/20\n",
      "200/200 [==============================] - 1s 4ms/sample - loss: 0.7442 - accuracy: 0.5500 - val_loss: 0.6407 - val_accuracy: 0.6389\n",
      "Epoch 2/20\n",
      "200/200 [==============================] - 0s 724us/sample - loss: 0.6018 - accuracy: 0.6700 - val_loss: 0.5337 - val_accuracy: 0.7404\n",
      "Epoch 3/20\n",
      "200/200 [==============================] - 0s 607us/sample - loss: 0.4981 - accuracy: 0.7750 - val_loss: 0.4552 - val_accuracy: 0.8215\n",
      "Epoch 4/20\n",
      "200/200 [==============================] - 0s 619us/sample - loss: 0.4226 - accuracy: 0.8500 - val_loss: 0.3939 - val_accuracy: 0.8732\n",
      "Epoch 5/20\n",
      "200/200 [==============================] - 0s 612us/sample - loss: 0.3615 - accuracy: 0.8850 - val_loss: 0.3441 - val_accuracy: 0.9118\n",
      "Epoch 6/20\n",
      "200/200 [==============================] - 0s 740us/sample - loss: 0.3131 - accuracy: 0.9350 - val_loss: 0.3049 - val_accuracy: 0.9351\n",
      "Epoch 7/20\n",
      "200/200 [==============================] - 0s 521us/sample - loss: 0.2750 - accuracy: 0.9450 - val_loss: 0.2738 - val_accuracy: 0.9554\n",
      "Epoch 8/20\n",
      "200/200 [==============================] - 0s 534us/sample - loss: 0.2447 - accuracy: 0.9600 - val_loss: 0.2487 - val_accuracy: 0.9655\n",
      "Epoch 9/20\n",
      "200/200 [==============================] - 0s 562us/sample - loss: 0.2205 - accuracy: 0.9700 - val_loss: 0.2272 - val_accuracy: 0.9706\n",
      "Epoch 10/20\n",
      "200/200 [==============================] - 0s 562us/sample - loss: 0.1994 - accuracy: 0.9700 - val_loss: 0.2094 - val_accuracy: 0.9736\n",
      "Epoch 11/20\n",
      "200/200 [==============================] - 0s 563us/sample - loss: 0.1819 - accuracy: 0.9700 - val_loss: 0.1946 - val_accuracy: 0.9767\n",
      "Epoch 12/20\n",
      "200/200 [==============================] - 0s 527us/sample - loss: 0.1676 - accuracy: 0.9850 - val_loss: 0.1823 - val_accuracy: 0.9777\n",
      "Epoch 13/20\n",
      "200/200 [==============================] - 0s 564us/sample - loss: 0.1551 - accuracy: 0.9850 - val_loss: 0.1713 - val_accuracy: 0.9797\n",
      "Epoch 14/20\n",
      "200/200 [==============================] - 0s 567us/sample - loss: 0.1438 - accuracy: 0.9950 - val_loss: 0.1616 - val_accuracy: 0.9797\n",
      "Epoch 15/20\n",
      "200/200 [==============================] - 0s 585us/sample - loss: 0.1345 - accuracy: 0.9950 - val_loss: 0.1540 - val_accuracy: 0.9807\n",
      "Epoch 16/20\n",
      "200/200 [==============================] - 0s 574us/sample - loss: 0.1262 - accuracy: 0.9950 - val_loss: 0.1461 - val_accuracy: 0.9807\n",
      "Epoch 17/20\n",
      "200/200 [==============================] - 0s 538us/sample - loss: 0.1188 - accuracy: 0.9950 - val_loss: 0.1398 - val_accuracy: 0.9807\n",
      "Epoch 18/20\n",
      "200/200 [==============================] - 0s 628us/sample - loss: 0.1120 - accuracy: 0.9950 - val_loss: 0.1334 - val_accuracy: 0.9828\n",
      "Epoch 19/20\n",
      "200/200 [==============================] - 0s 546us/sample - loss: 0.1059 - accuracy: 0.9950 - val_loss: 0.1278 - val_accuracy: 0.9828\n",
      "Epoch 20/20\n",
      "200/200 [==============================] - 0s 566us/sample - loss: 0.1003 - accuracy: 0.9950 - val_loss: 0.1228 - val_accuracy: 0.9838\n"
     ]
    }
   ],
   "source": [
    "model_B = keras.models.Sequential()\n",
    "\n",
    "model_B.add(keras.layers.Flatten(input_shape=[28, 28]))\n",
    "for n_hidden in (300, 100, 50, 50, 50):\n",
    "    model_B.add(keras.layers.Dense(n_hidden, activation=\"selu\"))\n",
    "model_B.add(keras.layers.Dense(1, activation=\"sigmoid\"))\n",
    "\n",
    "model_B.compile(loss=\"binary_crossentropy\",\n",
    "                optimizer=keras.optimizers.SGD(lr=1e-3),\n",
    "                metrics=[\"accuracy\"])\n",
    "\n",
    "history = model_B.fit(X_train_B, y_train_B, epochs=20,\n",
    "                      validation_data=(X_valid_B, y_valid_B))"
   ]
  },
  {
   "cell_type": "markdown",
   "metadata": {},
   "source": [
    "Теперь будем использовать обученные слои модели A. Клон модели A делается, чтобы мододели не использовали одни и те же слои и не оказывали т.о. влияния друг на друга в процессе обучения одной из них"
   ]
  },
  {
   "cell_type": "code",
   "execution_count": 16,
   "metadata": {},
   "outputs": [],
   "source": [
    "model_A = keras.models.load_model(\"my_model_A.h5\")\n",
    "model_B_on_A = keras.models.Sequential(model_A.layers[:-1])\n",
    "model_B_on_A.add(keras.layers.Dense(1, activation=\"sigmoid\"))\n",
    "\n",
    "model_A_clone = keras.models.clone_model(model_A)\n",
    "model_A_clone.set_weights(model_A.get_weights())"
   ]
  },
  {
   "cell_type": "markdown",
   "metadata": {},
   "source": [
    "Заморозим на несколько эпох веса скрытых заимстоваванных слоев, чтобы избежать влияния больших градиентов на первых эпохах обучения"
   ]
  },
  {
   "cell_type": "code",
   "execution_count": 17,
   "metadata": {},
   "outputs": [],
   "source": [
    "for l in model_B_on_A.layers[:-1]: l.trainable = False\n",
    "    \n",
    "model_B_on_A.compile(loss=\"binary_crossentropy\",\n",
    "                     optimizer=keras.optimizers.SGD(lr=1e-3),\n",
    "                     metrics=[\"accuracy\"])"
   ]
  },
  {
   "cell_type": "code",
   "execution_count": 18,
   "metadata": {},
   "outputs": [
    {
     "name": "stdout",
     "output_type": "stream",
     "text": [
      "Train on 200 samples, validate on 986 samples\n",
      "Epoch 1/10\n",
      "200/200 [==============================] - 1s 3ms/sample - loss: 0.2136 - accuracy: 0.9500 - val_loss: 0.2254 - val_accuracy: 0.9391\n",
      "Epoch 2/10\n",
      "200/200 [==============================] - 0s 509us/sample - loss: 0.2070 - accuracy: 0.9500 - val_loss: 0.2195 - val_accuracy: 0.9402\n",
      "Epoch 3/10\n",
      "200/200 [==============================] - 0s 566us/sample - loss: 0.2009 - accuracy: 0.9500 - val_loss: 0.2135 - val_accuracy: 0.9432\n",
      "Epoch 4/10\n",
      "200/200 [==============================] - 0s 606us/sample - loss: 0.1946 - accuracy: 0.9550 - val_loss: 0.2084 - val_accuracy: 0.9452\n",
      "Epoch 5/10\n",
      "200/200 [==============================] - 0s 502us/sample - loss: 0.1892 - accuracy: 0.9550 - val_loss: 0.2033 - val_accuracy: 0.9483\n",
      "Epoch 6/10\n",
      "200/200 [==============================] - 0s 641us/sample - loss: 0.1839 - accuracy: 0.9600 - val_loss: 0.1983 - val_accuracy: 0.9503\n",
      "Epoch 7/10\n",
      "200/200 [==============================] - 0s 513us/sample - loss: 0.1788 - accuracy: 0.9600 - val_loss: 0.1936 - val_accuracy: 0.9544\n",
      "Epoch 8/10\n",
      "200/200 [==============================] - 0s 507us/sample - loss: 0.1738 - accuracy: 0.9650 - val_loss: 0.1892 - val_accuracy: 0.9554\n",
      "Epoch 9/10\n",
      "200/200 [==============================] - 0s 564us/sample - loss: 0.1693 - accuracy: 0.9650 - val_loss: 0.1853 - val_accuracy: 0.9564\n",
      "Epoch 10/10\n",
      "200/200 [==============================] - 0s 617us/sample - loss: 0.1652 - accuracy: 0.9650 - val_loss: 0.1814 - val_accuracy: 0.9584\n"
     ]
    }
   ],
   "source": [
    "history = model_B_on_A.fit(X_train_B, y_train_B, epochs=10,\n",
    "                           validation_data=(X_valid_B, y_valid_B))"
   ]
  },
  {
   "cell_type": "markdown",
   "metadata": {},
   "source": [
    "Теперь разблокируем скрытые слои и запустим полное обучение"
   ]
  },
  {
   "cell_type": "code",
   "execution_count": 19,
   "metadata": {},
   "outputs": [
    {
     "name": "stdout",
     "output_type": "stream",
     "text": [
      "Train on 200 samples, validate on 986 samples\n",
      "Epoch 1/20\n",
      "200/200 [==============================] - 1s 3ms/sample - loss: 0.1513 - accuracy: 0.9750 - val_loss: 0.1554 - val_accuracy: 0.9625\n",
      "Epoch 2/20\n",
      "200/200 [==============================] - 0s 896us/sample - loss: 0.1260 - accuracy: 0.9800 - val_loss: 0.1383 - val_accuracy: 0.9726\n",
      "Epoch 3/20\n",
      "200/200 [==============================] - 0s 678us/sample - loss: 0.1095 - accuracy: 0.9800 - val_loss: 0.1239 - val_accuracy: 0.9807\n",
      "Epoch 4/20\n",
      "200/200 [==============================] - 0s 716us/sample - loss: 0.0952 - accuracy: 0.9850 - val_loss: 0.1125 - val_accuracy: 0.9828\n",
      "Epoch 5/20\n",
      "200/200 [==============================] - 0s 641us/sample - loss: 0.0836 - accuracy: 0.9850 - val_loss: 0.1031 - val_accuracy: 0.9878\n",
      "Epoch 6/20\n",
      "200/200 [==============================] - 0s 603us/sample - loss: 0.0751 - accuracy: 0.9850 - val_loss: 0.0958 - val_accuracy: 0.9878\n",
      "Epoch 7/20\n",
      "200/200 [==============================] - 0s 563us/sample - loss: 0.0681 - accuracy: 0.9900 - val_loss: 0.0898 - val_accuracy: 0.9888\n",
      "Epoch 8/20\n",
      "200/200 [==============================] - 0s 735us/sample - loss: 0.0622 - accuracy: 0.9950 - val_loss: 0.0850 - val_accuracy: 0.9909\n",
      "Epoch 9/20\n",
      "200/200 [==============================] - 0s 721us/sample - loss: 0.0577 - accuracy: 0.9950 - val_loss: 0.0804 - val_accuracy: 0.9909\n",
      "Epoch 10/20\n",
      "200/200 [==============================] - 0s 636us/sample - loss: 0.0538 - accuracy: 0.9950 - val_loss: 0.0765 - val_accuracy: 0.9909\n",
      "Epoch 11/20\n",
      "200/200 [==============================] - 0s 562us/sample - loss: 0.0506 - accuracy: 0.9950 - val_loss: 0.0733 - val_accuracy: 0.9909\n",
      "Epoch 12/20\n",
      "200/200 [==============================] - 0s 673us/sample - loss: 0.0476 - accuracy: 0.9950 - val_loss: 0.0704 - val_accuracy: 0.9909\n",
      "Epoch 13/20\n",
      "200/200 [==============================] - 0s 714us/sample - loss: 0.0447 - accuracy: 0.9950 - val_loss: 0.0679 - val_accuracy: 0.9909\n",
      "Epoch 14/20\n",
      "200/200 [==============================] - 0s 705us/sample - loss: 0.0423 - accuracy: 0.9950 - val_loss: 0.0655 - val_accuracy: 0.9909\n",
      "Epoch 15/20\n",
      "200/200 [==============================] - 0s 622us/sample - loss: 0.0403 - accuracy: 0.9950 - val_loss: 0.0633 - val_accuracy: 0.9909\n",
      "Epoch 16/20\n",
      "200/200 [==============================] - 0s 638us/sample - loss: 0.0384 - accuracy: 0.9950 - val_loss: 0.0615 - val_accuracy: 0.9909\n",
      "Epoch 17/20\n",
      "200/200 [==============================] - 0s 592us/sample - loss: 0.0368 - accuracy: 0.9950 - val_loss: 0.0597 - val_accuracy: 0.9909\n",
      "Epoch 18/20\n",
      "200/200 [==============================] - 0s 555us/sample - loss: 0.0352 - accuracy: 0.9950 - val_loss: 0.0581 - val_accuracy: 0.9909\n",
      "Epoch 19/20\n",
      "200/200 [==============================] - 0s 744us/sample - loss: 0.0339 - accuracy: 0.9950 - val_loss: 0.0565 - val_accuracy: 0.9909\n",
      "Epoch 20/20\n",
      "200/200 [==============================] - 0s 705us/sample - loss: 0.0325 - accuracy: 0.9950 - val_loss: 0.0551 - val_accuracy: 0.9909\n"
     ]
    }
   ],
   "source": [
    "for l in model_B_on_A.layers[:-1]: l.trainable = True\n",
    "    \n",
    "model_B_on_A.compile(loss=\"binary_crossentropy\",\n",
    "                     optimizer=keras.optimizers.SGD(lr=1e-3),\n",
    "                     metrics=[\"accuracy\"])\n",
    "\n",
    "history = model_B_on_A.fit(X_train_B, y_train_B, epochs=20,\n",
    "                           validation_data=(X_valid_B, y_valid_B))"
   ]
  },
  {
   "cell_type": "markdown",
   "metadata": {},
   "source": [
    "Выполним сравнение моделей B, одна из которых обучена с использованием скрытых слоев модели A"
   ]
  },
  {
   "cell_type": "code",
   "execution_count": 20,
   "metadata": {},
   "outputs": [
    {
     "name": "stdout",
     "output_type": "stream",
     "text": [
      "2000/2000 [==============================] - 0s 83us/sample - loss: 0.1220 - accuracy: 0.9830\n",
      "Оценка простой модели B: [0.12203311598300934, 0.983]\n",
      "2000/2000 [==============================] - 0s 80us/sample - loss: 0.0456 - accuracy: 0.9945\n",
      "Оценка модели B со скрытыми слоями A: [0.04557050058245659, 0.9945]\n"
     ]
    }
   ],
   "source": [
    "print(\"Оценка простой модели B:\", model_B.evaluate(X_test_B, y_test_B))\n",
    "print(\"Оценка модели B со скрытыми слоями A:\", model_B_on_A.evaluate(X_test_B, y_test_B))"
   ]
  },
  {
   "cell_type": "code",
   "execution_count": 21,
   "metadata": {},
   "outputs": [
    {
     "name": "stdout",
     "output_type": "stream",
     "text": [
      "ошибка уменьшилась на коэф.: 3.090909090909112\n"
     ]
    }
   ],
   "source": [
    "print(\"ошибка уменьшилась на коэф.:\", (100 - 98.3) / (100 - 99.45))"
   ]
  },
  {
   "cell_type": "markdown",
   "metadata": {},
   "source": [
    "# Faster Optimizers "
   ]
  },
  {
   "cell_type": "markdown",
   "metadata": {},
   "source": [
    "**Momentum Optimization**"
   ]
  },
  {
   "cell_type": "code",
   "execution_count": 45,
   "metadata": {},
   "outputs": [],
   "source": [
    "optimizer = keras.optimizers.SGD(lr=0.001, momentum=0.9)"
   ]
  },
  {
   "cell_type": "markdown",
   "metadata": {},
   "source": [
    "**Nesterov Accelerated Gradient**"
   ]
  },
  {
   "cell_type": "code",
   "execution_count": 46,
   "metadata": {},
   "outputs": [],
   "source": [
    "optimizer = keras.optimizers.SGD(lr=0.001, momentum=0.9, nesterov=True)"
   ]
  },
  {
   "cell_type": "markdown",
   "metadata": {},
   "source": [
    "**AdaGrad**"
   ]
  },
  {
   "cell_type": "code",
   "execution_count": 47,
   "metadata": {},
   "outputs": [],
   "source": [
    "optimizer = keras.optimizers.Adagrad(lr=0.001)"
   ]
  },
  {
   "cell_type": "markdown",
   "metadata": {},
   "source": [
    "**RMSProp**"
   ]
  },
  {
   "cell_type": "code",
   "execution_count": 4,
   "metadata": {},
   "outputs": [],
   "source": [
    "optimizer = keras.optimizers.RMSprop(lr=0.001, rho=0.9)"
   ]
  },
  {
   "cell_type": "markdown",
   "metadata": {},
   "source": [
    "**Adam Optimization**"
   ]
  },
  {
   "cell_type": "code",
   "execution_count": 5,
   "metadata": {},
   "outputs": [],
   "source": [
    "optimizer = keras.optimizers.Adam(lr=0.001, beta_1=0.9, beta_2=0.999)"
   ]
  },
  {
   "cell_type": "markdown",
   "metadata": {},
   "source": [
    "**Adamax Optimization**"
   ]
  },
  {
   "cell_type": "code",
   "execution_count": 6,
   "metadata": {},
   "outputs": [],
   "source": [
    "optimizer = keras.optimizers.Adamax(lr=0.001, beta_1=0.9, beta_2=0.999)"
   ]
  },
  {
   "cell_type": "markdown",
   "metadata": {},
   "source": [
    "**Nadam Optimization**"
   ]
  },
  {
   "cell_type": "code",
   "execution_count": 7,
   "metadata": {},
   "outputs": [],
   "source": [
    "optimizer = keras.optimizers.Nadam(lr=0.001, beta_1=0.9, beta_2=0.999)"
   ]
  },
  {
   "cell_type": "markdown",
   "metadata": {},
   "source": [
    "##  Learning Rate Scheduling"
   ]
  },
  {
   "cell_type": "markdown",
   "metadata": {},
   "source": [
    "**Power scheduling**"
   ]
  },
  {
   "cell_type": "code",
   "execution_count": 21,
   "metadata": {},
   "outputs": [],
   "source": [
    "learning_rate_ = 0.01\n",
    "decay_ = 1e-4\n",
    "\n",
    "optimizer = keras.optimizers.SGD(lr=learning_rate_, decay=decay_)"
   ]
  },
  {
   "cell_type": "code",
   "execution_count": 12,
   "metadata": {
    "scrolled": true
   },
   "outputs": [
    {
     "name": "stdout",
     "output_type": "stream",
     "text": [
      "Train on 55000 samples, validate on 5000 samples\n",
      "Epoch 1/25\n",
      "55000/55000 [==============================] - 11s 205us/sample - loss: 0.4909 - accuracy: 0.8263 - val_loss: 0.4182 - val_accuracy: 0.8506\n",
      "Epoch 2/25\n",
      "55000/55000 [==============================] - 10s 178us/sample - loss: 0.3823 - accuracy: 0.8644 - val_loss: 0.3746 - val_accuracy: 0.8690\n",
      "Epoch 3/25\n",
      "55000/55000 [==============================] - 10s 185us/sample - loss: 0.3497 - accuracy: 0.8747 - val_loss: 0.3596 - val_accuracy: 0.8722\n",
      "Epoch 4/25\n",
      "55000/55000 [==============================] - 10s 175us/sample - loss: 0.3283 - accuracy: 0.8819 - val_loss: 0.3598 - val_accuracy: 0.8754\n",
      "Epoch 5/25\n",
      "55000/55000 [==============================] - 11s 191us/sample - loss: 0.3115 - accuracy: 0.8888 - val_loss: 0.3429 - val_accuracy: 0.8784\n",
      "Epoch 6/25\n",
      "55000/55000 [==============================] - 10s 182us/sample - loss: 0.2983 - accuracy: 0.8935 - val_loss: 0.3497 - val_accuracy: 0.8748\n",
      "Epoch 7/25\n",
      "55000/55000 [==============================] - 11s 197us/sample - loss: 0.2880 - accuracy: 0.8977 - val_loss: 0.3340 - val_accuracy: 0.8822\n",
      "Epoch 8/25\n",
      "55000/55000 [==============================] - 11s 199us/sample - loss: 0.2792 - accuracy: 0.9012 - val_loss: 0.3342 - val_accuracy: 0.8800\n",
      "Epoch 9/25\n",
      "55000/55000 [==============================] - 11s 193us/sample - loss: 0.2710 - accuracy: 0.9024 - val_loss: 0.3296 - val_accuracy: 0.8820\n",
      "Epoch 10/25\n",
      "55000/55000 [==============================] - 11s 197us/sample - loss: 0.2639 - accuracy: 0.9053 - val_loss: 0.3335 - val_accuracy: 0.8808\n",
      "Epoch 11/25\n",
      "55000/55000 [==============================] - 11s 201us/sample - loss: 0.2577 - accuracy: 0.9087 - val_loss: 0.3251 - val_accuracy: 0.8860\n",
      "Epoch 12/25\n",
      "55000/55000 [==============================] - 10s 189us/sample - loss: 0.2516 - accuracy: 0.9108 - val_loss: 0.3240 - val_accuracy: 0.8862\n",
      "Epoch 13/25\n",
      "55000/55000 [==============================] - 10s 181us/sample - loss: 0.2465 - accuracy: 0.9128 - val_loss: 0.3245 - val_accuracy: 0.8840\n",
      "Epoch 14/25\n",
      "55000/55000 [==============================] - 10s 181us/sample - loss: 0.2419 - accuracy: 0.9156 - val_loss: 0.3286 - val_accuracy: 0.8842\n",
      "Epoch 15/25\n",
      "55000/55000 [==============================] - 10s 178us/sample - loss: 0.2373 - accuracy: 0.9164 - val_loss: 0.3170 - val_accuracy: 0.8868\n",
      "Epoch 16/25\n",
      "55000/55000 [==============================] - 11s 195us/sample - loss: 0.2328 - accuracy: 0.9179 - val_loss: 0.3214 - val_accuracy: 0.8880\n",
      "Epoch 17/25\n",
      "55000/55000 [==============================] - 10s 181us/sample - loss: 0.2295 - accuracy: 0.9196 - val_loss: 0.3226 - val_accuracy: 0.8868\n",
      "Epoch 18/25\n",
      "55000/55000 [==============================] - 10s 186us/sample - loss: 0.2254 - accuracy: 0.9209 - val_loss: 0.3210 - val_accuracy: 0.8876\n",
      "Epoch 19/25\n",
      "55000/55000 [==============================] - 10s 173us/sample - loss: 0.2222 - accuracy: 0.9217 - val_loss: 0.3195 - val_accuracy: 0.8868\n",
      "Epoch 20/25\n",
      "55000/55000 [==============================] - 10s 176us/sample - loss: 0.2189 - accuracy: 0.9241 - val_loss: 0.3198 - val_accuracy: 0.8872\n",
      "Epoch 21/25\n",
      "55000/55000 [==============================] - 10s 177us/sample - loss: 0.2161 - accuracy: 0.9236 - val_loss: 0.3173 - val_accuracy: 0.8878\n",
      "Epoch 22/25\n",
      "55000/55000 [==============================] - 10s 180us/sample - loss: 0.2134 - accuracy: 0.9251 - val_loss: 0.3179 - val_accuracy: 0.8902\n",
      "Epoch 23/25\n",
      "55000/55000 [==============================] - 10s 180us/sample - loss: 0.2104 - accuracy: 0.9262 - val_loss: 0.3179 - val_accuracy: 0.8862\n",
      "Epoch 24/25\n",
      "55000/55000 [==============================] - 9s 170us/sample - loss: 0.2078 - accuracy: 0.9274 - val_loss: 0.3192 - val_accuracy: 0.8876\n",
      "Epoch 25/25\n",
      "55000/55000 [==============================] - 9s 162us/sample - loss: 0.2054 - accuracy: 0.9284 - val_loss: 0.3202 - val_accuracy: 0.8892\n"
     ]
    }
   ],
   "source": [
    "n_epochs = 25\n",
    "\n",
    "model = keras.models.Sequential([\n",
    "    keras.layers.Flatten(input_shape=[28, 28]),\n",
    "    keras.layers.Dense(300, activation=\"selu\", kernel_initializer=\"lecun_normal\"),\n",
    "    keras.layers.Dense(100, activation=\"selu\", kernel_initializer=\"lecun_normal\"),\n",
    "    keras.layers.Dense(10, activation=\"softmax\")\n",
    "])\n",
    "model.compile(loss=\"sparse_categorical_crossentropy\", optimizer=optimizer, metrics=[\"accuracy\"])\n",
    "history = model.fit(X_train_scaled, y_train, epochs=n_epochs,\n",
    "                    validation_data=(X_valid_scaled, y_valid))"
   ]
  },
  {
   "cell_type": "code",
   "execution_count": 20,
   "metadata": {},
   "outputs": [
    {
     "data": {
      "image/png": "[encoded data removed]",
      "text/plain": [
       "<Figure size 432x288 with 1 Axes>"
      ]
     },
     "metadata": {
      "needs_background": "light"
     },
     "output_type": "display_data"
    }
   ],
   "source": [
    "batch_size = 32\n",
    "n_steps_per_epoch = len(X_train) // batch_size\n",
    "epochs = np.arange(n_epochs)\n",
    "lrs = learning_rate_ / (1 + decay_ * epochs * n_steps_per_epoch)\n",
    "\n",
    "plt.xlabel(\"Epoch\")\n",
    "plt.ylabel(\"Learning Rate\")\n",
    "plt.plot(epochs, lrs,  \"o-\")\n",
    "plt.grid(True)\n",
    "\n",
    "plt.show()"
   ]
  },
  {
   "cell_type": "markdown",
   "metadata": {},
   "source": [
    "**Exponential scheduling**"
   ]
  },
  {
   "cell_type": "code",
   "execution_count": 23,
   "metadata": {},
   "outputs": [],
   "source": [
    "def exponential_decay_fn(epoch):\n",
    "    return 0.01 * 0.1**(epoch / 20)\n",
    "\n",
    "def exponential_decay(lr0, s):\n",
    "    def exponential_decay_fn(epoch):\n",
    "        return lr0 * 0.1**(epoch / s)\n",
    "    return exponential_decay_fn"
   ]
  },
  {
   "cell_type": "code",
   "execution_count": 24,
   "metadata": {},
   "outputs": [],
   "source": [
    "exponential_decay_fn = exponential_decay(lr0=0.01, s=20)"
   ]
  },
  {
   "cell_type": "code",
   "execution_count": 31,
   "metadata": {},
   "outputs": [
    {
     "name": "stdout",
     "output_type": "stream",
     "text": [
      "Train on 55000 samples, validate on 5000 samples\n",
      "Epoch 1/25\n",
      "55000/55000 [==============================] - 14s 250us/sample - loss: 1.4784 - accuracy: 0.7035 - val_loss: 1.2069 - val_accuracy: 0.7328\n",
      "Epoch 2/25\n",
      "55000/55000 [==============================] - 13s 238us/sample - loss: 1.1297 - accuracy: 0.7542 - val_loss: 1.9001 - val_accuracy: 0.7764\n",
      "Epoch 3/25\n",
      "55000/55000 [==============================] - 12s 217us/sample - loss: 1.0237 - accuracy: 0.7773 - val_loss: 1.0849 - val_accuracy: 0.7308\n",
      "Epoch 4/25\n",
      "55000/55000 [==============================] - 13s 239us/sample - loss: 0.9149 - accuracy: 0.7940 - val_loss: 1.2414 - val_accuracy: 0.8156\n",
      "Epoch 5/25\n",
      "55000/55000 [==============================] - 12s 223us/sample - loss: 0.8952 - accuracy: 0.8077 - val_loss: 1.1373 - val_accuracy: 0.7942\n",
      "Epoch 6/25\n",
      "55000/55000 [==============================] - 13s 232us/sample - loss: 0.7724 - accuracy: 0.8241 - val_loss: 1.1432 - val_accuracy: 0.8304\n",
      "Epoch 7/25\n",
      "55000/55000 [==============================] - 12s 227us/sample - loss: 0.7047 - accuracy: 0.8354 - val_loss: 0.9483 - val_accuracy: 0.8480\n",
      "Epoch 8/25\n",
      "55000/55000 [==============================] - 12s 224us/sample - loss: 0.6158 - accuracy: 0.8445 - val_loss: 0.8045 - val_accuracy: 0.8476\n",
      "Epoch 9/25\n",
      "55000/55000 [==============================] - 12s 225us/sample - loss: 0.6161 - accuracy: 0.8527 - val_loss: 0.8547 - val_accuracy: 0.8400\n",
      "Epoch 10/25\n",
      "55000/55000 [==============================] - 12s 213us/sample - loss: 0.5723 - accuracy: 0.8600 - val_loss: 0.7814 - val_accuracy: 0.8568\n",
      "Epoch 11/25\n",
      "55000/55000 [==============================] - 12s 217us/sample - loss: 0.5018 - accuracy: 0.8713 - val_loss: 1.2051 - val_accuracy: 0.8602\n",
      "Epoch 12/25\n",
      "55000/55000 [==============================] - 11s 201us/sample - loss: 0.4894 - accuracy: 0.8776 - val_loss: 1.1093 - val_accuracy: 0.8412\n",
      "Epoch 13/25\n",
      "55000/55000 [==============================] - 12s 223us/sample - loss: 0.4353 - accuracy: 0.8840 - val_loss: 0.9681 - val_accuracy: 0.8726\n",
      "Epoch 14/25\n",
      "55000/55000 [==============================] - 13s 233us/sample - loss: 0.4050 - accuracy: 0.8906 - val_loss: 0.8326 - val_accuracy: 0.8726\n",
      "Epoch 15/25\n",
      "55000/55000 [==============================] - 11s 206us/sample - loss: 0.3868 - accuracy: 0.8951 - val_loss: 0.8778 - val_accuracy: 0.8748\n",
      "Epoch 16/25\n",
      "55000/55000 [==============================] - 11s 209us/sample - loss: 0.3529 - accuracy: 0.9006 - val_loss: 1.2203 - val_accuracy: 0.8486\n",
      "Epoch 17/25\n",
      "55000/55000 [==============================] - 12s 224us/sample - loss: 0.3347 - accuracy: 0.9048 - val_loss: 0.8944 - val_accuracy: 0.8698\n",
      "Epoch 18/25\n",
      "55000/55000 [==============================] - 11s 203us/sample - loss: 0.3104 - accuracy: 0.9103 - val_loss: 0.9136 - val_accuracy: 0.8840\n",
      "Epoch 19/25\n",
      "55000/55000 [==============================] - 11s 202us/sample - loss: 0.2989 - accuracy: 0.9163 - val_loss: 1.1983 - val_accuracy: 0.8758\n",
      "Epoch 20/25\n",
      "55000/55000 [==============================] - 11s 202us/sample - loss: 0.3037 - accuracy: 0.9198 - val_loss: 1.3906 - val_accuracy: 0.8674\n",
      "Epoch 21/25\n",
      "55000/55000 [==============================] - 11s 202us/sample - loss: 0.2930 - accuracy: 0.9235 - val_loss: 1.0396 - val_accuracy: 0.8856\n",
      "Epoch 22/25\n",
      "55000/55000 [==============================] - 11s 201us/sample - loss: 0.2793 - accuracy: 0.9269 - val_loss: 1.2266 - val_accuracy: 0.8834\n",
      "Epoch 23/25\n",
      "55000/55000 [==============================] - 13s 231us/sample - loss: 0.2477 - accuracy: 0.9307 - val_loss: 1.1747 - val_accuracy: 0.8860\n",
      "Epoch 24/25\n",
      "55000/55000 [==============================] - 12s 216us/sample - loss: 0.2372 - accuracy: 0.9338 - val_loss: 1.1771 - val_accuracy: 0.8772\n",
      "Epoch 25/25\n",
      "55000/55000 [==============================] - 11s 205us/sample - loss: 0.2157 - accuracy: 0.9368 - val_loss: 1.4206 - val_accuracy: 0.8796\n"
     ]
    }
   ],
   "source": [
    "n_epochs = 25\n",
    "\n",
    "model = keras.models.Sequential([\n",
    "    keras.layers.Flatten(input_shape=[28, 28]),\n",
    "    keras.layers.Dense(300, activation=\"selu\", kernel_initializer=\"lecun_normal\"),\n",
    "    keras.layers.Dense(100, activation=\"selu\", kernel_initializer=\"lecun_normal\"),\n",
    "    keras.layers.Dense(10, activation=\"softmax\")\n",
    "])\n",
    "model.compile(loss=\"sparse_categorical_crossentropy\", metrics=[\"accuracy\"])\n",
    "lr_scheduler = keras.callbacks.LearningRateScheduler(exponential_decay_fn)\n",
    "history = model.fit(X_train_scaled, y_train, epochs=n_epochs,\n",
    "                    validation_data=(X_valid_scaled, y_valid),\n",
    "                    callbacks=[lr_scheduler])"
   ]
  },
  {
   "cell_type": "code",
   "execution_count": 32,
   "metadata": {},
   "outputs": [
    {
     "data": {
      "image/png": "[encoded data removed]",
      "text/plain": [
       "<Figure size 432x288 with 1 Axes>"
      ]
     },
     "metadata": {
      "needs_background": "light"
     },
     "output_type": "display_data"
    }
   ],
   "source": [
    "plt.xlabel(\"Epoch\")\n",
    "plt.ylabel(\"Learning Rate\")\n",
    "plt.plot(history.epoch, history.history[\"lr\"], \"o-\")\n",
    "plt.grid(True)\n",
    "\n",
    "plt.show()"
   ]
  },
  {
   "cell_type": "markdown",
   "metadata": {},
   "source": [
    "Ниже представлен пример изменения learning_rate на каждом шаге, а не на каждой эпохе, как представлено выше"
   ]
  },
  {
   "cell_type": "code",
   "execution_count": 40,
   "metadata": {},
   "outputs": [],
   "source": [
    "s = 25 * len(X_train) // 32 #кол-во итераций за 25 эпох\n",
    "decay_ = 0.1\n",
    "learning_rate_ = 0.01\n",
    "exp_sch = keras.optimizers.schedules.ExponentialDecay(learning_rate_, s, decay_)\n",
    "optimizer = keras.optimizers.SGD(exp_sch)"
   ]
  },
  {
   "cell_type": "code",
   "execution_count": 41,
   "metadata": {},
   "outputs": [
    {
     "name": "stdout",
     "output_type": "stream",
     "text": [
      "Train on 55000 samples, validate on 5000 samples\n",
      "Epoch 1/25\n",
      "55000/55000 [==============================] - 10s 189us/sample - loss: 0.4849 - accuracy: 0.8297 - val_loss: 0.4003 - val_accuracy: 0.8620\n",
      "Epoch 2/25\n",
      "55000/55000 [==============================] - 10s 190us/sample - loss: 0.3775 - accuracy: 0.8665 - val_loss: 0.3772 - val_accuracy: 0.8708\n",
      "Epoch 3/25\n",
      "55000/55000 [==============================] - 10s 187us/sample - loss: 0.3452 - accuracy: 0.8776 - val_loss: 0.3705 - val_accuracy: 0.8676\n",
      "Epoch 4/25\n",
      "55000/55000 [==============================] - 10s 175us/sample - loss: 0.3231 - accuracy: 0.8846 - val_loss: 0.3535 - val_accuracy: 0.8766\n",
      "Epoch 5/25\n",
      "55000/55000 [==============================] - 9s 167us/sample - loss: 0.3069 - accuracy: 0.8898 - val_loss: 0.3452 - val_accuracy: 0.8798\n",
      "Epoch 6/25\n",
      "55000/55000 [==============================] - 10s 178us/sample - loss: 0.2938 - accuracy: 0.8940 - val_loss: 0.3415 - val_accuracy: 0.8814\n",
      "Epoch 7/25\n",
      "55000/55000 [==============================] - 11s 197us/sample - loss: 0.2823 - accuracy: 0.8987 - val_loss: 0.3360 - val_accuracy: 0.8802\n",
      "Epoch 8/25\n",
      "55000/55000 [==============================] - 10s 186us/sample - loss: 0.2723 - accuracy: 0.9024 - val_loss: 0.3367 - val_accuracy: 0.8830\n",
      "Epoch 9/25\n",
      "55000/55000 [==============================] - 10s 181us/sample - loss: 0.2636 - accuracy: 0.9059 - val_loss: 0.3286 - val_accuracy: 0.8846\n",
      "Epoch 10/25\n",
      "55000/55000 [==============================] - 10s 182us/sample - loss: 0.2565 - accuracy: 0.9090 - val_loss: 0.3271 - val_accuracy: 0.8868\n",
      "Epoch 11/25\n",
      "55000/55000 [==============================] - 10s 182us/sample - loss: 0.2497 - accuracy: 0.9103 - val_loss: 0.3289 - val_accuracy: 0.8864\n",
      "Epoch 12/25\n",
      "55000/55000 [==============================] - 10s 182us/sample - loss: 0.2436 - accuracy: 0.9136 - val_loss: 0.3307 - val_accuracy: 0.8840\n",
      "Epoch 13/25\n",
      "55000/55000 [==============================] - 10s 189us/sample - loss: 0.2384 - accuracy: 0.9143 - val_loss: 0.3248 - val_accuracy: 0.8854\n",
      "Epoch 14/25\n",
      "55000/55000 [==============================] - 10s 186us/sample - loss: 0.2339 - accuracy: 0.9165 - val_loss: 0.3276 - val_accuracy: 0.8856\n",
      "Epoch 15/25\n",
      "55000/55000 [==============================] - 10s 180us/sample - loss: 0.2292 - accuracy: 0.9186 - val_loss: 0.3233 - val_accuracy: 0.8858\n",
      "Epoch 16/25\n",
      "55000/55000 [==============================] - 10s 191us/sample - loss: 0.2254 - accuracy: 0.9204 - val_loss: 0.3231 - val_accuracy: 0.8892\n",
      "Epoch 17/25\n",
      "55000/55000 [==============================] - 10s 184us/sample - loss: 0.2220 - accuracy: 0.9211 - val_loss: 0.3218 - val_accuracy: 0.8882\n",
      "Epoch 18/25\n",
      "55000/55000 [==============================] - 11s 192us/sample - loss: 0.2191 - accuracy: 0.9229 - val_loss: 0.3224 - val_accuracy: 0.8888\n",
      "Epoch 19/25\n",
      "55000/55000 [==============================] - 10s 182us/sample - loss: 0.2162 - accuracy: 0.9238 - val_loss: 0.3208 - val_accuracy: 0.8866\n",
      "Epoch 20/25\n",
      "55000/55000 [==============================] - 11s 191us/sample - loss: 0.2134 - accuracy: 0.9245 - val_loss: 0.3197 - val_accuracy: 0.8882\n",
      "Epoch 21/25\n",
      "55000/55000 [==============================] - 10s 186us/sample - loss: 0.2112 - accuracy: 0.9257 - val_loss: 0.3210 - val_accuracy: 0.8888\n",
      "Epoch 22/25\n",
      "55000/55000 [==============================] - 10s 189us/sample - loss: 0.2088 - accuracy: 0.9264 - val_loss: 0.3212 - val_accuracy: 0.8872\n",
      "Epoch 23/25\n",
      "55000/55000 [==============================] - 11s 193us/sample - loss: 0.2069 - accuracy: 0.9276 - val_loss: 0.3227 - val_accuracy: 0.8886\n",
      "Epoch 24/25\n",
      "55000/55000 [==============================] - 10s 188us/sample - loss: 0.2051 - accuracy: 0.9282 - val_loss: 0.3206 - val_accuracy: 0.8890\n",
      "Epoch 25/25\n",
      "55000/55000 [==============================] - 11s 191us/sample - loss: 0.2035 - accuracy: 0.9288 - val_loss: 0.3198 - val_accuracy: 0.8900\n"
     ]
    }
   ],
   "source": [
    "n_epochs = 25\n",
    "\n",
    "model = keras.models.Sequential([\n",
    "    keras.layers.Flatten(input_shape=[28, 28]),\n",
    "    keras.layers.Dense(300, activation=\"selu\", kernel_initializer=\"lecun_normal\"),\n",
    "    keras.layers.Dense(100, activation=\"selu\", kernel_initializer=\"lecun_normal\"),\n",
    "    keras.layers.Dense(10, activation=\"softmax\")\n",
    "])\n",
    "model.compile(loss=\"sparse_categorical_crossentropy\", optimizer=optimizer, metrics=[\"accuracy\"])\n",
    "history = model.fit(X_train_scaled, y_train, epochs=n_epochs,\n",
    "                    validation_data=(X_valid_scaled, y_valid))"
   ]
  },
  {
   "cell_type": "code",
   "execution_count": 87,
   "metadata": {},
   "outputs": [],
   "source": [
    "lr_history = np.ones((s,),dtype=np.float32)\n",
    "for i in range(s):\n",
    "    lr_history[i] = model.optimizer.learning_rate(i)"
   ]
  },
  {
   "cell_type": "code",
   "execution_count": 90,
   "metadata": {},
   "outputs": [
    {
     "data": {
      "image/png": "[encoded data removed]",
      "text/plain": [
       "<Figure size 432x288 with 1 Axes>"
      ]
     },
     "metadata": {
      "needs_background": "light"
     },
     "output_type": "display_data"
    }
   ],
   "source": [
    "plt.xlabel(\"Epoch\")\n",
    "plt.ylabel(\"Learning Rate\")\n",
    "plt.plot(range(s), lr_history)\n",
    "plt.grid(True)\n",
    "\n",
    "plt.show()"
   ]
  },
  {
   "cell_type": "markdown",
   "metadata": {},
   "source": [
    "**Piecewise Constant Scheduling**"
   ]
  },
  {
   "cell_type": "code",
   "execution_count": 91,
   "metadata": {},
   "outputs": [],
   "source": [
    "def piecewise_constant_fn(epoch):\n",
    "    if epoch < 5:\n",
    "        return 0.01\n",
    "    elif epoch < 15:\n",
    "        return 0.005\n",
    "    else:\n",
    "        return 0.001"
   ]
  },
  {
   "cell_type": "code",
   "execution_count": 92,
   "metadata": {},
   "outputs": [
    {
     "name": "stdout",
     "output_type": "stream",
     "text": [
      "Train on 55000 samples, validate on 5000 samples\n",
      "Epoch 1/25\n",
      "55000/55000 [==============================] - 16s 292us/sample - loss: 0.8403 - accuracy: 0.7575 - val_loss: 0.6237 - val_accuracy: 0.7946\n",
      "Epoch 2/25\n",
      "55000/55000 [==============================] - 15s 278us/sample - loss: 0.8701 - accuracy: 0.7514 - val_loss: 0.7352 - val_accuracy: 0.8078\n",
      "Epoch 3/25\n",
      "55000/55000 [==============================] - 15s 277us/sample - loss: 0.9382 - accuracy: 0.7277 - val_loss: 0.8386 - val_accuracy: 0.7364\n",
      "Epoch 4/25\n",
      "55000/55000 [==============================] - 15s 278us/sample - loss: 0.9242 - accuracy: 0.7240 - val_loss: 0.9622 - val_accuracy: 0.7088\n",
      "Epoch 5/25\n",
      "55000/55000 [==============================] - 15s 274us/sample - loss: 0.8952 - accuracy: 0.7154 - val_loss: 0.9735 - val_accuracy: 0.6742\n",
      "Epoch 6/25\n",
      "55000/55000 [==============================] - 16s 287us/sample - loss: 0.6113 - accuracy: 0.7890 - val_loss: 0.7032 - val_accuracy: 0.8164\n",
      "Epoch 7/25\n",
      "55000/55000 [==============================] - 15s 278us/sample - loss: 0.5678 - accuracy: 0.8275 - val_loss: 0.7913 - val_accuracy: 0.7652\n",
      "Epoch 8/25\n",
      "55000/55000 [==============================] - 15s 279us/sample - loss: 0.5356 - accuracy: 0.8415 - val_loss: 0.6302 - val_accuracy: 0.8080\n",
      "Epoch 9/25\n",
      "55000/55000 [==============================] - 15s 280us/sample - loss: 0.5145 - accuracy: 0.8457 - val_loss: 0.6704 - val_accuracy: 0.8206\n",
      "Epoch 10/25\n",
      "55000/55000 [==============================] - 15s 275us/sample - loss: 0.5000 - accuracy: 0.8484 - val_loss: 0.6083 - val_accuracy: 0.8044\n",
      "Epoch 11/25\n",
      "55000/55000 [==============================] - 16s 283us/sample - loss: 0.4902 - accuracy: 0.8553 - val_loss: 0.5442 - val_accuracy: 0.7984\n",
      "Epoch 12/25\n",
      "55000/55000 [==============================] - 15s 281us/sample - loss: 0.5158 - accuracy: 0.8524 - val_loss: 0.6706 - val_accuracy: 0.8470\n",
      "Epoch 13/25\n",
      "55000/55000 [==============================] - 15s 279us/sample - loss: 0.4684 - accuracy: 0.8599 - val_loss: 0.6323 - val_accuracy: 0.8500\n",
      "Epoch 14/25\n",
      "55000/55000 [==============================] - 15s 281us/sample - loss: 0.4606 - accuracy: 0.8617 - val_loss: 0.6277 - val_accuracy: 0.8490\n",
      "Epoch 15/25\n",
      "55000/55000 [==============================] - 15s 276us/sample - loss: 0.4507 - accuracy: 0.8667 - val_loss: 0.5921 - val_accuracy: 0.8508\n",
      "Epoch 16/25\n",
      "55000/55000 [==============================] - 16s 283us/sample - loss: 0.3269 - accuracy: 0.8935 - val_loss: 0.5120 - val_accuracy: 0.8666\n",
      "Epoch 17/25\n",
      "55000/55000 [==============================] - 15s 281us/sample - loss: 0.3028 - accuracy: 0.9004 - val_loss: 0.5152 - val_accuracy: 0.8682\n",
      "Epoch 18/25\n",
      "55000/55000 [==============================] - 16s 283us/sample - loss: 0.2933 - accuracy: 0.9034 - val_loss: 0.5251 - val_accuracy: 0.8704\n",
      "Epoch 19/25\n",
      "55000/55000 [==============================] - 15s 280us/sample - loss: 0.2831 - accuracy: 0.9062 - val_loss: 0.5360 - val_accuracy: 0.8718\n",
      "Epoch 20/25\n",
      "55000/55000 [==============================] - 16s 283us/sample - loss: 0.2744 - accuracy: 0.9094 - val_loss: 0.5874 - val_accuracy: 0.8746\n",
      "Epoch 21/25\n",
      "55000/55000 [==============================] - 15s 276us/sample - loss: 0.2673 - accuracy: 0.9123 - val_loss: 0.5658 - val_accuracy: 0.8772\n",
      "Epoch 22/25\n",
      "55000/55000 [==============================] - 16s 290us/sample - loss: 0.2610 - accuracy: 0.9142 - val_loss: 0.5562 - val_accuracy: 0.8704\n",
      "Epoch 23/25\n",
      "55000/55000 [==============================] - 15s 281us/sample - loss: 0.2591 - accuracy: 0.9150 - val_loss: 0.5640 - val_accuracy: 0.8748\n",
      "Epoch 24/25\n",
      "55000/55000 [==============================] - 15s 278us/sample - loss: 0.2486 - accuracy: 0.9180 - val_loss: 0.5787 - val_accuracy: 0.8762\n",
      "Epoch 25/25\n",
      "55000/55000 [==============================] - 15s 278us/sample - loss: 0.2477 - accuracy: 0.9186 - val_loss: 0.5652 - val_accuracy: 0.8754\n"
     ]
    }
   ],
   "source": [
    "n_epochs = 25\n",
    "lr_scheduler = keras.callbacks.LearningRateScheduler(piecewise_constant_fn)\n",
    "\n",
    "model = keras.models.Sequential([\n",
    "    keras.layers.Flatten(input_shape=[28, 28]),\n",
    "    keras.layers.Dense(300, activation=\"selu\", kernel_initializer=\"lecun_normal\"),\n",
    "    keras.layers.Dense(100, activation=\"selu\", kernel_initializer=\"lecun_normal\"),\n",
    "    keras.layers.Dense(10, activation=\"softmax\")\n",
    "])\n",
    "model.compile(loss=\"sparse_categorical_crossentropy\", optimizer=\"nadam\", metrics=[\"accuracy\"])\n",
    "history = model.fit(X_train_scaled, y_train, epochs=n_epochs,\n",
    "                    validation_data=(X_valid_scaled, y_valid),\n",
    "                    callbacks=[lr_scheduler])"
   ]
  },
  {
   "cell_type": "code",
   "execution_count": 94,
   "metadata": {},
   "outputs": [
    {
     "data": {
      "image/png": "[encoded data removed]",
      "text/plain": [
       "<Figure size 432x288 with 1 Axes>"
      ]
     },
     "metadata": {
      "needs_background": "light"
     },
     "output_type": "display_data"
    }
   ],
   "source": [
    "plt.plot(history.epoch, [piecewise_constant_fn(epoch) for epoch in history.epoch], \"o-\")\n",
    "plt.axis([0, n_epochs - 1, 0, 0.011])\n",
    "plt.xlabel(\"Epoch\")\n",
    "plt.ylabel(\"Learning Rate\")\n",
    "plt.grid(True)\n",
    "plt.show()"
   ]
  },
  {
   "cell_type": "markdown",
   "metadata": {},
   "source": [
    "**Performance Scheduling**"
   ]
  },
  {
   "cell_type": "code",
   "execution_count": 95,
   "metadata": {},
   "outputs": [],
   "source": [
    "tf.random.set_seed(42)\n",
    "np.random.seed(42)"
   ]
  },
  {
   "cell_type": "code",
   "execution_count": 96,
   "metadata": {},
   "outputs": [
    {
     "name": "stdout",
     "output_type": "stream",
     "text": [
      "Train on 55000 samples, validate on 5000 samples\n",
      "Epoch 1/25\n",
      "55000/55000 [==============================] - 11s 192us/sample - loss: 0.5889 - accuracy: 0.8074 - val_loss: 0.4865 - val_accuracy: 0.8436\n",
      "Epoch 2/25\n",
      "55000/55000 [==============================] - 11s 195us/sample - loss: 0.5163 - accuracy: 0.8366 - val_loss: 0.4585 - val_accuracy: 0.8514\n",
      "Epoch 3/25\n",
      "55000/55000 [==============================] - 11s 203us/sample - loss: 0.5024 - accuracy: 0.8431 - val_loss: 0.5680 - val_accuracy: 0.8272\n",
      "Epoch 4/25\n",
      "55000/55000 [==============================] - 11s 203us/sample - loss: 0.5105 - accuracy: 0.8479 - val_loss: 0.6766 - val_accuracy: 0.8480\n",
      "Epoch 5/25\n",
      "55000/55000 [==============================] - 11s 195us/sample - loss: 0.5081 - accuracy: 0.8530 - val_loss: 0.5886 - val_accuracy: 0.8394\n",
      "Epoch 6/25\n",
      "55000/55000 [==============================] - 10s 186us/sample - loss: 0.5079 - accuracy: 0.8531 - val_loss: 0.7926 - val_accuracy: 0.8366\n",
      "Epoch 7/25\n",
      "55000/55000 [==============================] - 10s 184us/sample - loss: 0.5296 - accuracy: 0.8519 - val_loss: 0.6636 - val_accuracy: 0.8372\n",
      "Epoch 8/25\n",
      "55000/55000 [==============================] - 10s 186us/sample - loss: 0.2979 - accuracy: 0.8960 - val_loss: 0.4088 - val_accuracy: 0.8794\n",
      "Epoch 9/25\n",
      "55000/55000 [==============================] - 10s 185us/sample - loss: 0.2481 - accuracy: 0.9086 - val_loss: 0.3989 - val_accuracy: 0.8872\n",
      "Epoch 10/25\n",
      "55000/55000 [==============================] - 10s 190us/sample - loss: 0.2305 - accuracy: 0.9140 - val_loss: 0.4119 - val_accuracy: 0.8832\n",
      "Epoch 11/25\n",
      "55000/55000 [==============================] - 10s 190us/sample - loss: 0.2208 - accuracy: 0.9196 - val_loss: 0.4128 - val_accuracy: 0.8864\n",
      "Epoch 12/25\n",
      "55000/55000 [==============================] - 11s 192us/sample - loss: 0.1999 - accuracy: 0.9252 - val_loss: 0.4356 - val_accuracy: 0.8852\n",
      "Epoch 13/25\n",
      "55000/55000 [==============================] - 10s 191us/sample - loss: 0.1936 - accuracy: 0.9280 - val_loss: 0.4625 - val_accuracy: 0.8880\n",
      "Epoch 14/25\n",
      "55000/55000 [==============================] - 10s 186us/sample - loss: 0.1818 - accuracy: 0.9321 - val_loss: 0.4807 - val_accuracy: 0.8874\n",
      "Epoch 15/25\n",
      "55000/55000 [==============================] - 10s 185us/sample - loss: 0.1280 - accuracy: 0.9495 - val_loss: 0.4451 - val_accuracy: 0.8928\n",
      "Epoch 16/25\n",
      "55000/55000 [==============================] - 10s 186us/sample - loss: 0.1124 - accuracy: 0.9555 - val_loss: 0.4647 - val_accuracy: 0.8836\n",
      "Epoch 17/25\n",
      "55000/55000 [==============================] - 11s 191us/sample - loss: 0.1053 - accuracy: 0.9595 - val_loss: 0.4726 - val_accuracy: 0.8842\n",
      "Epoch 18/25\n",
      "55000/55000 [==============================] - 14s 253us/sample - loss: 0.0972 - accuracy: 0.9628 - val_loss: 0.5018 - val_accuracy: 0.8916\n",
      "Epoch 19/25\n",
      "55000/55000 [==============================] - 12s 215us/sample - loss: 0.0925 - accuracy: 0.9641 - val_loss: 0.5161 - val_accuracy: 0.8866\n",
      "Epoch 20/25\n",
      "55000/55000 [==============================] - 11s 198us/sample - loss: 0.0701 - accuracy: 0.9736 - val_loss: 0.5186 - val_accuracy: 0.8904\n",
      "Epoch 21/25\n",
      "55000/55000 [==============================] - 12s 215us/sample - loss: 0.0641 - accuracy: 0.9769 - val_loss: 0.5190 - val_accuracy: 0.8892\n",
      "Epoch 22/25\n",
      "55000/55000 [==============================] - 11s 194us/sample - loss: 0.0603 - accuracy: 0.9782 - val_loss: 0.5356 - val_accuracy: 0.8886\n",
      "Epoch 23/25\n",
      "55000/55000 [==============================] - 10s 180us/sample - loss: 0.0573 - accuracy: 0.9794 - val_loss: 0.5440 - val_accuracy: 0.8902\n",
      "Epoch 24/25\n",
      "55000/55000 [==============================] - 10s 177us/sample - loss: 0.0540 - accuracy: 0.9805 - val_loss: 0.5693 - val_accuracy: 0.8896\n",
      "Epoch 25/25\n",
      "55000/55000 [==============================] - 10s 185us/sample - loss: 0.0457 - accuracy: 0.9845 - val_loss: 0.5591 - val_accuracy: 0.8896\n"
     ]
    }
   ],
   "source": [
    "n_epochs = 25\n",
    "lr_scheduler = keras.callbacks.ReduceLROnPlateau(factor=0.5, patience=5)\n",
    "\n",
    "model = keras.models.Sequential([\n",
    "    keras.layers.Flatten(input_shape=[28, 28]),\n",
    "    keras.layers.Dense(300, activation=\"selu\", kernel_initializer=\"lecun_normal\"),\n",
    "    keras.layers.Dense(100, activation=\"selu\", kernel_initializer=\"lecun_normal\"),\n",
    "    keras.layers.Dense(10, activation=\"softmax\")\n",
    "])\n",
    "optimizer = keras.optimizers.SGD(lr=0.02, momentum=0.9)\n",
    "model.compile(loss=\"sparse_categorical_crossentropy\", optimizer=optimizer, metrics=[\"accuracy\"])\n",
    "history = model.fit(X_train_scaled, y_train, epochs=n_epochs,\n",
    "                    validation_data=(X_valid_scaled, y_valid),\n",
    "                    callbacks=[lr_scheduler])"
   ]
  },
  {
   "cell_type": "code",
   "execution_count": 99,
   "metadata": {},
   "outputs": [
    {
     "data": {
      "image/png": "[encoded data removed]",
      "text/plain": [
       "<Figure size 432x288 with 2 Axes>"
      ]
     },
     "metadata": {
      "needs_background": "light"
     },
     "output_type": "display_data"
    }
   ],
   "source": [
    "plt.plot(history.epoch, history.history[\"lr\"], \"bo-\")\n",
    "plt.xlabel(\"Epoch\")\n",
    "plt.ylabel(\"Learning Rate\", color='b')\n",
    "plt.tick_params('y', colors='b')\n",
    "plt.gca().set_xlim(0, n_epochs - 1)\n",
    "plt.grid(True)\n",
    "\n",
    "ax2 = plt.gca().twinx()\n",
    "ax2.plot(history.epoch, history.history[\"val_loss\"], \"r^-\")\n",
    "ax2.set_ylabel('Validation Loss', color='r')\n",
    "ax2.tick_params('y', colors='r')\n",
    "\n",
    "plt.title(\"Reduce LR on Plateau\", fontsize=14)\n",
    "plt.show()"
   ]
  },
  {
   "cell_type": "code",
   "execution_count": null,
   "metadata": {},
   "outputs": [],
   "source": []
  }
 ],
 "metadata": {
  "kernelspec": {
   "display_name": "Python 3",
   "language": "python",
   "name": "python3"
  },
  "language_info": {
   "codemirror_mode": {
    "name": "ipython",
    "version": 3
   },
   "file_extension": ".py",
   "mimetype": "text/x-python",
   "name": "python",
   "nbconvert_exporter": "python",
   "pygments_lexer": "ipython3",
   "version": "3.6.9"
  }
 },
 "nbformat": 4,
 "nbformat_minor": 4
}
