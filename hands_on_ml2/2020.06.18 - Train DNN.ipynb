{
 "cells": [
  {
   "cell_type": "code",
   "execution_count": 1,
   "metadata": {},
   "outputs": [],
   "source": [
    "# Python ≥3.5 is required\n",
    "import sys\n",
    "assert sys.version_info >= (3, 5)\n",
    "\n",
    "# Scikit-Learn ≥0.20 is required\n",
    "import sklearn\n",
    "assert sklearn.__version__ >= \"0.20\"\n",
    "\n",
    "try:\n",
    "    # %tensorflow_version only exists in Colab.\n",
    "    %tensorflow_version 2.x\n",
    "except Exception:\n",
    "    pass\n",
    "\n",
    "# TensorFlow ≥2.0 is required\n",
    "import tensorflow as tf\n",
    "from tensorflow import keras\n",
    "assert tf.__version__ >= \"2.0\"\n",
    "\n",
    "%load_ext tensorboard\n",
    "\n",
    "# Common imports\n",
    "import numpy as np\n",
    "import os\n",
    "\n",
    "# to make this notebook's output stable across runs\n",
    "np.random.seed(42)\n",
    "\n",
    "# To plot pretty figures\n",
    "%matplotlib inline\n",
    "import matplotlib as mpl\n",
    "import matplotlib.pyplot as plt\n",
    "mpl.rc('axes', labelsize=14)\n",
    "mpl.rc('xtick', labelsize=12)\n",
    "mpl.rc('ytick', labelsize=12)\n",
    "\n",
    "# Where to save the figures\n",
    "PROJECT_ROOT_DIR = \".\"\n",
    "CHAPTER_ID = \"deep\"\n",
    "IMAGES_PATH = os.path.join(PROJECT_ROOT_DIR, \"images\", CHAPTER_ID)\n",
    "os.makedirs(IMAGES_PATH, exist_ok=True)\n",
    "\n",
    "def save_fig(fig_id, tight_layout=True, fig_extension=\"png\", resolution=300):\n",
    "    path = os.path.join(IMAGES_PATH, fig_id + \".\" + fig_extension)\n",
    "    print(\"Saving figure\", fig_id)\n",
    "    if tight_layout:\n",
    "        plt.tight_layout()\n",
    "    plt.savefig(path, format=fig_extension, dpi=resolution)"
   ]
  },
  {
   "cell_type": "code",
   "execution_count": 2,
   "metadata": {},
   "outputs": [],
   "source": [
    "import numpy as np\n",
    "from sklearn.datasets import load_iris\n",
    "from sklearn.linear_model import Perceptron\n",
    "import tensorflow as tf\n",
    "from tensorflow import keras"
   ]
  },
  {
   "cell_type": "markdown",
   "metadata": {},
   "source": [
    "# Vanishing/Exploding Gradients Problem\n",
    "\n",
    "## Nonsaturating Activation Functions\n",
    "\n",
    "### Leaky ReLU"
   ]
  },
  {
   "cell_type": "code",
   "execution_count": 3,
   "metadata": {},
   "outputs": [],
   "source": [
    "(X_train_full, y_train_full), (X_test, y_test) = keras.datasets.fashion_mnist.load_data()\n",
    "X_train_full = X_train_full / 255.0\n",
    "X_test = X_test / 255.0\n",
    "X_valid, X_train = X_train_full[:5000], X_train_full[5000:]\n",
    "y_valid, y_train = y_train_full[:5000], y_train_full[5000:]"
   ]
  },
  {
   "cell_type": "code",
   "execution_count": 4,
   "metadata": {},
   "outputs": [
    {
     "name": "stdout",
     "output_type": "stream",
     "text": [
      "Train on 55000 samples, validate on 5000 samples\n",
      "Epoch 1/10\n",
      "55000/55000 [==============================] - 10s 184us/sample - loss: 1.2810 - accuracy: 0.6205 - val_loss: 0.8869 - val_accuracy: 0.7160\n",
      "Epoch 2/10\n",
      "55000/55000 [==============================] - 10s 176us/sample - loss: 0.7952 - accuracy: 0.7369 - val_loss: 0.7132 - val_accuracy: 0.7626\n",
      "Epoch 3/10\n",
      "55000/55000 [==============================] - 10s 180us/sample - loss: 0.6817 - accuracy: 0.7726 - val_loss: 0.6385 - val_accuracy: 0.7894\n",
      "Epoch 4/10\n",
      "55000/55000 [==============================] - 10s 179us/sample - loss: 0.6219 - accuracy: 0.7942 - val_loss: 0.5931 - val_accuracy: 0.8016\n",
      "Epoch 5/10\n",
      "55000/55000 [==============================] - 10s 177us/sample - loss: 0.5830 - accuracy: 0.8074 - val_loss: 0.5607 - val_accuracy: 0.8172\n",
      "Epoch 6/10\n",
      "55000/55000 [==============================] - 10s 176us/sample - loss: 0.5552 - accuracy: 0.8173 - val_loss: 0.5355 - val_accuracy: 0.8238\n",
      "Epoch 7/10\n",
      "55000/55000 [==============================] - 9s 169us/sample - loss: 0.5339 - accuracy: 0.8226 - val_loss: 0.5166 - val_accuracy: 0.8298\n",
      "Epoch 8/10\n",
      "55000/55000 [==============================] - 10s 173us/sample - loss: 0.5173 - accuracy: 0.8261 - val_loss: 0.5043 - val_accuracy: 0.8356\n",
      "Epoch 9/10\n",
      "55000/55000 [==============================] - 9s 171us/sample - loss: 0.5039 - accuracy: 0.8306 - val_loss: 0.4889 - val_accuracy: 0.8384\n",
      "Epoch 10/10\n",
      "55000/55000 [==============================] - 9s 170us/sample - loss: 0.4923 - accuracy: 0.8333 - val_loss: 0.4816 - val_accuracy: 0.8394\n"
     ]
    }
   ],
   "source": [
    "tf.random.set_seed(42)\n",
    "np.random.seed(42)\n",
    "\n",
    "model = keras.models.Sequential([\n",
    "    keras.layers.Flatten(input_shape=[28, 28]),\n",
    "    keras.layers.Dense(300, kernel_initializer=\"he_normal\"),\n",
    "    keras.layers.LeakyReLU(),\n",
    "    keras.layers.Dense(100, kernel_initializer=\"he_normal\"),\n",
    "    keras.layers.LeakyReLU(),\n",
    "    keras.layers.Dense(10, activation=\"softmax\")\n",
    "])\n",
    "\n",
    "model.compile(loss=\"sparse_categorical_crossentropy\",\n",
    "              optimizer=keras.optimizers.SGD(lr=1e-3),\n",
    "              metrics=[\"accuracy\"])\n",
    "\n",
    "history = model.fit(X_train, y_train, epochs=10,\n",
    "                    validation_data=(X_valid, y_valid))"
   ]
  },
  {
   "cell_type": "markdown",
   "metadata": {},
   "source": [
    "Теперь попробуем PReLU:"
   ]
  },
  {
   "cell_type": "code",
   "execution_count": 12,
   "metadata": {},
   "outputs": [
    {
     "name": "stdout",
     "output_type": "stream",
     "text": [
      "Train on 55000 samples, validate on 5000 samples\n",
      "Epoch 1/10\n",
      "55000/55000 [==============================] - 11s 199us/sample - loss: 1.3452 - accuracy: 0.6203 - val_loss: 0.9241 - val_accuracy: 0.7170\n",
      "Epoch 2/10\n",
      "55000/55000 [==============================] - 10s 186us/sample - loss: 0.8196 - accuracy: 0.7364 - val_loss: 0.7314 - val_accuracy: 0.7602\n",
      "Epoch 3/10\n",
      "55000/55000 [==============================] - 11s 194us/sample - loss: 0.6970 - accuracy: 0.7701 - val_loss: 0.6517 - val_accuracy: 0.7878\n",
      "Epoch 4/10\n",
      "55000/55000 [==============================] - 11s 197us/sample - loss: 0.6333 - accuracy: 0.7914 - val_loss: 0.6032 - val_accuracy: 0.8056\n",
      "Epoch 5/10\n",
      "55000/55000 [==============================] - 10s 187us/sample - loss: 0.5917 - accuracy: 0.8049 - val_loss: 0.5689 - val_accuracy: 0.8162\n",
      "Epoch 6/10\n",
      "55000/55000 [==============================] - 10s 185us/sample - loss: 0.5619 - accuracy: 0.8143 - val_loss: 0.5417 - val_accuracy: 0.8224\n",
      "Epoch 7/10\n",
      "55000/55000 [==============================] - 10s 184us/sample - loss: 0.5392 - accuracy: 0.8205 - val_loss: 0.5214 - val_accuracy: 0.8300\n",
      "Epoch 8/10\n",
      "55000/55000 [==============================] - 10s 181us/sample - loss: 0.5215 - accuracy: 0.8256 - val_loss: 0.5075 - val_accuracy: 0.8352\n",
      "Epoch 9/10\n",
      "55000/55000 [==============================] - 10s 181us/sample - loss: 0.5071 - accuracy: 0.8285 - val_loss: 0.4918 - val_accuracy: 0.8384\n",
      "Epoch 10/10\n",
      "55000/55000 [==============================] - 10s 176us/sample - loss: 0.4946 - accuracy: 0.8322 - val_loss: 0.4839 - val_accuracy: 0.8380\n"
     ]
    }
   ],
   "source": [
    "tf.random.set_seed(42)\n",
    "np.random.seed(42)\n",
    "\n",
    "model = keras.models.Sequential([\n",
    "    keras.layers.Flatten(input_shape=[28, 28]),\n",
    "    keras.layers.Dense(300, kernel_initializer=\"he_normal\"),\n",
    "    keras.layers.PReLU(),\n",
    "    keras.layers.Dense(100, kernel_initializer=\"he_normal\"),\n",
    "    keras.layers.PReLU(),\n",
    "    keras.layers.Dense(10, activation=\"softmax\")\n",
    "])\n",
    "\n",
    "model.compile(loss=\"sparse_categorical_crossentropy\",\n",
    "              optimizer=keras.optimizers.SGD(lr=1e-3),\n",
    "              metrics=[\"accuracy\"])\n",
    "\n",
    "history = model.fit(X_train, y_train, epochs=10,\n",
    "                    validation_data=(X_valid, y_valid))"
   ]
  },
  {
   "cell_type": "markdown",
   "metadata": {},
   "source": [
    "Теперь попробуем SELU для глубокой нейросети:"
   ]
  },
  {
   "cell_type": "code",
   "execution_count": 14,
   "metadata": {},
   "outputs": [],
   "source": [
    "#нормализация данных\n",
    "pixel_means = X_train.mean(axis=0, keepdims=True)\n",
    "pixel_stds = X_train.std(axis=0, keepdims=True)\n",
    "X_train_scaled = (X_train - pixel_means) / pixel_stds\n",
    "X_valid_scaled = (X_valid - pixel_means) / pixel_stds\n",
    "X_test_scaled = (X_test - pixel_means) / pixel_stds"
   ]
  },
  {
   "cell_type": "code",
   "execution_count": 21,
   "metadata": {},
   "outputs": [
    {
     "data": {
      "text/plain": [
       "(1, 28, 28)"
      ]
     },
     "execution_count": 21,
     "metadata": {},
     "output_type": "execute_result"
    }
   ],
   "source": [
    "pixel_means.shape"
   ]
  },
  {
   "cell_type": "code",
   "execution_count": 28,
   "metadata": {},
   "outputs": [
    {
     "name": "stdout",
     "output_type": "stream",
     "text": [
      "Train on 55000 samples, validate on 5000 samples\n",
      "Epoch 1/10\n",
      "55000/55000 [==============================] - 54s 979us/sample - loss: 1.2646 - accuracy: 0.5128 - val_loss: 1.2577 - val_accuracy: 0.5758\n",
      "Epoch 2/10\n",
      "55000/55000 [==============================] - 49s 896us/sample - loss: 0.7850 - accuracy: 0.7119 - val_loss: 1.1055 - val_accuracy: 0.5730\n",
      "Epoch 3/10\n",
      "55000/55000 [==============================] - 52s 937us/sample - loss: 1.0468 - accuracy: 0.6044 - val_loss: 0.9671 - val_accuracy: 0.6326\n",
      "Epoch 4/10\n",
      "55000/55000 [==============================] - 52s 945us/sample - loss: 0.8668 - accuracy: 0.6844 - val_loss: 0.8634 - val_accuracy: 0.6926\n",
      "Epoch 5/10\n",
      "55000/55000 [==============================] - 51s 933us/sample - loss: 0.6951 - accuracy: 0.7502 - val_loss: 0.6166 - val_accuracy: 0.7842\n",
      "Epoch 6/10\n",
      "55000/55000 [==============================] - 50s 911us/sample - loss: 0.5926 - accuracy: 0.7882 - val_loss: 0.5632 - val_accuracy: 0.8058\n",
      "Epoch 7/10\n",
      "55000/55000 [==============================] - 51s 934us/sample - loss: 0.5450 - accuracy: 0.8043 - val_loss: 0.5385 - val_accuracy: 0.8104\n",
      "Epoch 8/10\n",
      "55000/55000 [==============================] - 55s 993us/sample - loss: 0.5108 - accuracy: 0.8191 - val_loss: 0.4891 - val_accuracy: 0.8230\n",
      "Epoch 9/10\n",
      "55000/55000 [==============================] - 50s 916us/sample - loss: 0.4838 - accuracy: 0.8286 - val_loss: 0.5083 - val_accuracy: 0.8250\n",
      "Epoch 10/10\n",
      "55000/55000 [==============================] - 50s 916us/sample - loss: 0.4706 - accuracy: 0.8346 - val_loss: 0.4741 - val_accuracy: 0.8354\n"
     ]
    }
   ],
   "source": [
    "tf.random.set_seed(42)\n",
    "np.random.seed(42)\n",
    "\n",
    "#инициализация для selu должна быть lecun, а архитектура должна быть последовательная и глубокая\n",
    "model = keras.models.Sequential()\n",
    "model.add(keras.layers.Flatten(input_shape=[28, 28]))\n",
    "model.add(keras.layers.Dense(300, activation=\"selu\", kernel_initializer=\"lecun_normal\"))\n",
    "\n",
    "for layer in range(99):\n",
    "    model.add(keras.layers.Dense(100, activation=\"selu\", kernel_initializer=\"lecun_normal\"))\n",
    "\n",
    "model.add(keras.layers.Dense(10, activation=\"softmax\"))\n",
    "\n",
    "model.compile(loss=\"sparse_categorical_crossentropy\",\n",
    "              optimizer=keras.optimizers.SGD(lr=1e-3),\n",
    "              metrics=[\"accuracy\"])\n",
    "\n",
    "history = model.fit(X_train_scaled, y_train, epochs=10, validation_data=(X_valid_scaled, y_valid))"
   ]
  },
  {
   "cell_type": "markdown",
   "metadata": {},
   "source": [
    "посмотрим что произойдет при использовании в той же модели стандартной relu"
   ]
  },
  {
   "cell_type": "code",
   "execution_count": 29,
   "metadata": {},
   "outputs": [
    {
     "name": "stdout",
     "output_type": "stream",
     "text": [
      "Train on 55000 samples, validate on 5000 samples\n",
      "Epoch 1/10\n",
      "55000/55000 [==============================] - 51s 925us/sample - loss: 1.7503 - accuracy: 0.2867 - val_loss: 1.3841 - val_accuracy: 0.3664\n",
      "Epoch 2/10\n",
      "55000/55000 [==============================] - 46s 839us/sample - loss: 1.1652 - accuracy: 0.5032 - val_loss: 0.9573 - val_accuracy: 0.6172\n",
      "Epoch 3/10\n",
      "55000/55000 [==============================] - 46s 842us/sample - loss: 1.0822 - accuracy: 0.5459 - val_loss: 1.0975 - val_accuracy: 0.5280\n",
      "Epoch 4/10\n",
      "55000/55000 [==============================] - 46s 842us/sample - loss: 0.9150 - accuracy: 0.6196 - val_loss: 0.8545 - val_accuracy: 0.6852\n",
      "Epoch 5/10\n",
      "55000/55000 [==============================] - 48s 874us/sample - loss: 0.8962 - accuracy: 0.6392 - val_loss: 0.8214 - val_accuracy: 0.6592\n",
      "Epoch 6/10\n",
      "55000/55000 [==============================] - 48s 876us/sample - loss: 0.8147 - accuracy: 0.6832 - val_loss: 0.8154 - val_accuracy: 0.6878\n",
      "Epoch 7/10\n",
      "55000/55000 [==============================] - 46s 839us/sample - loss: 0.9118 - accuracy: 0.6434 - val_loss: 0.7194 - val_accuracy: 0.7362\n",
      "Epoch 8/10\n",
      "55000/55000 [==============================] - 48s 864us/sample - loss: 0.7239 - accuracy: 0.7254 - val_loss: 0.7084 - val_accuracy: 0.7450\n",
      "Epoch 9/10\n",
      "55000/55000 [==============================] - 48s 870us/sample - loss: 0.6918 - accuracy: 0.7424 - val_loss: 0.6335 - val_accuracy: 0.7638\n",
      "Epoch 10/10\n",
      "55000/55000 [==============================] - 48s 868us/sample - loss: 0.6459 - accuracy: 0.7589 - val_loss: 0.6017 - val_accuracy: 0.7864\n"
     ]
    }
   ],
   "source": [
    "tf.random.set_seed(42)\n",
    "np.random.seed(42)\n",
    "model = keras.models.Sequential()\n",
    "model.add(keras.layers.Flatten(input_shape=[28, 28]))\n",
    "model.add(keras.layers.Dense(300, activation=\"relu\", kernel_initializer=\"he_normal\"))\n",
    "for layer in range(99):\n",
    "    model.add(keras.layers.Dense(100, activation=\"relu\", kernel_initializer=\"he_normal\"))\n",
    "model.add(keras.layers.Dense(10, activation=\"softmax\"))\n",
    "model.compile(loss=\"sparse_categorical_crossentropy\",\n",
    "              optimizer=keras.optimizers.SGD(lr=1e-3),\n",
    "              metrics=[\"accuracy\"])\n",
    "history = model.fit(X_train_scaled, y_train, epochs=10, validation_data=(X_valid_scaled, y_valid))"
   ]
  },
  {
   "cell_type": "markdown",
   "metadata": {},
   "source": [
    "результат чуть хуже, наверное чтобы проблема \"Vanishing/Exploding Gradients\" проявилась ярче нужно еще больше скрытых слоев."
   ]
  },
  {
   "cell_type": "markdown",
   "metadata": {},
   "source": [
    "## Batch Normalization"
   ]
  },
  {
   "cell_type": "code",
   "execution_count": 7,
   "metadata": {},
   "outputs": [],
   "source": [
    "model = keras.models.Sequential([\n",
    "    keras.layers.Flatten(input_shape=[28, 28]),\n",
    "    keras.layers.BatchNormalization(),\n",
    "    keras.layers.Dense(300, activation=\"relu\"),\n",
    "    keras.layers.BatchNormalization(),\n",
    "    keras.layers.Dense(100, activation=\"relu\"),\n",
    "    keras.layers.BatchNormalization(),\n",
    "    keras.layers.Dense(10, activation=\"softmax\")\n",
    "])"
   ]
  },
  {
   "cell_type": "code",
   "execution_count": 8,
   "metadata": {},
   "outputs": [
    {
     "name": "stdout",
     "output_type": "stream",
     "text": [
      "Model: \"sequential_1\"\n",
      "_________________________________________________________________\n",
      "Layer (type)                 Output Shape              Param #   \n",
      "=================================================================\n",
      "flatten_1 (Flatten)          (None, 784)               0         \n",
      "_________________________________________________________________\n",
      "batch_normalization (BatchNo (None, 784)               3136      \n",
      "_________________________________________________________________\n",
      "dense_3 (Dense)              (None, 300)               235500    \n",
      "_________________________________________________________________\n",
      "batch_normalization_1 (Batch (None, 300)               1200      \n",
      "_________________________________________________________________\n",
      "dense_4 (Dense)              (None, 100)               30100     \n",
      "_________________________________________________________________\n",
      "batch_normalization_2 (Batch (None, 100)               400       \n",
      "_________________________________________________________________\n",
      "dense_5 (Dense)              (None, 10)                1010      \n",
      "=================================================================\n",
      "Total params: 271,346\n",
      "Trainable params: 268,978\n",
      "Non-trainable params: 2,368\n",
      "_________________________________________________________________\n"
     ]
    }
   ],
   "source": [
    "model.summary()"
   ]
  },
  {
   "cell_type": "markdown",
   "metadata": {},
   "source": [
    "после входного слоя BN дает 4 дополнительных параметра γ, β, μ и σ для каждого входящего значения, т.о. получается 28х28х4=3136. Параметры μ и σ не корректируются в процессе обратного распространения ошибки. Рассмотрим параметры первого BN слоя"
   ]
  },
  {
   "cell_type": "code",
   "execution_count": 9,
   "metadata": {},
   "outputs": [
    {
     "data": {
      "text/plain": [
       "[('batch_normalization/gamma:0', True),\n",
       " ('batch_normalization/beta:0', True),\n",
       " ('batch_normalization/moving_mean:0', False),\n",
       " ('batch_normalization/moving_variance:0', False)]"
      ]
     },
     "execution_count": 9,
     "metadata": {},
     "output_type": "execute_result"
    }
   ],
   "source": [
    "bn1 = model.layers[1]\n",
    "[(var.name, var.trainable) for var in bn1.variables]"
   ]
  },
  {
   "cell_type": "markdown",
   "metadata": {},
   "source": [
    "Т.о. два параметра обучаемые (в процессе обратного распространения), другие два - нет."
   ]
  },
  {
   "cell_type": "code",
   "execution_count": 10,
   "metadata": {},
   "outputs": [
    {
     "data": {
      "text/plain": [
       "[<tf.Operation 'cond/Identity' type=Identity>,\n",
       " <tf.Operation 'cond_1/Identity' type=Identity>]"
      ]
     },
     "execution_count": 10,
     "metadata": {},
     "output_type": "execute_result"
    }
   ],
   "source": [
    "model.layers[1].updates"
   ]
  },
  {
   "cell_type": "code",
   "execution_count": 11,
   "metadata": {},
   "outputs": [],
   "source": [
    "model.compile(loss=\"sparse_categorical_crossentropy\",\n",
    "              optimizer=keras.optimizers.SGD(lr=1e-3),\n",
    "              metrics=[\"accuracy\"])"
   ]
  },
  {
   "cell_type": "code",
   "execution_count": 12,
   "metadata": {},
   "outputs": [
    {
     "name": "stdout",
     "output_type": "stream",
     "text": [
      "Train on 55000 samples, validate on 5000 samples\n",
      "Epoch 1/10\n",
      "55000/55000 [==============================] - 15s 267us/sample - loss: 0.8317 - accuracy: 0.7230 - val_loss: 0.5517 - val_accuracy: 0.8130\n",
      "Epoch 2/10\n",
      "55000/55000 [==============================] - 13s 237us/sample - loss: 0.5671 - accuracy: 0.8047 - val_loss: 0.4763 - val_accuracy: 0.8386\n",
      "Epoch 3/10\n",
      "55000/55000 [==============================] - 13s 239us/sample - loss: 0.5129 - accuracy: 0.8213 - val_loss: 0.4416 - val_accuracy: 0.8478\n",
      "Epoch 4/10\n",
      "55000/55000 [==============================] - 13s 236us/sample - loss: 0.4812 - accuracy: 0.8319 - val_loss: 0.4186 - val_accuracy: 0.8542\n",
      "Epoch 5/10\n",
      "55000/55000 [==============================] - 13s 239us/sample - loss: 0.4567 - accuracy: 0.8395 - val_loss: 0.4045 - val_accuracy: 0.8604\n",
      "Epoch 6/10\n",
      "55000/55000 [==============================] - 13s 242us/sample - loss: 0.4413 - accuracy: 0.8458 - val_loss: 0.3929 - val_accuracy: 0.8624\n",
      "Epoch 7/10\n",
      "55000/55000 [==============================] - 12s 224us/sample - loss: 0.4256 - accuracy: 0.8499 - val_loss: 0.3821 - val_accuracy: 0.8646\n",
      "Epoch 8/10\n",
      "55000/55000 [==============================] - 13s 230us/sample - loss: 0.4121 - accuracy: 0.8559 - val_loss: 0.3735 - val_accuracy: 0.8660\n",
      "Epoch 9/10\n",
      "55000/55000 [==============================] - 13s 238us/sample - loss: 0.4009 - accuracy: 0.8581 - val_loss: 0.3677 - val_accuracy: 0.8668\n",
      "Epoch 10/10\n",
      "55000/55000 [==============================] - 12s 227us/sample - loss: 0.3907 - accuracy: 0.8630 - val_loss: 0.3634 - val_accuracy: 0.8686\n"
     ]
    }
   ],
   "source": [
    "history = model.fit(X_train, y_train, epochs=10,\n",
    "                    validation_data=(X_valid, y_valid))"
   ]
  },
  {
   "cell_type": "markdown",
   "metadata": {},
   "source": [
    "Иногда размещение слоя BN перед фукнцией активации работает лучше. Кроме того отключим параметр смещения в скрытых слоях нейронов"
   ]
  },
  {
   "cell_type": "code",
   "execution_count": 14,
   "metadata": {},
   "outputs": [
    {
     "name": "stdout",
     "output_type": "stream",
     "text": [
      "Train on 55000 samples, validate on 5000 samples\n",
      "Epoch 1/10\n",
      "55000/55000 [==============================] - 14s 263us/sample - loss: 1.0214 - accuracy: 0.6848 - val_loss: 0.6579 - val_accuracy: 0.7900\n",
      "Epoch 2/10\n",
      "55000/55000 [==============================] - 13s 231us/sample - loss: 0.6595 - accuracy: 0.7874 - val_loss: 0.5467 - val_accuracy: 0.8186\n",
      "Epoch 3/10\n",
      "55000/55000 [==============================] - 13s 232us/sample - loss: 0.5820 - accuracy: 0.8055 - val_loss: 0.4972 - val_accuracy: 0.8332\n",
      "Epoch 4/10\n",
      "55000/55000 [==============================] - 12s 222us/sample - loss: 0.5378 - accuracy: 0.8194 - val_loss: 0.4657 - val_accuracy: 0.8440\n",
      "Epoch 5/10\n",
      "55000/55000 [==============================] - 12s 227us/sample - loss: 0.5071 - accuracy: 0.8267 - val_loss: 0.4433 - val_accuracy: 0.8474\n",
      "Epoch 6/10\n",
      "55000/55000 [==============================] - 14s 248us/sample - loss: 0.4882 - accuracy: 0.8318 - val_loss: 0.4265 - val_accuracy: 0.8522\n",
      "Epoch 7/10\n",
      "55000/55000 [==============================] - 14s 247us/sample - loss: 0.4700 - accuracy: 0.8383 - val_loss: 0.4133 - val_accuracy: 0.8568\n",
      "Epoch 8/10\n",
      "55000/55000 [==============================] - 13s 234us/sample - loss: 0.4543 - accuracy: 0.8433 - val_loss: 0.4030 - val_accuracy: 0.8580\n",
      "Epoch 9/10\n",
      "55000/55000 [==============================] - 16s 283us/sample - loss: 0.4409 - accuracy: 0.8468 - val_loss: 0.3940 - val_accuracy: 0.8632\n",
      "Epoch 10/10\n",
      "55000/55000 [==============================] - 16s 289us/sample - loss: 0.4303 - accuracy: 0.8523 - val_loss: 0.3871 - val_accuracy: 0.8652\n"
     ]
    }
   ],
   "source": [
    "model = keras.models.Sequential([\n",
    "    keras.layers.Flatten(input_shape=[28, 28]),\n",
    "    keras.layers.BatchNormalization(),\n",
    "    keras.layers.Dense(300, use_bias=False),\n",
    "    keras.layers.BatchNormalization(),\n",
    "    keras.layers.Activation(\"relu\"),\n",
    "    keras.layers.Dense(100, use_bias=False),\n",
    "    keras.layers.BatchNormalization(),\n",
    "    keras.layers.Activation(\"relu\"),\n",
    "    keras.layers.Dense(10, activation=\"softmax\")\n",
    "])\n",
    "\n",
    "model.compile(loss=\"sparse_categorical_crossentropy\",\n",
    "              optimizer=keras.optimizers.SGD(lr=1e-3),\n",
    "              metrics=[\"accuracy\"])\n",
    "\n",
    "history = model.fit(X_train, y_train, epochs=10,\n",
    "                    validation_data=(X_valid, y_valid))"
   ]
  },
  {
   "cell_type": "markdown",
   "metadata": {},
   "source": [
    "# Reusing Pretrained Layers"
   ]
  },
  {
   "cell_type": "markdown",
   "metadata": {},
   "source": [
    "Разделим набор данных fashion MNIST на два набора:\n",
    "\n",
    "- набор A не будет содержать сандали и рубашки, но содержит остальные 8 классов;\n",
    "- набор B будет содержить рубашки и сандали. А задача соответствуюещго классификатора будет сведена к бинарной классификации, где позитивный класс - рубашки, неготивный - сандали"
   ]
  },
  {
   "cell_type": "code",
   "execution_count": 46,
   "metadata": {},
   "outputs": [],
   "source": [
    "def split_dataset(X, y):\n",
    "    y_5_or_6 = (y == 5) | (y == 6) # булевый массив указывающий на рубкаши и сандали\n",
    "    y_A = y[~y_5_or_6] # labels данные для набора A\n",
    "    X_A = X[~y_5_or_6] # data данные для набора А\n",
    "    y_A[y_A > 6] -= 2 # индексы классов 7, 8, 9 должны стать индексами 5, 6, 7\n",
    "    y_B = (y[y_5_or_6] == 6).astype(np.float32) # labels данные для набора B (рубашки - положительный класс)\n",
    "    X_B = X[y_5_or_6]\n",
    "    return ((X_A, y_A), (X_B, y_B))\n",
    "\n",
    "(X_train_A, y_train_A), (X_train_B, y_train_B) = split_dataset(X_train, y_train)\n",
    "(X_valid_A, y_valid_A), (X_valid_B, y_valid_B) = split_dataset(X_valid, y_valid)\n",
    "(X_test_A, y_test_A), (X_test_B, y_test_B) = split_dataset(X_test, y_test)\n",
    "\n",
    "#эмуляция того, что наш набор обучения очень мал\n",
    "X_train_B = X_train_B[:200]\n",
    "y_train_B = y_train_B[:200]"
   ]
  },
  {
   "cell_type": "code",
   "execution_count": 49,
   "metadata": {},
   "outputs": [
    {
     "name": "stdout",
     "output_type": "stream",
     "text": [
      "(43986, 28, 28)\n",
      "(200, 28, 28)\n",
      "[4 0 5 7 7 7 4 4 3 4 0 1 6 3 4 3 2 6 5 3 4 5 1 3 4 2 0 6 7 1]\n",
      "[1. 1. 0. 0. 0. 0. 1. 1. 1. 0. 0. 1. 1. 0. 0. 0. 0. 0. 0. 1. 1. 0. 0. 1.\n",
      " 1. 0. 1. 1. 1. 1.]\n"
     ]
    }
   ],
   "source": [
    "print(X_train_A.shape)\n",
    "print(X_train_B.shape)\n",
    "print(y_train_A[:30])\n",
    "print(y_train_B[:30])"
   ]
  },
  {
   "cell_type": "markdown",
   "metadata": {},
   "source": [
    "Поскольку для целей текущей задачи мы считаем что у нас есть некоторая обученная модель A, которую мы будем использовать для обучения модели B, а именно будет использовать веса скрытых слоев модели A, но самой модели A у нас нет - обучим ее"
   ]
  },
  {
   "cell_type": "code",
   "execution_count": 51,
   "metadata": {},
   "outputs": [
    {
     "name": "stdout",
     "output_type": "stream",
     "text": [
      "Train on 43986 samples, validate on 4014 samples\n",
      "Epoch 1/20\n",
      "43986/43986 [==============================] - 9s 202us/sample - loss: 0.5565 - accuracy: 0.8196 - val_loss: 0.3813 - val_accuracy: 0.8662\n",
      "Epoch 2/20\n",
      "43986/43986 [==============================] - 8s 189us/sample - loss: 0.3480 - accuracy: 0.8803 - val_loss: 0.3313 - val_accuracy: 0.8852\n",
      "Epoch 3/20\n",
      "43986/43986 [==============================] - 8s 189us/sample - loss: 0.3138 - accuracy: 0.8921 - val_loss: 0.3050 - val_accuracy: 0.8959\n",
      "Epoch 4/20\n",
      "43986/43986 [==============================] - 9s 197us/sample - loss: 0.2951 - accuracy: 0.8988 - val_loss: 0.2914 - val_accuracy: 0.8996\n",
      "Epoch 5/20\n",
      "43986/43986 [==============================] - 8s 191us/sample - loss: 0.2819 - accuracy: 0.9040 - val_loss: 0.2836 - val_accuracy: 0.9028\n",
      "Epoch 6/20\n",
      "43986/43986 [==============================] - 8s 190us/sample - loss: 0.2723 - accuracy: 0.9076 - val_loss: 0.2726 - val_accuracy: 0.9038\n",
      "Epoch 7/20\n",
      "43986/43986 [==============================] - 9s 200us/sample - loss: 0.2645 - accuracy: 0.9097 - val_loss: 0.2689 - val_accuracy: 0.9053\n",
      "Epoch 8/20\n",
      "43986/43986 [==============================] - 8s 192us/sample - loss: 0.2580 - accuracy: 0.9114 - val_loss: 0.2584 - val_accuracy: 0.9113\n",
      "Epoch 9/20\n",
      "43986/43986 [==============================] - 8s 190us/sample - loss: 0.2523 - accuracy: 0.9139 - val_loss: 0.2588 - val_accuracy: 0.9121\n",
      "Epoch 10/20\n",
      "43986/43986 [==============================] - 8s 182us/sample - loss: 0.2473 - accuracy: 0.9155 - val_loss: 0.2532 - val_accuracy: 0.9136\n",
      "Epoch 11/20\n",
      "43986/43986 [==============================] - 8s 193us/sample - loss: 0.2428 - accuracy: 0.9166 - val_loss: 0.2507 - val_accuracy: 0.9143\n",
      "Epoch 12/20\n",
      "43986/43986 [==============================] - 8s 183us/sample - loss: 0.2389 - accuracy: 0.9187 - val_loss: 0.2456 - val_accuracy: 0.9168\n",
      "Epoch 13/20\n",
      "43986/43986 [==============================] - 9s 197us/sample - loss: 0.2354 - accuracy: 0.9193 - val_loss: 0.2454 - val_accuracy: 0.9175\n",
      "Epoch 14/20\n",
      "43986/43986 [==============================] - 9s 196us/sample - loss: 0.2321 - accuracy: 0.9209 - val_loss: 0.2419 - val_accuracy: 0.9168\n",
      "Epoch 15/20\n",
      "43986/43986 [==============================] - 8s 184us/sample - loss: 0.2288 - accuracy: 0.9222 - val_loss: 0.2462 - val_accuracy: 0.9155\n",
      "Epoch 16/20\n",
      "43986/43986 [==============================] - 8s 186us/sample - loss: 0.2261 - accuracy: 0.9228 - val_loss: 0.2438 - val_accuracy: 0.9153\n",
      "Epoch 17/20\n",
      "43986/43986 [==============================] - 8s 175us/sample - loss: 0.2232 - accuracy: 0.9235 - val_loss: 0.2373 - val_accuracy: 0.9168\n",
      "Epoch 18/20\n",
      "43986/43986 [==============================] - 8s 186us/sample - loss: 0.2205 - accuracy: 0.9241 - val_loss: 0.2435 - val_accuracy: 0.9163\n",
      "Epoch 19/20\n",
      "43986/43986 [==============================] - 8s 178us/sample - loss: 0.2182 - accuracy: 0.9254 - val_loss: 0.2539 - val_accuracy: 0.9053\n",
      "Epoch 20/20\n",
      "43986/43986 [==============================] - 8s 188us/sample - loss: 0.2160 - accuracy: 0.9273 - val_loss: 0.2349 - val_accuracy: 0.9175\n"
     ]
    }
   ],
   "source": [
    "model_A = keras.models.Sequential()\n",
    "model_A.add(keras.layers.Flatten(input_shape=[28, 28]))\n",
    "for n_hidden in (300, 100, 50, 50, 50):\n",
    "    model_A.add(keras.layers.Dense(n_hidden, activation=\"selu\"))\n",
    "model_A.add(keras.layers.Dense(8, activation=\"softmax\"))\n",
    "\n",
    "model_A.compile(loss=\"sparse_categorical_crossentropy\",\n",
    "                optimizer=keras.optimizers.SGD(lr=1e-3),\n",
    "                metrics=[\"accuracy\"])\n",
    "\n",
    "history = model_A.fit(X_train_A, y_train_A, epochs=20,\n",
    "                    validation_data=(X_valid_A, y_valid_A))"
   ]
  },
  {
   "cell_type": "code",
   "execution_count": 52,
   "metadata": {},
   "outputs": [],
   "source": [
    "model_A.save(\"my_model_A.h5\")"
   ]
  },
  {
   "cell_type": "markdown",
   "metadata": {},
   "source": [
    "Создадим модель B и обучим на имеющимся (маленьком) обучающем наборе. В дальнейшем эта модель будет использоваться для сравннения с моделью на наборе B, которая будет использовать обученные слои модели A "
   ]
  },
  {
   "cell_type": "code",
   "execution_count": 55,
   "metadata": {},
   "outputs": [
    {
     "name": "stdout",
     "output_type": "stream",
     "text": [
      "Train on 200 samples, validate on 986 samples\n",
      "Epoch 1/20\n",
      "200/200 [==============================] - 1s 4ms/sample - loss: 0.4879 - accuracy: 0.8000 - val_loss: 0.3948 - val_accuracy: 0.8905\n",
      "Epoch 2/20\n",
      "200/200 [==============================] - 0s 863us/sample - loss: 0.3487 - accuracy: 0.8900 - val_loss: 0.3231 - val_accuracy: 0.9199\n",
      "Epoch 3/20\n",
      "200/200 [==============================] - 0s 851us/sample - loss: 0.2818 - accuracy: 0.9300 - val_loss: 0.2745 - val_accuracy: 0.9432\n",
      "Epoch 4/20\n",
      "200/200 [==============================] - 0s 781us/sample - loss: 0.2349 - accuracy: 0.9650 - val_loss: 0.2413 - val_accuracy: 0.9533\n",
      "Epoch 5/20\n",
      "200/200 [==============================] - 0s 840us/sample - loss: 0.2018 - accuracy: 0.9750 - val_loss: 0.2141 - val_accuracy: 0.9584\n",
      "Epoch 6/20\n",
      "200/200 [==============================] - 0s 750us/sample - loss: 0.1760 - accuracy: 0.9900 - val_loss: 0.1935 - val_accuracy: 0.9635\n",
      "Epoch 7/20\n",
      "200/200 [==============================] - 0s 863us/sample - loss: 0.1562 - accuracy: 0.9950 - val_loss: 0.1786 - val_accuracy: 0.9645\n",
      "Epoch 8/20\n",
      "200/200 [==============================] - 0s 837us/sample - loss: 0.1412 - accuracy: 0.9950 - val_loss: 0.1648 - val_accuracy: 0.9655\n",
      "Epoch 9/20\n",
      "200/200 [==============================] - 0s 830us/sample - loss: 0.1277 - accuracy: 0.9950 - val_loss: 0.1556 - val_accuracy: 0.9706\n",
      "Epoch 10/20\n",
      "200/200 [==============================] - 0s 832us/sample - loss: 0.1182 - accuracy: 0.9950 - val_loss: 0.1465 - val_accuracy: 0.9726\n",
      "Epoch 11/20\n",
      "200/200 [==============================] - 0s 833us/sample - loss: 0.1097 - accuracy: 0.9950 - val_loss: 0.1394 - val_accuracy: 0.9726\n",
      "Epoch 12/20\n",
      "200/200 [==============================] - 0s 717us/sample - loss: 0.1024 - accuracy: 0.9950 - val_loss: 0.1334 - val_accuracy: 0.9736\n",
      "Epoch 13/20\n",
      "200/200 [==============================] - 0s 842us/sample - loss: 0.0965 - accuracy: 0.9950 - val_loss: 0.1282 - val_accuracy: 0.9736\n",
      "Epoch 14/20\n",
      "200/200 [==============================] - 0s 820us/sample - loss: 0.0911 - accuracy: 0.9950 - val_loss: 0.1234 - val_accuracy: 0.9736\n",
      "Epoch 15/20\n",
      "200/200 [==============================] - 0s 866us/sample - loss: 0.0864 - accuracy: 0.9950 - val_loss: 0.1185 - val_accuracy: 0.9736\n",
      "Epoch 16/20\n",
      "200/200 [==============================] - 0s 849us/sample - loss: 0.0817 - accuracy: 0.9950 - val_loss: 0.1151 - val_accuracy: 0.9746\n",
      "Epoch 17/20\n",
      "200/200 [==============================] - 0s 809us/sample - loss: 0.0779 - accuracy: 0.9950 - val_loss: 0.1113 - val_accuracy: 0.9746\n",
      "Epoch 18/20\n",
      "200/200 [==============================] - 0s 718us/sample - loss: 0.0743 - accuracy: 0.9950 - val_loss: 0.1083 - val_accuracy: 0.9767\n",
      "Epoch 19/20\n",
      "200/200 [==============================] - 0s 902us/sample - loss: 0.0714 - accuracy: 0.9950 - val_loss: 0.1058 - val_accuracy: 0.9757\n",
      "Epoch 20/20\n",
      "200/200 [==============================] - 0s 871us/sample - loss: 0.0684 - accuracy: 0.9950 - val_loss: 0.1026 - val_accuracy: 0.9767\n"
     ]
    }
   ],
   "source": [
    "model_B = keras.models.Sequential()\n",
    "\n",
    "model_B.add(keras.layers.Flatten(input_shape=[28, 28]))\n",
    "for n_hidden in (300, 100, 50, 50, 50):\n",
    "    model_B.add(keras.layers.Dense(n_hidden, activation=\"selu\"))\n",
    "model_B.add(keras.layers.Dense(1, activation=\"sigmoid\"))\n",
    "\n",
    "model_B.compile(loss=\"binary_crossentropy\",\n",
    "                optimizer=keras.optimizers.SGD(lr=1e-3),\n",
    "                metrics=[\"accuracy\"])\n",
    "\n",
    "history = model_B.fit(X_train_B, y_train_B, epochs=20,\n",
    "                      validation_data=(X_valid_B, y_valid_B))"
   ]
  },
  {
   "cell_type": "markdown",
   "metadata": {},
   "source": [
    "Теперь будем использовать обученные слои модели A. Клон модели A делается, чтобы мододели не использовали одни и те же слои и не оказывали т.о. влияния друг на друга в процессе обучения одной из них"
   ]
  },
  {
   "cell_type": "code",
   "execution_count": 73,
   "metadata": {},
   "outputs": [],
   "source": [
    "model_A = keras.models.load_model(\"my_model_A.h5\")\n",
    "model_B_on_A = keras.models.Sequential(model_A.layers[:-1])\n",
    "model_B_on_A.add(keras.layers.Dense(1, activation=\"sigmoid\"))\n",
    "\n",
    "model_A_clone = keras.models.clone_model(model_A)\n",
    "model_A_clone.set_weights(model_A.get_weights())"
   ]
  },
  {
   "cell_type": "markdown",
   "metadata": {},
   "source": [
    "Заморозим на несколько эпох веса скрытых заимстоваванных слоев, чтобы избежать влияния больших градиентов на первых эпохах обучения"
   ]
  },
  {
   "cell_type": "code",
   "execution_count": 74,
   "metadata": {},
   "outputs": [],
   "source": [
    "for l in model_B_on_A.layers[:-1]: l.trainable = False\n",
    "    \n",
    "model_B_on_A.compile(loss=\"binary_crossentropy\",\n",
    "                     optimizer=keras.optimizers.SGD(lr=1e-3),\n",
    "                     metrics=[\"accuracy\"])"
   ]
  },
  {
   "cell_type": "code",
   "execution_count": 75,
   "metadata": {},
   "outputs": [
    {
     "name": "stdout",
     "output_type": "stream",
     "text": [
      "Train on 200 samples, validate on 986 samples\n",
      "Epoch 1/10\n",
      "200/200 [==============================] - 1s 3ms/sample - loss: 0.8003 - accuracy: 0.4500 - val_loss: 0.7516 - val_accuracy: 0.4899\n",
      "Epoch 2/10\n",
      "200/200 [==============================] - 0s 921us/sample - loss: 0.7397 - accuracy: 0.5100 - val_loss: 0.6980 - val_accuracy: 0.5345\n",
      "Epoch 3/10\n",
      "200/200 [==============================] - 0s 834us/sample - loss: 0.6853 - accuracy: 0.5400 - val_loss: 0.6497 - val_accuracy: 0.5781\n",
      "Epoch 4/10\n",
      "200/200 [==============================] - 0s 777us/sample - loss: 0.6363 - accuracy: 0.5650 - val_loss: 0.6079 - val_accuracy: 0.6187\n",
      "Epoch 5/10\n",
      "200/200 [==============================] - 0s 829us/sample - loss: 0.5938 - accuracy: 0.6050 - val_loss: 0.5680 - val_accuracy: 0.6542\n",
      "Epoch 6/10\n",
      "200/200 [==============================] - 0s 799us/sample - loss: 0.5532 - accuracy: 0.6250 - val_loss: 0.5306 - val_accuracy: 0.6907\n",
      "Epoch 7/10\n",
      "200/200 [==============================] - 0s 729us/sample - loss: 0.5154 - accuracy: 0.6800 - val_loss: 0.4984 - val_accuracy: 0.7241\n",
      "Epoch 8/10\n",
      "200/200 [==============================] - 0s 781us/sample - loss: 0.4826 - accuracy: 0.7200 - val_loss: 0.4694 - val_accuracy: 0.7525\n",
      "Epoch 9/10\n",
      "200/200 [==============================] - 0s 854us/sample - loss: 0.4531 - accuracy: 0.7450 - val_loss: 0.4437 - val_accuracy: 0.7748\n",
      "Epoch 10/10\n",
      "200/200 [==============================] - 0s 806us/sample - loss: 0.4270 - accuracy: 0.7650 - val_loss: 0.4199 - val_accuracy: 0.8073\n"
     ]
    }
   ],
   "source": [
    "history = model_B_on_A.fit(X_train_B, y_train_B, epochs=10,\n",
    "                           validation_data=(X_valid_B, y_valid_B))"
   ]
  },
  {
   "cell_type": "markdown",
   "metadata": {},
   "source": [
    "Теперь разблокируем скрытые слои и запустим полное обучение"
   ]
  },
  {
   "cell_type": "code",
   "execution_count": 76,
   "metadata": {},
   "outputs": [
    {
     "name": "stdout",
     "output_type": "stream",
     "text": [
      "Train on 200 samples, validate on 986 samples\n",
      "Epoch 1/20\n",
      "200/200 [==============================] - 1s 4ms/sample - loss: 0.3688 - accuracy: 0.8550 - val_loss: 0.3175 - val_accuracy: 0.8955\n",
      "Epoch 2/20\n",
      "200/200 [==============================] - 0s 813us/sample - loss: 0.2758 - accuracy: 0.9350 - val_loss: 0.2533 - val_accuracy: 0.9422\n",
      "Epoch 3/20\n",
      "200/200 [==============================] - 0s 768us/sample - loss: 0.2177 - accuracy: 0.9700 - val_loss: 0.2126 - val_accuracy: 0.9675\n",
      "Epoch 4/20\n",
      "200/200 [==============================] - 0s 905us/sample - loss: 0.1805 - accuracy: 0.9800 - val_loss: 0.1843 - val_accuracy: 0.9777\n",
      "Epoch 5/20\n",
      "200/200 [==============================] - 0s 846us/sample - loss: 0.1541 - accuracy: 0.9850 - val_loss: 0.1625 - val_accuracy: 0.9828\n",
      "Epoch 6/20\n",
      "200/200 [==============================] - 0s 839us/sample - loss: 0.1339 - accuracy: 0.9850 - val_loss: 0.1458 - val_accuracy: 0.9828\n",
      "Epoch 7/20\n",
      "200/200 [==============================] - 0s 847us/sample - loss: 0.1186 - accuracy: 0.9950 - val_loss: 0.1331 - val_accuracy: 0.9828\n",
      "Epoch 8/20\n",
      "200/200 [==============================] - 0s 874us/sample - loss: 0.1068 - accuracy: 0.9950 - val_loss: 0.1228 - val_accuracy: 0.9828\n",
      "Epoch 9/20\n",
      "200/200 [==============================] - 0s 747us/sample - loss: 0.0973 - accuracy: 0.9950 - val_loss: 0.1145 - val_accuracy: 0.9858\n",
      "Epoch 10/20\n",
      "200/200 [==============================] - 0s 852us/sample - loss: 0.0896 - accuracy: 0.9950 - val_loss: 0.1071 - val_accuracy: 0.9858\n",
      "Epoch 11/20\n",
      "200/200 [==============================] - 0s 905us/sample - loss: 0.0827 - accuracy: 0.9950 - val_loss: 0.1011 - val_accuracy: 0.9878\n",
      "Epoch 12/20\n",
      "200/200 [==============================] - 0s 977us/sample - loss: 0.0770 - accuracy: 0.9950 - val_loss: 0.0959 - val_accuracy: 0.9878\n",
      "Epoch 13/20\n",
      "200/200 [==============================] - 0s 974us/sample - loss: 0.0723 - accuracy: 0.9950 - val_loss: 0.0913 - val_accuracy: 0.9888\n",
      "Epoch 14/20\n",
      "200/200 [==============================] - 0s 845us/sample - loss: 0.0681 - accuracy: 0.9950 - val_loss: 0.0873 - val_accuracy: 0.9888\n",
      "Epoch 15/20\n",
      "200/200 [==============================] - 0s 992us/sample - loss: 0.0644 - accuracy: 0.9950 - val_loss: 0.0837 - val_accuracy: 0.9888\n",
      "Epoch 16/20\n",
      "200/200 [==============================] - 0s 903us/sample - loss: 0.0610 - accuracy: 0.9900 - val_loss: 0.0807 - val_accuracy: 0.9878\n",
      "Epoch 17/20\n",
      "200/200 [==============================] - 0s 871us/sample - loss: 0.0581 - accuracy: 1.0000 - val_loss: 0.0777 - val_accuracy: 0.9888\n",
      "Epoch 18/20\n",
      "200/200 [==============================] - 0s 984us/sample - loss: 0.0553 - accuracy: 0.9950 - val_loss: 0.0751 - val_accuracy: 0.9888\n",
      "Epoch 19/20\n",
      "200/200 [==============================] - 0s 1ms/sample - loss: 0.0529 - accuracy: 0.9950 - val_loss: 0.0728 - val_accuracy: 0.9888\n",
      "Epoch 20/20\n",
      "200/200 [==============================] - 0s 957us/sample - loss: 0.0506 - accuracy: 0.9950 - val_loss: 0.0704 - val_accuracy: 0.9888\n"
     ]
    }
   ],
   "source": [
    "for l in model_B_on_A.layers[:-1]: l.trainable = True\n",
    "    \n",
    "model_B_on_A.compile(loss=\"binary_crossentropy\",\n",
    "                     optimizer=keras.optimizers.SGD(lr=1e-3),\n",
    "                     metrics=[\"accuracy\"])\n",
    "\n",
    "history = model_B_on_A.fit(X_train_B, y_train_B, epochs=20,\n",
    "                           validation_data=(X_valid_B, y_valid_B))"
   ]
  },
  {
   "cell_type": "markdown",
   "metadata": {},
   "source": [
    "Выполним сравнение моделей B, одна из которых обучена с использованием скрытых слоев модели A"
   ]
  },
  {
   "cell_type": "code",
   "execution_count": 78,
   "metadata": {},
   "outputs": [
    {
     "name": "stdout",
     "output_type": "stream",
     "text": [
      "2000/2000 [==============================] - 0s 122us/sample - loss: 0.1014 - accuracy: 0.9775\n",
      "Оценка простой модели B: [0.10135261201858521, 0.9775]\n",
      "2000/2000 [==============================] - 0s 111us/sample - loss: 0.0606 - accuracy: 0.9950\n",
      "Оценка модели B со скрытыми слоями A: [0.060599480092525485, 0.995]\n"
     ]
    }
   ],
   "source": [
    "print(\"Оценка простой модели B:\", model_B.evaluate(X_test_B, y_test_B))\n",
    "print(\"Оценка модели B со скрытыми слоями A:\", model_B_on_A.evaluate(X_test_B, y_test_B))"
   ]
  },
  {
   "cell_type": "code",
   "execution_count": 80,
   "metadata": {},
   "outputs": [
    {
     "name": "stdout",
     "output_type": "stream",
     "text": [
      "ошибка уменьшилась на коэф.: 4.5\n"
     ]
    }
   ],
   "source": [
    "print(\"ошибка уменьшилась на коэф.:\", (100 - 97.75) / (100 - 99.5))"
   ]
  },
  {
   "cell_type": "markdown",
   "metadata": {},
   "source": [
    "# Faster Optimizers "
   ]
  },
  {
   "cell_type": "markdown",
   "metadata": {},
   "source": [
    "### Momentum Optimization"
   ]
  },
  {
   "cell_type": "code",
   "execution_count": null,
   "metadata": {},
   "outputs": [],
   "source": []
  }
 ],
 "metadata": {
  "kernelspec": {
   "display_name": "Python 3",
   "language": "python",
   "name": "python3"
  },
  "language_info": {
   "codemirror_mode": {
    "name": "ipython",
    "version": 3
   },
   "file_extension": ".py",
   "mimetype": "text/x-python",
   "name": "python",
   "nbconvert_exporter": "python",
   "pygments_lexer": "ipython3",
   "version": "3.6.9"
  }
 },
 "nbformat": 4,
 "nbformat_minor": 4
}
