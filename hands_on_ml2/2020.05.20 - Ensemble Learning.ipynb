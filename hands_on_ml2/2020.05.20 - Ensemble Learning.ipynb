{
 "cells": [
  {
   "cell_type": "code",
   "execution_count": 1,
   "metadata": {},
   "outputs": [],
   "source": [
    "# Python ≥3.5 is required\n",
    "import sys\n",
    "assert sys.version_info >= (3, 5)\n",
    "\n",
    "# Scikit-Learn ≥0.20 is required\n",
    "import sklearn\n",
    "assert sklearn.__version__ >= \"0.20\"\n",
    "\n",
    "# Common imports\n",
    "import numpy as np\n",
    "import os\n",
    "\n",
    "# to make this notebook's output stable across runs\n",
    "np.random.seed(42)\n",
    "\n",
    "# To plot pretty figures\n",
    "%matplotlib inline\n",
    "import matplotlib as mpl\n",
    "import matplotlib.pyplot as plt\n",
    "mpl.rc('axes', labelsize=14)\n",
    "mpl.rc('xtick', labelsize=12)\n",
    "mpl.rc('ytick', labelsize=12)\n",
    "\n",
    "# Where to save the figures\n",
    "PROJECT_ROOT_DIR = \".\"\n",
    "CHAPTER_ID = \"ensembles\"\n",
    "IMAGES_PATH = os.path.join(PROJECT_ROOT_DIR, \"images\", CHAPTER_ID)\n",
    "os.makedirs(IMAGES_PATH, exist_ok=True)\n",
    "\n",
    "def save_fig(fig_id, tight_layout=True, fig_extension=\"png\", resolution=300):\n",
    "    path = os.path.join(IMAGES_PATH, fig_id + \".\" + fig_extension)\n",
    "    print(\"Saving figure\", fig_id)\n",
    "    if tight_layout:\n",
    "        plt.tight_layout()\n",
    "    plt.savefig(path, format=fig_extension, dpi=resolution)"
   ]
  },
  {
   "cell_type": "code",
   "execution_count": 2,
   "metadata": {},
   "outputs": [],
   "source": [
    "import numpy as np\n",
    "import matplotlib.pyplot as plt"
   ]
  },
  {
   "cell_type": "markdown",
   "metadata": {},
   "source": [
    "# Voting Classifiers "
   ]
  },
  {
   "cell_type": "code",
   "execution_count": 2,
   "metadata": {},
   "outputs": [],
   "source": [
    "from sklearn.model_selection import train_test_split\n",
    "from sklearn.metrics import accuracy_score\n",
    "from sklearn.datasets import make_moons\n",
    "\n",
    "X, y = make_moons(n_samples=500, noise=0.30, random_state=42)\n",
    "X_train, X_test, y_train, y_test = train_test_split(X, y, random_state=42)"
   ]
  },
  {
   "cell_type": "markdown",
   "metadata": {},
   "source": [
    "**hard votiong**"
   ]
  },
  {
   "cell_type": "code",
   "execution_count": 3,
   "metadata": {},
   "outputs": [
    {
     "name": "stdout",
     "output_type": "stream",
     "text": [
      "LogisticRegression 0.864\n",
      "RandomForestClassifier 0.896\n",
      "SVC 0.896\n",
      "VotingClassifier 0.912\n"
     ]
    }
   ],
   "source": [
    "from sklearn.ensemble import RandomForestClassifier\n",
    "from sklearn.ensemble import VotingClassifier\n",
    "from sklearn.linear_model import LogisticRegression\n",
    "from sklearn.svm import SVC\n",
    "\n",
    "log_clf = LogisticRegression(solver=\"lbfgs\", random_state=42)\n",
    "rnd_clf = RandomForestClassifier(n_estimators=100, random_state=42)\n",
    "svm_clf = SVC(gamma=\"scale\", random_state=42)\n",
    "\n",
    "voting_clf = VotingClassifier(\n",
    "    estimators=[('lr', log_clf), ('rf', rnd_clf), ('svc', svm_clf)],\n",
    "    voting='hard')\n",
    "\n",
    "voting_clf.fit(X_train, y_train)\n",
    "\n",
    "for clf in (log_clf, rnd_clf, svm_clf, voting_clf):\n",
    "    clf.fit(X_train, y_train)\n",
    "    y_pred = clf.predict(X_test)\n",
    "    print(clf.__class__.__name__, accuracy_score(y_test, y_pred))"
   ]
  },
  {
   "cell_type": "markdown",
   "metadata": {},
   "source": [
    "**soft voting**"
   ]
  },
  {
   "cell_type": "code",
   "execution_count": 4,
   "metadata": {},
   "outputs": [
    {
     "name": "stdout",
     "output_type": "stream",
     "text": [
      "LogisticRegression 0.864\n",
      "RandomForestClassifier 0.896\n",
      "SVC 0.896\n",
      "VotingClassifier 0.92\n"
     ]
    }
   ],
   "source": [
    "log_clf = LogisticRegression(solver=\"lbfgs\", random_state=42)\n",
    "rnd_clf = RandomForestClassifier(n_estimators=100, random_state=42)\n",
    "svm_clf = SVC(gamma=\"scale\", probability=True, random_state=42)\n",
    "\n",
    "voting_clf = VotingClassifier(\n",
    "    estimators=[('lr', log_clf), ('rf', rnd_clf), ('svc', svm_clf)],\n",
    "    voting='soft')\n",
    "voting_clf.fit(X_train, y_train)\n",
    "\n",
    "for clf in (log_clf, rnd_clf, svm_clf, voting_clf):\n",
    "    clf.fit(X_train, y_train)\n",
    "    y_pred = clf.predict(X_test)\n",
    "    print(clf.__class__.__name__, accuracy_score(y_test, y_pred))"
   ]
  },
  {
   "cell_type": "markdown",
   "metadata": {},
   "source": [
    "# Bagging and Pasting"
   ]
  },
  {
   "cell_type": "code",
   "execution_count": 5,
   "metadata": {},
   "outputs": [
    {
     "data": {
      "text/plain": [
       "0.904"
      ]
     },
     "execution_count": 5,
     "metadata": {},
     "output_type": "execute_result"
    }
   ],
   "source": [
    "from sklearn.ensemble import BaggingClassifier\n",
    "from sklearn.tree import DecisionTreeClassifier\n",
    "\n",
    "#'bootstrap=True' means that bagging is used\n",
    "bag_clf = BaggingClassifier(\n",
    "    DecisionTreeClassifier(random_state=42), n_estimators=500,\n",
    "    max_samples=100, bootstrap=True, random_state=42, n_jobs=-1)\n",
    "bag_clf.fit(X_train, y_train)\n",
    "y_pred = bag_clf.predict(X_test)\n",
    "\n",
    "accuracy_score(y_test, y_pred)"
   ]
  },
  {
   "cell_type": "markdown",
   "metadata": {},
   "source": [
    "**oob score** \n",
    "\n",
    "(похоже на использование validation set)"
   ]
  },
  {
   "cell_type": "code",
   "execution_count": 6,
   "metadata": {},
   "outputs": [
    {
     "data": {
      "text/plain": [
       "0.9253333333333333"
      ]
     },
     "execution_count": 6,
     "metadata": {},
     "output_type": "execute_result"
    }
   ],
   "source": [
    "bag_clf = BaggingClassifier(\n",
    "    DecisionTreeClassifier(random_state=42), n_estimators=500,\n",
    "    max_samples=100, bootstrap=True, random_state=42, oob_score=True, n_jobs=-1)\n",
    "bag_clf.fit(X_train, y_train)\n",
    "bag_clf.oob_score_"
   ]
  },
  {
   "cell_type": "markdown",
   "metadata": {},
   "source": [
    "92.5% - неплохо. Проверим на тестовом наборе по фану"
   ]
  },
  {
   "cell_type": "code",
   "execution_count": 7,
   "metadata": {},
   "outputs": [
    {
     "data": {
      "text/plain": [
       "0.904"
      ]
     },
     "execution_count": 7,
     "metadata": {},
     "output_type": "execute_result"
    }
   ],
   "source": [
    "y_pred = bag_clf.predict(X_test)\n",
    "accuracy_score(y_test, y_pred)"
   ]
  },
  {
   "cell_type": "markdown",
   "metadata": {},
   "source": [
    "# RandomForest"
   ]
  },
  {
   "cell_type": "code",
   "execution_count": 8,
   "metadata": {},
   "outputs": [
    {
     "name": "stdout",
     "output_type": "stream",
     "text": [
      "accuracy score by training set: 95.2%\n",
      "accuracy score by test set: 91.2%\n"
     ]
    }
   ],
   "source": [
    "from sklearn.ensemble import RandomForestClassifier\n",
    "\n",
    "rnd_clf = RandomForestClassifier(n_estimators=500, max_leaf_nodes=16, n_jobs=-1)\n",
    "rnd_clf.fit(X_train, y_train)\n",
    "\n",
    "y_pred = rnd_clf.predict(X_train)\n",
    "acc = accuracy_score(y_train, y_pred)\n",
    "print(\"accuracy score by training set: {:.4}%\".format(acc*100))\n",
    "\n",
    "y_pred = rnd_clf.predict(X_test)\n",
    "acc = accuracy_score(y_test, y_pred)\n",
    "print(\"accuracy score by test set: {:.4}%\".format(acc*100))"
   ]
  },
  {
   "cell_type": "markdown",
   "metadata": {},
   "source": [
    "Теперь почти тоже самое, но используя **BagginClassifier**"
   ]
  },
  {
   "cell_type": "code",
   "execution_count": 9,
   "metadata": {},
   "outputs": [
    {
     "name": "stdout",
     "output_type": "stream",
     "text": [
      "accuracy score by training set: 93.87%\n",
      "accuracy score by test set: 92.0%\n"
     ]
    }
   ],
   "source": [
    "bag_clf = BaggingClassifier(\n",
    "    DecisionTreeClassifier(splitter='random', random_state=42, max_leaf_nodes=16),\n",
    "    n_estimators=500, max_samples=1.0, bootstrap=True, random_state=42, n_jobs=-1)\n",
    "bag_clf.fit(X_train, y_train)\n",
    "\n",
    "y_pred = bag_clf.predict(X_train)\n",
    "acc = accuracy_score(y_train, y_pred)\n",
    "print(\"accuracy score by training set: {:.4}%\".format(acc*100))\n",
    "\n",
    "y_pred = bag_clf.predict(X_test)\n",
    "acc = accuracy_score(y_test, y_pred)\n",
    "print(\"accuracy score by test set: {:.4}%\".format(acc*100))"
   ]
  },
  {
   "cell_type": "markdown",
   "metadata": {},
   "source": [
    "Тоже, но с использованием **ExtraTreesClassifier**"
   ]
  },
  {
   "cell_type": "code",
   "execution_count": 10,
   "metadata": {},
   "outputs": [
    {
     "name": "stdout",
     "output_type": "stream",
     "text": [
      "accuracy score by training set: 92.53%\n",
      "accuracy score by test set: 91.2%\n"
     ]
    }
   ],
   "source": [
    "from sklearn.ensemble import ExtraTreesClassifier\n",
    "\n",
    "extra_clf = ExtraTreesClassifier(n_estimators=500, max_leaf_nodes=16, n_jobs=-1)\n",
    "extra_clf.fit(X_train, y_train)\n",
    "\n",
    "y_pred = extra_clf.predict(X_train)\n",
    "acc = accuracy_score(y_train, y_pred)\n",
    "print(\"accuracy score by training set: {:.4}%\".format(acc*100))\n",
    "\n",
    "y_pred = extra_clf.predict(X_test)\n",
    "acc = accuracy_score(y_test, y_pred)\n",
    "print(\"accuracy score by test set: {:.4}%\".format(acc*100))"
   ]
  },
  {
   "cell_type": "markdown",
   "metadata": {},
   "source": [
    "**Feature impotance / Iris dataset**"
   ]
  },
  {
   "cell_type": "code",
   "execution_count": 11,
   "metadata": {},
   "outputs": [
    {
     "name": "stdout",
     "output_type": "stream",
     "text": [
      "sepal length (cm) 0.11249225099876375\n",
      "sepal width (cm) 0.02311928828251033\n",
      "petal length (cm) 0.4410304643639577\n",
      "petal width (cm) 0.4233579963547682\n"
     ]
    }
   ],
   "source": [
    "from sklearn.datasets import load_iris\n",
    "\n",
    "iris = load_iris()\n",
    "rnd_clf = RandomForestClassifier(n_estimators=500, random_state=42)\n",
    "rnd_clf.fit(iris[\"data\"], iris[\"target\"])\n",
    "for name, score in zip(iris[\"feature_names\"], rnd_clf.feature_importances_):\n",
    "    print(name, score)"
   ]
  },
  {
   "cell_type": "markdown",
   "metadata": {},
   "source": [
    "**Feature impotance / MNIST dataset**"
   ]
  },
  {
   "cell_type": "code",
   "execution_count": 12,
   "metadata": {},
   "outputs": [],
   "source": [
    "from sklearn.datasets import fetch_openml\n",
    "from sklearn.model_selection import train_test_split \n",
    "\n",
    "mnist = fetch_openml('mnist_784', version=1)\n",
    "mnist.target = mnist.target.astype(np.uint8)\n",
    "\n",
    "x_train, x_test, y_train, y_test = train_test_split(mnist[\"data\"], mnist[\"target\"], \n",
    "                                                    test_size=0.2, random_state=42)"
   ]
  },
  {
   "cell_type": "code",
   "execution_count": 13,
   "metadata": {},
   "outputs": [
    {
     "name": "stdout",
     "output_type": "stream",
     "text": [
      "accuracy score on training set: 100.0%\n",
      "accuracy score on test set: 96.73%\n"
     ]
    }
   ],
   "source": [
    "rnd_clf = RandomForestClassifier(n_estimators=100, random_state=42, n_jobs=-1)\n",
    "rnd_clf.fit(x_train, y_train)\n",
    "\n",
    "y_pred = rnd_clf.predict(x_train)\n",
    "acc = accuracy_score(y_train, y_pred)\n",
    "print(\"accuracy score on training set: {:.4}%\".format(acc*100))\n",
    "\n",
    "y_pred = rnd_clf.predict(x_test)\n",
    "acc = accuracy_score(y_test, y_pred)\n",
    "print(\"accuracy score on test set: {:.4}%\".format(acc*100))"
   ]
  },
  {
   "cell_type": "code",
   "execution_count": 14,
   "metadata": {},
   "outputs": [
    {
     "data": {
      "text/plain": [
       "(-0.5, 27.5, 27.5, -0.5)"
      ]
     },
     "execution_count": 14,
     "metadata": {},
     "output_type": "execute_result"
    },
    {
     "data": {
      "image/png": "[encoded data removed]",
      "text/plain": [
       "<Figure size 432x288 with 1 Axes>"
      ]
     },
     "metadata": {
      "needs_background": "light"
     },
     "output_type": "display_data"
    }
   ],
   "source": [
    "image = rnd_clf.feature_importances_.reshape(28, 28)\n",
    "plt.imshow(image, cmap = mpl.cm.hot,\n",
    "               interpolation=\"nearest\")\n",
    "plt.axis(\"off\")"
   ]
  },
  {
   "cell_type": "markdown",
   "metadata": {},
   "source": [
    "# Hypothesis Boosting \n",
    "\n",
    "**AdaBoost**"
   ]
  },
  {
   "cell_type": "code",
   "execution_count": 15,
   "metadata": {},
   "outputs": [
    {
     "name": "stdout",
     "output_type": "stream",
     "text": [
      "accuracy score on test set: 78.17%\n"
     ]
    }
   ],
   "source": [
    "from sklearn.ensemble import AdaBoostClassifier\n",
    "\n",
    "ada_clf = AdaBoostClassifier(\n",
    "    DecisionTreeClassifier(max_depth=1), n_estimators=200,\n",
    "    algorithm=\"SAMME.R\", learning_rate=0.5, random_state=42)\n",
    "ada_clf.fit(x_train, y_train)\n",
    "\n",
    "y_pred = ada_clf.predict(x_test)\n",
    "acc = accuracy_score(y_test, y_pred)\n",
    "print(\"accuracy score on test set: {:.4}%\".format(acc*100))"
   ]
  },
  {
   "cell_type": "markdown",
   "metadata": {},
   "source": [
    "**Gradient Boostring manually**"
   ]
  },
  {
   "cell_type": "code",
   "execution_count": 4,
   "metadata": {},
   "outputs": [],
   "source": [
    "np.random.seed(42)\n",
    "x = np.random.rand(100, 1) - 0.5\n",
    "y = 3*x[:, 0]**2 + 0.05 * np.random.randn(100)"
   ]
  },
  {
   "cell_type": "code",
   "execution_count": 4,
   "metadata": {},
   "outputs": [
    {
     "name": "stdout",
     "output_type": "stream",
     "text": [
      "0.005038058938993283\n"
     ]
    }
   ],
   "source": [
    "from sklearn.tree import DecisionTreeRegressor\n",
    "from sklearn.metrics import mean_squared_error\n",
    "\n",
    "tree1 = DecisionTreeRegressor(max_depth=2, random_state=42)\n",
    "tree1.fit(x, y)\n",
    "\n",
    "residual_errors = y - tree1.predict(x)\n",
    "tree2 = DecisionTreeRegressor(max_depth=2, random_state=42)\n",
    "tree2.fit(x, residual_errors)\n",
    "\n",
    "residual_errors = residual_errors - tree2.predict(x)\n",
    "tree3 = DecisionTreeRegressor(max_depth=2, random_state=42)\n",
    "tree3.fit(x, residual_errors)\n",
    "\n",
    "y_pred = sum(tree.predict(x) for tree in (tree1, tree2, tree3))\n",
    "\n",
    "print(mean_squared_error(y, y_pred))"
   ]
  },
  {
   "cell_type": "code",
   "execution_count": 18,
   "metadata": {},
   "outputs": [
    {
     "data": {
      "image/png": "[encoded data removed]",
      "text/plain": [
       "<Figure size 720x288 with 2 Axes>"
      ]
     },
     "metadata": {
      "needs_background": "light"
     },
     "output_type": "display_data"
    }
   ],
   "source": [
    "def mplot_graph(x, y, x_train, y_pred, color, label, axis):\n",
    "    plt.axis([-0.6, 0.6, -0.2, 0.8])\n",
    "    plt.scatter(x,y)\n",
    "    plt.plot(x_train, y_pred, c=color, label=label, linewidth=4)\n",
    "    plt.legend(loc=\"upper center\")\n",
    "\n",
    "\n",
    "x_new = np.linspace(-0.6, 0.6, 100).reshape(-1,1)\n",
    "y_new1 = tree1.predict(x_new).reshape(-1,1)\n",
    "y_new2 = sum(tree.predict(x_new) for tree in (tree1, tree2, tree3)).reshape(-1,1)\n",
    "\n",
    "\n",
    "axis = np.array([-0.6, 0.6, -0.2, 0.8])\n",
    "_, axes = plt.subplots(ncols=2, figsize=(10, 4))\n",
    "plt.sca(axes[0])\n",
    "mplot_graph(x, y, x_new, y_new1, \"y\", \"tree1\", axis)\n",
    "plt.sca(axes[1])\n",
    "mplot_graph(x, y, x_new, y_new2, \"r\", \"tree1+tree2+tree3\", axis)"
   ]
  },
  {
   "cell_type": "markdown",
   "metadata": {},
   "source": [
    "**Gradient Boostring using Scikit-Learn’s GradientBoostingRegressor**"
   ]
  },
  {
   "cell_type": "code",
   "execution_count": 19,
   "metadata": {},
   "outputs": [
    {
     "data": {
      "image/png": "[encoded data removed]",
      "text/plain": [
       "<Figure size 432x288 with 1 Axes>"
      ]
     },
     "metadata": {
      "needs_background": "light"
     },
     "output_type": "display_data"
    }
   ],
   "source": [
    "from sklearn.ensemble import GradientBoostingRegressor\n",
    "\n",
    "gbrt = GradientBoostingRegressor(max_depth=2, n_estimators=3, learning_rate=1.0)\n",
    "gbrt.fit(x, y)\n",
    "\n",
    "y_pred = gbrt.predict(x_new)\n",
    "mplot_graph(x, y, x_new, y_pred, \"r\", \"GradientBoostingRegressor\", axis)"
   ]
  },
  {
   "cell_type": "markdown",
   "metadata": {},
   "source": [
    "**Gradient Boosting with Early stopping**\n",
    "\n",
    "To verify the best value for hyperparameter 'n_estimators'"
   ]
  },
  {
   "cell_type": "code",
   "execution_count": 34,
   "metadata": {},
   "outputs": [
    {
     "name": "stdout",
     "output_type": "stream",
     "text": [
      "train error: 0.00050843992925804\n",
      "val error: 0.003010263265992808\n"
     ]
    }
   ],
   "source": [
    "from sklearn.model_selection import train_test_split\n",
    "from sklearn.metrics import mean_squared_error\n",
    "from sklearn.ensemble import GradientBoostingRegressor\n",
    "\n",
    "x_train, x_val, y_train, y_val = train_test_split(x, y, random_state=42)\n",
    "\n",
    "gbrt = GradientBoostingRegressor(max_depth=2, n_estimators=120, random_state=42)\n",
    "gbrt.fit(x_train, y_train)\n",
    "\n",
    "print(\"train error:\", mean_squared_error(y_train, gbrt.predict(x_train)))\n",
    "print(\"val error:\", mean_squared_error(y_val, gbrt.predict(x_val)))"
   ]
  },
  {
   "cell_type": "code",
   "execution_count": 38,
   "metadata": {},
   "outputs": [
    {
     "name": "stdout",
     "output_type": "stream",
     "text": [
      "best n_estimators: 118\n"
     ]
    },
    {
     "data": {
      "image/png": "[encoded data removed]",
      "text/plain": [
       "<Figure size 432x288 with 1 Axes>"
      ]
     },
     "metadata": {
      "needs_background": "light"
     },
     "output_type": "display_data"
    }
   ],
   "source": [
    "errors = [mean_squared_error(y_val, y_pred)\n",
    "          for y_pred in gbrt.staged_predict(x_val)]\n",
    "bst_n_estimators = np.argmin(errors) + 1\n",
    "min_error = np.min(errors)\n",
    "\n",
    "\n",
    "plt.axis([0, 120, 0., 0.015])\n",
    "plt.plot(errors, \"b.-\")\n",
    "plt.plot([0,120], [min_error,min_error], \"k--\")\n",
    "\n",
    "\n",
    "print(\"best n_estimators:\", bst_n_estimators)"
   ]
  },
  {
   "cell_type": "markdown",
   "metadata": {},
   "source": [
    "**Gradient Boosting with Early stopping**\n",
    "\n",
    "Early stopping using for estimate best n_estimators during training"
   ]
  },
  {
   "cell_type": "code",
   "execution_count": 59,
   "metadata": {},
   "outputs": [
    {
     "name": "stdout",
     "output_type": "stream",
     "text": [
      "best n_estimators: 106\n",
      "error on training set: 0.0005583878965334702\n",
      "error on training set: 0.003041070343036983\n"
     ]
    }
   ],
   "source": [
    "gbrt = GradientBoostingRegressor(max_depth=2, warm_start=True)\n",
    "   \n",
    "n_estimators = 150\n",
    "errors = np.zeros((n_estimators,), dtype=np.float64)\n",
    "min_error = np.inf\n",
    "counter = 0;\n",
    "\n",
    "for i in range(1, n_estimators):\n",
    "    gbrt.n_estimators = i\n",
    "    gbrt.fit(x_train, y_train)\n",
    "    y_pred = gbrt.predict(x_val)\n",
    "    errors[i-1] = mean_squared_error(y_val, y_pred)\n",
    "    if (errors[i-1] < min_error):\n",
    "        min_error = errors[i-1]\n",
    "        counter = 0\n",
    "    else:\n",
    "        counter+=1\n",
    "        if (counter ==5):\n",
    "            break   \n",
    "            \n",
    "n_estimators = np.argmin(errors) + 1\n",
    "print(\"best n_estimators:\", n_estimators)\n",
    "\n",
    "y_pred = gbrt.predict(x_train)\n",
    "print(\"error on training set:\", mean_squared_error(y_train, y_pred))\n",
    "y_pred = gbrt.predict(x_val)\n",
    "print(\"error on training set:\", mean_squared_error(y_val, y_pred))"
   ]
  },
  {
   "cell_type": "markdown",
   "metadata": {},
   "source": [
    "# Tasks\n",
    "\n",
    "\n",
    "## task 1\n",
    "\n",
    "**If you have trained five different models on the exact same training data, and they all achieve 95% precision, is there any chance that you can combine these models to get better results? If so, how? If not, why?**\n",
    "\n",
    "Объединение моделей по принципу голосующей системы всегда будет давать лучший результат, чем эти предсказатели по отдельности, при условии, что эти предсказатели, реализованы на различных алгоритмах, т.е. не склонны делать одни и те же ошибки. Будет еще лучше, если предсказатели будут обучаться на различных обучающий наборах.\n",
    "\n",
    "## task 2\n",
    "\n",
    "**What is the difference between hard and soft voting classifiers?**\n",
    "\n",
    "Hard voting - побеждает класс, который набрал мах голосов.\n",
    "Soft voting - основан на predict_proba, а побеждает тот класс, который получил наибольшую оценку из всех классификаторов.\n",
    "\n",
    "## task 3\n",
    "\n",
    "**Is it possible to speed up training of a bagging ensemble by distributing it across multiple servers? What about pasting ensembles, boosting ensembles, random forests, or stacking ensembles?**\n",
    "\n",
    "Baggin от Pasting в вопросе распараллеливания ничем не отличаются и дожлны легко параллелиться как на разных ядрах, так и на разных серверах т.к. каждый предсказатель обучается независимо от других в ассамблеи. Тоже касается RandomForest и Stacking Ensembles, но для последнего главный блендер может быть обучен только на одной машине. Методы Boosting могут работать только последовательно, получая данные от предыдущего предсказателя, поэтмоу распараллелены не могут.\n",
    "\n",
    "## task 4\n",
    "\n",
    "**What is the benefit of out-of-bag evaluation?**\n",
    "\n",
    "Каждый предсказатель оценивается на наборе, который он никогда не видел. Таким образом модель можно оценить без прибегания к оценке на тестовом наборе.\n",
    "\n",
    "## task 5\n",
    "\n",
    "**What makes Extra-Trees more random than regular Random Forests? How can this extra randomness help? Are Extra-Trees slower or faster than regular Random Forests?**\n",
    "\n",
    "Extra-Trees выбирает порог фьючера для разделения случайным образом, поэтому работает быстрее RandomForests, т.к. именно выбор оптимального порогового значения фьючерса занимает основное время в процессе тренировки дерева решений. Как результат больше смещение и, если RandomForest переобучен, Extra-Trees может показать лучший результат. Однако при принятии решений Extra-Trees работает так же как и RandomForests.\n",
    "\n",
    "## task 6\n",
    "\n",
    "**If your AdaBoost ensemble underfits the training data, what hyperparameters should you tweak and how?**\n",
    "\n",
    "If your AdaBoost ensemble underfits the training data, you can try increasing the number of estimators or reducing the regularization hyperparameters of the base estimator. You may also try slightly increasing the learning rate.\n",
    "\n",
    "## task 7\n",
    "\n",
    "**If your Gradient Boosting ensemble overfits the training set, should you increase or decrease the learning rate?**\n",
    "\n",
    "If your Gradient Boosting ensemble overfits the training set, you should try decreasing the learning rate. You could also use early stopping to find the right number of predictors (you probably have too many).\n",
    "\n",
    "## task 8\n",
    "\n",
    "**Load the MNIST data (introduced in Chapter 3), and split it into a training set, a validation set, and a test set (e.g., use 50,000 instances for training, 10,000 for validation, and 10,000 for testing). Then train various classifiers, such as a Random Forest classifier, an Extra-Trees classifier, and an SVM. Next, try to combine them into an ensemble that outperforms them all on the validation set, using a soft or hard voting classifier. Once you have found one, try it on the test set. How much better does it perform compared to the individual classifiers?**"
   ]
  },
  {
   "cell_type": "markdown",
   "metadata": {},
   "source": [
    "1. Получим данные набора MNIST и разделим на соответсвующие наборы"
   ]
  },
  {
   "cell_type": "code",
   "execution_count": 3,
   "metadata": {},
   "outputs": [],
   "source": [
    "from sklearn.datasets import fetch_openml\n",
    "\n",
    "mnist = fetch_openml('mnist_784', cache=True, version=1)"
   ]
  },
  {
   "cell_type": "code",
   "execution_count": 4,
   "metadata": {},
   "outputs": [],
   "source": [
    "x,y = mnist['data'], mnist['target'].astype(int)\n",
    "x_train, x_val, x_test = x[:50000], x[50000:60000], x[60000:]\n",
    "y_train, y_val, y_test = y[:50000], y[50000:60000], y[60000:]"
   ]
  },
  {
   "cell_type": "markdown",
   "metadata": {},
   "source": [
    "2. Созданим предсказатели, кот. будут входить в ассамбль"
   ]
  },
  {
   "cell_type": "code",
   "execution_count": 23,
   "metadata": {
    "scrolled": true
   },
   "outputs": [],
   "source": [
    "from sklearn.svm import SVC, LinearSVC\n",
    "from sklearn.ensemble import RandomForestClassifier\n",
    "from sklearn.ensemble import ExtraTreesClassifier\n",
    "from sklearn.ensemble import VotingClassifier\n",
    "from sklearn.metrics import accuracy_score\n",
    "\n",
    "#LinearSVC doen't contain predict_proba. If it's nessesary using predict_proba than use SVC with probability=True\n",
    "svc    = LinearSVC(random_state=42) \n",
    "forest = RandomForestClassifier(random_state=42, n_jobs=-1)\n",
    "extra  = ExtraTreesClassifier(random_state=42, n_jobs=-1)\n",
    "voting = VotingClassifier(estimators=[('svc', svc), ('forest', forest), \n",
    "                                          ('extra', extra)], voting='hard', n_jobs=-1)"
   ]
  },
  {
   "cell_type": "markdown",
   "metadata": {},
   "source": [
    "3.1. Выведем точность для validation set для hard voting"
   ]
  },
  {
   "cell_type": "code",
   "execution_count": 24,
   "metadata": {},
   "outputs": [
    {
     "name": "stdout",
     "output_type": "stream",
     "text": [
      "LinearSVC accuracy: 85.15%\n",
      "RandomForestClassifier accuracy: 97.36%\n",
      "ExtraTreesClassifier accuracy: 97.43%\n"
     ]
    }
   ],
   "source": [
    "voting.fit(x_train, y_train)\n",
    "for estimator in voting.estimators_:\n",
    "    y_pred = estimator.predict(x_val)\n",
    "    score = accuracy_score(y_val, y_pred) * 100\n",
    "    print(\"{} accuracy: {:.4}%\".format(estimator.__class__.__name__, score))"
   ]
  },
  {
   "cell_type": "code",
   "execution_count": 25,
   "metadata": {},
   "outputs": [
    {
     "name": "stdout",
     "output_type": "stream",
     "text": [
      "VotingClassifier accuracy: 97.4%\n"
     ]
    }
   ],
   "source": [
    "y_pred = voting.predict(x_val)\n",
    "score = accuracy_score(y_val, y_pred) * 100\n",
    "print(\"{} accuracy: {:.4}%\".format(voting.__class__.__name__, score))"
   ]
  },
  {
   "cell_type": "markdown",
   "metadata": {},
   "source": [
    "LinearSVC Показывает низкую точность. Удалим его из ассамблеи "
   ]
  },
  {
   "cell_type": "code",
   "execution_count": 32,
   "metadata": {},
   "outputs": [],
   "source": [
    "del voting.estimators_[0]"
   ]
  },
  {
   "cell_type": "code",
   "execution_count": 40,
   "metadata": {},
   "outputs": [
    {
     "name": "stdout",
     "output_type": "stream",
     "text": [
      "VotingClassifier accuracy: 97.35%\n"
     ]
    }
   ],
   "source": [
    "y_pred = voting.predict(x_val)\n",
    "score = accuracy_score(y_val, y_pred) * 100\n",
    "print(\"{} accuracy: {:.4}%\".format(voting.__class__.__name__, score))"
   ]
  },
  {
   "cell_type": "markdown",
   "metadata": {},
   "source": [
    "Зря убрал LinerSVM, вернем обратно"
   ]
  },
  {
   "cell_type": "code",
   "execution_count": 52,
   "metadata": {},
   "outputs": [
    {
     "name": "stderr",
     "output_type": "stream",
     "text": [
      "/home/infodba/venv/lib/python3.6/site-packages/sklearn/svm/_base.py:947: ConvergenceWarning: Liblinear failed to converge, increase the number of iterations.\n",
      "  \"the number of iterations.\", ConvergenceWarning)\n"
     ]
    },
    {
     "name": "stdout",
     "output_type": "stream",
     "text": [
      "VotingClassifier accuracy: 97.4%\n"
     ]
    }
   ],
   "source": [
    "svc.fit(x_train, y_train)\n",
    "voting.estimators_.append(svc)\n",
    "y_pred = voting.predict(x_val)\n",
    "score = accuracy_score(y_val, y_pred) * 100\n",
    "print(\"{} accuracy: {:.4}%\".format(voting.__class__.__name__, score))"
   ]
  },
  {
   "cell_type": "markdown",
   "metadata": {},
   "source": [
    "3.2. Выведем точность для validation set для soft voting\n",
    "\n",
    "Т.к. LinerSVC (в отличие от SVC) не содержит predict_proba его придется удалить."
   ]
  },
  {
   "cell_type": "code",
   "execution_count": 55,
   "metadata": {},
   "outputs": [
    {
     "name": "stdout",
     "output_type": "stream",
     "text": [
      "RandomForestClassifier\n",
      "ExtraTreesClassifier\n"
     ]
    }
   ],
   "source": [
    "del voting.estimators_[2]"
   ]
  },
  {
   "cell_type": "code",
   "execution_count": 56,
   "metadata": {},
   "outputs": [
    {
     "name": "stdout",
     "output_type": "stream",
     "text": [
      "VotingClassifier accuracy: 97.49%\n"
     ]
    }
   ],
   "source": [
    "voting.voting = \"soft\"\n",
    "y_pred = voting.predict(x_val)\n",
    "score = accuracy_score(y_val, y_pred) * 100\n",
    "print(\"{} accuracy: {:.4}%\".format(voting.__class__.__name__, score))"
   ]
  },
  {
   "cell_type": "markdown",
   "metadata": {},
   "source": [
    "Т.о soft voting в данном случае дает лучшую точность.\n",
    "\n",
    "4. Check using test set"
   ]
  },
  {
   "cell_type": "code",
   "execution_count": 59,
   "metadata": {},
   "outputs": [
    {
     "name": "stdout",
     "output_type": "stream",
     "text": [
      "VotingClassifier accuracy: 96.98%\n"
     ]
    }
   ],
   "source": [
    "voting.voting = \"soft\"\n",
    "y_pred = voting.predict(x_test)\n",
    "score = accuracy_score(y_test, y_pred) * 100\n",
    "print(\"{} accuracy: {:.4}%\".format(voting.__class__.__name__, score))"
   ]
  },
  {
   "cell_type": "markdown",
   "metadata": {},
   "source": [
    "## task 9\n",
    "\n",
    "Run the individual classifiers from the previous exercise to make predictions on the validation set, and create a new training set with the resulting predictions: each training instance is a vector containing the set of predictions from all your classifiers for an image, and the target is the image’s class. Train a classifier on\n",
    "this new training set. Congratulations, you have just trained a blender, and together with the classifiers they form a stacking ensemble! Now let’s evaluate the ensemble on the test set. For each image in the test set, make predictions with all your classifiers, then feed the predictions to the blender to get the ensemble’s predictions. How does it compare to the voting classifier you trained earlier?\n",
    "\n",
    "**1. Возьмем классификаторы из предыдущего задания и получим от них предсказания на validation set**"
   ]
  },
  {
   "cell_type": "code",
   "execution_count": 69,
   "metadata": {},
   "outputs": [],
   "source": [
    "forest = voting.estimators_[0]\n",
    "extra  = voting.estimators_[1]"
   ]
  },
  {
   "cell_type": "code",
   "execution_count": 76,
   "metadata": {},
   "outputs": [
    {
     "name": "stdout",
     "output_type": "stream",
     "text": [
      "LinearSVC accuracy: 85.15%\n",
      "RandomForestClassifier accuracy: 97.36%\n",
      "ExtraTreesClassifier accuracy: 97.43%\n"
     ]
    }
   ],
   "source": [
    "svc_pred = svc.predict(x_val)\n",
    "score = accuracy_score(y_val, svc_pred) * 100\n",
    "print(\"{} accuracy: {:.4}%\".format(svc.__class__.__name__, score))\n",
    "\n",
    "forest_pred = forest.predict(x_val)\n",
    "score = accuracy_score(y_val, forest_pred) * 100\n",
    "print(\"{} accuracy: {:.4}%\".format(forest.__class__.__name__, score))\n",
    "\n",
    "extra_pred = extra.predict(x_val)\n",
    "score = accuracy_score(y_val, extra_pred) * 100\n",
    "print(\"{} accuracy: {:.4}%\".format(extra.__class__.__name__, score))"
   ]
  },
  {
   "cell_type": "markdown",
   "metadata": {},
   "source": [
    "**2. Создаем  новые входные данные для блендера и обучаем его.**"
   ]
  },
  {
   "cell_type": "code",
   "execution_count": 77,
   "metadata": {},
   "outputs": [],
   "source": [
    "new_x = np.c_[svc_pred, forest_pred, extra_pred]"
   ]
  },
  {
   "cell_type": "code",
   "execution_count": 80,
   "metadata": {},
   "outputs": [
    {
     "data": {
      "text/plain": [
       "SVC(C=1.0, break_ties=False, cache_size=200, class_weight=None, coef0=0.0,\n",
       "    decision_function_shape='ovr', degree=3, gamma='scale', kernel='rbf',\n",
       "    max_iter=-1, probability=False, random_state=42, shrinking=True, tol=0.001,\n",
       "    verbose=False)"
      ]
     },
     "execution_count": 80,
     "metadata": {},
     "output_type": "execute_result"
    }
   ],
   "source": [
    "blender = SVC(random_state=42)\n",
    "blender.fit(new_x, y_val)"
   ]
  },
  {
   "cell_type": "markdown",
   "metadata": {},
   "source": [
    "**3. Проверим блендер на test set**"
   ]
  },
  {
   "cell_type": "code",
   "execution_count": 84,
   "metadata": {},
   "outputs": [
    {
     "name": "stdout",
     "output_type": "stream",
     "text": [
      "Blender accuracy: 96.51%\n"
     ]
    }
   ],
   "source": [
    "x1 = svc.predict(x_test)\n",
    "x2 = forest.predict(x_test)\n",
    "x3 = extra.predict(x_test)\n",
    "\n",
    "new_x_test = np.c_[x1, x2, x3]\n",
    "y_pred = blender.predict(new_x_test)\n",
    "score = accuracy_score(y_test, y_pred) * 100\n",
    "print(\"Blender accuracy: {:.4}%\".format(score))"
   ]
  },
  {
   "cell_type": "markdown",
   "metadata": {},
   "source": [
    "Выведем результаты на test set отдельно по каждому предсказателю"
   ]
  },
  {
   "cell_type": "code",
   "execution_count": 85,
   "metadata": {},
   "outputs": [
    {
     "name": "stdout",
     "output_type": "stream",
     "text": [
      "svc accuracy: 84.38%\n",
      "forest accuracy: 96.8%\n",
      "extra accuracy: 97.03%\n"
     ]
    }
   ],
   "source": [
    "score = accuracy_score(y_test, x1) * 100\n",
    "print(\"svc accuracy: {:.4}%\".format(score))\n",
    "\n",
    "score = accuracy_score(y_test, x2) * 100\n",
    "print(\"forest accuracy: {:.4}%\".format(score))\n",
    "\n",
    "score = accuracy_score(y_test, x3) * 100\n",
    "print(\"extra accuracy: {:.4}%\".format(score))"
   ]
  },
  {
   "cell_type": "markdown",
   "metadata": {},
   "source": [
    "SVC downs the performans"
   ]
  },
  {
   "cell_type": "code",
   "execution_count": 86,
   "metadata": {},
   "outputs": [
    {
     "name": "stdout",
     "output_type": "stream",
     "text": [
      "Blender accuracy: 96.57%\n"
     ]
    }
   ],
   "source": [
    "new_x = np.c_[forest_pred, extra_pred]\n",
    "\n",
    "blender.fit(new_x, y_val)\n",
    "\n",
    "new_x_test = np.c_[x2, x3]\n",
    "y_pred = blender.predict(new_x_test)\n",
    "score = accuracy_score(y_test, y_pred) * 100\n",
    "print(\"Blender accuracy: {:.4}%\".format(score))"
   ]
  },
  {
   "cell_type": "markdown",
   "metadata": {},
   "source": [
    "По дефолту блендер дает меньшую точность чем входящие в него предсказатели 1го слоя. Без подгонки гиперпараметров метод с голосованием показал результа немного лучше.\n",
    "\n",
    "Кроме того, можно было бы построить, наверное, pipe_line который снижал необходимость в скучных вычислениях и делал бы блендер более инкапсулированным"
   ]
  },
  {
   "cell_type": "code",
   "execution_count": null,
   "metadata": {},
   "outputs": [],
   "source": []
  }
 ],
 "metadata": {
  "kernelspec": {
   "display_name": "Python 3",
   "language": "python",
   "name": "python3"
  },
  "language_info": {
   "codemirror_mode": {
    "name": "ipython",
    "version": 3
   },
   "file_extension": ".py",
   "mimetype": "text/x-python",
   "name": "python",
   "nbconvert_exporter": "python",
   "pygments_lexer": "ipython3",
   "version": "3.6.5"
  }
 },
 "nbformat": 4,
 "nbformat_minor": 4
}
