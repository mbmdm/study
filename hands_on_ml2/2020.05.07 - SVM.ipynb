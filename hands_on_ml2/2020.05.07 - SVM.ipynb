{
 "cells": [
  {
   "cell_type": "code",
   "execution_count": 1,
   "metadata": {},
   "outputs": [],
   "source": [
    "# Python ≥3.5 is required\n",
    "import sys\n",
    "assert sys.version_info >= (3, 5)\n",
    "\n",
    "# Scikit-Learn ≥0.20 is required\n",
    "import sklearn\n",
    "assert sklearn.__version__ >= \"0.20\"\n",
    "\n",
    "# Common imports\n",
    "import numpy as np\n",
    "import os\n",
    "\n",
    "# to make this notebook's output stable across runs\n",
    "np.random.seed(42)\n",
    "\n",
    "# To plot pretty figures\n",
    "%matplotlib inline\n",
    "import matplotlib as mpl\n",
    "import matplotlib.pyplot as plt\n",
    "mpl.rc('axes', labelsize=14)\n",
    "mpl.rc('xtick', labelsize=12)\n",
    "mpl.rc('ytick', labelsize=12)\n",
    "\n",
    "# Where to save the figures\n",
    "PROJECT_ROOT_DIR = \".\"\n",
    "CHAPTER_ID = \"svm\"\n",
    "IMAGES_PATH = os.path.join(PROJECT_ROOT_DIR, \"images\", CHAPTER_ID)\n",
    "os.makedirs(IMAGES_PATH, exist_ok=True)\n",
    "\n",
    "\n",
    "def plot_svc_decision_boundary(svm_clf, xmin, xmax):\n",
    "    w = svm_clf.coef_[0]\n",
    "    b = svm_clf.intercept_[0]\n",
    "\n",
    "    # At the decision boundary, w0*x0 + w1*x1 + b = 0\n",
    "    # => x1 = -w0/w1 * x0 - b/w1\n",
    "    x0 = np.linspace(xmin, xmax, 200)\n",
    "    decision_boundary = -w[0]/w[1] * x0 - b/w[1]\n",
    "\n",
    "    margin = 1/w[1]\n",
    "    gutter_up = decision_boundary + margin\n",
    "    gutter_down = decision_boundary - margin\n",
    "\n",
    "    svs = svm_clf.support_vectors_\n",
    "    plt.scatter(svs[:, 0], svs[:, 1], s=180, facecolors='#FFAAAA')\n",
    "    plt.plot(x0, decision_boundary, \"k-\", linewidth=2)\n",
    "    plt.plot(x0, gutter_up, \"k--\", linewidth=2)\n",
    "    plt.plot(x0, gutter_down, \"k--\", linewidth=2)"
   ]
  },
  {
   "cell_type": "markdown",
   "metadata": {},
   "source": [
    "# Liner SVM Classification\n",
    "\n",
    "## Пример кода на базе данных ирисов (цетков)\n",
    "\n",
    "Следует отметить, что для данной модели критично важно предварительное масштабирование данных"
   ]
  },
  {
   "cell_type": "code",
   "execution_count": 2,
   "metadata": {},
   "outputs": [
    {
     "name": "stdout",
     "output_type": "stream",
     "text": [
      "[1.] [0.]\n"
     ]
    }
   ],
   "source": [
    "import numpy as np\n",
    "from sklearn import datasets\n",
    "from sklearn.pipeline import Pipeline\n",
    "from sklearn.preprocessing import StandardScaler\n",
    "from sklearn.svm import LinearSVC\n",
    "\n",
    "iris = datasets.load_iris()\n",
    "X = iris[\"data\"][:, (2, 3)]  # petal length, petal width\n",
    "y = (iris[\"target\"] == 2).astype(np.float64)  # Iris virginica\n",
    "\n",
    "svm_clf = Pipeline([\n",
    "        (\"scaler\", StandardScaler()),\n",
    "        (\"linear_svc\", LinearSVC(C=1, loss=\"hinge\", random_state=42)),\n",
    "    ])\n",
    "\n",
    "svm_clf.fit(X, y)\n",
    "\n",
    "p1 = svm_clf.predict([[5.5, 2.5]])\n",
    "p2 = svm_clf.predict([[4.25, 1.]])\n",
    "print(p1, p2)"
   ]
  },
  {
   "cell_type": "markdown",
   "metadata": {},
   "source": [
    "## Soft Margin Classification\n",
    "\n",
    "### График на отмасштабированных данных\n",
    "\n",
    "График строится для данных после масштабирования. Цель данного кода показать как графически построить область, разделяющую несколько кластеров\n",
    "\n",
    "Следует иметь ввиду след. выражение:\n",
    "x1*w1 + x2*w2 + b = decision_function()\n",
    "при decision_function() = 0 - является границей. Если значение больше нуля, то данные классифицируются как позитивные, при меньше - как негативные (не учитываем, что границу можно изменить).\n",
    " \n",
    "Центральная линия разделяющая класстеры строится на предположении что:\n",
    "x1*w1 + x2*w2 + b = 0 (где w - весовые коэффициенты модели, b  - смещение графика)\n",
    "Таким образом след. код дает точки для построения этой линии:\n",
    "x0 = np.linspace(xmin, xmax, 200)\n",
    "decision_boundary1 = -w[0]/w[1] * x0 - b/w[1]\n",
    "\n",
    "Если при decision_function() = 1 или -1 - то это мягкая граница, после нее данные уже 100% будут определяться как данные определенного класса.\n",
    "\n",
    "Т.о. принимая ввиду, что x1*w1 + x2*w2 + b = 1 - верхня граница зоны, получаем:\n",
    "decision_boundary2 =1/w[1] - w[0]/w[1] * x0 - b/w[1]\n",
    "margin = decision_boundary2 - decision_boundary1 = 1/w[1]"
   ]
  },
  {
   "cell_type": "code",
   "execution_count": 3,
   "metadata": {},
   "outputs": [
    {
     "name": "stdout",
     "output_type": "stream",
     "text": [
      "\n"
     ]
    }
   ],
   "source": [
    "scaler = StandardScaler()\n",
    "x_scalled = scaler.fit_transform(X)\n",
    "\n",
    "svm_clf = LinearSVC(C=1, loss=\"hinge\", random_state=42)\n",
    "svm_clf.fit(x_scalled, y)\n",
    "\n",
    "print()"
   ]
  },
  {
   "cell_type": "code",
   "execution_count": 4,
   "metadata": {
    "scrolled": true
   },
   "outputs": [
    {
     "data": {
      "text/plain": [
       "[<matplotlib.lines.Line2D at 0x7f5fe5e070b8>]"
      ]
     },
     "execution_count": 4,
     "metadata": {},
     "output_type": "execute_result"
    },
    {
     "data": {
      "image/png": "[encoded data removed]",
      "text/plain": [
       "<Figure size 432x288 with 1 Axes>"
      ]
     },
     "metadata": {
      "needs_background": "light"
     },
     "output_type": "display_data"
    }
   ],
   "source": [
    "#Покажем исходные даннных (отмасштабированные)\n",
    "plt.axis([-0.5, 2.0, -0.5, 2.0])\n",
    "plt.plot(x_scalled[:, 0][y==1], x_scalled[:, 1][y==1], \"g^\")\n",
    "plt.plot(x_scalled[:, 0][y==0], x_scalled[:, 1][y==0], \"bs\")\n",
    "\n",
    "w = svm_clf.coef_[0] #весовые коэффициенты модели\n",
    "b = svm_clf.intercept_[0] #параметр смещения \n",
    "\n",
    "#построение границы изходи из формулы x1*w1 + x2*w2 + b = 0\n",
    "x0 = np.linspace(0., 1.2, 100)\n",
    "x1 = - (w[0] * x0 + b) / w[1]\n",
    "plt.plot(x0, x1, \"k-\")\n",
    "\n",
    "#построение мягких зон изходя изx1*w1 + x2*w2 + b > -1 and x1*w1 + x2*w2 + b < 1\n",
    "margin = 1 / w[1]\n",
    "x1_ = x1 + margin\n",
    "plt.plot(x0, x1_, \"r--\")\n",
    "x1_ = x1 - margin\n",
    "plt.plot(x0, x1_, \"r--\")"
   ]
  },
  {
   "cell_type": "markdown",
   "metadata": {},
   "source": [
    "### Обратное масштабирование модели\n",
    "\n",
    "https://github.com/ageron/handson-ml/issues/250\n",
    "\n",
    "A trained LinearSVC model basically computes decision_function = w1.x1 + w2.x2 + ...+ wn.xn + b, and if decision_function ≥ 0, then the instance is classified as positive, or else it's classified as negative. x1, x2, ..., xn are the scaled input features and w1, w2, ..., wn are the corresponding weights, and b is the bias term.\n",
    "\n",
    "It is important to scale the input features before training a support vector machine. That's why we use the StandardScaler. But if we want to plot the decision boundary of the trained LinearSVC on a plot whose axes show the original (unscaled) features, then we need to \"unscale\" the weights and bias term before plotting the decision boundary. In other words, once we have trained the LinearSVC, we can compute the decision function with w1.x1 + ...+ wn.xn + b, but we would like to be able to compute that same decision function as a function of the unscaled input features (let's call them x'1, x'2, ..., x'n).\n",
    "So we are looking for the \"unscaled\" weights w'1, ..., w'n and \"unscaled\" bias b' such that:\n",
    "\n",
    "decision_function = w1.x1 + w2.x2 + ...+ wn.xn + b = w'1.x'1 + w'2.x'2 + ... + w'n.x'n + b'\n",
    "\n",
    "The standard scaler computes xi = (x'i - mean)/scale, so x'i = xi.scale + mean\n",
    "\n",
    "Therefore:\n",
    "decision_function = w1.x1 + w2.x2 + ...+ wn.xn + b\n",
    "= w'1.(x1.scale + mean) + ... + w'n.(xn.scale + mean) + b'\n",
    "= w'1.scale.x1 + ... + w'n.scale.xn + w'1.mean + ... + w'n.mean + b'\n",
    "\n",
    "Looking at each input feature xi's weight, we see that: wi = w'i.scale, so w'i = wi/scale.\n",
    "Moreover, by setting x1, ..., xn to zero, we see that:\n",
    "b = w'1.mean + ... + w'n.mean + b'\n",
    "So:\n",
    "b' = - w'1.mean - ... - w'n.mean + b\n",
    "= - w1.mean/scale - ... - wn.mean/scale + b\n",
    "= decision_function(-mean/scale)\n",
    "\n",
    "\n",
    "\n"
   ]
  },
  {
   "cell_type": "code",
   "execution_count": 5,
   "metadata": {},
   "outputs": [
    {
     "data": {
      "text/plain": [
       "[<matplotlib.lines.Line2D at 0x7f5fe56bc240>]"
      ]
     },
     "execution_count": 5,
     "metadata": {},
     "output_type": "execute_result"
    },
    {
     "data": {
      "image/png": "[encoded data removed]",
      "text/plain": [
       "<Figure size 432x288 with 1 Axes>"
      ]
     },
     "metadata": {
      "needs_background": "light"
     },
     "output_type": "display_data"
    }
   ],
   "source": [
    "#покажем оригинальные данные (до масштабирования)\n",
    "plt.axis([3, 7, 0.8, 2.5])\n",
    "plt.plot(X[:, 0][y==1], X[:, 1][y==1], \"g^\")\n",
    "plt.plot(X[:, 0][y==0], X[:, 1][y==0], \"bs\")\n",
    "\n",
    "w = svm_clf.coef_[0] / scaler.scale_\n",
    "b = svm_clf.decision_function([-scaler.mean_ / scaler.scale_])\n",
    "\n",
    "#svm_clf.coef_ = np.array([w]) #revise weights into model\n",
    "#svm_clf.intercept_ = np.array([b]) #revise beis into model\n",
    "\n",
    "#аналогичные построения тем что выполнены ранее для отмасштабированных данных \n",
    "x0 = np.linspace(3.5, 6.0, 100)\n",
    "x1 = - (w[0] * x0 + b) / w[1]\n",
    "plt.plot(x0, x1, \"k-\")\n",
    "\n",
    "#построение мягких зон изходя из x1*w1 + x2*w2 + b > -1 and x1*w1 + x2*w2 + b < 1\n",
    "margin = 1 / w[1]\n",
    "x1_up = x1 + margin\n",
    "plt.plot(x0, x1_up, \"r--\")\n",
    "x1_down = x1 - margin\n",
    "plt.plot(x0, x1_down, \"r--\")"
   ]
  },
  {
   "cell_type": "markdown",
   "metadata": {},
   "source": [
    "### Support vectors\n",
    "\n",
    "Выделим данных, входящие в support vectors, поскольку по умолчанию этого не происходит"
   ]
  },
  {
   "cell_type": "code",
   "execution_count": 6,
   "metadata": {},
   "outputs": [
    {
     "data": {
      "text/plain": [
       "<matplotlib.collections.PathCollection at 0x7f5fe5642128>"
      ]
     },
     "execution_count": 6,
     "metadata": {},
     "output_type": "execute_result"
    },
    {
     "data": {
      "image/png": "[encoded data removed]",
      "text/plain": [
       "<Figure size 432x288 with 1 Axes>"
      ]
     },
     "metadata": {
      "needs_background": "light"
     },
     "output_type": "display_data"
    }
   ],
   "source": [
    "plt.axis([3, 7, 0.8, 2.5])\n",
    "plt.plot(X[:, 0][y==1], X[:, 1][y==1], \"g^\")\n",
    "plt.plot(X[:, 0][y==0], X[:, 1][y==0], \"bs\")\n",
    "plt.plot(x0, x1, \"k-\")\n",
    "plt.plot(x0, x1_up, \"r--\")\n",
    "plt.plot(x0, x1_down, \"r--\")\n",
    "\n",
    "# цель - получить объекты, которые находятся в \"мягкой\" зоне или определны неверно\n",
    "t = y * 2 - 1\n",
    "support_vectors_idx = (t * (X.dot(w) + b) < 1).ravel()\n",
    "support_vectors = X[support_vectors_idx]\n",
    "\n",
    "plt.scatter(support_vectors[:, 0], support_vectors[:, 1], s=180, facecolors='#FFAAAA')"
   ]
  },
  {
   "cell_type": "markdown",
   "metadata": {},
   "source": [
    "## Nonlinear SVM Classification"
   ]
  },
  {
   "cell_type": "code",
   "execution_count": 7,
   "metadata": {},
   "outputs": [
    {
     "data": {
      "image/png": "[encoded data removed]",
      "text/plain": [
       "<Figure size 432x288 with 1 Axes>"
      ]
     },
     "metadata": {
      "needs_background": "light"
     },
     "output_type": "display_data"
    }
   ],
   "source": [
    "from sklearn.datasets import make_moons\n",
    "X, y = make_moons(n_samples=100, noise=0.15, random_state=42)\n",
    "\n",
    "def plot_dataset(X, y, axes):\n",
    "    plt.plot(X[:, 0][y==0], X[:, 1][y==0], \"bs\")\n",
    "    plt.plot(X[:, 0][y==1], X[:, 1][y==1], \"g^\")\n",
    "    plt.axis(axes)\n",
    "    plt.grid(True, which='both')\n",
    "    plt.xlabel(r\"$x_1$\", fontsize=20)\n",
    "    plt.ylabel(r\"$x_2$\", fontsize=20, rotation=0)\n",
    "\n",
    "plot_dataset(X, y, [-1.5, 2.5, -1, 1.5])\n",
    "plt.show()"
   ]
  },
  {
   "cell_type": "code",
   "execution_count": 8,
   "metadata": {},
   "outputs": [
    {
     "data": {
      "image/png": "[encoded data removed]",
      "text/plain": [
       "<Figure size 432x288 with 1 Axes>"
      ]
     },
     "metadata": {
      "needs_background": "light"
     },
     "output_type": "display_data"
    }
   ],
   "source": [
    "from sklearn.pipeline import Pipeline\n",
    "from sklearn.preprocessing import PolynomialFeatures\n",
    "\n",
    "polynomial_svm_clf = Pipeline([\n",
    "    (\"poly_features\", PolynomialFeatures(degree=3)),\n",
    "    (\"scaler\", StandardScaler()),\n",
    "    (\"svm_clf\", LinearSVC(C=10, loss=\"hinge\", max_iter=5000))\n",
    "])\n",
    "polynomial_svm_clf.fit(X, y)\n",
    "\n",
    "plt.axis([-1.5, 2.5, -1, 1.5])\n",
    "plot_dataset(X, y, [-1.5, 2.5, -1, 1.5])\n",
    "\n",
    "x0s = np.linspace(-1.5, 2.5, 100)\n",
    "x1s = np.linspace(-1, 1.5, 100)\n",
    "x0, x1 = np.meshgrid(x0s, x1s)\n",
    "\n",
    "X_= np.c_[x0.ravel(), x1.ravel()]\n",
    "y_pred = polynomial_svm_clf.predict(X_).reshape(x0.shape)\n",
    "y_decision = polynomial_svm_clf.decision_function(X_).reshape(x0.shape)\n",
    "plt.contourf(x0, x1, y_decision, cmap=plt.cm.brg, alpha=0.1)\n",
    "plt.contourf(x0, x1, y_pred, cmap=plt.cm.brg, alpha=0.2)\n",
    "\n",
    "plt.show()"
   ]
  },
  {
   "cell_type": "markdown",
   "metadata": {},
   "source": [
    "### Polynomial Kernel \n"
   ]
  },
  {
   "cell_type": "code",
   "execution_count": 9,
   "metadata": {},
   "outputs": [
    {
     "data": {
      "image/png": "[encoded data removed]",
      "text/plain": [
       "<Figure size 432x288 with 1 Axes>"
      ]
     },
     "metadata": {
      "needs_background": "light"
     },
     "output_type": "display_data"
    }
   ],
   "source": [
    "from sklearn.svm import SVC\n",
    "\n",
    "poly_kernel_svm_clf = Pipeline([\n",
    "        (\"scaler\", StandardScaler()),\n",
    "        (\"svm_clf\", SVC(kernel=\"poly\", degree=3, coef0=1, C=5))\n",
    "    ])\n",
    "poly_kernel_svm_clf.fit(X, y)\n",
    "\n",
    "plt.axis([-1.5, 2.5, -1, 1.5])\n",
    "plot_dataset(X, y, [-1.5, 2.5, -1, 1.5])\n",
    "\n",
    "#X_, x0, x1 определены ранее\n",
    "y_pred = poly_kernel_svm_clf.predict(X_).reshape(x0.shape)\n",
    "y_decision = poly_kernel_svm_clf.decision_function(X_).reshape(x0.shape)\n",
    "plt.contourf(x0, x1, y_decision, cmap=plt.cm.brg, alpha=0.1)\n",
    "plt.contourf(x0, x1, y_pred, cmap=plt.cm.brg, alpha=0.2)\n",
    "\n",
    "plt.show()"
   ]
  },
  {
   "cell_type": "markdown",
   "metadata": {},
   "source": [
    "### Adding Similarity Features\n",
    "\n",
    "### Gaussian Radial Bias"
   ]
  },
  {
   "cell_type": "code",
   "execution_count": 10,
   "metadata": {},
   "outputs": [],
   "source": [
    "def gaussian_rbf(x, landmark, gamma):\n",
    "    return np.exp(-gamma * np.linalg.norm(x - landmark, axis=1)**2)"
   ]
  },
  {
   "cell_type": "code",
   "execution_count": 11,
   "metadata": {},
   "outputs": [
    {
     "data": {
      "text/plain": [
       "<matplotlib.contour.QuadContourSet at 0x7f5fe51a5f28>"
      ]
     },
     "execution_count": 11,
     "metadata": {},
     "output_type": "execute_result"
    },
    {
     "data": {
      "image/png": "[encoded data removed]",
      "text/plain": [
       "<Figure size 432x288 with 1 Axes>"
      ]
     },
     "metadata": {
      "needs_background": "light"
     },
     "output_type": "display_data"
    }
   ],
   "source": [
    "rbf_kernel_svm_clf = Pipeline([\n",
    "        (\"scaler\", StandardScaler()),\n",
    "        (\"svm_clf\", SVC(kernel=\"rbf\", gamma=30, C=0.0001)) # \n",
    "    ])\n",
    "rbf_kernel_svm_clf.fit(X, y)\n",
    "\n",
    "model = rbf_kernel_svm_clf #anothe name to copy-paste the code\n",
    "\n",
    "plt.axis([-1.5, 2.5, -1, 1.5])\n",
    "plot_dataset(X, y, [-1.5, 2.5, -1, 1.5])\n",
    "\n",
    "model = rbf_kernel_svm_clf\n",
    "\n",
    "#X_, x0, x1 определены ранее\n",
    "y_pred = model.predict(X_).reshape(x0.shape)\n",
    "y_decision = model.decision_function(X_).reshape(x0.shape)\n",
    "plt.contourf(x0, x1, y_decision, cmap=plt.cm.brg, alpha=0.1)\n",
    "plt.contourf(x0, x1, y_pred, cmap=plt.cm.brg, alpha=0.2)"
   ]
  },
  {
   "cell_type": "code",
   "execution_count": 12,
   "metadata": {},
   "outputs": [
    {
     "data": {
      "text/plain": [
       "<matplotlib.contour.QuadContourSet at 0x7f5fe513dcf8>"
      ]
     },
     "execution_count": 12,
     "metadata": {},
     "output_type": "execute_result"
    },
    {
     "data": {
      "image/png": "[encoded data removed]",
      "text/plain": [
       "<Figure size 432x288 with 1 Axes>"
      ]
     },
     "metadata": {
      "needs_background": "light"
     },
     "output_type": "display_data"
    }
   ],
   "source": [
    "rbf_kernel_svm_clf = Pipeline([\n",
    "        (\"scaler\", StandardScaler()),\n",
    "        (\"svm_clf\", SVC(kernel=\"poly\", degree=3, coef0=1, C=5))\n",
    "    ])\n",
    "rbf_kernel_svm_clf.fit(X, y)\n",
    "\n",
    "model = rbf_kernel_svm_clf #anothe name to copy-paste the code\n",
    "\n",
    "plt.axis([-1.5, 2.5, -1, 1.5])\n",
    "plot_dataset(X, y, [-1.5, 2.5, -1, 1.5])\n",
    "\n",
    "model = rbf_kernel_svm_clf\n",
    "\n",
    "#X_, x0, x1 определены ранее\n",
    "y_pred = model.predict(X_).reshape(x0.shape)\n",
    "y_decision = model.decision_function(X_).reshape(x0.shape)\n",
    "plt.contourf(x0, x1, y_decision, cmap=plt.cm.brg, alpha=0.1)\n",
    "plt.contourf(x0, x1, y_pred, cmap=plt.cm.brg, alpha=0.2)"
   ]
  },
  {
   "cell_type": "markdown",
   "metadata": {},
   "source": [
    "## SVM Regression"
   ]
  },
  {
   "cell_type": "code",
   "execution_count": 13,
   "metadata": {},
   "outputs": [],
   "source": [
    "np.random.seed(42)\n",
    "m = 50\n",
    "X = 2 * np.random.rand(m, 1)\n",
    "y = (4 + 3 * X + np.random.randn(m, 1)).ravel()"
   ]
  },
  {
   "cell_type": "code",
   "execution_count": 14,
   "metadata": {},
   "outputs": [
    {
     "data": {
      "text/plain": [
       "[<matplotlib.lines.Line2D at 0x7f5fe50d72e8>]"
      ]
     },
     "execution_count": 14,
     "metadata": {},
     "output_type": "execute_result"
    },
    {
     "data": {
      "image/png": "[encoded data removed]",
      "text/plain": [
       "<Figure size 432x288 with 1 Axes>"
      ]
     },
     "metadata": {
      "needs_background": "light"
     },
     "output_type": "display_data"
    }
   ],
   "source": [
    "from sklearn.svm import LinearSVR\n",
    "\n",
    "svm_reg = LinearSVR(epsilon=1.5, random_state=42)\n",
    "svm_reg.fit(X, y)\n",
    "\n",
    "x_ = np.linspace(0., 2., 100).reshape(-1,1)\n",
    "y_ = svm_reg.predict(x_)\n",
    "\n",
    "plt.scatter(X, y)\n",
    "plt.plot(x_, y_, \"r-\")\n",
    "plt.plot(x_, (y_ - svm_reg.epsilon), \"k--\")\n",
    "plt.plot(x_, (y_ + svm_reg.epsilon), \"k--\")"
   ]
  },
  {
   "cell_type": "markdown",
   "metadata": {},
   "source": [
    "полиномиальная регрессия"
   ]
  },
  {
   "cell_type": "code",
   "execution_count": 15,
   "metadata": {},
   "outputs": [],
   "source": [
    "np.random.seed(42)\n",
    "\n",
    "m = 100\n",
    "X = 2 * np.random.rand(m, 1) - 1\n",
    "y = (0.2 + 0.1 * X + 0.5 * X**2 + np.random.randn(m, 1)/10).ravel()"
   ]
  },
  {
   "cell_type": "code",
   "execution_count": 16,
   "metadata": {},
   "outputs": [
    {
     "data": {
      "text/plain": [
       "[<matplotlib.lines.Line2D at 0x7f5fe518a8d0>]"
      ]
     },
     "execution_count": 16,
     "metadata": {},
     "output_type": "execute_result"
    },
    {
     "data": {
      "image/png": "[encoded data removed]",
      "text/plain": [
       "<Figure size 432x288 with 1 Axes>"
      ]
     },
     "metadata": {
      "needs_background": "light"
     },
     "output_type": "display_data"
    }
   ],
   "source": [
    "#print(sklearn.__version__)\n",
    "\n",
    "from sklearn.svm import SVR\n",
    "\n",
    "svm_poly_reg = SVR(kernel=\"poly\", degree=2, C=100, epsilon=0.1, gamma=\"scale\")\n",
    "svm_poly_reg.fit(X, y)\n",
    "\n",
    "x_ = np.linspace(-1, 1, 102).reshape(-1,1)\n",
    "x_ = x_[1:-1]\n",
    "y_ = svm_poly_reg.predict(x_)\n",
    "\n",
    "plt.scatter(X, y)\n",
    "plt.plot(x_, y_, \"k-\")\n",
    "plt.plot(x_, (y_ - svm_poly_reg.epsilon), \"r--\")\n",
    "plt.plot(x_, (y_ + svm_poly_reg.epsilon), \"r--\")"
   ]
  },
  {
   "cell_type": "code",
   "execution_count": 17,
   "metadata": {},
   "outputs": [
    {
     "name": "stdout",
     "output_type": "stream",
     "text": [
      "[[2]\n",
      " [2]\n",
      " [2]]\n",
      "[[0]\n",
      " [1]\n",
      " [2]]\n",
      "[[6]]\n"
     ]
    }
   ],
   "source": [
    "a = np.array([2,2,2,]).reshape(-1,1)\n",
    "b = np.arange(3).reshape(-1,1)\n",
    "print(a)\n",
    "print(b)\n",
    "c = a.T.dot(b)\n",
    "print(c)"
   ]
  },
  {
   "cell_type": "markdown",
   "metadata": {},
   "source": [
    "# Solutions\n",
    "\n",
    "## 1\n",
    "\n",
    "What is the fundamental idea behind Support Vector Machines?\n",
    "\n",
    "Главная идея заключается в том, чтобы построить наиболее широкую зону, разделяющую кластеры. При мягкой зоне разделения SVM ищет компромис между шириной зоны и кол-вом объектов, попавших в мягкую зону.\n",
    "\n",
    "## 2 \n",
    "\n",
    "What is a support vector?\n",
    "\n",
    "Это точки, попадающие в зону или находящие на ее границы. Точки находящиеся за границами на решение модели не влияют: они могут быть перемещены или удалены. Только точки находящиеся в зоне и на ее границах влияют на модель.\n",
    "\n",
    "## 3\n",
    "\n",
    "Why is it important to scale the inputs when using SVMs?\n",
    "\n",
    "SVMs try to fit the largest possible “street” between the classes, so if the training set is not scaled, the SVM will tend to neglect small features\n",
    "\n",
    "## 4\n",
    "\n",
    "Can an SVM classifier output a confidence score when it classifies an instance? What about a probability?\n",
    "\n",
    "SVM возращает принадлежности к классу (значения 0 или 1) в зависимости от значения score. Это значение показывает насколько экземпляр далеко от линии разделения кластеров. Косвенно, это значение можно преобразовать в вероятность, если для всего кластера применить сигмоидную функцию.\n",
    "\n",
    "However, this score cannot be directly converted into an estimation of the class probability. If you set\n",
    "probability=True when creating an SVM in Scikit-Learn, then after training it will calibrate the probabilities using Logistic Regression on the SVM’s scores (trained by an additional five-fold cross-validation on the training data). This will add the predict_proba() and predict_log_proba() methods to the SVM.\n",
    "\n",
    "## 5\n",
    "\n",
    "Should you use the primal or the dual form of the SVM problem to train a model on a training set with millions of instances and hundreds of features?\n",
    "\n",
    "Dual form используется при количетсве фьючерсов, привышающем количество элементов данных. Т.о. необходимо использовать стандартную реализацию quadratic programming / primal problem при кол-ве данных большем, чем количество фьючерсов. Однако, dual дает возможность добавить полиномиальные фьючерсы и/или использовать смещение Гаусса для создания новых фьючерсов при этом почти не увеличивая время выполнения и необходимый объем памяти. Так что, чтобы найти золотую середину между кол-вом элементов, количеством имеющихся фьючерсов, необходимости добавления полиномных фьючерсов или фьючерсов образованных смещением Гаусса - необходимо тестировать.\n",
    "\n",
    "This question applies only to linear SVMs since kernelized can only use the dual form. The computational complexity of the primal form of the SVM problem is proportional to the number of training instances m, while the computational complexity of the dual form is proportional to a number between pow(m,2) and pow(m,3). So  if there are millions of instances, you should definitely use the primal form, because the dual form will be much too slow.\n",
    "\n",
    "## 6\n",
    "\n",
    "Say you trained an SVM classifier with an RBF kernel. It seems to underfit the training set: should you increase or decrease γ (gamma)? What about C?\n",
    "\n",
    "При недообучении следует увеличить паратр гамма потому, что при этом фукнция смещения становится уже, что уменьшает влияние одни экземпляров данных на другие, делая границы более сконцентрированными вокруг отдельных экземпляров. Насчет параметра С - при его увеличении - уменьшается кол-во экземпляров данных, нарушающих границу зоны.\n",
    "\n",
    "If an SVM classifier trained with an RBF kernel underfits the training set, there might be too much regularization. To decrease it, you need to increase gamma or C (or both).\n",
    "\n",
    "## 7\n",
    "\n",
    "How should you set the QP parameters (H, f, A, and b) to solve the soft margin linear SVM classifier problem using an off-the-shelf QP solver?\n",
    "\n",
    "Для отсчета возьмем описание для hard margin из книги. Поскольку для каждого экземпляра данных нужно вычислить значение ζ(i), то придется его добавить в весовые коэффициенты p. Т.о:\n",
    "- np = n+1+m, где имеется m дополнительных параметров и nc = 2m;\n",
    "- H дополняется нулями;\n",
    "- f дополняется гиперпараметром C m раз (поскольку размерность, относительно hard margin увеличена на m раз)\n",
    "- b дополнительные элементы зануляются\n",
    "- A имеет увеличенную размерность на m по рядов и на m строк. Справа м столбцов - единичная положительная матрица, под которой вниз на м рядов тоже единичная,но отрицательная матрица. Остальные ячейки заполняются нулями  \n",
    "\n",
    "## 8 \n",
    "\n",
    "Exercise: train a LinearSVC on a linearly separable dataset. Then train an SVC and a SGDClassifier on the same dataset. See if you can get them to produce roughly the same model.\n",
    "\n",
    "Результат достаточно близкий. Слудет отметить, что SGDClassifier при указанных ниже настройках (использование фукнции потерь ’hinge’ испльзует линейную SVM)."
   ]
  },
  {
   "cell_type": "code",
   "execution_count": 18,
   "metadata": {},
   "outputs": [
    {
     "data": {
      "image/png": "[encoded data removed]",
      "text/plain": [
       "<Figure size 432x288 with 1 Axes>"
      ]
     },
     "metadata": {
      "needs_background": "light"
     },
     "output_type": "display_data"
    }
   ],
   "source": [
    "from sklearn.utils import shuffle\n",
    "from sklearn import datasets\n",
    "from sklearn.linear_model import SGDClassifier\n",
    "\n",
    "\n",
    "def get_prepared_data():\n",
    "    iris = datasets.load_iris()\n",
    "    x = iris[\"data\"][:, (2, 3)]  # petal length, petal width\n",
    "    y = iris[\"target\"]\n",
    "    setosa_or_versicolor = (y == 0) | (y == 1)\n",
    "    x = x[setosa_or_versicolor]\n",
    "    y = y[setosa_or_versicolor]\n",
    "    scaler = StandardScaler()\n",
    "    x = scaler.fit_transform(x)\n",
    "    idx = np.arange(len(x))\n",
    "    idx = shuffle(idx)\n",
    "    return scaler, x[idx], y[idx]\n",
    "\n",
    "def plot_model_line(model, x1_, x2_, color, title):\n",
    "    x1 = -(x1_ * model.coef_[0][0] + model.intercept_[0]) / model.coef_[0][1]\n",
    "    x2 = -(x2_ * model.coef_[0][0] + model.intercept_[0]) / model.coef_[0][1]\n",
    "    plt.plot(np.array([x1_, x1]), np.array([x2_, x2]), color, label=title)\n",
    "    plt.legend(loc=\"upper center\", fontsize=12)\n",
    "    \n",
    "def plot_model_line1(model, zone, color, title):\n",
    "    x0s = np.linspace(zone[0], zone[1], 100)\n",
    "    x1s = np.linspace(zone[2], zone[3], 100)\n",
    "    x0, x1 = np.meshgrid(x0s, x1s)\n",
    "    X_= np.c_[x0.ravel(), x1.ravel()]\n",
    "    y_pred = model.decision_function(X_).reshape(x0.shape)\n",
    "    plt.contour(x0, x1, y_pred, colors=color[:1], levels=[0], linestyles=[color[1:]])\n",
    "\n",
    "scale, x, y = get_prepared_data()\n",
    "\n",
    "area = np.array([-1.5, 1.5, -1.5, 1.5])\n",
    "c=5.0\n",
    "m=len(x)\n",
    "alpha = 1/(m*c)\n",
    "\n",
    "plt.axis(area)\n",
    "plt.plot(x[y==0][:, 0], x[y==0][:, 1], \"bs\")\n",
    "plt.plot(x[y==1][:, 0], x[y==1][:, 1], \"yo\")\n",
    "\n",
    "model = LinearSVC(loss=\"hinge\", C=c, random_state=42)\n",
    "model.fit(x, y)\n",
    "plot_model_line(model, -1.5, 1.5, \"r--\", \"LinearSVC\")\n",
    "\n",
    "model = SVC(kernel='linear', C=c, random_state=42)\n",
    "model.fit(x, y)\n",
    "plot_model_line(model, -1.5, 1.5, \"k--\", \"SVC\")\n",
    "\n",
    "model = SGDClassifier(loss='hinge', alpha=alpha, max_iter=10000, n_jobs=-1, verbose=0, tol=1e-6, \n",
    "                      learning_rate='constant', eta0=0.00001, random_state=42)\n",
    "model.fit(x,y)\n",
    "plot_model_line(model, -1.5, 1.5, \"b--\", \"SGDClassifier\")\n"
   ]
  },
  {
   "cell_type": "markdown",
   "metadata": {},
   "source": [
    "## 9\n",
    "\n",
    "Train an SVM classifier on the MNIST dataset. Since SVM classifiers are binary classifiers, you will need to use one-versus-all to classify all 10 digits. You may want to tune the hyperparameters using small validation sets to speed up the process. What accuracy can you reach?\n",
    "\n",
    "Будем использовать LinearSVC потому, что этот класс по для многоклассовой классификации использует one-vs-all"
   ]
  },
  {
   "cell_type": "code",
   "execution_count": 19,
   "metadata": {},
   "outputs": [],
   "source": [
    "from sklearn.datasets import fetch_openml\n",
    "\n",
    "mnist = fetch_openml(\"mnist_784\", version=1)\n",
    "x = mnist[\"data\"]\n",
    "y = mnist[\"target\"]"
   ]
  },
  {
   "cell_type": "code",
   "execution_count": 20,
   "metadata": {},
   "outputs": [],
   "source": [
    "y_ = y.astype(np.uint8)\n",
    "x_train =  x[:60000]\n",
    "y_train = y_[:60000]\n",
    "x_test  =  x[60000:]\n",
    "y_test  = y_[60000:]"
   ]
  },
  {
   "cell_type": "code",
   "execution_count": 21,
   "metadata": {},
   "outputs": [
    {
     "name": "stderr",
     "output_type": "stream",
     "text": [
      "/home/mbm/venv/lib/python3.6/site-packages/sklearn/svm/_base.py:947: ConvergenceWarning: Liblinear failed to converge, increase the number of iterations.\n",
      "  \"the number of iterations.\", ConvergenceWarning)\n"
     ]
    },
    {
     "data": {
      "text/plain": [
       "LinearSVC(C=1.0, class_weight=None, dual=True, fit_intercept=True,\n",
       "          intercept_scaling=1, loss='squared_hinge', max_iter=1000,\n",
       "          multi_class='ovr', penalty='l2', random_state=42, tol=0.0001,\n",
       "          verbose=0)"
      ]
     },
     "execution_count": 21,
     "metadata": {},
     "output_type": "execute_result"
    }
   ],
   "source": [
    "from sklearn.metrics import accuracy_score\n",
    "\n",
    "model1 = LinearSVC(random_state=42)\n",
    "model1.fit(x_train, y_train)"
   ]
  },
  {
   "cell_type": "code",
   "execution_count": 22,
   "metadata": {},
   "outputs": [
    {
     "name": "stdout",
     "output_type": "stream",
     "text": [
      "accuracy: 87.33 %\n"
     ]
    }
   ],
   "source": [
    "predict1  = model1.predict(x_train)\n",
    "accuracy1 = accuracy_score(y_train, predict1)\n",
    "print(\"accuracy:\", accuracy1 * 100, \"%\")"
   ]
  },
  {
   "cell_type": "markdown",
   "metadata": {},
   "source": [
    "Посмотрим как изменится результат после предварительного **масштабирования** данных"
   ]
  },
  {
   "cell_type": "code",
   "execution_count": 23,
   "metadata": {},
   "outputs": [],
   "source": [
    "scale = StandardScaler()\n",
    "x_train_scaled = scale.fit_transform(x_train)\n",
    "x_test_scaled  = scale.transform(x_test)"
   ]
  },
  {
   "cell_type": "code",
   "execution_count": 24,
   "metadata": {},
   "outputs": [
    {
     "name": "stderr",
     "output_type": "stream",
     "text": [
      "/home/mbm/venv/lib/python3.6/site-packages/sklearn/svm/_base.py:947: ConvergenceWarning: Liblinear failed to converge, increase the number of iterations.\n",
      "  \"the number of iterations.\", ConvergenceWarning)\n"
     ]
    },
    {
     "data": {
      "text/plain": [
       "LinearSVC(C=1.0, class_weight=None, dual=True, fit_intercept=True,\n",
       "          intercept_scaling=1, loss='squared_hinge', max_iter=1000,\n",
       "          multi_class='ovr', penalty='l2', random_state=42, tol=0.0001,\n",
       "          verbose=0)"
      ]
     },
     "execution_count": 24,
     "metadata": {},
     "output_type": "execute_result"
    }
   ],
   "source": [
    "model2 = LinearSVC(random_state=42)\n",
    "model2.fit(x_train_scaled, y_train)"
   ]
  },
  {
   "cell_type": "code",
   "execution_count": 41,
   "metadata": {},
   "outputs": [
    {
     "name": "stdout",
     "output_type": "stream",
     "text": [
      "accuracy: 92.3%\n"
     ]
    }
   ],
   "source": [
    "predict2  = model2.predict(x_train_scaled)\n",
    "accuracy2 = accuracy_score(y_train, predict2)\n",
    "print(\"accuracy: {0:.3}%\".format(accuracy2*100))"
   ]
  },
  {
   "cell_type": "markdown",
   "metadata": {},
   "source": [
    "Попробуем добиться лучше производительности на классе SVM с использованием kernel=rbf"
   ]
  },
  {
   "cell_type": "code",
   "execution_count": 47,
   "metadata": {},
   "outputs": [
    {
     "data": {
      "text/plain": [
       "SVC(C=1.0, break_ties=False, cache_size=200, class_weight=None, coef0=0.0,\n",
       "    decision_function_shape='ovr', degree=3, gamma='scale', kernel='rbf',\n",
       "    max_iter=-1, probability=False, random_state=42, shrinking=True, tol=0.001,\n",
       "    verbose=False)"
      ]
     },
     "execution_count": 47,
     "metadata": {},
     "output_type": "execute_result"
    }
   ],
   "source": [
    "model3 = SVC(kernel=\"rbf\", random_state=42)\n",
    "model3.fit(x_train_scaled[:10000], y_train[:10000])"
   ]
  },
  {
   "cell_type": "code",
   "execution_count": 48,
   "metadata": {},
   "outputs": [
    {
     "name": "stdout",
     "output_type": "stream",
     "text": [
      "accuracy: 94.6%\n"
     ]
    }
   ],
   "source": [
    "predict3  = model3.predict(x_train_scaled)\n",
    "accuracy3 = accuracy_score(y_train, predict3)\n",
    "print(\"accuracy: {0:.3}%\".format(accuracy3*100))"
   ]
  },
  {
   "cell_type": "markdown",
   "metadata": {},
   "source": [
    "Найдем оптимальные гиперпараметры используя RandomSearchCV"
   ]
  },
  {
   "cell_type": "code",
   "execution_count": 93,
   "metadata": {},
   "outputs": [
    {
     "name": "stdout",
     "output_type": "stream",
     "text": [
      "Fitting 5 folds for each of 50 candidates, totalling 250 fits\n"
     ]
    },
    {
     "name": "stderr",
     "output_type": "stream",
     "text": [
      "[Parallel(n_jobs=-1)]: Using backend LokyBackend with 4 concurrent workers.\n",
      "[Parallel(n_jobs=-1)]: Done  33 tasks      | elapsed:  6.1min\n",
      "[Parallel(n_jobs=-1)]: Done 154 tasks      | elapsed: 27.4min\n",
      "[Parallel(n_jobs=-1)]: Done 250 out of 250 | elapsed: 43.5min finished\n"
     ]
    },
    {
     "data": {
      "text/plain": [
       "RandomizedSearchCV(cv=5, error_score=nan,\n",
       "                   estimator=SVC(C=1.0, break_ties=False, cache_size=200,\n",
       "                                 class_weight=None, coef0=0.0,\n",
       "                                 decision_function_shape='ovr', degree=3,\n",
       "                                 gamma='scale', kernel='rbf', max_iter=-1,\n",
       "                                 probability=False, random_state=42,\n",
       "                                 shrinking=True, tol=0.001, verbose=False),\n",
       "                   iid='deprecated', n_iter=50, n_jobs=-1,\n",
       "                   param_distributions={'C': <scipy.stats._distn_infrastructure.rv_frozen object at 0x7f5fddf00c50>,\n",
       "                                        'gamma': <scipy.stats._distn_infrastructure.rv_frozen object at 0x7f5fddf00f98>},\n",
       "                   pre_dispatch='2*n_jobs', random_state=42, refit=True,\n",
       "                   return_train_score=True, scoring=None, verbose=2)"
      ]
     },
     "execution_count": 93,
     "metadata": {},
     "output_type": "execute_result"
    }
   ],
   "source": [
    "from scipy.stats import uniform, reciprocal\n",
    "from sklearn.model_selection import RandomizedSearchCV\n",
    "\n",
    "param_distr = {\"gamma\": reciprocal(0.0000001, 1), \"C\": uniform(0.1, 20)}\n",
    "search_cv = RandomizedSearchCV(model3, param_distr, n_iter=50, cv=5, n_jobs=-1,\n",
    "                               verbose=2,random_state=42, return_train_score=True)\n",
    "search_cv.fit(x_train_scaled[:3000], y_train[:3000])"
   ]
  },
  {
   "cell_type": "code",
   "execution_count": 95,
   "metadata": {},
   "outputs": [
    {
     "name": "stdout",
     "output_type": "stream",
     "text": [
      "SVC(C=6.184844859190754, break_ties=False, cache_size=200, class_weight=None,\n",
      "    coef0=0.0, decision_function_shape='ovr', degree=3,\n",
      "    gamma=0.0004712973756110781, kernel='rbf', max_iter=-1, probability=False,\n",
      "    random_state=42, shrinking=True, tol=0.001, verbose=False)\n",
      "accuracy: 91.8%\n"
     ]
    }
   ],
   "source": [
    "print(search_cv.best_estimator_)\n",
    "print(\"accuracy: {0:.3}%\".format(search_cv.best_score_*100))"
   ]
  },
  {
   "cell_type": "markdown",
   "metadata": {},
   "source": [
    "Снова обучим SVC с полученными гиперпараметрами"
   ]
  },
  {
   "cell_type": "code",
   "execution_count": 103,
   "metadata": {},
   "outputs": [
    {
     "data": {
      "text/plain": [
       "SVC(C=6.184844859190754, break_ties=False, cache_size=200, class_weight=None,\n",
       "    coef0=0.0, decision_function_shape='ovr', degree=3,\n",
       "    gamma=0.0004712973756110781, kernel='rbf', max_iter=-1, probability=False,\n",
       "    random_state=42, shrinking=True, tol=0.001, verbose=False)"
      ]
     },
     "execution_count": 103,
     "metadata": {},
     "output_type": "execute_result"
    }
   ],
   "source": [
    "c_, gamma_ = search_cv.best_estimator_.C, search_cv.best_estimator_.gamma\n",
    "\n",
    "model4 = SVC(kernel=\"rbf\", random_state=42, C=c_, gamma=gamma_)\n",
    "model4.fit(x_train_scaled[:10000], y_train[:10000])"
   ]
  },
  {
   "cell_type": "code",
   "execution_count": 104,
   "metadata": {},
   "outputs": [
    {
     "name": "stdout",
     "output_type": "stream",
     "text": [
      "accuracy: 95.0%\n"
     ]
    }
   ],
   "source": [
    "predict4  = model4.predict(x_train_scaled)\n",
    "accurac4 = accuracy_score(y_train, predict4)\n",
    "print(\"accuracy: {0:.3}%\".format(accurac4*100))"
   ]
  },
  {
   "cell_type": "markdown",
   "metadata": {},
   "source": [
    "Ха-ха... всего на 0.4% больше чем до использования RandomizedSearchCV.\n",
    "Попробуем обучить модель на всех данных."
   ]
  },
  {
   "cell_type": "code",
   "execution_count": 106,
   "metadata": {},
   "outputs": [
    {
     "data": {
      "text/plain": [
       "SVC(C=6.184844859190754, break_ties=False, cache_size=200, class_weight=None,\n",
       "    coef0=0.0, decision_function_shape='ovr', degree=3,\n",
       "    gamma=0.0004712973756110781, kernel='rbf', max_iter=-1, probability=False,\n",
       "    random_state=42, shrinking=True, tol=0.001, verbose=False)"
      ]
     },
     "execution_count": 106,
     "metadata": {},
     "output_type": "execute_result"
    }
   ],
   "source": [
    "model5 = SVC(kernel=\"rbf\", random_state=42, C=c_, gamma=gamma_)\n",
    "model5.fit(x_train_scaled, y_train)"
   ]
  },
  {
   "cell_type": "code",
   "execution_count": 107,
   "metadata": {},
   "outputs": [
    {
     "name": "stdout",
     "output_type": "stream",
     "text": [
      "accuracy on train set: 98.7%\n"
     ]
    }
   ],
   "source": [
    "predict5  = model5.predict(x_train_scaled)\n",
    "accurac5  = accuracy_score(y_train, predict5)\n",
    "print(\"accuracy on train set: {0:.3}%\".format(accurac5*100))"
   ]
  },
  {
   "cell_type": "code",
   "execution_count": 108,
   "metadata": {},
   "outputs": [
    {
     "name": "stdout",
     "output_type": "stream",
     "text": [
      "accuracy on test set: 96.8%\n"
     ]
    }
   ],
   "source": [
    "predict5_test  = model5.predict(x_test_scaled)\n",
    "accurac5_test  = accuracy_score(y_test, predict5_test)\n",
    "print(\"accuracy on test set: {0:.3}%\".format(accurac5_test*100))"
   ]
  },
  {
   "cell_type": "markdown",
   "metadata": {},
   "source": [
    "Результат показывает что модель немного переобучена на обучающем наборе. Решение - запустить поиск параметров на большем размере данных, с большим значением n_iter и т.п.\n",
    "\n",
    "## 10 \n",
    "\n",
    "Train an SVM regressor on the California housing dataset.\n",
    "\n",
    "### Подготовим данные для обучения и тестирования"
   ]
  },
  {
   "cell_type": "code",
   "execution_count": 151,
   "metadata": {},
   "outputs": [],
   "source": [
    "from sklearn.datasets import fetch_california_housing\n",
    "\n",
    "housing = fetch_california_housing()\n",
    "housing_x = housing[\"data\"]\n",
    "housing_y = housing[\"target\"]"
   ]
  },
  {
   "cell_type": "markdown",
   "metadata": {},
   "source": [
    "Подготовим данные для наборов обучения и тестирования"
   ]
  },
  {
   "cell_type": "code",
   "execution_count": 155,
   "metadata": {},
   "outputs": [],
   "source": [
    "import numpy as np\n",
    "from sklearn.utils import shuffle\n",
    "from sklearn.model_selection import train_test_split\n",
    "from sklearn.preprocessing import StandardScaler\n",
    "from sklearn.metrics import mean_squared_error\n",
    "\n",
    "idx = np.arange(len(housing_x))\n",
    "idx = shuffle(idx)\n",
    "\n",
    "x_ = housing_x[idx]\n",
    "y_ = housing_y[idx]\n",
    "\n",
    "x_train, x_test, y_train, y_test = train_test_split(x_, y_, test_size=0.2, random_state=42)\n",
    "\n",
    "scaler = StandardScaler()\n",
    "\n",
    "x_train = scaler.fit_transform(x_train)\n",
    "x_test  = scaler.transform(x_test)\n",
    "\n",
    "def print_errors(model):\n",
    "    y_train_pred = model.predict(x_train)\n",
    "    y_test_pred  = model.predict(x_test)\n",
    "    train_err = mean_squared_error(y_train, y_train_pred)\n",
    "    test_err  = mean_squared_error(y_test,  y_test_pred)\n",
    "    print(\"train mean squared error:\", train_err)\n",
    "    print(\"test  mean squared error:\", test_err)"
   ]
  },
  {
   "cell_type": "markdown",
   "metadata": {},
   "source": [
    "### LinearSVR (по умолчанию)"
   ]
  },
  {
   "cell_type": "code",
   "execution_count": 178,
   "metadata": {},
   "outputs": [
    {
     "name": "stdout",
     "output_type": "stream",
     "text": [
      "train mean squared error: 0.9298948701407039\n",
      "test  mean squared error: 0.4991822554463714\n"
     ]
    }
   ],
   "source": [
    "from sklearn.svm import LinearSVR\n",
    "\n",
    "svr1 = LinearSVR(random_state=42, max_iter=5000)\n",
    "svr1.fit(x_train, y_train)\n",
    "\n",
    "print_errors(svr1)"
   ]
  },
  {
   "cell_type": "markdown",
   "metadata": {},
   "source": [
    "### SVR (по умолчанию)"
   ]
  },
  {
   "cell_type": "code",
   "execution_count": 159,
   "metadata": {
    "scrolled": true
   },
   "outputs": [
    {
     "name": "stdout",
     "output_type": "stream",
     "text": [
      "train mean squared error: 0.34078372161433435\n",
      "test  mean squared error: 0.33908104130110944\n"
     ]
    }
   ],
   "source": [
    "from sklearn.svm import SVR\n",
    "\n",
    "svr2 = SVR()\n",
    "svr2.fit(x_train, y_train)\n",
    "\n",
    "print_errors(svr2)"
   ]
  },
  {
   "cell_type": "markdown",
   "metadata": {},
   "source": [
    "Полученная ошибка существенно меньше чем при использовании LinearSVR. Т.о. ошибка в последней модели порядка 3400$. Попробуем ее уменьшить выполнив поиск оптимальных гиперпараметров для послденей модели.\n",
    "\n",
    "### Поиск гиперпараметров для SVR"
   ]
  },
  {
   "cell_type": "code",
   "execution_count": 137,
   "metadata": {},
   "outputs": [
    {
     "name": "stdout",
     "output_type": "stream",
     "text": [
      "Fitting 3 folds for each of 10 candidates, totalling 30 fits\n"
     ]
    },
    {
     "name": "stderr",
     "output_type": "stream",
     "text": [
      "[Parallel(n_jobs=-1)]: Using backend LokyBackend with 4 concurrent workers.\n",
      "[Parallel(n_jobs=-1)]: Done  30 out of  30 | elapsed:  2.5min finished\n"
     ]
    },
    {
     "data": {
      "text/plain": [
       "RandomizedSearchCV(cv=3, error_score=nan,\n",
       "                   estimator=SVR(C=1.0, cache_size=200, coef0=0.0, degree=3,\n",
       "                                 epsilon=0.1, gamma='scale', kernel='rbf',\n",
       "                                 max_iter=-1, shrinking=True, tol=0.001,\n",
       "                                 verbose=False),\n",
       "                   iid='deprecated', n_iter=10, n_jobs=-1,\n",
       "                   param_distributions={'C': <scipy.stats._distn_infrastructure.rv_frozen object at 0x7f8c9251f5f8>},\n",
       "                   pre_dispatch='2*n_jobs', random_state=42, refit=True,\n",
       "                   return_train_score=False, scoring=None, verbose=2)"
      ]
     },
     "execution_count": 137,
     "metadata": {},
     "output_type": "execute_result"
    }
   ],
   "source": [
    "from scipy.stats import uniform, randint,reciprocal\n",
    "from sklearn.model_selection import RandomizedSearchCV\n",
    "\n",
    "#param_distr = [{\"gamma\": reciprocal(0.0001, 0.1), \"C\": uniform(0.1, 5)},\n",
    "#               {\"kernel\": ['poly'], \"degree\": randint(2, 6), \"C\": uniform(0.1, 5)}]\n",
    "\n",
    "param_distr = {\"C\": uniform(0.1, 2)} #\"gamma\": reciprocal(0.000001, 0.01)\n",
    "search_cv = RandomizedSearchCV(SVR(), param_distr, n_iter=10, cv=3, \n",
    "                               n_jobs=-1, verbose=2,random_state=42)\n",
    "search_cv.fit(x_train, y_train)"
   ]
  },
  {
   "cell_type": "code",
   "execution_count": 138,
   "metadata": {},
   "outputs": [
    {
     "name": "stdout",
     "output_type": "stream",
     "text": [
      "SVR(C=2.0014286128198324, cache_size=200, coef0=0.0, degree=3, epsilon=0.1,\n",
      "    gamma='scale', kernel='rbf', max_iter=-1, shrinking=True, tol=0.001,\n",
      "    verbose=False)\n"
     ]
    }
   ],
   "source": [
    "search_cv.best_estimator_\n",
    "best_svr = search_cv.best_estimator_\n",
    "print(best_svr)"
   ]
  },
  {
   "cell_type": "code",
   "execution_count": 139,
   "metadata": {},
   "outputs": [
    {
     "name": "stdout",
     "output_type": "stream",
     "text": [
      "train mean squared error: 0.3251736007180618\n",
      "test  mean squared error: 0.33147241993532217\n"
     ]
    }
   ],
   "source": [
    "best_svr.fit(x_train, y_train)\n",
    "print_errors(best_svr)"
   ]
  }
 ],
 "metadata": {
  "kernelspec": {
   "display_name": "Python 3",
   "language": "python",
   "name": "python3"
  },
  "language_info": {
   "codemirror_mode": {
    "name": "ipython",
    "version": 3
   },
   "file_extension": ".py",
   "mimetype": "text/x-python",
   "name": "python",
   "nbconvert_exporter": "python",
   "pygments_lexer": "ipython3",
   "version": "3.6.9"
  }
 },
 "nbformat": 4,
 "nbformat_minor": 4
}
