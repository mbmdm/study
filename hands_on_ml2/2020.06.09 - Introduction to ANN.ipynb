{
 "cells": [
  {
   "cell_type": "code",
   "execution_count": 15,
   "metadata": {},
   "outputs": [],
   "source": [
    "# Python ≥3.5 is required\n",
    "import sys\n",
    "assert sys.version_info >= (3, 5)\n",
    "\n",
    "# Scikit-Learn ≥0.20 is required\n",
    "import sklearn\n",
    "assert sklearn.__version__ >= \"0.20\"\n",
    "\n",
    "try:\n",
    "    # %tensorflow_version only exists in Colab.\n",
    "    %tensorflow_version 2.x\n",
    "except Exception:\n",
    "    pass\n",
    "\n",
    "# TensorFlow ≥2.0 is required\n",
    "import tensorflow as tf\n",
    "assert tf.__version__ >= \"2.0\"\n",
    "\n",
    "# Common imports\n",
    "import numpy as np\n",
    "import os\n",
    "\n",
    "# to make this notebook's output stable across runs\n",
    "np.random.seed(42)\n",
    "\n",
    "# To plot pretty figures\n",
    "%matplotlib inline\n",
    "import matplotlib as mpl\n",
    "import matplotlib.pyplot as plt\n",
    "mpl.rc('axes', labelsize=14)\n",
    "mpl.rc('xtick', labelsize=12)\n",
    "mpl.rc('ytick', labelsize=12)\n",
    "\n",
    "# Where to save the figures\n",
    "PROJECT_ROOT_DIR = \".\"\n",
    "CHAPTER_ID = \"ann\"\n",
    "IMAGES_PATH = os.path.join(PROJECT_ROOT_DIR, \"images\", CHAPTER_ID)\n",
    "os.makedirs(IMAGES_PATH, exist_ok=True)\n",
    "\n",
    "def save_fig(fig_id, tight_layout=True, fig_extension=\"png\", resolution=300):\n",
    "    path = os.path.join(IMAGES_PATH, fig_id + \".\" + fig_extension)\n",
    "    print(\"Saving figure\", fig_id)\n",
    "    if tight_layout:\n",
    "        plt.tight_layout()\n",
    "    plt.savefig(path, format=fig_extension, dpi=resolution)\n",
    "\n",
    "# Ignore useless warnings (see SciPy issue #5998)\n",
    "import warnings\n",
    "warnings.filterwarnings(action=\"ignore\", message=\"^internal gelsd\")"
   ]
  },
  {
   "cell_type": "code",
   "execution_count": 16,
   "metadata": {},
   "outputs": [],
   "source": [
    "import numpy as np\n",
    "from sklearn.datasets import load_iris\n",
    "from sklearn.linear_model import Perceptron\n",
    "import tensorflow as tf\n",
    "from tensorflow import keras"
   ]
  },
  {
   "cell_type": "markdown",
   "metadata": {},
   "source": [
    "# Perceptrons"
   ]
  },
  {
   "cell_type": "code",
   "execution_count": 3,
   "metadata": {},
   "outputs": [
    {
     "data": {
      "text/plain": [
       "array([1])"
      ]
     },
     "execution_count": 3,
     "metadata": {},
     "output_type": "execute_result"
    }
   ],
   "source": [
    "iris = load_iris()\n",
    "x = iris.data[:, (2, 3)]  # petal length, petal width\n",
    "y = (iris.target == 0).astype(np.int)\n",
    "\n",
    "per_clf = Perceptron(random_state=42)\n",
    "per_clf.fit(x, y)\n",
    "\n",
    "y_pred = per_clf.predict([[2, 0.5]])\n",
    "y_pred"
   ]
  },
  {
   "cell_type": "code",
   "execution_count": 4,
   "metadata": {},
   "outputs": [
    {
     "data": {
      "image/png": "[encoded data removed]",
      "text/plain": [
       "<Figure size 432x288 with 1 Axes>"
      ]
     },
     "metadata": {
      "needs_background": "light"
     },
     "output_type": "display_data"
    }
   ],
   "source": [
    "plt.scatter(x[y==0][:, 0], x[y==0][:, 1], c='r')\n",
    "plt.scatter(x[y==1][:, 0], x[y==1][:, 1], c='b')\n",
    "\n",
    "xx = np.linspace(np.min(x[:, 0]), np.max(np.max(x[:, 0])), 100)\n",
    "yy = np.linspace(np.min(x[:, 1]), np.max(np.max(x[:, 1])), 100)\n",
    "\n",
    "xs, ys = np.meshgrid(xx, yy)\n",
    "x_new = np.c_[xs.ravel(), ys.ravel()]\n",
    "y_new = per_clf.predict(x_new).reshape(xs.shape)\n",
    "\n",
    "plt.contourf(xs, ys, y_new, cmap=plt.cm.brg, alpha=0.3)\n",
    "plt.show()"
   ]
  },
  {
   "cell_type": "markdown",
   "metadata": {},
   "source": [
    "# Implementing MLPs with Keras"
   ]
  },
  {
   "cell_type": "code",
   "execution_count": 5,
   "metadata": {},
   "outputs": [
    {
     "data": {
      "text/plain": [
       "('tensorflow', '2.1.0', 'keras', '2.2.4-tf')"
      ]
     },
     "execution_count": 5,
     "metadata": {},
     "output_type": "execute_result"
    }
   ],
   "source": [
    "import tensorflow as tf\n",
    "from tensorflow import keras\n",
    "\n",
    "'tensorflow', tf.__version__, 'keras', keras.__version__"
   ]
  },
  {
   "cell_type": "markdown",
   "metadata": {},
   "source": [
    "### Image Classifier  "
   ]
  },
  {
   "cell_type": "code",
   "execution_count": 6,
   "metadata": {},
   "outputs": [],
   "source": [
    "fashion_mnist = keras.datasets.fashion_mnist\n",
    "\n",
    "(X_train_full, y_train_full), (X_test, y_test) = fashion_mnist.load_data()"
   ]
  },
  {
   "cell_type": "code",
   "execution_count": 7,
   "metadata": {},
   "outputs": [],
   "source": [
    "#try shufling dataset to inprove learning rate\n",
    "idx = np.arange(len(X_train_full))\n",
    "X_train_full = X_train_full[idx]\n",
    "y_train_full = y_train_full[idx]"
   ]
  },
  {
   "cell_type": "code",
   "execution_count": 8,
   "metadata": {},
   "outputs": [
    {
     "data": {
      "text/plain": [
       "((60000, 28, 28), dtype('uint8'))"
      ]
     },
     "execution_count": 8,
     "metadata": {},
     "output_type": "execute_result"
    }
   ],
   "source": [
    "X_train_full.shape, X_train_full.dtype"
   ]
  },
  {
   "cell_type": "code",
   "execution_count": 9,
   "metadata": {},
   "outputs": [],
   "source": [
    "X_train, y_train = X_train_full[:50000] / 255., y_train_full[:50000]\n",
    "X_valid, y_valid = X_train_full[50000:] / 255., y_train_full[50000:]\n",
    "X_test = X_test / 255."
   ]
  },
  {
   "cell_type": "code",
   "execution_count": 10,
   "metadata": {},
   "outputs": [],
   "source": [
    "class_names = [\"T-shirt/top\", \"Trouser\", \"Pullover\", \"Dress\", \"Coat\",\n",
    "               \"Sandal\", \"Shirt\", \"Sneaker\", \"Bag\", \"Ankle boot\"]"
   ]
  },
  {
   "cell_type": "code",
   "execution_count": 11,
   "metadata": {},
   "outputs": [],
   "source": [
    "def plot_mnist(data, labels, n_cols=5):\n",
    "    n_rows = (len(data) - 1) // n_cols + 1\n",
    "    plt.figure(figsize=(1.5*n_cols, 1.5*n_rows))\n",
    "    for index, (face, label) in enumerate(zip(data, labels)):\n",
    "        plt.subplot(n_rows, n_cols, index + 1)\n",
    "        plt.imshow(face, cmap=\"gray\")\n",
    "        plt.axis(\"off\")\n",
    "        plt.title(class_names[label])\n",
    "    plt.show()"
   ]
  },
  {
   "cell_type": "code",
   "execution_count": 12,
   "metadata": {},
   "outputs": [
    {
     "data": {
      "image/png": "[encoded data removed]",
      "text/plain": [
       "<Figure size 1080x216 with 20 Axes>"
      ]
     },
     "metadata": {
      "needs_background": "light"
     },
     "output_type": "display_data"
    }
   ],
   "source": [
    "plot_mnist(X_train_full[:20], y_train_full[:20], 10)"
   ]
  },
  {
   "cell_type": "markdown",
   "metadata": {},
   "source": [
    "**review Sequential API**\n",
    "\n",
    "Нейросеть с 2я скрытыми слоями"
   ]
  },
  {
   "cell_type": "code",
   "execution_count": 13,
   "metadata": {},
   "outputs": [],
   "source": [
    "model = keras.models.Sequential()\n",
    "\n",
    "model.add(keras.layers.Flatten(input_shape=[28, 28]))\n",
    "model.add(keras.layers.Dense(300, activation=\"relu\"))\n",
    "model.add(keras.layers.Dense(100, activation=\"relu\"))\n",
    "model.add(keras.layers.Dense(10, activation=\"softmax\"))"
   ]
  },
  {
   "cell_type": "markdown",
   "metadata": {},
   "source": [
    "layers can be added this way"
   ]
  },
  {
   "cell_type": "code",
   "execution_count": 14,
   "metadata": {},
   "outputs": [],
   "source": [
    "keras.backend.clear_session()\n",
    "np.random.seed(42)\n",
    "tf.random.set_seed(42)"
   ]
  },
  {
   "cell_type": "code",
   "execution_count": 15,
   "metadata": {},
   "outputs": [],
   "source": [
    "model = keras.models.Sequential([\n",
    "    keras.layers.Flatten(input_shape=[28, 28]),\n",
    "    keras.layers.Dense(300, activation=\"relu\"),\n",
    "    keras.layers.Dense(100, activation=\"relu\"),\n",
    "    keras.layers.Dense(10, activation=\"softmax\")\n",
    "])"
   ]
  },
  {
   "cell_type": "code",
   "execution_count": 16,
   "metadata": {
    "scrolled": true
   },
   "outputs": [
    {
     "name": "stdout",
     "output_type": "stream",
     "text": [
      "Model: \"sequential\"\n",
      "_________________________________________________________________\n",
      "Layer (type)                 Output Shape              Param #   \n",
      "=================================================================\n",
      "flatten (Flatten)            (None, 784)               0         \n",
      "_________________________________________________________________\n",
      "dense (Dense)                (None, 300)               235500    \n",
      "_________________________________________________________________\n",
      "dense_1 (Dense)              (None, 100)               30100     \n",
      "_________________________________________________________________\n",
      "dense_2 (Dense)              (None, 10)                1010      \n",
      "=================================================================\n",
      "Total params: 266,610\n",
      "Trainable params: 266,610\n",
      "Non-trainable params: 0\n",
      "_________________________________________________________________\n"
     ]
    }
   ],
   "source": [
    "model.summary()"
   ]
  },
  {
   "cell_type": "code",
   "execution_count": 17,
   "metadata": {},
   "outputs": [
    {
     "data": {
      "text/plain": [
       "[<tensorflow.python.keras.layers.core.Flatten at 0x7f892b80e6a0>,\n",
       " <tensorflow.python.keras.layers.core.Dense at 0x7f892b80e7b8>,\n",
       " <tensorflow.python.keras.layers.core.Dense at 0x7f892b80e9b0>,\n",
       " <tensorflow.python.keras.layers.core.Dense at 0x7f892b80eba8>]"
      ]
     },
     "execution_count": 17,
     "metadata": {},
     "output_type": "execute_result"
    }
   ],
   "source": [
    "model.layers"
   ]
  },
  {
   "cell_type": "code",
   "execution_count": 18,
   "metadata": {},
   "outputs": [
    {
     "data": {
      "text/plain": [
       "'dense'"
      ]
     },
     "execution_count": 18,
     "metadata": {},
     "output_type": "execute_result"
    }
   ],
   "source": [
    "model.layers[1].name"
   ]
  },
  {
   "cell_type": "code",
   "execution_count": 19,
   "metadata": {},
   "outputs": [
    {
     "data": {
      "text/plain": [
       "'dense_2'"
      ]
     },
     "execution_count": 19,
     "metadata": {},
     "output_type": "execute_result"
    }
   ],
   "source": [
    "model.get_layer('dense_2').name"
   ]
  },
  {
   "cell_type": "code",
   "execution_count": 20,
   "metadata": {},
   "outputs": [],
   "source": [
    "weights, biases = model.get_layer('dense_2').get_weights()"
   ]
  },
  {
   "cell_type": "code",
   "execution_count": 21,
   "metadata": {},
   "outputs": [
    {
     "name": "stdout",
     "output_type": "stream",
     "text": [
      "(100, 10)\n",
      "(10,)\n"
     ]
    }
   ],
   "source": [
    "print(weights.shape)\n",
    "print(biases.shape)"
   ]
  },
  {
   "cell_type": "markdown",
   "metadata": {},
   "source": [
    "**compile and learn**"
   ]
  },
  {
   "cell_type": "code",
   "execution_count": 22,
   "metadata": {},
   "outputs": [],
   "source": [
    "model.compile(loss=\"sparse_categorical_crossentropy\",\n",
    "              optimizer=\"sgd\", metrics=[\"accuracy\"])"
   ]
  },
  {
   "cell_type": "code",
   "execution_count": 23,
   "metadata": {},
   "outputs": [
    {
     "name": "stdout",
     "output_type": "stream",
     "text": [
      "Train on 50000 samples, validate on 10000 samples\n",
      "Epoch 1/30\n",
      "50000/50000 [==============================] - 10s 207us/sample - loss: 0.7375 - accuracy: 0.7602 - val_loss: 0.5185 - val_accuracy: 0.8245\n",
      "Epoch 2/30\n",
      "50000/50000 [==============================] - 12s 246us/sample - loss: 0.4899 - accuracy: 0.8312 - val_loss: 0.5004 - val_accuracy: 0.8285\n",
      "Epoch 3/30\n",
      "50000/50000 [==============================] - 10s 203us/sample - loss: 0.4462 - accuracy: 0.8438 - val_loss: 0.4424 - val_accuracy: 0.8448\n",
      "Epoch 4/30\n",
      "50000/50000 [==============================] - 10s 191us/sample - loss: 0.4178 - accuracy: 0.8547 - val_loss: 0.4358 - val_accuracy: 0.8469\n",
      "Epoch 5/30\n",
      "50000/50000 [==============================] - 9s 183us/sample - loss: 0.3997 - accuracy: 0.8603 - val_loss: 0.4411 - val_accuracy: 0.8446\n",
      "Epoch 6/30\n",
      "50000/50000 [==============================] - 9s 177us/sample - loss: 0.3813 - accuracy: 0.8659 - val_loss: 0.3888 - val_accuracy: 0.8635\n",
      "Epoch 7/30\n",
      "50000/50000 [==============================] - 9s 182us/sample - loss: 0.3680 - accuracy: 0.8692 - val_loss: 0.3844 - val_accuracy: 0.8645\n",
      "Epoch 8/30\n",
      "50000/50000 [==============================] - 10s 199us/sample - loss: 0.3549 - accuracy: 0.8752 - val_loss: 0.3817 - val_accuracy: 0.8646\n",
      "Epoch 9/30\n",
      "50000/50000 [==============================] - 10s 193us/sample - loss: 0.3453 - accuracy: 0.8779 - val_loss: 0.3826 - val_accuracy: 0.8652\n",
      "Epoch 10/30\n",
      "50000/50000 [==============================] - 10s 192us/sample - loss: 0.3365 - accuracy: 0.8792 - val_loss: 0.3546 - val_accuracy: 0.8763\n",
      "Epoch 11/30\n",
      "50000/50000 [==============================] - 10s 192us/sample - loss: 0.3280 - accuracy: 0.8823 - val_loss: 0.3703 - val_accuracy: 0.8700\n",
      "Epoch 12/30\n",
      "50000/50000 [==============================] - 10s 199us/sample - loss: 0.3200 - accuracy: 0.8862 - val_loss: 0.3622 - val_accuracy: 0.8720\n",
      "Epoch 13/30\n",
      "50000/50000 [==============================] - 10s 203us/sample - loss: 0.3117 - accuracy: 0.8883 - val_loss: 0.3653 - val_accuracy: 0.8702\n",
      "Epoch 14/30\n",
      "50000/50000 [==============================] - 10s 194us/sample - loss: 0.3047 - accuracy: 0.8908 - val_loss: 0.3434 - val_accuracy: 0.8775\n",
      "Epoch 15/30\n",
      "50000/50000 [==============================] - 10s 196us/sample - loss: 0.2991 - accuracy: 0.8919 - val_loss: 0.3519 - val_accuracy: 0.8765\n",
      "Epoch 16/30\n",
      "50000/50000 [==============================] - 10s 194us/sample - loss: 0.2918 - accuracy: 0.8947 - val_loss: 0.3554 - val_accuracy: 0.8721\n",
      "Epoch 17/30\n",
      "50000/50000 [==============================] - 10s 194us/sample - loss: 0.2858 - accuracy: 0.8976 - val_loss: 0.3354 - val_accuracy: 0.8802\n",
      "Epoch 18/30\n",
      "50000/50000 [==============================] - 10s 191us/sample - loss: 0.2795 - accuracy: 0.8987 - val_loss: 0.3298 - val_accuracy: 0.8838\n",
      "Epoch 19/30\n",
      "50000/50000 [==============================] - 10s 191us/sample - loss: 0.2750 - accuracy: 0.9017 - val_loss: 0.3326 - val_accuracy: 0.8812\n",
      "Epoch 20/30\n",
      "50000/50000 [==============================] - 10s 193us/sample - loss: 0.2704 - accuracy: 0.9026 - val_loss: 0.3290 - val_accuracy: 0.8804\n",
      "Epoch 21/30\n",
      "50000/50000 [==============================] - 10s 193us/sample - loss: 0.2650 - accuracy: 0.9061 - val_loss: 0.3201 - val_accuracy: 0.8843\n",
      "Epoch 22/30\n",
      "50000/50000 [==============================] - 10s 192us/sample - loss: 0.2601 - accuracy: 0.9072 - val_loss: 0.3401 - val_accuracy: 0.8805\n",
      "Epoch 23/30\n",
      "50000/50000 [==============================] - 9s 190us/sample - loss: 0.2556 - accuracy: 0.9084 - val_loss: 0.3252 - val_accuracy: 0.8840\n",
      "Epoch 24/30\n",
      "50000/50000 [==============================] - 10s 191us/sample - loss: 0.2505 - accuracy: 0.9118 - val_loss: 0.3157 - val_accuracy: 0.8868\n",
      "Epoch 25/30\n",
      "50000/50000 [==============================] - 10s 191us/sample - loss: 0.2476 - accuracy: 0.9107 - val_loss: 0.3309 - val_accuracy: 0.8825\n",
      "Epoch 26/30\n",
      "50000/50000 [==============================] - 10s 193us/sample - loss: 0.2425 - accuracy: 0.9127 - val_loss: 0.3851 - val_accuracy: 0.8660\n",
      "Epoch 27/30\n",
      "50000/50000 [==============================] - 10s 192us/sample - loss: 0.2381 - accuracy: 0.9157 - val_loss: 0.3234 - val_accuracy: 0.8823\n",
      "Epoch 28/30\n",
      "50000/50000 [==============================] - 10s 192us/sample - loss: 0.2349 - accuracy: 0.9164 - val_loss: 0.3423 - val_accuracy: 0.8745\n",
      "Epoch 29/30\n",
      "50000/50000 [==============================] - 10s 195us/sample - loss: 0.2306 - accuracy: 0.9172 - val_loss: 0.3171 - val_accuracy: 0.8874\n",
      "Epoch 30/30\n",
      "50000/50000 [==============================] - 10s 197us/sample - loss: 0.2264 - accuracy: 0.9207 - val_loss: 0.3274 - val_accuracy: 0.8837\n"
     ]
    }
   ],
   "source": [
    "history = model.fit(X_train, y_train, epochs=30, validation_data=(X_valid, y_valid), \n",
    "                    workers=4, use_multiprocessing=True)"
   ]
  },
  {
   "cell_type": "code",
   "execution_count": 24,
   "metadata": {},
   "outputs": [
    {
     "data": {
      "text/plain": [
       "{'batch_size': 32,\n",
       " 'epochs': 30,\n",
       " 'steps': 1563,\n",
       " 'samples': 50000,\n",
       " 'verbose': 0,\n",
       " 'do_validation': True,\n",
       " 'metrics': ['loss', 'accuracy', 'val_loss', 'val_accuracy']}"
      ]
     },
     "execution_count": 24,
     "metadata": {},
     "output_type": "execute_result"
    }
   ],
   "source": [
    "history.params"
   ]
  },
  {
   "cell_type": "code",
   "execution_count": 25,
   "metadata": {},
   "outputs": [
    {
     "data": {
      "text/plain": [
       "dict_keys(['loss', 'accuracy', 'val_loss', 'val_accuracy'])"
      ]
     },
     "execution_count": 25,
     "metadata": {},
     "output_type": "execute_result"
    }
   ],
   "source": [
    "history.history.keys()"
   ]
  },
  {
   "cell_type": "code",
   "execution_count": 26,
   "metadata": {},
   "outputs": [
    {
     "data": {
      "image/png": "[encoded data removed]",
      "text/plain": [
       "<Figure size 576x360 with 1 Axes>"
      ]
     },
     "metadata": {
      "needs_background": "light"
     },
     "output_type": "display_data"
    }
   ],
   "source": [
    "import pandas as pd\n",
    "\n",
    "pd.DataFrame(history.history).plot(figsize=(8, 5))\n",
    "plt.grid(True)"
   ]
  },
  {
   "cell_type": "code",
   "execution_count": 27,
   "metadata": {},
   "outputs": [
    {
     "name": "stdout",
     "output_type": "stream",
     "text": [
      "10000/10000 [==============================] - 1s 102us/sample - loss: 0.3507 - accuracy: 0.8739\n"
     ]
    },
    {
     "data": {
      "text/plain": [
       "[0.35066279246807097, 0.8739]"
      ]
     },
     "execution_count": 27,
     "metadata": {},
     "output_type": "execute_result"
    }
   ],
   "source": [
    "model.evaluate(X_test, y_test)"
   ]
  },
  {
   "cell_type": "markdown",
   "metadata": {},
   "source": [
    "**Using the Model to Make Predictions** "
   ]
  },
  {
   "cell_type": "code",
   "execution_count": 28,
   "metadata": {},
   "outputs": [
    {
     "data": {
      "text/plain": [
       "array([[0.  , 0.  , 0.  , 0.  , 0.  , 0.01, 0.  , 0.01, 0.  , 0.98],\n",
       "       [0.  , 0.  , 0.98, 0.  , 0.02, 0.  , 0.  , 0.  , 0.  , 0.  ],\n",
       "       [0.  , 1.  , 0.  , 0.  , 0.  , 0.  , 0.  , 0.  , 0.  , 0.  ],\n",
       "       [0.  , 1.  , 0.  , 0.  , 0.  , 0.  , 0.  , 0.  , 0.  , 0.  ],\n",
       "       [0.19, 0.  , 0.01, 0.  , 0.  , 0.  , 0.79, 0.  , 0.  , 0.  ],\n",
       "       [0.  , 1.  , 0.  , 0.  , 0.  , 0.  , 0.  , 0.  , 0.  , 0.  ],\n",
       "       [0.  , 0.  , 0.  , 0.  , 0.99, 0.  , 0.01, 0.  , 0.  , 0.  ],\n",
       "       [0.  , 0.  , 0.  , 0.  , 0.05, 0.  , 0.95, 0.  , 0.  , 0.  ],\n",
       "       [0.  , 0.  , 0.  , 0.  , 0.  , 1.  , 0.  , 0.  , 0.  , 0.  ],\n",
       "       [0.  , 0.  , 0.  , 0.  , 0.  , 0.  , 0.  , 1.  , 0.  , 0.  ]],\n",
       "      dtype=float32)"
      ]
     },
     "execution_count": 28,
     "metadata": {},
     "output_type": "execute_result"
    }
   ],
   "source": [
    "k = 10\n",
    "x_new = X_test[:k]\n",
    "y_pred = model.predict(x_new).round(2)\n",
    "y_pred"
   ]
  },
  {
   "cell_type": "code",
   "execution_count": 29,
   "metadata": {
    "scrolled": true
   },
   "outputs": [
    {
     "data": {
      "image/png": "[encoded data removed]",
      "text/plain": [
       "<Figure size 540x216 with 10 Axes>"
      ]
     },
     "metadata": {
      "needs_background": "light"
     },
     "output_type": "display_data"
    },
    {
     "name": "stdout",
     "output_type": "stream",
     "text": [
      "object 0 - 1.0% - Sandal\n",
      "object 0 - 1.0% - Sneaker\n",
      "object 0 - 98.0% - Ankle boot\n",
      "object 1 - 98.0% - Pullover\n",
      "object 1 - 2.0% - Coat\n",
      "object 2 - 100.0% - Trouser\n",
      "object 3 - 100.0% - Trouser\n",
      "object 4 - 19.0% - T-shirt/top\n",
      "object 4 - 1.0% - Pullover\n",
      "object 4 - 79.0% - Shirt\n",
      "object 5 - 100.0% - Trouser\n",
      "object 6 - 99.0% - Coat\n",
      "object 6 - 1.0% - Shirt\n",
      "object 7 - 5.0% - Coat\n",
      "object 7 - 95.0% - Shirt\n",
      "object 8 - 100.0% - Sandal\n",
      "object 9 - 100.0% - Sneaker\n"
     ]
    }
   ],
   "source": [
    "plot_mnist(X_test[:k], y_test[:k])\n",
    "\n",
    "for i in range(len(x_new)):\n",
    "    for j in range(10):\n",
    "        if (y_pred[i][j] != 0):\n",
    "            print(\"object {} - {:.4}% - {}\".format(i, y_pred[i][j] * 100, class_names[j]))"
   ]
  },
  {
   "cell_type": "markdown",
   "metadata": {},
   "source": [
    "### Regression example"
   ]
  },
  {
   "cell_type": "code",
   "execution_count": 8,
   "metadata": {},
   "outputs": [],
   "source": [
    "from sklearn.datasets import fetch_california_housing\n",
    "from sklearn.model_selection import train_test_split\n",
    "from sklearn.preprocessing import StandardScaler\n",
    "\n",
    "housing = fetch_california_housing()\n",
    "\n",
    "X_train_full, X_test, y_train_full, y_test = train_test_split(housing.data, housing.target, random_state=42)\n",
    "X_train, X_valid, y_train, y_valid = train_test_split(X_train_full, y_train_full, random_state=42)\n",
    "\n",
    "scaler = StandardScaler()\n",
    "X_train = scaler.fit_transform(X_train)\n",
    "X_valid = scaler.transform(X_valid)\n",
    "X_test = scaler.transform(X_test)"
   ]
  },
  {
   "cell_type": "code",
   "execution_count": 31,
   "metadata": {},
   "outputs": [],
   "source": [
    "np.random.seed(42)\n",
    "tf.random.set_seed(42)"
   ]
  },
  {
   "cell_type": "code",
   "execution_count": 32,
   "metadata": {},
   "outputs": [
    {
     "name": "stdout",
     "output_type": "stream",
     "text": [
      "Train on 11610 samples, validate on 3870 samples\n",
      "Epoch 1/20\n",
      "11610/11610 [==============================] - 1s 119us/sample - loss: 1.6205 - val_loss: 2.0374\n",
      "Epoch 2/20\n",
      "11610/11610 [==============================] - 1s 106us/sample - loss: 0.7162 - val_loss: 0.6571\n",
      "Epoch 3/20\n",
      "11610/11610 [==============================] - 1s 93us/sample - loss: 0.6356 - val_loss: 0.5996\n",
      "Epoch 4/20\n",
      "11610/11610 [==============================] - 1s 92us/sample - loss: 0.5989 - val_loss: 0.5662\n",
      "Epoch 5/20\n",
      "11610/11610 [==============================] - 1s 91us/sample - loss: 0.5713 - val_loss: 0.5489\n",
      "Epoch 6/20\n",
      "11610/11610 [==============================] - 1s 91us/sample - loss: 0.5491 - val_loss: 0.5204\n",
      "Epoch 7/20\n",
      "11610/11610 [==============================] - 1s 92us/sample - loss: 0.5301 - val_loss: 0.5018\n",
      "Epoch 8/20\n",
      "11610/11610 [==============================] - 1s 93us/sample - loss: 0.5142 - val_loss: 0.4815\n",
      "Epoch 9/20\n",
      "11610/11610 [==============================] - 1s 93us/sample - loss: 0.5004 - val_loss: 0.4695\n",
      "Epoch 10/20\n",
      "11610/11610 [==============================] - 1s 92us/sample - loss: 0.4883 - val_loss: 0.4605\n",
      "Epoch 11/20\n",
      "11610/11610 [==============================] - 1s 91us/sample - loss: 0.4786 - val_loss: 0.4495\n",
      "Epoch 12/20\n",
      "11610/11610 [==============================] - 1s 88us/sample - loss: 0.4697 - val_loss: 0.4382\n",
      "Epoch 13/20\n",
      "11610/11610 [==============================] - 1s 87us/sample - loss: 0.4621 - val_loss: 0.4309\n",
      "Epoch 14/20\n",
      "11610/11610 [==============================] - 1s 89us/sample - loss: 0.4556 - val_loss: 0.4247\n",
      "Epoch 15/20\n",
      "11610/11610 [==============================] - 1s 90us/sample - loss: 0.4497 - val_loss: 0.4200\n",
      "Epoch 16/20\n",
      "11610/11610 [==============================] - 1s 95us/sample - loss: 0.4443 - val_loss: 0.4149\n",
      "Epoch 17/20\n",
      "11610/11610 [==============================] - 1s 95us/sample - loss: 0.4397 - val_loss: 0.4108\n",
      "Epoch 18/20\n",
      "11610/11610 [==============================] - 1s 91us/sample - loss: 0.4354 - val_loss: 0.4059\n",
      "Epoch 19/20\n",
      "11610/11610 [==============================] - 1s 93us/sample - loss: 0.4315 - val_loss: 0.4003\n",
      "Epoch 20/20\n",
      "11610/11610 [==============================] - 1s 93us/sample - loss: 0.4281 - val_loss: 0.3981\n",
      "5160/5160 [==============================] - 0s 48us/sample - loss: 0.4218\n"
     ]
    }
   ],
   "source": [
    "model = keras.models.Sequential([\n",
    "    keras.layers.Dense(30, activation=\"relu\", input_shape=X_train.shape[1:]),\n",
    "    keras.layers.Dense(1)\n",
    "])\n",
    "\n",
    "model.compile(loss=\"mean_squared_error\", optimizer=keras.optimizers.SGD(lr=1e-3))\n",
    "history = model.fit(X_train, y_train, epochs=20, validation_data=(X_valid, y_valid))\n",
    "mse_test = model.evaluate(X_test, y_test)\n",
    "X_new = X_test[:3]\n",
    "y_pred = model.predict(X_new)"
   ]
  },
  {
   "cell_type": "markdown",
   "metadata": {},
   "source": [
    "### Building Complex Models Using the Functional API "
   ]
  },
  {
   "cell_type": "code",
   "execution_count": 33,
   "metadata": {},
   "outputs": [],
   "source": [
    "input_ = keras.layers.Input(shape=X_train.shape[1:])\n",
    "hidden1 = keras.layers.Dense(30, activation=\"relu\")(input_)\n",
    "hidden2 = keras.layers.Dense(30, activation=\"relu\")(hidden1)\n",
    "concat = keras.layers.concatenate([input_, hidden2])\n",
    "output = keras.layers.Dense(1)(concat)\n",
    "model = keras.models.Model(inputs=[input_], outputs=[output])"
   ]
  },
  {
   "cell_type": "code",
   "execution_count": 34,
   "metadata": {},
   "outputs": [
    {
     "name": "stdout",
     "output_type": "stream",
     "text": [
      "Model: \"model\"\n",
      "__________________________________________________________________________________________________\n",
      "Layer (type)                    Output Shape         Param #     Connected to                     \n",
      "==================================================================================================\n",
      "input_1 (InputLayer)            [(None, 8)]          0                                            \n",
      "__________________________________________________________________________________________________\n",
      "dense_5 (Dense)                 (None, 30)           270         input_1[0][0]                    \n",
      "__________________________________________________________________________________________________\n",
      "dense_6 (Dense)                 (None, 30)           930         dense_5[0][0]                    \n",
      "__________________________________________________________________________________________________\n",
      "concatenate (Concatenate)       (None, 38)           0           input_1[0][0]                    \n",
      "                                                                 dense_6[0][0]                    \n",
      "__________________________________________________________________________________________________\n",
      "dense_7 (Dense)                 (None, 1)            39          concatenate[0][0]                \n",
      "==================================================================================================\n",
      "Total params: 1,239\n",
      "Trainable params: 1,239\n",
      "Non-trainable params: 0\n",
      "__________________________________________________________________________________________________\n"
     ]
    }
   ],
   "source": [
    "model.summary()"
   ]
  },
  {
   "cell_type": "code",
   "execution_count": 35,
   "metadata": {},
   "outputs": [
    {
     "name": "stdout",
     "output_type": "stream",
     "text": [
      "Train on 11610 samples, validate on 3870 samples\n",
      "Epoch 1/20\n",
      "11610/11610 [==============================] - 2s 132us/sample - loss: 1.8737 - val_loss: 3.0492\n",
      "Epoch 2/20\n",
      "11610/11610 [==============================] - 1s 97us/sample - loss: 0.6683 - val_loss: 1.1377\n",
      "Epoch 3/20\n",
      "11610/11610 [==============================] - 1s 99us/sample - loss: 0.6017 - val_loss: 0.5548\n",
      "Epoch 4/20\n",
      "11610/11610 [==============================] - 1s 97us/sample - loss: 0.5638 - val_loss: 0.6451\n",
      "Epoch 5/20\n",
      "11610/11610 [==============================] - 1s 99us/sample - loss: 0.5383 - val_loss: 0.7438\n",
      "Epoch 6/20\n",
      "11610/11610 [==============================] - 1s 98us/sample - loss: 0.5208 - val_loss: 0.5584\n",
      "Epoch 7/20\n",
      "11610/11610 [==============================] - 1s 100us/sample - loss: 0.5023 - val_loss: 0.5218\n",
      "Epoch 8/20\n",
      "11610/11610 [==============================] - 1s 98us/sample - loss: 0.4891 - val_loss: 0.4561\n",
      "Epoch 9/20\n",
      "11610/11610 [==============================] - 1s 98us/sample - loss: 0.4767 - val_loss: 0.5383\n",
      "Epoch 10/20\n",
      "11610/11610 [==============================] - 1s 97us/sample - loss: 0.4678 - val_loss: 0.4714\n",
      "Epoch 11/20\n",
      "11610/11610 [==============================] - 1s 95us/sample - loss: 0.4592 - val_loss: 0.4396\n",
      "Epoch 12/20\n",
      "11610/11610 [==============================] - 1s 94us/sample - loss: 0.4515 - val_loss: 0.4448\n",
      "Epoch 13/20\n",
      "11610/11610 [==============================] - 1s 97us/sample - loss: 0.4456 - val_loss: 0.4485\n",
      "Epoch 14/20\n",
      "11610/11610 [==============================] - 1s 96us/sample - loss: 0.4409 - val_loss: 0.4457\n",
      "Epoch 15/20\n",
      "11610/11610 [==============================] - 1s 98us/sample - loss: 0.4367 - val_loss: 0.4110\n",
      "Epoch 16/20\n",
      "11610/11610 [==============================] - 1s 99us/sample - loss: 0.4322 - val_loss: 0.4202\n",
      "Epoch 17/20\n",
      "11610/11610 [==============================] - 1s 98us/sample - loss: 0.4283 - val_loss: 0.4730\n",
      "Epoch 18/20\n",
      "11610/11610 [==============================] - 1s 96us/sample - loss: 0.4250 - val_loss: 0.4024\n",
      "Epoch 19/20\n",
      "11610/11610 [==============================] - 1s 97us/sample - loss: 0.4215 - val_loss: 0.4456\n",
      "Epoch 20/20\n",
      "11610/11610 [==============================] - 1s 96us/sample - loss: 0.4190 - val_loss: 0.4067\n",
      "5160/5160 [==============================] - 0s 55us/sample - loss: 0.4150\n"
     ]
    }
   ],
   "source": [
    "model.compile(loss=\"mean_squared_error\", optimizer=keras.optimizers.SGD(lr=1e-3))\n",
    "\n",
    "history = model.fit(X_train, y_train, epochs=20,\n",
    "                    validation_data=(X_valid, y_valid))\n",
    "mse_test = model.evaluate(X_test, y_test)"
   ]
  },
  {
   "cell_type": "markdown",
   "metadata": {},
   "source": [
    "split features into several input layers"
   ]
  },
  {
   "cell_type": "code",
   "execution_count": 36,
   "metadata": {},
   "outputs": [],
   "source": [
    "input_A = keras.layers.Input(shape=[5], name=\"wide_input\")\n",
    "input_B = keras.layers.Input(shape=[6], name=\"deep_input\")\n",
    "hidden1 = keras.layers.Dense(30, activation=\"relu\")(input_B)\n",
    "hidden2 = keras.layers.Dense(30, activation=\"relu\")(hidden1)\n",
    "concat = keras.layers.concatenate([input_A, hidden2])\n",
    "output = keras.layers.Dense(1, name=\"output\")(concat)\n",
    "model = keras.models.Model(inputs=[input_A, input_B], outputs=[output])"
   ]
  },
  {
   "cell_type": "code",
   "execution_count": 37,
   "metadata": {},
   "outputs": [
    {
     "name": "stdout",
     "output_type": "stream",
     "text": [
      "Train on 11610 samples, validate on 3870 samples\n",
      "Epoch 1/20\n",
      "11610/11610 [==============================] - 1s 127us/sample - loss: 1.9991 - val_loss: 1.0075\n",
      "Epoch 2/20\n",
      "11610/11610 [==============================] - 1s 104us/sample - loss: 0.7938 - val_loss: 0.6976\n",
      "Epoch 3/20\n",
      "11610/11610 [==============================] - 1s 104us/sample - loss: 0.6527 - val_loss: 0.6241\n",
      "Epoch 4/20\n",
      "11610/11610 [==============================] - 1s 101us/sample - loss: 0.6001 - val_loss: 0.5800\n",
      "Epoch 5/20\n",
      "11610/11610 [==============================] - 1s 102us/sample - loss: 0.5672 - val_loss: 0.5550\n",
      "Epoch 6/20\n",
      "11610/11610 [==============================] - 1s 98us/sample - loss: 0.5425 - val_loss: 0.5244\n",
      "Epoch 7/20\n",
      "11610/11610 [==============================] - 1s 103us/sample - loss: 0.5226 - val_loss: 0.5056\n",
      "Epoch 8/20\n",
      "11610/11610 [==============================] - 1s 99us/sample - loss: 0.5070 - val_loss: 0.4827\n",
      "Epoch 9/20\n",
      "11610/11610 [==============================] - 1s 97us/sample - loss: 0.4943 - val_loss: 0.4653\n",
      "Epoch 10/20\n",
      "11610/11610 [==============================] - 1s 106us/sample - loss: 0.4840 - val_loss: 0.4554\n",
      "Epoch 11/20\n",
      "11610/11610 [==============================] - 1s 99us/sample - loss: 0.4754 - val_loss: 0.4456\n",
      "Epoch 12/20\n",
      "11610/11610 [==============================] - 1s 99us/sample - loss: 0.4682 - val_loss: 0.4386\n",
      "Epoch 13/20\n",
      "11610/11610 [==============================] - 1s 96us/sample - loss: 0.4622 - val_loss: 0.4321\n",
      "Epoch 14/20\n",
      "11610/11610 [==============================] - 1s 103us/sample - loss: 0.4576 - val_loss: 0.4275\n",
      "Epoch 15/20\n",
      "11610/11610 [==============================] - 1s 100us/sample - loss: 0.4535 - val_loss: 0.4348\n",
      "Epoch 16/20\n",
      "11610/11610 [==============================] - 1s 100us/sample - loss: 0.4499 - val_loss: 0.4196\n",
      "Epoch 17/20\n",
      "11610/11610 [==============================] - 1s 100us/sample - loss: 0.4467 - val_loss: 0.4150\n",
      "Epoch 18/20\n",
      "11610/11610 [==============================] - 1s 98us/sample - loss: 0.4433 - val_loss: 0.4214\n",
      "Epoch 19/20\n",
      "11610/11610 [==============================] - 1s 100us/sample - loss: 0.4410 - val_loss: 0.4171\n",
      "Epoch 20/20\n",
      "11610/11610 [==============================] - 1s 101us/sample - loss: 0.4385 - val_loss: 0.4129\n",
      "5160/5160 [==============================] - 0s 55us/sample - loss: 0.4291\n"
     ]
    }
   ],
   "source": [
    "model.compile(loss=\"mse\", optimizer=keras.optimizers.SGD(lr=1e-3))\n",
    "\n",
    "X_train_A, X_train_B = X_train[:, :5], X_train[:, 2:]\n",
    "X_valid_A, X_valid_B = X_valid[:, :5], X_valid[:, 2:]\n",
    "X_test_A, X_test_B = X_test[:, :5], X_test[:, 2:]\n",
    "X_new_A, X_new_B = X_test_A[:3], X_test_B[:3]\n",
    "\n",
    "history = model.fit((X_train_A, X_train_B), y_train, epochs=20,\n",
    "                    validation_data=((X_valid_A, X_valid_B), y_valid))\n",
    "\n",
    "mse_test = model.evaluate((X_test_A, X_test_B), y_test)"
   ]
  },
  {
   "cell_type": "markdown",
   "metadata": {},
   "source": [
    "aux output"
   ]
  },
  {
   "cell_type": "code",
   "execution_count": 38,
   "metadata": {},
   "outputs": [],
   "source": [
    "input_A = keras.layers.Input(shape=[5], name=\"wide_input\")\n",
    "input_B = keras.layers.Input(shape=[6], name=\"deep_input\")\n",
    "hidden1 = keras.layers.Dense(30, activation=\"relu\")(input_B)\n",
    "hidden2 = keras.layers.Dense(30, activation=\"relu\")(hidden1)\n",
    "concat = keras.layers.concatenate([input_A, hidden2])\n",
    "output = keras.layers.Dense(1, name=\"main_output\")(concat)\n",
    "aux_output = keras.layers.Dense(1, name=\"aux_output\")(hidden2)\n",
    "model = keras.models.Model(inputs=[input_A, input_B],\n",
    "                           outputs=[output, aux_output])"
   ]
  },
  {
   "cell_type": "code",
   "execution_count": 39,
   "metadata": {},
   "outputs": [],
   "source": [
    "model.compile(loss=[\"mse\", \"mse\"], loss_weights=[0.9, 0.1], optimizer=keras.optimizers.SGD(lr=1e-3))"
   ]
  },
  {
   "cell_type": "code",
   "execution_count": 40,
   "metadata": {},
   "outputs": [
    {
     "name": "stdout",
     "output_type": "stream",
     "text": [
      "Train on 11610 samples, validate on 3870 samples\n",
      "Epoch 1/20\n",
      "11610/11610 [==============================] - 2s 165us/sample - loss: 2.2402 - main_output_loss: 1.9199 - aux_output_loss: 5.1157 - val_loss: 3.1638 - val_main_output_loss: 2.6007 - val_aux_output_loss: 8.2193\n",
      "Epoch 2/20\n",
      "11610/11610 [==============================] - 1s 106us/sample - loss: 1.0753 - main_output_loss: 0.8518 - aux_output_loss: 3.0880 - val_loss: 1.6513 - val_main_output_loss: 0.9707 - val_aux_output_loss: 7.7702\n",
      "Epoch 3/20\n",
      "11610/11610 [==============================] - 1s 108us/sample - loss: 0.8519 - main_output_loss: 0.7045 - aux_output_loss: 2.1783 - val_loss: 1.3147 - val_main_output_loss: 0.6829 - val_aux_output_loss: 6.9957\n",
      "Epoch 4/20\n",
      "11610/11610 [==============================] - 1s 112us/sample - loss: 0.7540 - main_output_loss: 0.6401 - aux_output_loss: 1.7769 - val_loss: 1.1449 - val_main_output_loss: 0.6071 - val_aux_output_loss: 5.9808\n",
      "Epoch 5/20\n",
      "11610/11610 [==============================] - 1s 105us/sample - loss: 0.6970 - main_output_loss: 0.5988 - aux_output_loss: 1.5806 - val_loss: 0.9858 - val_main_output_loss: 0.5569 - val_aux_output_loss: 4.8419\n",
      "Epoch 6/20\n",
      "11610/11610 [==============================] - 1s 106us/sample - loss: 0.6559 - main_output_loss: 0.5660 - aux_output_loss: 1.4645 - val_loss: 0.8750 - val_main_output_loss: 0.5279 - val_aux_output_loss: 3.9959\n",
      "Epoch 7/20\n",
      "11610/11610 [==============================] - 1s 113us/sample - loss: 0.6243 - main_output_loss: 0.5395 - aux_output_loss: 1.3887 - val_loss: 0.7820 - val_main_output_loss: 0.5038 - val_aux_output_loss: 3.2834\n",
      "Epoch 8/20\n",
      "11610/11610 [==============================] - 1s 115us/sample - loss: 0.5988 - main_output_loss: 0.5173 - aux_output_loss: 1.3306 - val_loss: 0.7067 - val_main_output_loss: 0.4820 - val_aux_output_loss: 2.7264\n",
      "Epoch 9/20\n",
      "11610/11610 [==============================] - 1s 110us/sample - loss: 0.5781 - main_output_loss: 0.4993 - aux_output_loss: 1.2858 - val_loss: 0.6546 - val_main_output_loss: 0.4686 - val_aux_output_loss: 2.3271\n",
      "Epoch 10/20\n",
      "11610/11610 [==============================] - 1s 111us/sample - loss: 0.5619 - main_output_loss: 0.4855 - aux_output_loss: 1.2491 - val_loss: 0.6138 - val_main_output_loss: 0.4571 - val_aux_output_loss: 2.0222\n",
      "Epoch 11/20\n",
      "11610/11610 [==============================] - 1s 111us/sample - loss: 0.5485 - main_output_loss: 0.4741 - aux_output_loss: 1.2173 - val_loss: 0.5833 - val_main_output_loss: 0.4495 - val_aux_output_loss: 1.7860\n",
      "Epoch 12/20\n",
      "11610/11610 [==============================] - 1s 111us/sample - loss: 0.5375 - main_output_loss: 0.4653 - aux_output_loss: 1.1885 - val_loss: 0.5595 - val_main_output_loss: 0.4434 - val_aux_output_loss: 1.6030\n",
      "Epoch 13/20\n",
      "11610/11610 [==============================] - 1s 106us/sample - loss: 0.5290 - main_output_loss: 0.4585 - aux_output_loss: 1.1624 - val_loss: 0.5425 - val_main_output_loss: 0.4399 - val_aux_output_loss: 1.4641\n",
      "Epoch 14/20\n",
      "11610/11610 [==============================] - 1s 112us/sample - loss: 0.5220 - main_output_loss: 0.4537 - aux_output_loss: 1.1389 - val_loss: 0.5322 - val_main_output_loss: 0.4403 - val_aux_output_loss: 1.3580\n",
      "Epoch 15/20\n",
      "11610/11610 [==============================] - 1s 111us/sample - loss: 0.5159 - main_output_loss: 0.4492 - aux_output_loss: 1.1151 - val_loss: 0.5338 - val_main_output_loss: 0.4506 - val_aux_output_loss: 1.2806\n",
      "Epoch 16/20\n",
      "11610/11610 [==============================] - 1s 110us/sample - loss: 0.5108 - main_output_loss: 0.4460 - aux_output_loss: 1.0944 - val_loss: 0.5214 - val_main_output_loss: 0.4446 - val_aux_output_loss: 1.2105\n",
      "Epoch 17/20\n",
      "11610/11610 [==============================] - 1s 118us/sample - loss: 0.5069 - main_output_loss: 0.4439 - aux_output_loss: 1.0731 - val_loss: 0.5057 - val_main_output_loss: 0.4340 - val_aux_output_loss: 1.1496\n",
      "Epoch 18/20\n",
      "11610/11610 [==============================] - 1s 116us/sample - loss: 0.5024 - main_output_loss: 0.4412 - aux_output_loss: 1.0535 - val_loss: 0.5099 - val_main_output_loss: 0.4432 - val_aux_output_loss: 1.1091\n",
      "Epoch 19/20\n",
      "11610/11610 [==============================] - 1s 111us/sample - loss: 0.4990 - main_output_loss: 0.4395 - aux_output_loss: 1.0344 - val_loss: 0.5057 - val_main_output_loss: 0.4427 - val_aux_output_loss: 1.0710\n",
      "Epoch 20/20\n",
      "11610/11610 [==============================] - 1s 113us/sample - loss: 0.4955 - main_output_loss: 0.4377 - aux_output_loss: 1.0163 - val_loss: 0.5053 - val_main_output_loss: 0.4458 - val_aux_output_loss: 1.0394\n"
     ]
    }
   ],
   "source": [
    "history = model.fit([X_train_A, X_train_B], [y_train, y_train], epochs=20,\n",
    "                    validation_data=([X_valid_A, X_valid_B], [y_valid, y_valid]))"
   ]
  },
  {
   "cell_type": "code",
   "execution_count": 41,
   "metadata": {},
   "outputs": [
    {
     "name": "stdout",
     "output_type": "stream",
     "text": [
      "5160/5160 [==============================] - 0s 61us/sample - loss: 0.4870 - main_output_loss: 0.4305 - aux_output_loss: 0.9978\n"
     ]
    }
   ],
   "source": [
    "total_loss, main_loss, aux_loss = model.evaluate(\n",
    "    [X_test_A, X_test_B], [y_test, y_test])\n",
    "y_pred_main, y_pred_aux = model.predict([X_new_A, X_new_B])"
   ]
  },
  {
   "cell_type": "markdown",
   "metadata": {},
   "source": [
    "### Saving and Restoring a Model"
   ]
  },
  {
   "cell_type": "code",
   "execution_count": 42,
   "metadata": {},
   "outputs": [],
   "source": [
    "model.save(\"m_keras_model.h5\")"
   ]
  },
  {
   "cell_type": "code",
   "execution_count": 43,
   "metadata": {},
   "outputs": [],
   "source": [
    "model.save_weights(\"my_keras_weights.ckpt\")"
   ]
  },
  {
   "cell_type": "code",
   "execution_count": 44,
   "metadata": {},
   "outputs": [
    {
     "data": {
      "text/plain": [
       "<tensorflow.python.keras.engine.training.Model at 0x7f88f47b99b0>"
      ]
     },
     "execution_count": 44,
     "metadata": {},
     "output_type": "execute_result"
    }
   ],
   "source": [
    "keras.models.load_model(\"m_keras_model.h5\")"
   ]
  },
  {
   "cell_type": "code",
   "execution_count": 45,
   "metadata": {},
   "outputs": [
    {
     "data": {
      "text/plain": [
       "<tensorflow.python.training.tracking.util.CheckpointLoadStatus at 0x7f892b800f28>"
      ]
     },
     "execution_count": 45,
     "metadata": {},
     "output_type": "execute_result"
    }
   ],
   "source": [
    "model.load_weights(\"my_keras_weights.ckpt\")"
   ]
  },
  {
   "cell_type": "markdown",
   "metadata": {},
   "source": [
    "### Using Callbacks "
   ]
  },
  {
   "cell_type": "code",
   "execution_count": 46,
   "metadata": {},
   "outputs": [],
   "source": [
    "keras.backend.clear_session()\n",
    "np.random.seed(42)\n",
    "tf.random.set_seed(42)"
   ]
  },
  {
   "cell_type": "code",
   "execution_count": 47,
   "metadata": {},
   "outputs": [],
   "source": [
    "model = keras.models.Sequential([\n",
    "    keras.layers.Dense(30, activation=\"relu\", input_shape=[8]),\n",
    "    keras.layers.Dense(30, activation=\"relu\"),\n",
    "    keras.layers.Dense(1)\n",
    "])"
   ]
  },
  {
   "cell_type": "code",
   "execution_count": 48,
   "metadata": {},
   "outputs": [
    {
     "name": "stdout",
     "output_type": "stream",
     "text": [
      "Train on 11610 samples, validate on 3870 samples\n",
      "Epoch 1/10\n",
      "11610/11610 [==============================] - 1s 123us/sample - loss: 1.8423 - val_loss: 5.2165\n",
      "Epoch 2/10\n",
      "11610/11610 [==============================] - 1s 98us/sample - loss: 0.6876 - val_loss: 0.7732\n",
      "Epoch 3/10\n",
      "11610/11610 [==============================] - 1s 104us/sample - loss: 0.5954 - val_loss: 0.5446\n",
      "Epoch 4/10\n",
      "11610/11610 [==============================] - 1s 91us/sample - loss: 0.5553 - val_loss: 0.5425\n",
      "Epoch 5/10\n",
      "11610/11610 [==============================] - 1s 96us/sample - loss: 0.5268 - val_loss: 0.5539\n",
      "Epoch 6/10\n",
      "11610/11610 [==============================] - 1s 96us/sample - loss: 0.5049 - val_loss: 0.4701\n",
      "Epoch 7/10\n",
      "11610/11610 [==============================] - 1s 90us/sample - loss: 0.4852 - val_loss: 0.4562\n",
      "Epoch 8/10\n",
      "11610/11610 [==============================] - 1s 90us/sample - loss: 0.4706 - val_loss: 0.4452\n",
      "Epoch 9/10\n",
      "11610/11610 [==============================] - 1s 92us/sample - loss: 0.4576 - val_loss: 0.4406\n",
      "Epoch 10/10\n",
      "11610/11610 [==============================] - 1s 90us/sample - loss: 0.4476 - val_loss: 0.4185\n",
      "5160/5160 [==============================] - 0s 62us/sample - loss: 0.4376\n"
     ]
    }
   ],
   "source": [
    "model.compile(loss=\"mse\", optimizer=keras.optimizers.SGD(lr=1e-3))\n",
    "checkpoint_cb = keras.callbacks.ModelCheckpoint(\"my_keras_model.h5\", save_best_only=True)\n",
    "history = model.fit(X_train, y_train, epochs=10,\n",
    "                    validation_data=(X_valid, y_valid),\n",
    "                    callbacks=[checkpoint_cb])\n",
    "model = keras.models.load_model(\"my_keras_model.h5\") # rollback to best model\n",
    "mse_test = model.evaluate(X_test, y_test)"
   ]
  },
  {
   "cell_type": "code",
   "execution_count": 49,
   "metadata": {},
   "outputs": [
    {
     "name": "stdout",
     "output_type": "stream",
     "text": [
      "Train on 11610 samples, validate on 3870 samples\n",
      "Epoch 1/200\n",
      "11610/11610 [==============================] - 1s 120us/sample - loss: 0.4385 - val_loss: 0.4287\n",
      "Epoch 2/200\n",
      "11610/11610 [==============================] - 1s 93us/sample - loss: 0.4319 - val_loss: 0.4117\n",
      "Epoch 3/200\n",
      "11610/11610 [==============================] - 1s 91us/sample - loss: 0.4252 - val_loss: 0.3975\n",
      "Epoch 4/200\n",
      "11610/11610 [==============================] - 1s 91us/sample - loss: 0.4199 - val_loss: 0.3943\n",
      "Epoch 5/200\n",
      "11610/11610 [==============================] - 1s 88us/sample - loss: 0.4150 - val_loss: 0.3964\n",
      "Epoch 6/200\n",
      "11610/11610 [==============================] - 1s 93us/sample - loss: 0.4110 - val_loss: 0.3907\n",
      "Epoch 7/200\n",
      "11610/11610 [==============================] - 1s 93us/sample - loss: 0.4070 - val_loss: 0.3823\n",
      "Epoch 8/200\n",
      "11610/11610 [==============================] - 1s 93us/sample - loss: 0.4036 - val_loss: 0.3786\n",
      "Epoch 9/200\n",
      "11610/11610 [==============================] - 1s 91us/sample - loss: 0.4003 - val_loss: 0.3739\n",
      "Epoch 10/200\n",
      "11610/11610 [==============================] - 1s 93us/sample - loss: 0.3973 - val_loss: 0.3724\n",
      "Epoch 11/200\n",
      "11610/11610 [==============================] - 1s 92us/sample - loss: 0.3944 - val_loss: 0.3697\n",
      "Epoch 12/200\n",
      "11610/11610 [==============================] - 1s 90us/sample - loss: 0.3916 - val_loss: 0.3670\n",
      "Epoch 13/200\n",
      "11610/11610 [==============================] - 1s 92us/sample - loss: 0.3892 - val_loss: 0.3638\n",
      "Epoch 14/200\n",
      "11610/11610 [==============================] - 1s 91us/sample - loss: 0.3869 - val_loss: 0.3633\n",
      "Epoch 15/200\n",
      "11610/11610 [==============================] - 1s 90us/sample - loss: 0.3845 - val_loss: 0.4051\n",
      "Epoch 16/200\n",
      "11610/11610 [==============================] - 1s 90us/sample - loss: 0.3826 - val_loss: 0.3662\n",
      "Epoch 17/200\n",
      "11610/11610 [==============================] - 1s 92us/sample - loss: 0.3805 - val_loss: 0.3554\n",
      "Epoch 18/200\n",
      "11610/11610 [==============================] - 1s 88us/sample - loss: 0.3782 - val_loss: 0.3684\n",
      "Epoch 19/200\n",
      "11610/11610 [==============================] - 1s 94us/sample - loss: 0.3762 - val_loss: 0.3523\n",
      "Epoch 20/200\n",
      "11610/11610 [==============================] - 1s 91us/sample - loss: 0.3744 - val_loss: 0.3622\n",
      "Epoch 21/200\n",
      "11610/11610 [==============================] - 1s 93us/sample - loss: 0.3727 - val_loss: 0.3498\n",
      "Epoch 22/200\n",
      "11610/11610 [==============================] - 1s 91us/sample - loss: 0.3709 - val_loss: 0.3651\n",
      "Epoch 23/200\n",
      "11610/11610 [==============================] - 1s 89us/sample - loss: 0.3694 - val_loss: 0.3538\n",
      "Epoch 24/200\n",
      "11610/11610 [==============================] - 1s 94us/sample - loss: 0.3681 - val_loss: 0.3479\n",
      "Epoch 25/200\n",
      "11610/11610 [==============================] - 1s 92us/sample - loss: 0.3668 - val_loss: 0.3475\n",
      "Epoch 26/200\n",
      "11610/11610 [==============================] - 1s 92us/sample - loss: 0.3654 - val_loss: 0.3483\n",
      "Epoch 27/200\n",
      "11610/11610 [==============================] - 1s 89us/sample - loss: 0.3641 - val_loss: 0.3787\n",
      "Epoch 28/200\n",
      "11610/11610 [==============================] - 1s 93us/sample - loss: 0.3631 - val_loss: 0.3461\n",
      "Epoch 29/200\n",
      "11610/11610 [==============================] - 1s 89us/sample - loss: 0.3618 - val_loss: 0.3709\n",
      "Epoch 30/200\n",
      "11610/11610 [==============================] - 1s 90us/sample - loss: 0.3607 - val_loss: 0.3530\n",
      "Epoch 31/200\n",
      "11610/11610 [==============================] - 1s 92us/sample - loss: 0.3596 - val_loss: 0.3428\n",
      "Epoch 32/200\n",
      "11610/11610 [==============================] - 1s 91us/sample - loss: 0.3586 - val_loss: 0.3441\n",
      "Epoch 33/200\n",
      "11610/11610 [==============================] - 1s 92us/sample - loss: 0.3577 - val_loss: 0.3534\n",
      "Epoch 34/200\n",
      "11610/11610 [==============================] - 1s 91us/sample - loss: 0.3567 - val_loss: 0.3359\n",
      "Epoch 35/200\n",
      "11610/11610 [==============================] - 1s 91us/sample - loss: 0.3557 - val_loss: 0.3828\n",
      "Epoch 36/200\n",
      "11610/11610 [==============================] - 1s 95us/sample - loss: 0.3551 - val_loss: 0.3345\n",
      "Epoch 37/200\n",
      "11610/11610 [==============================] - 1s 91us/sample - loss: 0.3541 - val_loss: 0.3843\n",
      "Epoch 38/200\n",
      "11610/11610 [==============================] - 1s 93us/sample - loss: 0.3534 - val_loss: 0.3329\n",
      "Epoch 39/200\n",
      "11610/11610 [==============================] - 1s 91us/sample - loss: 0.3524 - val_loss: 0.3934\n",
      "Epoch 40/200\n",
      "11610/11610 [==============================] - 1s 89us/sample - loss: 0.3522 - val_loss: 0.3314\n",
      "Epoch 41/200\n",
      "11610/11610 [==============================] - 1s 88us/sample - loss: 0.3510 - val_loss: 0.3985\n",
      "Epoch 42/200\n",
      "11610/11610 [==============================] - 1s 90us/sample - loss: 0.3507 - val_loss: 0.3299\n",
      "Epoch 43/200\n",
      "11610/11610 [==============================] - 1s 90us/sample - loss: 0.3498 - val_loss: 0.3466\n",
      "Epoch 44/200\n",
      "11610/11610 [==============================] - 1s 90us/sample - loss: 0.3488 - val_loss: 0.3414\n",
      "Epoch 45/200\n",
      "11610/11610 [==============================] - 1s 87us/sample - loss: 0.3484 - val_loss: 0.3437\n",
      "Epoch 46/200\n",
      "11610/11610 [==============================] - 1s 90us/sample - loss: 0.3479 - val_loss: 0.3289\n",
      "Epoch 47/200\n",
      "11610/11610 [==============================] - 1s 89us/sample - loss: 0.3468 - val_loss: 0.3655\n",
      "Epoch 48/200\n",
      "11610/11610 [==============================] - 1s 91us/sample - loss: 0.3467 - val_loss: 0.3285\n",
      "Epoch 49/200\n",
      "11610/11610 [==============================] - 1s 88us/sample - loss: 0.3461 - val_loss: 0.3963\n",
      "Epoch 50/200\n",
      "11610/11610 [==============================] - 1s 92us/sample - loss: 0.3455 - val_loss: 0.3299\n",
      "Epoch 51/200\n",
      "11610/11610 [==============================] - 1s 91us/sample - loss: 0.3451 - val_loss: 0.3349\n",
      "Epoch 52/200\n",
      "11610/11610 [==============================] - 1s 93us/sample - loss: 0.3446 - val_loss: 0.3329\n",
      "Epoch 53/200\n",
      "11610/11610 [==============================] - 1s 87us/sample - loss: 0.3440 - val_loss: 0.3580\n",
      "Epoch 54/200\n",
      "11610/11610 [==============================] - 1s 94us/sample - loss: 0.3433 - val_loss: 0.3316\n",
      "Epoch 55/200\n",
      "11610/11610 [==============================] - 1s 91us/sample - loss: 0.3429 - val_loss: 0.3252\n",
      "Epoch 56/200\n",
      "11610/11610 [==============================] - 1s 93us/sample - loss: 0.3422 - val_loss: 0.3857\n",
      "Epoch 57/200\n",
      "11610/11610 [==============================] - 1s 88us/sample - loss: 0.3422 - val_loss: 0.3237\n",
      "Epoch 58/200\n",
      "11610/11610 [==============================] - 1s 89us/sample - loss: 0.3413 - val_loss: 0.3386\n",
      "Epoch 59/200\n",
      "11610/11610 [==============================] - 1s 89us/sample - loss: 0.3409 - val_loss: 0.3226\n",
      "Epoch 60/200\n",
      "11610/11610 [==============================] - 1s 91us/sample - loss: 0.3403 - val_loss: 0.4002\n",
      "Epoch 61/200\n",
      "11610/11610 [==============================] - 1s 90us/sample - loss: 0.3406 - val_loss: 0.3220\n",
      "Epoch 62/200\n",
      "11610/11610 [==============================] - 1s 91us/sample - loss: 0.3396 - val_loss: 0.3939\n",
      "Epoch 63/200\n",
      "11610/11610 [==============================] - 1s 86us/sample - loss: 0.3393 - val_loss: 0.3282\n",
      "Epoch 64/200\n",
      "11610/11610 [==============================] - 1s 89us/sample - loss: 0.3391 - val_loss: 0.3583\n",
      "Epoch 65/200\n",
      "11610/11610 [==============================] - 1s 93us/sample - loss: 0.3383 - val_loss: 0.3216\n",
      "Epoch 66/200\n",
      "11610/11610 [==============================] - 1s 86us/sample - loss: 0.3380 - val_loss: 0.3738\n",
      "Epoch 67/200\n",
      "11610/11610 [==============================] - 1s 93us/sample - loss: 0.3378 - val_loss: 0.3397\n",
      "Epoch 68/200\n",
      "11610/11610 [==============================] - 1s 91us/sample - loss: 0.3373 - val_loss: 0.3194\n",
      "Epoch 69/200\n",
      "11610/11610 [==============================] - 1s 87us/sample - loss: 0.3367 - val_loss: 0.3784\n",
      "Epoch 70/200\n",
      "11610/11610 [==============================] - 1s 87us/sample - loss: 0.3368 - val_loss: 0.3205\n",
      "Epoch 71/200\n",
      "11610/11610 [==============================] - 1s 91us/sample - loss: 0.3358 - val_loss: 0.3815\n",
      "Epoch 72/200\n",
      "11610/11610 [==============================] - 1s 87us/sample - loss: 0.3358 - val_loss: 0.3351\n",
      "Epoch 73/200\n",
      "11610/11610 [==============================] - 1s 90us/sample - loss: 0.3350 - val_loss: 0.3332\n",
      "Epoch 74/200\n",
      "11610/11610 [==============================] - 1s 90us/sample - loss: 0.3350 - val_loss: 0.3179\n",
      "Epoch 75/200\n",
      "11610/11610 [==============================] - 1s 87us/sample - loss: 0.3345 - val_loss: 0.3475\n"
     ]
    },
    {
     "name": "stdout",
     "output_type": "stream",
     "text": [
      "Epoch 76/200\n",
      "11610/11610 [==============================] - 1s 86us/sample - loss: 0.3341 - val_loss: 0.3196\n",
      "Epoch 77/200\n",
      "11610/11610 [==============================] - 1s 89us/sample - loss: 0.3338 - val_loss: 0.3608\n",
      "Epoch 78/200\n",
      "11610/11610 [==============================] - 1s 93us/sample - loss: 0.3336 - val_loss: 0.3295\n",
      "Epoch 79/200\n",
      "11610/11610 [==============================] - 1s 87us/sample - loss: 0.3331 - val_loss: 0.3928\n",
      "Epoch 80/200\n",
      "11610/11610 [==============================] - 1s 90us/sample - loss: 0.3332 - val_loss: 0.3167\n",
      "Epoch 81/200\n",
      "11610/11610 [==============================] - 1s 89us/sample - loss: 0.3317 - val_loss: 0.3784\n",
      "Epoch 82/200\n",
      "11610/11610 [==============================] - 1s 91us/sample - loss: 0.3322 - val_loss: 0.3155\n",
      "Epoch 83/200\n",
      "11610/11610 [==============================] - 1s 89us/sample - loss: 0.3315 - val_loss: 0.3540\n",
      "Epoch 84/200\n",
      "11610/11610 [==============================] - 1s 88us/sample - loss: 0.3312 - val_loss: 0.3282\n",
      "Epoch 85/200\n",
      "11610/11610 [==============================] - 1s 87us/sample - loss: 0.3307 - val_loss: 0.3379\n",
      "Epoch 86/200\n",
      "11610/11610 [==============================] - 1s 90us/sample - loss: 0.3306 - val_loss: 0.3163\n",
      "Epoch 87/200\n",
      "11610/11610 [==============================] - 1s 90us/sample - loss: 0.3302 - val_loss: 0.3380\n",
      "Epoch 88/200\n",
      "11610/11610 [==============================] - 1s 89us/sample - loss: 0.3300 - val_loss: 0.3341\n",
      "Epoch 89/200\n",
      "11610/11610 [==============================] - 1s 85us/sample - loss: 0.3295 - val_loss: 0.3158\n",
      "Epoch 90/200\n",
      "11610/11610 [==============================] - 1s 89us/sample - loss: 0.3294 - val_loss: 0.3519\n",
      "Epoch 91/200\n",
      "11610/11610 [==============================] - 1s 92us/sample - loss: 0.3289 - val_loss: 0.3142\n",
      "Epoch 92/200\n",
      "11610/11610 [==============================] - 1s 85us/sample - loss: 0.3286 - val_loss: 0.3619\n",
      "Epoch 93/200\n",
      "11610/11610 [==============================] - 1s 88us/sample - loss: 0.3282 - val_loss: 0.3269\n",
      "Epoch 94/200\n",
      "11610/11610 [==============================] - 1s 92us/sample - loss: 0.3282 - val_loss: 0.4624\n",
      "Epoch 95/200\n",
      "11610/11610 [==============================] - 1s 91us/sample - loss: 0.3284 - val_loss: 0.3365\n",
      "Epoch 96/200\n",
      "11610/11610 [==============================] - 1s 87us/sample - loss: 0.3275 - val_loss: 0.4650\n",
      "Epoch 97/200\n",
      "11610/11610 [==============================] - 1s 86us/sample - loss: 0.3278 - val_loss: 0.3154\n",
      "Epoch 98/200\n",
      "11610/11610 [==============================] - 1s 88us/sample - loss: 0.3265 - val_loss: 0.3256\n",
      "Epoch 99/200\n",
      "11610/11610 [==============================] - 1s 90us/sample - loss: 0.3262 - val_loss: 0.3415\n",
      "Epoch 100/200\n",
      "11610/11610 [==============================] - 1s 90us/sample - loss: 0.3264 - val_loss: 0.3178\n",
      "Epoch 101/200\n",
      "11610/11610 [==============================] - 1s 90us/sample - loss: 0.3259 - val_loss: 0.4127\n",
      "5160/5160 [==============================] - 0s 43us/sample - loss: 0.3291\n"
     ]
    }
   ],
   "source": [
    "model.compile(loss=\"mse\", optimizer=keras.optimizers.SGD(lr=1e-3))\n",
    "early_stopping_cb = keras.callbacks.EarlyStopping(patience=10,\n",
    "                                                  restore_best_weights=True)\n",
    "history = model.fit(X_train, y_train, epochs=200,\n",
    "                    validation_data=(X_valid, y_valid),\n",
    "                    callbacks=[checkpoint_cb, early_stopping_cb])\n",
    "mse_test = model.evaluate(X_test, y_test)"
   ]
  },
  {
   "cell_type": "markdown",
   "metadata": {},
   "source": [
    "Лучшая модель получена на 91 эпохе.\n",
    "\n",
    "Создадим собственный обратный вызов."
   ]
  },
  {
   "cell_type": "code",
   "execution_count": 50,
   "metadata": {},
   "outputs": [],
   "source": [
    "class PrintValTrainRatioCallback(keras.callbacks.Callback):\n",
    "    def on_epoch_end(self, epoch, logs):\n",
    "        print(\"\\nval/train: {:.2f}\".format(logs[\"val_loss\"] / logs[\"loss\"]))"
   ]
  },
  {
   "cell_type": "code",
   "execution_count": 51,
   "metadata": {},
   "outputs": [
    {
     "name": "stdout",
     "output_type": "stream",
     "text": [
      "Train on 11610 samples, validate on 3870 samples\n",
      "Epoch 1/2\n",
      "11200/11610 [===========================>..] - ETA: 0s - loss: 0.3290\n",
      "val/train: 1.08\n",
      "11610/11610 [==============================] - 1s 94us/sample - loss: 0.3283 - val_loss: 0.3550\n",
      "Epoch 2/2\n",
      "11520/11610 [============================>.] - ETA: 0s - loss: 0.3268\n",
      "val/train: 0.99\n",
      "11610/11610 [==============================] - 1s 91us/sample - loss: 0.3283 - val_loss: 0.3250\n"
     ]
    }
   ],
   "source": [
    "val_train_ratio_cb = PrintValTrainRatioCallback()\n",
    "history = model.fit(X_train, y_train, epochs=2,\n",
    "                    validation_data=(X_valid, y_valid),\n",
    "                    callbacks=[val_train_ratio_cb])"
   ]
  },
  {
   "cell_type": "markdown",
   "metadata": {},
   "source": [
    "### TensorBoard"
   ]
  },
  {
   "cell_type": "code",
   "execution_count": 96,
   "metadata": {},
   "outputs": [],
   "source": [
    "root_logdir = os.path.join(os.curdir, \"tensorboard_logs\")"
   ]
  },
  {
   "cell_type": "code",
   "execution_count": 97,
   "metadata": {},
   "outputs": [
    {
     "data": {
      "text/plain": [
       "'./tensorboard_logs/run_2020_06_12-14_08_06'"
      ]
     },
     "execution_count": 97,
     "metadata": {},
     "output_type": "execute_result"
    }
   ],
   "source": [
    "def get_run_logdir():\n",
    "    import time\n",
    "    run_id = time.strftime(\"run_%Y_%m_%d-%H_%M_%S\")\n",
    "    return os.path.join(root_logdir, run_id)\n",
    "\n",
    "run_logdir = get_run_logdir()\n",
    "run_logdir"
   ]
  },
  {
   "cell_type": "code",
   "execution_count": 98,
   "metadata": {},
   "outputs": [],
   "source": [
    "keras.backend.clear_session()\n",
    "np.random.seed(42)\n",
    "tf.random.set_seed(42)"
   ]
  },
  {
   "cell_type": "code",
   "execution_count": 99,
   "metadata": {},
   "outputs": [],
   "source": [
    "model = keras.models.Sequential([\n",
    "    keras.layers.Dense(30, activation=\"relu\", input_shape=[8]),\n",
    "    keras.layers.Dense(30, activation=\"relu\"),\n",
    "    keras.layers.Dense(1)\n",
    "])    \n",
    "model.compile(loss=\"mse\", optimizer=keras.optimizers.SGD(lr=1e-3))"
   ]
  },
  {
   "cell_type": "code",
   "execution_count": 100,
   "metadata": {},
   "outputs": [
    {
     "name": "stdout",
     "output_type": "stream",
     "text": [
      "Train on 11610 samples, validate on 3870 samples\n",
      "Epoch 1/30\n",
      "11610/11610 [==============================] - 2s 141us/sample - loss: 1.8423 - val_loss: 5.2165\n",
      "Epoch 2/30\n",
      "11610/11610 [==============================] - 1s 104us/sample - loss: 0.6876 - val_loss: 0.7732\n",
      "Epoch 3/30\n",
      "11610/11610 [==============================] - 1s 101us/sample - loss: 0.5954 - val_loss: 0.5446\n",
      "Epoch 4/30\n",
      "11610/11610 [==============================] - 1s 111us/sample - loss: 0.5553 - val_loss: 0.5425\n",
      "Epoch 5/30\n",
      "11610/11610 [==============================] - 1s 121us/sample - loss: 0.5268 - val_loss: 0.5539\n",
      "Epoch 6/30\n",
      "11610/11610 [==============================] - 2s 138us/sample - loss: 0.5049 - val_loss: 0.4701\n",
      "Epoch 7/30\n",
      "11610/11610 [==============================] - 2s 132us/sample - loss: 0.4852 - val_loss: 0.4562\n",
      "Epoch 8/30\n",
      "11610/11610 [==============================] - 2s 131us/sample - loss: 0.4706 - val_loss: 0.4452\n",
      "Epoch 9/30\n",
      "11610/11610 [==============================] - 2s 130us/sample - loss: 0.4576 - val_loss: 0.4406\n",
      "Epoch 10/30\n",
      "11610/11610 [==============================] - 1s 101us/sample - loss: 0.4476 - val_loss: 0.4185\n",
      "Epoch 11/30\n",
      "11610/11610 [==============================] - 1s 99us/sample - loss: 0.4388 - val_loss: 0.4285\n",
      "Epoch 12/30\n",
      "11610/11610 [==============================] - 1s 112us/sample - loss: 0.4313 - val_loss: 0.4071\n",
      "Epoch 13/30\n",
      "11610/11610 [==============================] - 1s 117us/sample - loss: 0.4252 - val_loss: 0.3998\n",
      "Epoch 14/30\n",
      "11610/11610 [==============================] - 1s 122us/sample - loss: 0.4198 - val_loss: 0.3970\n",
      "Epoch 15/30\n",
      "11610/11610 [==============================] - 1s 110us/sample - loss: 0.4152 - val_loss: 0.4115\n",
      "Epoch 16/30\n",
      "11610/11610 [==============================] - 1s 111us/sample - loss: 0.4109 - val_loss: 0.3849\n",
      "Epoch 17/30\n",
      "11610/11610 [==============================] - 1s 110us/sample - loss: 0.4073 - val_loss: 0.3862\n",
      "Epoch 18/30\n",
      "11610/11610 [==============================] - 1s 106us/sample - loss: 0.4037 - val_loss: 0.3907\n",
      "Epoch 19/30\n",
      "11610/11610 [==============================] - 1s 105us/sample - loss: 0.4003 - val_loss: 0.3751\n",
      "Epoch 20/30\n",
      "11610/11610 [==============================] - 1s 104us/sample - loss: 0.3974 - val_loss: 0.3711\n",
      "Epoch 21/30\n",
      "11610/11610 [==============================] - 1s 104us/sample - loss: 0.3945 - val_loss: 0.3733\n",
      "Epoch 22/30\n",
      "11610/11610 [==============================] - 1s 108us/sample - loss: 0.3919 - val_loss: 0.3676\n",
      "Epoch 23/30\n",
      "11610/11610 [==============================] - 1s 106us/sample - loss: 0.3893 - val_loss: 0.3669\n",
      "Epoch 24/30\n",
      "11610/11610 [==============================] - 1s 106us/sample - loss: 0.3869 - val_loss: 0.3614\n",
      "Epoch 25/30\n",
      "11610/11610 [==============================] - 1s 103us/sample - loss: 0.3846 - val_loss: 0.3600\n",
      "Epoch 26/30\n",
      "11610/11610 [==============================] - 1s 101us/sample - loss: 0.3825 - val_loss: 0.3578\n",
      "Epoch 27/30\n",
      "11610/11610 [==============================] - 1s 109us/sample - loss: 0.3802 - val_loss: 0.3676\n",
      "Epoch 28/30\n",
      "11610/11610 [==============================] - 1s 109us/sample - loss: 0.3781 - val_loss: 0.3545\n",
      "Epoch 29/30\n",
      "11610/11610 [==============================] - 1s 104us/sample - loss: 0.3761 - val_loss: 0.3612\n",
      "Epoch 30/30\n",
      "11610/11610 [==============================] - 1s 105us/sample - loss: 0.3742 - val_loss: 0.3555\n"
     ]
    }
   ],
   "source": [
    "tensorboard_cb = keras.callbacks.TensorBoard(log_dir=run_logdir)\n",
    "history = model.fit(X_train, y_train, epochs=30,\n",
    "                    validation_data=(X_valid, y_valid),\n",
    "                    callbacks=[tensorboard_cb])"
   ]
  },
  {
   "cell_type": "markdown",
   "metadata": {},
   "source": [
    "Чтобы запустить сервер TensorBoard необходимо ввести в терминале след. команду\n",
    "\n",
    "```bash\n",
    "$ tensorboard --logdir=./my_logs --reload_multifile=true --port=6006\n",
    "```\n",
    "\n",
    "Ключ *--reload_multifile=true* позволяет решить проблему, когда TensorBoard некорректно показывает графики обучения, из-за того, что некорректно определяет файл, содержащий данные:\n",
    "https://github.com/tensorflow/tensorboard/issues/2084\n",
    "\n",
    "После этого необходимо перейти по след. адресу в браузере [localhost:6006](http://localhost:6006). Чтобы остановить TensoBoard сервер необходимо отправить сигнал Ctrl-C в терминале.\n",
    "\n",
    "\n",
    "В качестве альтернативы можно загрузить TensorBoard's Jupyter расширение и запускать TensorBoard так:"
   ]
  },
  {
   "cell_type": "code",
   "execution_count": 101,
   "metadata": {},
   "outputs": [],
   "source": [
    "# %load_ext tensorboard\n",
    "# %tensorboard --logdir=./my_logs --port=6006"
   ]
  },
  {
   "cell_type": "markdown",
   "metadata": {},
   "source": [
    "Перезапуск "
   ]
  },
  {
   "cell_type": "code",
   "execution_count": 103,
   "metadata": {},
   "outputs": [
    {
     "name": "stdout",
     "output_type": "stream",
     "text": [
      "Train on 11610 samples, validate on 3870 samples\n",
      "Epoch 1/30\n",
      "11610/11610 [==============================] - 2s 140us/sample - loss: 5.6294 - val_loss: 1.3206\n",
      "Epoch 2/30\n",
      "11610/11610 [==============================] - 1s 112us/sample - loss: 1.2704 - val_loss: 1.0757\n",
      "Epoch 3/30\n",
      "11610/11610 [==============================] - 1s 114us/sample - loss: 0.9383 - val_loss: 0.8356\n",
      "Epoch 4/30\n",
      "11610/11610 [==============================] - 1s 122us/sample - loss: 0.8872 - val_loss: 0.8728\n",
      "Epoch 5/30\n",
      "11610/11610 [==============================] - 1s 120us/sample - loss: 0.8020 - val_loss: 0.5851\n",
      "Epoch 6/30\n",
      "11610/11610 [==============================] - 2s 147us/sample - loss: 1.2816 - val_loss: 1.3161\n",
      "Epoch 7/30\n",
      "11610/11610 [==============================] - 1s 108us/sample - loss: 1.3421 - val_loss: 1.3155\n",
      "Epoch 8/30\n",
      "11610/11610 [==============================] - 1s 103us/sample - loss: 1.3427 - val_loss: 1.3158\n",
      "Epoch 9/30\n",
      "11610/11610 [==============================] - 1s 114us/sample - loss: 0.9717 - val_loss: 0.8689\n",
      "Epoch 10/30\n",
      "11610/11610 [==============================] - 1s 112us/sample - loss: 0.8162 - val_loss: 0.7201\n",
      "Epoch 11/30\n",
      "11610/11610 [==============================] - 2s 130us/sample - loss: 1.1811 - val_loss: 1.3154\n",
      "Epoch 12/30\n",
      "11610/11610 [==============================] - 2s 131us/sample - loss: 1.3412 - val_loss: 1.3151\n",
      "Epoch 13/30\n",
      "11610/11610 [==============================] - 2s 141us/sample - loss: 1.3415 - val_loss: 1.3182\n",
      "Epoch 14/30\n",
      "11610/11610 [==============================] - 1s 105us/sample - loss: 1.3419 - val_loss: 1.3239\n",
      "Epoch 15/30\n",
      "11610/11610 [==============================] - 1s 108us/sample - loss: 1.3440 - val_loss: 1.3164\n",
      "Epoch 16/30\n",
      "11610/11610 [==============================] - 1s 112us/sample - loss: 1.3424 - val_loss: 1.3151\n",
      "Epoch 17/30\n",
      "11610/11610 [==============================] - 1s 114us/sample - loss: 1.3435 - val_loss: 1.3193\n",
      "Epoch 18/30\n",
      "11610/11610 [==============================] - 1s 116us/sample - loss: 1.3431 - val_loss: 1.3194\n",
      "Epoch 19/30\n",
      "11610/11610 [==============================] - 1s 113us/sample - loss: 1.3424 - val_loss: 1.3175\n",
      "Epoch 20/30\n",
      "11610/11610 [==============================] - 1s 109us/sample - loss: 1.3432 - val_loss: 1.3150\n",
      "Epoch 21/30\n",
      "11610/11610 [==============================] - 2s 144us/sample - loss: 1.3433 - val_loss: 1.3179\n",
      "Epoch 22/30\n",
      "11610/11610 [==============================] - 1s 109us/sample - loss: 1.3423 - val_loss: 1.3265\n",
      "Epoch 23/30\n",
      "11610/11610 [==============================] - 2s 152us/sample - loss: 1.3425 - val_loss: 1.3205\n",
      "Epoch 24/30\n",
      "11610/11610 [==============================] - 1s 89us/sample - loss: 1.3417 - val_loss: 1.3150\n",
      "Epoch 25/30\n",
      "11610/11610 [==============================] - 1s 102us/sample - loss: 1.3425 - val_loss: 1.3302\n",
      "Epoch 26/30\n",
      "11610/11610 [==============================] - 1s 99us/sample - loss: 1.3427 - val_loss: 1.3153\n",
      "Epoch 27/30\n",
      "11610/11610 [==============================] - 1s 93us/sample - loss: 1.3420 - val_loss: 1.3157\n",
      "Epoch 28/30\n",
      "11610/11610 [==============================] - 1s 127us/sample - loss: 1.3425 - val_loss: 1.3189\n",
      "Epoch 29/30\n",
      "11610/11610 [==============================] - 1s 123us/sample - loss: 1.3430 - val_loss: 1.3287\n",
      "Epoch 30/30\n",
      "11610/11610 [==============================] - 1s 100us/sample - loss: 1.3420 - val_loss: 1.3304\n"
     ]
    }
   ],
   "source": [
    "run_logdir2 = get_run_logdir()\n",
    "\n",
    "keras.backend.clear_session()\n",
    "np.random.seed(42)\n",
    "tf.random.set_seed(42)\n",
    "\n",
    "model = keras.models.Sequential([\n",
    "    keras.layers.Dense(30, activation=\"relu\", input_shape=[8]),\n",
    "    keras.layers.Dense(30, activation=\"relu\"),\n",
    "    keras.layers.Dense(1)\n",
    "])    \n",
    "model.compile(loss=\"mse\", optimizer=keras.optimizers.SGD(lr=0.05))\n",
    "\n",
    "tensorboard_cb = keras.callbacks.TensorBoard(run_logdir2)\n",
    "history = model.fit(X_train, y_train, epochs=30,\n",
    "                    validation_data=(X_valid, y_valid),\n",
    "                    callbacks=[checkpoint_cb, tensorboard_cb])"
   ]
  },
  {
   "cell_type": "code",
   "execution_count": 105,
   "metadata": {},
   "outputs": [
    {
     "name": "stdout",
     "output_type": "stream",
     "text": [
      "Help on class TensorBoard in module tensorflow.python.keras.callbacks:\n",
      "\n",
      "class TensorBoard(Callback)\n",
      " |  Enable visualizations for TensorBoard.\n",
      " |  \n",
      " |  TensorBoard is a visualization tool provided with TensorFlow.\n",
      " |  \n",
      " |  This callback logs events for TensorBoard, including:\n",
      " |  \n",
      " |  * Metrics summary plots\n",
      " |  * Training graph visualization\n",
      " |  * Activation histograms\n",
      " |  * Sampled profiling\n",
      " |  \n",
      " |  If you have installed TensorFlow with pip, you should be able\n",
      " |  to launch TensorBoard from the command line:\n",
      " |  \n",
      " |  ```sh\n",
      " |  tensorboard --logdir=path_to_your_logs\n",
      " |  ```\n",
      " |  \n",
      " |  You can find more information about TensorBoard\n",
      " |  [here](https://www.tensorflow.org/get_started/summaries_and_tensorboard).\n",
      " |  \n",
      " |  Arguments:\n",
      " |      log_dir: the path of the directory where to save the log files to be\n",
      " |        parsed by TensorBoard.\n",
      " |      histogram_freq: frequency (in epochs) at which to compute activation and\n",
      " |        weight histograms for the layers of the model. If set to 0, histograms\n",
      " |        won't be computed. Validation data (or split) must be specified for\n",
      " |        histogram visualizations.\n",
      " |      write_graph: whether to visualize the graph in TensorBoard. The log file\n",
      " |        can become quite large when write_graph is set to True.\n",
      " |      write_images: whether to write model weights to visualize as image in\n",
      " |        TensorBoard.\n",
      " |      update_freq: `'batch'` or `'epoch'` or integer. When using `'batch'`,\n",
      " |        writes the losses and metrics to TensorBoard after each batch. The same\n",
      " |        applies for `'epoch'`. If using an integer, let's say `1000`, the\n",
      " |        callback will write the metrics and losses to TensorBoard every 1000\n",
      " |        batches. Note that writing too frequently to TensorBoard can slow down\n",
      " |        your training.\n",
      " |      profile_batch: Profile the batch to sample compute characteristics. By\n",
      " |        default, it will profile the second batch. Set profile_batch=0 to\n",
      " |        disable profiling. Must run in TensorFlow eager mode.\n",
      " |      embeddings_freq: frequency (in epochs) at which embedding layers will\n",
      " |        be visualized. If set to 0, embeddings won't be visualized.\n",
      " |      embeddings_metadata: a dictionary which maps layer name to a file name in\n",
      " |        which metadata for this embedding layer is saved. See the\n",
      " |        [details](\n",
      " |          https://www.tensorflow.org/how_tos/embedding_viz/#metadata_optional)\n",
      " |        about metadata files format. In case if the same metadata file is\n",
      " |        used for all embedding layers, string can be passed.\n",
      " |  \n",
      " |  Raises:\n",
      " |      ValueError: If histogram_freq is set and no validation data is provided.\n",
      " |  \n",
      " |  Method resolution order:\n",
      " |      TensorBoard\n",
      " |      Callback\n",
      " |      builtins.object\n",
      " |  \n",
      " |  Methods defined here:\n",
      " |  \n",
      " |  __init__(self, log_dir='logs', histogram_freq=0, write_graph=True, write_images=False, update_freq='epoch', profile_batch=2, embeddings_freq=0, embeddings_metadata=None, **kwargs)\n",
      " |      Initialize self.  See help(type(self)) for accurate signature.\n",
      " |  \n",
      " |  on_epoch_begin(self, epoch, logs=None)\n",
      " |      Called at the start of an epoch.\n",
      " |      \n",
      " |      Subclasses should override for any actions to run. This function should only\n",
      " |      be called during TRAIN mode.\n",
      " |      \n",
      " |      Arguments:\n",
      " |          epoch: integer, index of epoch.\n",
      " |          logs: dict. Currently no data is passed to this argument for this method\n",
      " |            but that may change in the future.\n",
      " |  \n",
      " |  on_epoch_end(self, epoch, logs=None)\n",
      " |      Runs metrics and histogram summaries at epoch end.\n",
      " |  \n",
      " |  on_test_batch_end(self, batch, logs=None)\n",
      " |      Called at the end of a batch in `evaluate` methods.\n",
      " |      \n",
      " |      Also called at the end of a validation batch in the `fit`\n",
      " |      methods, if validation data is provided.\n",
      " |      \n",
      " |      Subclasses should override for any actions to run.\n",
      " |      \n",
      " |      Arguments:\n",
      " |          batch: integer, index of batch within the current epoch.\n",
      " |          logs: dict. Metric results for this batch.\n",
      " |  \n",
      " |  on_test_begin(self, logs=None)\n",
      " |      Called at the beginning of evaluation or validation.\n",
      " |      \n",
      " |      Subclasses should override for any actions to run.\n",
      " |      \n",
      " |      Arguments:\n",
      " |          logs: dict. Currently no data is passed to this argument for this method\n",
      " |            but that may change in the future.\n",
      " |  \n",
      " |  on_train_batch_end(self, batch, logs=None)\n",
      " |      Writes scalar summaries for metrics on every training batch.\n",
      " |      \n",
      " |      Performs profiling if current batch is in profiler_batches.\n",
      " |      \n",
      " |      Arguments:\n",
      " |        batch: Integer, index of batch within the current epoch.\n",
      " |        logs: Dict. Metric results for this batch.\n",
      " |  \n",
      " |  on_train_begin(self, logs=None)\n",
      " |      Called at the beginning of training.\n",
      " |      \n",
      " |      Subclasses should override for any actions to run.\n",
      " |      \n",
      " |      Arguments:\n",
      " |          logs: dict. Currently no data is passed to this argument for this method\n",
      " |            but that may change in the future.\n",
      " |  \n",
      " |  on_train_end(self, logs=None)\n",
      " |      Called at the end of training.\n",
      " |      \n",
      " |      Subclasses should override for any actions to run.\n",
      " |      \n",
      " |      Arguments:\n",
      " |          logs: dict. Currently no data is passed to this argument for this method\n",
      " |            but that may change in the future.\n",
      " |  \n",
      " |  set_model(self, model)\n",
      " |      Sets Keras model and writes graph if specified.\n",
      " |  \n",
      " |  ----------------------------------------------------------------------\n",
      " |  Methods inherited from Callback:\n",
      " |  \n",
      " |  on_batch_begin(self, batch, logs=None)\n",
      " |      A backwards compatibility alias for `on_train_batch_begin`.\n",
      " |  \n",
      " |  on_batch_end(self, batch, logs=None)\n",
      " |      A backwards compatibility alias for `on_train_batch_end`.\n",
      " |  \n",
      " |  on_predict_batch_begin(self, batch, logs=None)\n",
      " |      Called at the beginning of a batch in `predict` methods.\n",
      " |      \n",
      " |      Subclasses should override for any actions to run.\n",
      " |      \n",
      " |      Arguments:\n",
      " |          batch: integer, index of batch within the current epoch.\n",
      " |          logs: dict. Has keys `batch` and `size` representing the current batch\n",
      " |            number and the size of the batch.\n",
      " |  \n",
      " |  on_predict_batch_end(self, batch, logs=None)\n",
      " |      Called at the end of a batch in `predict` methods.\n",
      " |      \n",
      " |      Subclasses should override for any actions to run.\n",
      " |      \n",
      " |      Arguments:\n",
      " |          batch: integer, index of batch within the current epoch.\n",
      " |          logs: dict. Metric results for this batch.\n",
      " |  \n",
      " |  on_predict_begin(self, logs=None)\n",
      " |      Called at the beginning of prediction.\n",
      " |      \n",
      " |      Subclasses should override for any actions to run.\n",
      " |      \n",
      " |      Arguments:\n",
      " |          logs: dict. Currently no data is passed to this argument for this method\n",
      " |            but that may change in the future.\n",
      " |  \n",
      " |  on_predict_end(self, logs=None)\n",
      " |      Called at the end of prediction.\n",
      " |      \n",
      " |      Subclasses should override for any actions to run.\n",
      " |      \n",
      " |      Arguments:\n",
      " |          logs: dict. Currently no data is passed to this argument for this method\n",
      " |            but that may change in the future.\n",
      " |  \n",
      " |  on_test_batch_begin(self, batch, logs=None)\n",
      " |      Called at the beginning of a batch in `evaluate` methods.\n",
      " |      \n",
      " |      Also called at the beginning of a validation batch in the `fit`\n",
      " |      methods, if validation data is provided.\n",
      " |      \n",
      " |      Subclasses should override for any actions to run.\n",
      " |      \n",
      " |      Arguments:\n",
      " |          batch: integer, index of batch within the current epoch.\n",
      " |          logs: dict. Has keys `batch` and `size` representing the current batch\n",
      " |            number and the size of the batch.\n",
      " |  \n",
      " |  on_test_end(self, logs=None)\n",
      " |      Called at the end of evaluation or validation.\n",
      " |      \n",
      " |      Subclasses should override for any actions to run.\n",
      " |      \n",
      " |      Arguments:\n",
      " |          logs: dict. Currently no data is passed to this argument for this method\n",
      " |            but that may change in the future.\n",
      " |  \n",
      " |  on_train_batch_begin(self, batch, logs=None)\n",
      " |      Called at the beginning of a training batch in `fit` methods.\n",
      " |      \n",
      " |      Subclasses should override for any actions to run.\n",
      " |      \n",
      " |      Arguments:\n",
      " |          batch: integer, index of batch within the current epoch.\n",
      " |          logs: dict. Has keys `batch` and `size` representing the current batch\n",
      " |            number and the size of the batch.\n",
      " |  \n",
      " |  set_params(self, params)\n",
      " |  \n",
      " |  ----------------------------------------------------------------------\n",
      " |  Data descriptors inherited from Callback:\n",
      " |  \n",
      " |  __dict__\n",
      " |      dictionary for instance variables (if defined)\n",
      " |  \n",
      " |  __weakref__\n",
      " |      list of weak references to the object (if defined)\n",
      "\n"
     ]
    }
   ],
   "source": [
    "help(keras.callbacks.TensorBoard)"
   ]
  },
  {
   "cell_type": "markdown",
   "metadata": {},
   "source": [
    "# Fine-Tuning Neural Network Hyperparameters "
   ]
  },
  {
   "cell_type": "code",
   "execution_count": 4,
   "metadata": {},
   "outputs": [],
   "source": [
    "keras.backend.clear_session()\n",
    "np.random.seed(42)\n",
    "tf.random.set_seed(42)"
   ]
  },
  {
   "cell_type": "code",
   "execution_count": 5,
   "metadata": {},
   "outputs": [],
   "source": [
    "def build_model(n_hidden=1, n_neurons=30, learning_rate=3e-3, input_shape=[8]):\n",
    "    model = keras.models.Sequential()\n",
    "    model.add(keras.layers.InputLayer(input_shape=input_shape))\n",
    "    for layer in range(n_hidden):\n",
    "        model.add(keras.layers.Dense(n_neurons, activation=\"relu\"))\n",
    "    model.add(keras.layers.Dense(1))\n",
    "    optimizer = keras.optimizers.SGD(lr=learning_rate)\n",
    "    model.compile(loss=\"mse\", optimizer=optimizer)\n",
    "    return model"
   ]
  },
  {
   "cell_type": "code",
   "execution_count": 6,
   "metadata": {},
   "outputs": [],
   "source": [
    "keras_reg = keras.wrappers.scikit_learn.KerasRegressor(build_model)"
   ]
  },
  {
   "cell_type": "code",
   "execution_count": 23,
   "metadata": {},
   "outputs": [
    {
     "name": "stdout",
     "output_type": "stream",
     "text": [
      "Train on 11610 samples, validate on 3870 samples\n",
      "Epoch 1/100\n",
      "11610/11610 [==============================] - 1s 118us/sample - loss: 1.1263 - val_loss: 5.9144\n",
      "Epoch 2/100\n",
      "11610/11610 [==============================] - 1s 103us/sample - loss: 0.7336 - val_loss: 2.9731\n",
      "Epoch 3/100\n",
      "11610/11610 [==============================] - 1s 96us/sample - loss: 0.5911 - val_loss: 0.7297\n",
      "Epoch 4/100\n",
      "11610/11610 [==============================] - 1s 98us/sample - loss: 0.5134 - val_loss: 0.4915\n",
      "Epoch 5/100\n",
      "11610/11610 [==============================] - 1s 101us/sample - loss: 0.4706 - val_loss: 0.4252\n",
      "Epoch 6/100\n",
      "11610/11610 [==============================] - 1s 100us/sample - loss: 0.4471 - val_loss: 0.4486\n",
      "Epoch 7/100\n",
      "11610/11610 [==============================] - 1s 100us/sample - loss: 0.4322 - val_loss: 0.4001\n",
      "Epoch 8/100\n",
      "11610/11610 [==============================] - 1s 89us/sample - loss: 0.4219 - val_loss: 0.3877\n",
      "Epoch 9/100\n",
      "11610/11610 [==============================] - 1s 104us/sample - loss: 0.4140 - val_loss: 0.4441\n",
      "Epoch 10/100\n",
      "11610/11610 [==============================] - 1s 105us/sample - loss: 0.4088 - val_loss: 0.3798\n",
      "Epoch 11/100\n",
      "11610/11610 [==============================] - 1s 103us/sample - loss: 0.4037 - val_loss: 0.3831\n",
      "Epoch 12/100\n",
      "11610/11610 [==============================] - 1s 103us/sample - loss: 0.3991 - val_loss: 0.3805\n",
      "Epoch 13/100\n",
      "11610/11610 [==============================] - 1s 104us/sample - loss: 0.3955 - val_loss: 0.3709\n",
      "Epoch 14/100\n",
      "11610/11610 [==============================] - 1s 103us/sample - loss: 0.3930 - val_loss: 0.3673\n",
      "Epoch 15/100\n",
      "11610/11610 [==============================] - 1s 114us/sample - loss: 0.3898 - val_loss: 0.5462\n",
      "Epoch 16/100\n",
      "11610/11610 [==============================] - 1s 105us/sample - loss: 0.3889 - val_loss: 0.5165\n",
      "Epoch 17/100\n",
      "11610/11610 [==============================] - 1s 103us/sample - loss: 0.3868 - val_loss: 0.3881\n",
      "Epoch 18/100\n",
      "11610/11610 [==============================] - 1s 110us/sample - loss: 0.3834 - val_loss: 0.3750\n",
      "Epoch 19/100\n",
      "11610/11610 [==============================] - 1s 110us/sample - loss: 0.3818 - val_loss: 0.3719\n",
      "Epoch 20/100\n",
      "11610/11610 [==============================] - 1s 106us/sample - loss: 0.3795 - val_loss: 0.5413\n",
      "Epoch 21/100\n",
      "11610/11610 [==============================] - 1s 103us/sample - loss: 0.3797 - val_loss: 0.4067\n",
      "Epoch 22/100\n",
      "11610/11610 [==============================] - 1s 105us/sample - loss: 0.3763 - val_loss: 0.5872\n",
      "Epoch 23/100\n",
      "11610/11610 [==============================] - 1s 104us/sample - loss: 0.3774 - val_loss: 0.4639\n",
      "Epoch 24/100\n",
      "11610/11610 [==============================] - 1s 104us/sample - loss: 0.3746 - val_loss: 0.3587\n",
      "Epoch 25/100\n",
      "11610/11610 [==============================] - 1s 102us/sample - loss: 0.3728 - val_loss: 0.3602\n",
      "Epoch 26/100\n",
      "11610/11610 [==============================] - 1s 100us/sample - loss: 0.3713 - val_loss: 0.3856\n",
      "Epoch 27/100\n",
      "11610/11610 [==============================] - 1s 105us/sample - loss: 0.3700 - val_loss: 0.3832\n",
      "Epoch 28/100\n",
      "11610/11610 [==============================] - 1s 104us/sample - loss: 0.3695 - val_loss: 0.3448\n",
      "Epoch 29/100\n",
      "11610/11610 [==============================] - 1s 104us/sample - loss: 0.3672 - val_loss: 0.5228\n",
      "Epoch 30/100\n",
      "11610/11610 [==============================] - 1s 92us/sample - loss: 0.3685 - val_loss: 0.3423\n",
      "Epoch 31/100\n",
      "11610/11610 [==============================] - 1s 94us/sample - loss: 0.3661 - val_loss: 0.3459\n",
      "Epoch 32/100\n",
      "11610/11610 [==============================] - 1s 89us/sample - loss: 0.3655 - val_loss: 0.3401\n",
      "Epoch 33/100\n",
      "11610/11610 [==============================] - 1s 91us/sample - loss: 0.3644 - val_loss: 0.4397\n",
      "Epoch 34/100\n",
      "11610/11610 [==============================] - 1s 93us/sample - loss: 0.3658 - val_loss: 0.4716\n",
      "Epoch 35/100\n",
      "11610/11610 [==============================] - 1s 101us/sample - loss: 0.3634 - val_loss: 0.5003\n",
      "Epoch 36/100\n",
      "11610/11610 [==============================] - 1s 98us/sample - loss: 0.3637 - val_loss: 0.5862\n",
      "Epoch 37/100\n",
      "11610/11610 [==============================] - 1s 100us/sample - loss: 0.3627 - val_loss: 0.8366\n",
      "Epoch 38/100\n",
      "11610/11610 [==============================] - 1s 101us/sample - loss: 0.3655 - val_loss: 0.6237\n",
      "Epoch 39/100\n",
      "11610/11610 [==============================] - 1s 107us/sample - loss: 0.3621 - val_loss: 0.9463\n",
      "Epoch 40/100\n",
      "11610/11610 [==============================] - 1s 106us/sample - loss: 0.3659 - val_loss: 0.7562\n",
      "Epoch 41/100\n",
      "11610/11610 [==============================] - 1s 101us/sample - loss: 0.3620 - val_loss: 1.0861\n",
      "Epoch 42/100\n",
      "11610/11610 [==============================] - 1s 93us/sample - loss: 0.3670 - val_loss: 0.6755\n",
      "5160/5160 [==============================] - 0s 44us/sample - loss: 0.3643\n"
     ]
    },
    {
     "data": {
      "text/plain": [
       "-0.3643039729706077"
      ]
     },
     "execution_count": 23,
     "metadata": {},
     "output_type": "execute_result"
    }
   ],
   "source": [
    "keras_reg.fit(X_train, y_train, epochs=100,\n",
    "              validation_data=(X_valid, y_valid),\n",
    "              callbacks=[keras.callbacks.EarlyStopping(patience=10)])\n",
    "keras_reg.score(X_test, y_test)"
   ]
  },
  {
   "cell_type": "markdown",
   "metadata": {},
   "source": [
    "**Выполним поиск гиперпараметров (кол-ва скрытых слое, нейронов, learning_rage)**"
   ]
  },
  {
   "cell_type": "code",
   "execution_count": 26,
   "metadata": {},
   "outputs": [],
   "source": [
    "np.random.seed(42)\n",
    "tf.random.set_seed(42)"
   ]
  },
  {
   "cell_type": "code",
   "execution_count": 28,
   "metadata": {},
   "outputs": [
    {
     "name": "stdout",
     "output_type": "stream",
     "text": [
      "Fitting 3 folds for each of 10 candidates, totalling 30 fits\n"
     ]
    },
    {
     "name": "stderr",
     "output_type": "stream",
     "text": [
      "[Parallel(n_jobs=-1)]: Using backend LokyBackend with 4 concurrent workers.\n",
      "[Parallel(n_jobs=-1)]: Done  30 out of  30 | elapsed: 11.1min finished\n"
     ]
    },
    {
     "ename": "RuntimeError",
     "evalue": "Cannot clone object <tensorflow.python.keras.wrappers.scikit_learn.KerasRegressor object at 0x7f061043f828>, as the constructor either does not set or modifies parameter learning_rate",
     "output_type": "error",
     "traceback": [
      "\u001b[0;31m---------------------------------------------------------------------------\u001b[0m",
      "\u001b[0;31mRuntimeError\u001b[0m                              Traceback (most recent call last)",
      "\u001b[0;32m<ipython-input-28-8a89ecdc6981>\u001b[0m in \u001b[0;36m<module>\u001b[0;34m\u001b[0m\n\u001b[1;32m     11\u001b[0m rnd_search_cv.fit(X_train, y_train, epochs=100,\n\u001b[1;32m     12\u001b[0m                   \u001b[0mvalidation_data\u001b[0m\u001b[0;34m=\u001b[0m\u001b[0;34m(\u001b[0m\u001b[0mX_valid\u001b[0m\u001b[0;34m,\u001b[0m \u001b[0my_valid\u001b[0m\u001b[0;34m)\u001b[0m\u001b[0;34m,\u001b[0m\u001b[0;34m\u001b[0m\u001b[0;34m\u001b[0m\u001b[0m\n\u001b[0;32m---> 13\u001b[0;31m                   callbacks=[keras.callbacks.EarlyStopping(patience=10)])\n\u001b[0m",
      "\u001b[0;32m~/venv/lib/python3.6/site-packages/sklearn/model_selection/_search.py\u001b[0m in \u001b[0;36mfit\u001b[0;34m(self, X, y, groups, **fit_params)\u001b[0m\n\u001b[1;32m    734\u001b[0m             \u001b[0;31m# of the params are estimators as well.\u001b[0m\u001b[0;34m\u001b[0m\u001b[0;34m\u001b[0m\u001b[0;34m\u001b[0m\u001b[0m\n\u001b[1;32m    735\u001b[0m             self.best_estimator_ = clone(clone(base_estimator).set_params(\n\u001b[0;32m--> 736\u001b[0;31m                 **self.best_params_))\n\u001b[0m\u001b[1;32m    737\u001b[0m             \u001b[0mrefit_start_time\u001b[0m \u001b[0;34m=\u001b[0m \u001b[0mtime\u001b[0m\u001b[0;34m.\u001b[0m\u001b[0mtime\u001b[0m\u001b[0;34m(\u001b[0m\u001b[0;34m)\u001b[0m\u001b[0;34m\u001b[0m\u001b[0;34m\u001b[0m\u001b[0m\n\u001b[1;32m    738\u001b[0m             \u001b[0;32mif\u001b[0m \u001b[0my\u001b[0m \u001b[0;32mis\u001b[0m \u001b[0;32mnot\u001b[0m \u001b[0;32mNone\u001b[0m\u001b[0;34m:\u001b[0m\u001b[0;34m\u001b[0m\u001b[0;34m\u001b[0m\u001b[0m\n",
      "\u001b[0;32m~/venv/lib/python3.6/site-packages/sklearn/base.py\u001b[0m in \u001b[0;36mclone\u001b[0;34m(estimator, safe)\u001b[0m\n\u001b[1;32m     80\u001b[0m             raise RuntimeError('Cannot clone object %s, as the constructor '\n\u001b[1;32m     81\u001b[0m                                \u001b[0;34m'either does not set or modifies parameter %s'\u001b[0m \u001b[0;34m%\u001b[0m\u001b[0;34m\u001b[0m\u001b[0;34m\u001b[0m\u001b[0m\n\u001b[0;32m---> 82\u001b[0;31m                                (estimator, name))\n\u001b[0m\u001b[1;32m     83\u001b[0m     \u001b[0;32mreturn\u001b[0m \u001b[0mnew_object\u001b[0m\u001b[0;34m\u001b[0m\u001b[0;34m\u001b[0m\u001b[0m\n\u001b[1;32m     84\u001b[0m \u001b[0;34m\u001b[0m\u001b[0m\n",
      "\u001b[0;31mRuntimeError\u001b[0m: Cannot clone object <tensorflow.python.keras.wrappers.scikit_learn.KerasRegressor object at 0x7f061043f828>, as the constructor either does not set or modifies parameter learning_rate"
     ]
    }
   ],
   "source": [
    "from scipy.stats import reciprocal\n",
    "from sklearn.model_selection import RandomizedSearchCV\n",
    "\n",
    "param_distribs = {\n",
    "    \"n_hidden\": [0, 1, 2, 3],\n",
    "    \"n_neurons\": np.arange(1, 100),\n",
    "    \"learning_rate\": reciprocal(3e-4, 3e-2),\n",
    "}\n",
    "\n",
    "rnd_search_cv = RandomizedSearchCV(keras_reg, param_distribs, n_iter=10, cv=3, verbose=2, n_jobs=-1)\n",
    "rnd_search_cv.fit(X_train, y_train, epochs=100,\n",
    "                  validation_data=(X_valid, y_valid),\n",
    "                  callbacks=[keras.callbacks.EarlyStopping(patience=10)])"
   ]
  },
  {
   "cell_type": "markdown",
   "metadata": {},
   "source": [
    "**Warning**: the following cell crashes at the end of training. This seems to be caused by [Keras issue #13586](https://github.com/keras-team/keras/issues/13586), which was triggered by a recent change in Scikit-Learn. [Pull Request #13598](https://github.com/keras-team/keras/pull/13598) seems to fix the issue, so this problem should be resolved soon."
   ]
  },
  {
   "cell_type": "code",
   "execution_count": 44,
   "metadata": {},
   "outputs": [
    {
     "data": {
      "text/plain": [
       "{'learning_rate': 0.0051747964719537, 'n_hidden': 3, 'n_neurons': 55}"
      ]
     },
     "execution_count": 44,
     "metadata": {},
     "output_type": "execute_result"
    }
   ],
   "source": [
    "p=rnd_search_cv.best_params_\n",
    "p"
   ]
  },
  {
   "cell_type": "code",
   "execution_count": 66,
   "metadata": {},
   "outputs": [
    {
     "data": {
      "text/plain": [
       "-0.3032503451051433"
      ]
     },
     "execution_count": 66,
     "metadata": {},
     "output_type": "execute_result"
    }
   ],
   "source": [
    "rnd_search_cv.best_score_"
   ]
  },
  {
   "cell_type": "code",
   "execution_count": null,
   "metadata": {},
   "outputs": [],
   "source": []
  },
  {
   "cell_type": "code",
   "execution_count": 80,
   "metadata": {},
   "outputs": [
    {
     "name": "stdout",
     "output_type": "stream",
     "text": [
      "Train on 11610 samples, validate on 3870 samples\n",
      "Epoch 1/100\n",
      "11610/11610 [==============================] - 2s 140us/sample - loss: 0.8924 - val_loss: 2.1137\n",
      "Epoch 2/100\n",
      "11610/11610 [==============================] - 1s 104us/sample - loss: 0.4620 - val_loss: 0.3860\n",
      "Epoch 3/100\n",
      "11610/11610 [==============================] - 1s 100us/sample - loss: 0.4007 - val_loss: 0.3841\n",
      "Epoch 4/100\n",
      "11610/11610 [==============================] - 1s 107us/sample - loss: 0.3802 - val_loss: 0.3808\n",
      "Epoch 5/100\n",
      "11610/11610 [==============================] - 1s 108us/sample - loss: 0.3679 - val_loss: 0.3962\n",
      "Epoch 6/100\n",
      "11610/11610 [==============================] - 1s 110us/sample - loss: 0.3606 - val_loss: 0.3836\n",
      "Epoch 7/100\n",
      "11610/11610 [==============================] - 1s 104us/sample - loss: 0.3543 - val_loss: 0.3672\n",
      "Epoch 8/100\n",
      "11610/11610 [==============================] - 1s 108us/sample - loss: 0.3492 - val_loss: 0.3536\n",
      "Epoch 9/100\n",
      "11610/11610 [==============================] - 1s 109us/sample - loss: 0.3446 - val_loss: 0.3652\n",
      "Epoch 10/100\n",
      "11610/11610 [==============================] - 1s 109us/sample - loss: 0.3414 - val_loss: 0.3526\n",
      "Epoch 11/100\n",
      "11610/11610 [==============================] - 1s 107us/sample - loss: 0.3382 - val_loss: 0.3421\n",
      "Epoch 12/100\n",
      "11610/11610 [==============================] - 1s 104us/sample - loss: 0.3351 - val_loss: 0.3437\n",
      "Epoch 13/100\n",
      "11610/11610 [==============================] - 1s 107us/sample - loss: 0.3319 - val_loss: 0.3377\n",
      "Epoch 14/100\n",
      "11610/11610 [==============================] - 1s 106us/sample - loss: 0.3287 - val_loss: 0.3357\n",
      "Epoch 15/100\n",
      "11610/11610 [==============================] - 1s 102us/sample - loss: 0.3274 - val_loss: 0.3621\n",
      "Epoch 16/100\n",
      "11610/11610 [==============================] - 1s 104us/sample - loss: 0.3249 - val_loss: 0.3138\n",
      "Epoch 17/100\n",
      "11610/11610 [==============================] - 1s 107us/sample - loss: 0.3236 - val_loss: 0.3115\n",
      "Epoch 18/100\n",
      "11610/11610 [==============================] - 1s 109us/sample - loss: 0.3214 - val_loss: 0.3391\n",
      "Epoch 19/100\n",
      "11610/11610 [==============================] - 1s 109us/sample - loss: 0.3189 - val_loss: 0.3089\n",
      "Epoch 20/100\n",
      "11610/11610 [==============================] - 1s 108us/sample - loss: 0.3160 - val_loss: 0.3346\n",
      "Epoch 21/100\n",
      "11610/11610 [==============================] - 1s 115us/sample - loss: 0.3147 - val_loss: 0.3199\n",
      "Epoch 22/100\n",
      "11610/11610 [==============================] - 1s 106us/sample - loss: 0.3124 - val_loss: 0.3512\n",
      "Epoch 23/100\n",
      "11610/11610 [==============================] - 1s 117us/sample - loss: 0.3105 - val_loss: 0.2974\n",
      "Epoch 24/100\n",
      "11610/11610 [==============================] - 1s 105us/sample - loss: 0.3092 - val_loss: 0.3091\n",
      "Epoch 25/100\n",
      "11610/11610 [==============================] - 1s 109us/sample - loss: 0.3066 - val_loss: 0.3028\n",
      "Epoch 26/100\n",
      "11610/11610 [==============================] - 1s 107us/sample - loss: 0.3054 - val_loss: 0.3347\n",
      "Epoch 27/100\n",
      "11610/11610 [==============================] - 1s 112us/sample - loss: 0.3033 - val_loss: 0.3222\n",
      "Epoch 28/100\n",
      "11610/11610 [==============================] - 1s 108us/sample - loss: 0.3017 - val_loss: 0.3109\n",
      "Epoch 29/100\n",
      "11610/11610 [==============================] - 1s 105us/sample - loss: 0.3001 - val_loss: 0.3537\n",
      "Epoch 30/100\n",
      "11610/11610 [==============================] - 1s 104us/sample - loss: 0.2985 - val_loss: 0.3554\n",
      "Epoch 31/100\n",
      "11610/11610 [==============================] - 1s 106us/sample - loss: 0.2978 - val_loss: 0.2867\n",
      "Epoch 32/100\n",
      "11610/11610 [==============================] - 1s 108us/sample - loss: 0.2963 - val_loss: 0.3227\n",
      "Epoch 33/100\n",
      "11610/11610 [==============================] - 1s 112us/sample - loss: 0.2940 - val_loss: 0.2915\n",
      "Epoch 34/100\n",
      "11610/11610 [==============================] - 1s 106us/sample - loss: 0.2935 - val_loss: 0.2881\n",
      "Epoch 35/100\n",
      "11610/11610 [==============================] - 1s 103us/sample - loss: 0.2906 - val_loss: 0.3688\n",
      "Epoch 36/100\n",
      "11610/11610 [==============================] - 1s 104us/sample - loss: 0.2897 - val_loss: 0.2906\n",
      "Epoch 37/100\n",
      "11610/11610 [==============================] - 1s 109us/sample - loss: 0.2903 - val_loss: 0.3223\n",
      "Epoch 38/100\n",
      "11610/11610 [==============================] - 1s 107us/sample - loss: 0.2874 - val_loss: 0.2847\n",
      "Epoch 39/100\n",
      "11610/11610 [==============================] - 1s 104us/sample - loss: 0.2860 - val_loss: 0.3481\n",
      "Epoch 40/100\n",
      "11610/11610 [==============================] - 1s 116us/sample - loss: 0.2847 - val_loss: 0.2848\n",
      "Epoch 41/100\n",
      "11610/11610 [==============================] - 1s 108us/sample - loss: 0.2837 - val_loss: 0.3532\n",
      "Epoch 42/100\n",
      "11610/11610 [==============================] - 1s 106us/sample - loss: 0.2826 - val_loss: 0.2950\n",
      "Epoch 43/100\n",
      "11610/11610 [==============================] - 1s 113us/sample - loss: 0.2823 - val_loss: 0.2848\n",
      "Epoch 44/100\n",
      "11610/11610 [==============================] - 1s 114us/sample - loss: 0.2801 - val_loss: 0.2787\n",
      "Epoch 45/100\n",
      "11610/11610 [==============================] - 1s 108us/sample - loss: 0.2790 - val_loss: 0.2848\n",
      "Epoch 46/100\n",
      "11610/11610 [==============================] - 1s 104us/sample - loss: 0.2775 - val_loss: 0.2929\n",
      "Epoch 47/100\n",
      "11610/11610 [==============================] - 1s 106us/sample - loss: 0.2752 - val_loss: 0.3790\n",
      "Epoch 48/100\n",
      "11610/11610 [==============================] - 1s 112us/sample - loss: 0.2758 - val_loss: 0.2754\n",
      "Epoch 49/100\n",
      "11610/11610 [==============================] - 1s 115us/sample - loss: 0.2751 - val_loss: 0.3033\n",
      "Epoch 50/100\n",
      "11610/11610 [==============================] - 1s 96us/sample - loss: 0.2739 - val_loss: 0.2796\n",
      "Epoch 51/100\n",
      "11610/11610 [==============================] - 1s 104us/sample - loss: 0.2729 - val_loss: 0.2836\n",
      "Epoch 52/100\n",
      "11610/11610 [==============================] - 1s 108us/sample - loss: 0.2725 - val_loss: 0.2785\n",
      "Epoch 53/100\n",
      "11610/11610 [==============================] - 1s 107us/sample - loss: 0.2715 - val_loss: 0.4051\n",
      "Epoch 54/100\n",
      "11610/11610 [==============================] - 1s 109us/sample - loss: 0.2713 - val_loss: 0.2775\n",
      "Epoch 55/100\n",
      "11610/11610 [==============================] - 1s 117us/sample - loss: 0.2689 - val_loss: 0.2820\n",
      "Epoch 56/100\n",
      "11610/11610 [==============================] - 1s 118us/sample - loss: 0.2681 - val_loss: 0.4290\n",
      "Epoch 57/100\n",
      "11610/11610 [==============================] - 1s 109us/sample - loss: 0.2683 - val_loss: 0.2933\n",
      "Epoch 58/100\n",
      "11610/11610 [==============================] - 1s 116us/sample - loss: 0.2692 - val_loss: 0.3376\n"
     ]
    }
   ],
   "source": [
    "best_model = build_model(learning_rate=p['learning_rate'],\n",
    "                         n_hidden=p['n_hidden'], n_neurons=p['n_neurons'])\n",
    "\n",
    "savebest_cb = keras.callbacks.ModelCheckpoint(\"my_keras__best_model1.h5\", save_best_only=True)\n",
    "\n",
    "history = best_model.fit(X_train, y_train, epochs=100,\n",
    "                    validation_data=(X_valid, y_valid),\n",
    "                    callbacks=[savebest_cb, keras.callbacks.EarlyStopping(patience=10)])\n",
    "\n",
    "best_model = keras.models.load_model(\"my_keras__best_model1.h5\") # rollback to best model"
   ]
  },
  {
   "cell_type": "code",
   "execution_count": 81,
   "metadata": {},
   "outputs": [
    {
     "name": "stdout",
     "output_type": "stream",
     "text": [
      "11610/11610 [==============================] - 1s 60us/sample - loss: 0.2717\n",
      "3870/3870 [==============================] - 0s 53us/sample - loss: 0.2754\n",
      "5160/5160 [==============================] - 0s 51us/sample - loss: 0.2890\n"
     ]
    },
    {
     "data": {
      "text/plain": [
       "0.2889712770548902"
      ]
     },
     "execution_count": 81,
     "metadata": {},
     "output_type": "execute_result"
    }
   ],
   "source": [
    "\n",
    "\n",
    "best_model.evaluate(X_train, y_train), \n",
    "best_model.evaluate(X_valid, y_valid), \n",
    "best_model.evaluate(X_test, y_test)"
   ]
  },
  {
   "cell_type": "code",
   "execution_count": 84,
   "metadata": {},
   "outputs": [
    {
     "data": {
      "text/plain": [
       "(array([0.477  , 0.458  , 5.00001, 2.186  , 2.78   ]),\n",
       " array([0.55692244, 1.458277  , 5.0225763 , 2.59173   , 2.8153281 ],\n",
       "       dtype=float32))"
      ]
     },
     "execution_count": 84,
     "metadata": {},
     "output_type": "execute_result"
    }
   ],
   "source": [
    "y_test[:5], best_model.predict(X_test[:5]).ravel()"
   ]
  },
  {
   "attachments": {
    "%D0%91%D0%B5%D0%B7%20%D0%B8%D0%BC%D0%B5%D0%BD%D0%B8.png": {
     "image/png": "[encoded data removed]"
    }
   },
   "cell_type": "markdown",
   "metadata": {},
   "source": [
    "# Tasks\n",
    "\n",
    "## task 2\n",
    "\n",
    "*Draw an ANN using the original artificial neurons that computes A ⊕ B (where ⊕ represents the XOR operation). Hint: A ⊕ B = (A ∧ ¬ B) ∨ (¬ A ∧ B).*\n",
    "\n",
    "![%D0%91%D0%B5%D0%B7%20%D0%B8%D0%BC%D0%B5%D0%BD%D0%B8.png](attachment:%D0%91%D0%B5%D0%B7%20%D0%B8%D0%BC%D0%B5%D0%BD%D0%B8.png)"
   ]
  },
  {
   "cell_type": "markdown",
   "metadata": {},
   "source": [
    "### task 3\n",
    "\n",
    "*Why is it generally preferable to use a Logistic Regression classifier rather than a classical Perceptron (i.e., a single layer of threshold logic units trained using the Perceptron training algorithm)? How can you tweak a Perceptron to make it equivalent to a Logistic Regression classifier?*\n",
    "\n",
    "Классический персептрон работает только с линейно разделяемыми данными и не возвращает вероятность принадлжености к классу в отличие от логистической регрессии. Чтобы перспетрон работал аналогично логистической регресии необходимо использовать функцию активации (логистическая функция или softmax) и использовать метод градиентного спуска минимизирующий фукнцию стоимости. \n",
    "\n",
    "### task 4\n",
    " \n",
    "*Why was the logistic activation function a key ingredient in training the first MLPs?*\n",
    "\n",
    "Потому, что при ее использовании простой персептрон очень похож на логистическую регрессию, а так же фукнция выгнутая и позволяет легко применять метод градиентного спуска. \n",
    "\n",
    "### task 5\n",
    "\n",
    "*Name three popular activation functions. Can you draw them?*\n",
    "\n",
    "- логистическая регрессия\n",
    "- ReLU: max(0, z)\n",
    "- hyperbolic tangent: 2σ(2z) – 1 \n",
    "\n",
    "### task 6\n",
    "\n",
    "*Suppose you have an MLP composed of one input layer with 10 passthrough neurons, followed by one hidden layer with 50 artificial neurons, and finally one output layer with 3 artificial neurons. All artificial neurons use the ReLU activation function.\n",
    "\n",
    "• What is the shape of the input matrix X?\n",
    "• What about the shape of the hidden layer’s weight vector Wh, and the shape of\n",
    "its bias vector bh?\n",
    "• What is the shape of the output layer’s weight vector Wo, and its bias vector bo?\n",
    "• What is the shape of the network’s output matrix Y?\n",
    "• Write the equation that computes the network’s output matrix Y as a function\n",
    "of X, Wh, bh, Wo and bo.\n",
    "*\n",
    "\n",
    "- входная матрица имеет размерность [mx10] (m - размерн набора)\n",
    "- Wh[10x50], bh[50]\n",
    "- Wo[50x3], bo[3]\n",
    "- [mx3]\n",
    "- (X*Wh + bh)*Wo + bo\n",
    "\n",
    "### task 7\n",
    "\n",
    "*How many neurons do you need in the output layer if you want to classify email into spam or ham? What activation function should you use in the output layer? If instead you want to tackle MNIST, how many neurons do you need in the output layer, using what activation function? Answer the same questions for getting your network to predict housing prices as in Chapter 2.*\n",
    "\n",
    "- 1 нейрон, логистическая функция\n",
    "- 10 нейронов, так же логистическая функция или sortmax\n",
    "- 1 нейрон, без фукнции активации\n",
    "\n",
    "### task 8\n",
    "\n",
    "*What is backpropagation and how does it work? What is the difference between backpropagation and reverse-mode autodiff?*\n",
    "\n",
    "Backpropagation is a technique used to train artificial neural networks. It first computes the gradients of the cost function with regards to every model parameter (all the weights and biases), and then it performs a Gradient Descent step using these gradients. This backpropagation step is typically performed thousands or millions of times, using many training batches, until the model parameters converge to values that (hopefully) minimize the cost function. To compute the gradients, backpropagation uses reverse-mode autodiff (although it wasn’t called that when backpropagation was invented, and it has been reinvented several times). Reverse-mode autodiff performs a forward pass through a computation graph, computing every node’s value for the current training batch, and then\n",
    "it performs a reverse pass, computing all the gradients at once (see Appendix D for more details). So what’s the difference? Well, backpropagation refers to the whole process of training an artificial neural network using multiple backpropagation steps, each of which computes gradients and uses them to perform a Gradient Descent step. In contrast, reverse-mode autodiff is a simply a technique to compute gradients efficiently, and it happens to be used by backpropagation.\n",
    "\n",
    "### task 9\n",
    "\n",
    "*Can you list all the hyperparameters you can tweak in an MLP? If the MLP overfits the training data, how could you tweak these hyperparameters to try to solve the problem?*\n",
    "\n",
    "- кол-во нейронов;\n",
    "- кол-во скрытых слоев\n",
    "- форма скрытых слоев (например, пирамида) - почти не используется;\n",
    "- learning rate\n",
    "- batch size\n",
    "- фукнции активации\n",
    "\n",
    "### task 10\n",
    "\n",
    "*Train a deep MLP on the MNIST dataset and see if you can get over 98% precision. Try adding all the bells and whistles (i.e., save checkpoints, use early stopping, plot learning curves using TensorBoard, and so on).*"
   ]
  },
  {
   "cell_type": "code",
   "execution_count": 1,
   "metadata": {},
   "outputs": [],
   "source": [
    "from sklearn.datasets import fetch_openml\n",
    "\n",
    "mnist = fetch_openml('mnist_784', version=1)"
   ]
  },
  {
   "cell_type": "code",
   "execution_count": 2,
   "metadata": {},
   "outputs": [],
   "source": [
    "x, y = mnist['data'], mnist['target'].astype(int)"
   ]
  },
  {
   "cell_type": "markdown",
   "metadata": {},
   "source": [
    "Отмасштабируем данные"
   ]
  },
  {
   "cell_type": "code",
   "execution_count": 32,
   "metadata": {},
   "outputs": [],
   "source": [
    "x_scalled = x / 255"
   ]
  },
  {
   "cell_type": "markdown",
   "metadata": {},
   "source": [
    "Применим алгоритм PCA, чтобы сократить размерность"
   ]
  },
  {
   "cell_type": "code",
   "execution_count": 68,
   "metadata": {},
   "outputs": [
    {
     "data": {
      "text/plain": [
       "(70000, 784)"
      ]
     },
     "execution_count": 68,
     "metadata": {},
     "output_type": "execute_result"
    }
   ],
   "source": [
    "#from sklearn.decomposition import PCA\n",
    "\n",
    "#pca = PCA(n_components=0.999)\n",
    "#x_pca = pca.fit_transform(x_scalled)\n",
    "\n",
    "\n",
    "x_pca = x_scalled\n",
    "x_pca.shape"
   ]
  },
  {
   "cell_type": "markdown",
   "metadata": {},
   "source": [
    "Разделим данные на все необходимые нам наборы"
   ]
  },
  {
   "cell_type": "code",
   "execution_count": 69,
   "metadata": {},
   "outputs": [],
   "source": [
    "m_train = 50000\n",
    "m_test  = 10000\n",
    "\n",
    "x_train, y_train = x_pca[:m_train],        y[:m_train]\n",
    "x_valid, y_valid = x_pca[m_train:-m_test], y[m_train:-m_test]\n",
    "x_test, y_test   = x_pca[-m_test:],        y[-m_test:]"
   ]
  },
  {
   "cell_type": "code",
   "execution_count": 84,
   "metadata": {},
   "outputs": [],
   "source": [
    "keras.backend.clear_session()\n",
    "np.random.seed(42)\n",
    "tf.random.set_seed(42)"
   ]
  },
  {
   "cell_type": "markdown",
   "metadata": {},
   "source": [
    "Подготовим модель. Модель будет содержать 2а скрытых слоя, по 200 нейронов в каждом. Предположение такое - на 1м скрытом слое нейроны будут обучаться отдельным линиям, дугам и т.п. составляющим цифры, на 2м скрытом слое - нейроны будут обучаться фигурам (например, две петли составляющие 8-ку)."
   ]
  },
  {
   "cell_type": "code",
   "execution_count": 85,
   "metadata": {},
   "outputs": [],
   "source": [
    "mnist_model = keras.models.Sequential()\n",
    "\n",
    "mnist_model.add(keras.layers.Flatten(input_shape=[x_train.shape[1]]))\n",
    "mnist_model.add(keras.layers.Dense(200, activation=\"relu\"))\n",
    "mnist_model.add(keras.layers.Dense(200, activation=\"relu\"))\n",
    "mnist_model.add(keras.layers.Dense(10, activation=\"softmax\"))"
   ]
  },
  {
   "cell_type": "markdown",
   "metadata": {},
   "source": [
    "Коэф-т learning_rate взят от балды, будем изменять его, если модель будет расходиться или не достигнем 98% точности"
   ]
  },
  {
   "cell_type": "code",
   "execution_count": 86,
   "metadata": {},
   "outputs": [],
   "source": [
    "mnist_model.compile(loss=\"sparse_categorical_crossentropy\", \n",
    "              optimizer=keras.optimizers.SGD(lr=0.1), \n",
    "              metrics=['accuracy'])"
   ]
  },
  {
   "cell_type": "markdown",
   "metadata": {},
   "source": [
    "Используем:\n",
    "- раннюю оставноку, если в течении 20 эпох не было улучшений на наборе валидации;\n",
    "- сохранение модели только с лучшими результатами (для послед. загрузки);\n",
    "- сохранение кривых обучения для визуализаци в TensorBoard. "
   ]
  },
  {
   "cell_type": "code",
   "execution_count": 88,
   "metadata": {
    "scrolled": true
   },
   "outputs": [
    {
     "name": "stdout",
     "output_type": "stream",
     "text": [
      "Train on 50000 samples, validate on 10000 samples\n",
      "Epoch 1/200\n",
      "50000/50000 [==============================] - 7s 139us/sample - loss: 0.2898 - accuracy: 0.9133 - val_loss: 0.1806 - val_accuracy: 0.9461\n",
      "Epoch 2/200\n",
      "50000/50000 [==============================] - 6s 118us/sample - loss: 0.1184 - accuracy: 0.9644 - val_loss: 0.1123 - val_accuracy: 0.9656\n",
      "Epoch 3/200\n",
      "50000/50000 [==============================] - 7s 138us/sample - loss: 0.0824 - accuracy: 0.9754 - val_loss: 0.0956 - val_accuracy: 0.9724\n",
      "Epoch 4/200\n",
      "50000/50000 [==============================] - 7s 148us/sample - loss: 0.0594 - accuracy: 0.9814 - val_loss: 0.0814 - val_accuracy: 0.9758\n",
      "Epoch 5/200\n",
      "50000/50000 [==============================] - 7s 132us/sample - loss: 0.0442 - accuracy: 0.9866 - val_loss: 0.0836 - val_accuracy: 0.9757\n",
      "Epoch 6/200\n",
      "50000/50000 [==============================] - 6s 125us/sample - loss: 0.0342 - accuracy: 0.9895 - val_loss: 0.0758 - val_accuracy: 0.9785\n",
      "Epoch 7/200\n",
      "50000/50000 [==============================] - 6s 113us/sample - loss: 0.0263 - accuracy: 0.9920 - val_loss: 0.0824 - val_accuracy: 0.9774\n",
      "Epoch 8/200\n",
      "50000/50000 [==============================] - 5s 108us/sample - loss: 0.0207 - accuracy: 0.9938 - val_loss: 0.0810 - val_accuracy: 0.9788\n",
      "Epoch 9/200\n",
      "50000/50000 [==============================] - 6s 114us/sample - loss: 0.0144 - accuracy: 0.9962 - val_loss: 0.0846 - val_accuracy: 0.9775\n",
      "Epoch 10/200\n",
      "50000/50000 [==============================] - 6s 123us/sample - loss: 0.0099 - accuracy: 0.9976 - val_loss: 0.1034 - val_accuracy: 0.9727\n",
      "Epoch 11/200\n",
      "50000/50000 [==============================] - 7s 150us/sample - loss: 0.0072 - accuracy: 0.9984 - val_loss: 0.3249 - val_accuracy: 0.9316\n",
      "Epoch 12/200\n",
      "50000/50000 [==============================] - 6s 114us/sample - loss: 0.0056 - accuracy: 0.9991 - val_loss: 0.0743 - val_accuracy: 0.9816\n",
      "Epoch 13/200\n",
      "50000/50000 [==============================] - 6s 122us/sample - loss: 0.0034 - accuracy: 0.9996 - val_loss: 0.0761 - val_accuracy: 0.9813\n",
      "Epoch 14/200\n",
      "50000/50000 [==============================] - 5s 106us/sample - loss: 0.0022 - accuracy: 0.9998 - val_loss: 0.0778 - val_accuracy: 0.9817\n",
      "Epoch 15/200\n",
      "50000/50000 [==============================] - 7s 134us/sample - loss: 0.0014 - accuracy: 1.0000 - val_loss: 0.0785 - val_accuracy: 0.9816\n",
      "Epoch 16/200\n",
      "50000/50000 [==============================] - 7s 147us/sample - loss: 0.0012 - accuracy: 1.0000 - val_loss: 0.0832 - val_accuracy: 0.9818\n",
      "Epoch 17/200\n",
      "50000/50000 [==============================] - 8s 152us/sample - loss: 9.7057e-04 - accuracy: 1.0000 - val_loss: 0.0815 - val_accuracy: 0.9819\n",
      "Epoch 18/200\n",
      "50000/50000 [==============================] - 7s 134us/sample - loss: 8.4426e-04 - accuracy: 1.0000 - val_loss: 0.0822 - val_accuracy: 0.9821\n",
      "Epoch 19/200\n",
      "50000/50000 [==============================] - 7s 146us/sample - loss: 7.3660e-04 - accuracy: 1.0000 - val_loss: 0.0829 - val_accuracy: 0.9822\n",
      "Epoch 20/200\n",
      "50000/50000 [==============================] - 8s 159us/sample - loss: 6.6746e-04 - accuracy: 1.0000 - val_loss: 0.0837 - val_accuracy: 0.9820\n",
      "Epoch 21/200\n",
      "50000/50000 [==============================] - 7s 141us/sample - loss: 6.0405e-04 - accuracy: 1.0000 - val_loss: 0.0835 - val_accuracy: 0.9826\n",
      "Epoch 22/200\n",
      "50000/50000 [==============================] - 6s 129us/sample - loss: 5.5350e-04 - accuracy: 1.0000 - val_loss: 0.0846 - val_accuracy: 0.9822\n",
      "Epoch 23/200\n",
      "50000/50000 [==============================] - 6s 125us/sample - loss: 5.1676e-04 - accuracy: 1.0000 - val_loss: 0.0852 - val_accuracy: 0.9824\n",
      "Epoch 24/200\n",
      "50000/50000 [==============================] - 7s 145us/sample - loss: 4.7995e-04 - accuracy: 1.0000 - val_loss: 0.0861 - val_accuracy: 0.9827\n",
      "Epoch 25/200\n",
      "50000/50000 [==============================] - 7s 144us/sample - loss: 4.4657e-04 - accuracy: 1.0000 - val_loss: 0.0865 - val_accuracy: 0.9828\n",
      "Epoch 26/200\n",
      "50000/50000 [==============================] - 7s 139us/sample - loss: 4.1992e-04 - accuracy: 1.0000 - val_loss: 0.0876 - val_accuracy: 0.9826\n",
      "Epoch 27/200\n",
      "50000/50000 [==============================] - 7s 147us/sample - loss: 3.9922e-04 - accuracy: 1.0000 - val_loss: 0.0870 - val_accuracy: 0.9825\n",
      "Epoch 28/200\n",
      "50000/50000 [==============================] - 7s 139us/sample - loss: 3.7461e-04 - accuracy: 1.0000 - val_loss: 0.0880 - val_accuracy: 0.9825\n",
      "Epoch 29/200\n",
      "50000/50000 [==============================] - 7s 141us/sample - loss: 3.5487e-04 - accuracy: 1.0000 - val_loss: 0.0880 - val_accuracy: 0.9826\n",
      "Epoch 30/200\n",
      "50000/50000 [==============================] - 7s 148us/sample - loss: 3.3792e-04 - accuracy: 1.0000 - val_loss: 0.0886 - val_accuracy: 0.9825\n",
      "Epoch 31/200\n",
      "50000/50000 [==============================] - 7s 148us/sample - loss: 3.2079e-04 - accuracy: 1.0000 - val_loss: 0.0894 - val_accuracy: 0.9825\n",
      "Epoch 32/200\n",
      "50000/50000 [==============================] - 7s 134us/sample - loss: 3.0506e-04 - accuracy: 1.0000 - val_loss: 0.0898 - val_accuracy: 0.9823\n"
     ]
    }
   ],
   "source": [
    "early_stopping_cb = keras.callbacks.EarlyStopping(patience=20,\n",
    "                                                  restore_best_weights=True)\n",
    "savebest_cb = keras.callbacks.ModelCheckpoint(\"mmodel01.h5\", save_best_only=True)\n",
    "tensorboard_cb = keras.callbacks.TensorBoard('./t_logs/model01')\n",
    "\n",
    "history = mnist_model.fit(x_train, y_train, epochs=200,\n",
    "                          validation_data=(x_valid, y_valid),\n",
    "                         callbacks=[early_stopping_cb, savebest_cb, tensorboard_cb])"
   ]
  },
  {
   "cell_type": "code",
   "execution_count": 92,
   "metadata": {},
   "outputs": [
    {
     "name": "stdout",
     "output_type": "stream",
     "text": [
      "50000/50000 [==============================] - 3s 60us/sample - loss: 0.0032 - accuracy: 0.9997\n"
     ]
    },
    {
     "data": {
      "text/plain": [
       "[0.0031636303977225907, 0.99968]"
      ]
     },
     "execution_count": 92,
     "metadata": {},
     "output_type": "execute_result"
    }
   ],
   "source": [
    "mnist_model.evaluate(x_train, y_train)"
   ]
  },
  {
   "cell_type": "code",
   "execution_count": 93,
   "metadata": {},
   "outputs": [
    {
     "name": "stdout",
     "output_type": "stream",
     "text": [
      "10000/10000 [==============================] - 1s 64us/sample - loss: 0.0743 - accuracy: 0.9816\n"
     ]
    },
    {
     "data": {
      "text/plain": [
       "[0.07425380325159203, 0.9816]"
      ]
     },
     "execution_count": 93,
     "metadata": {},
     "output_type": "execute_result"
    }
   ],
   "source": [
    "mnist_model.evaluate(x_valid, y_valid)"
   ]
  },
  {
   "cell_type": "code",
   "execution_count": 89,
   "metadata": {},
   "outputs": [
    {
     "name": "stdout",
     "output_type": "stream",
     "text": [
      "10000/10000 [==============================] - 1s 62us/sample - loss: 0.0710 - accuracy: 0.9810\n"
     ]
    },
    {
     "data": {
      "text/plain": [
       "[0.07095045207158546, 0.981]"
      ]
     },
     "execution_count": 89,
     "metadata": {},
     "output_type": "execute_result"
    }
   ],
   "source": [
    "mnist_model.evaluate(x_test, y_test)"
   ]
  },
  {
   "cell_type": "code",
   "execution_count": 116,
   "metadata": {},
   "outputs": [
    {
     "data": {
      "image/png": "[encoded data removed]",
      "text/plain": [
       "<Figure size 432x288 with 2 Axes>"
      ]
     },
     "metadata": {
      "needs_background": "light"
     },
     "output_type": "display_data"
    }
   ],
   "source": [
    "import pandas as pd\n",
    "\n",
    "plt.subplot(121)\n",
    "plt.grid(True)\n",
    "plt.plot(history.history['loss'])\n",
    "plt.plot(history.history['val_loss'])\n",
    "\n",
    "plt.subplot(122)\n",
    "plt.grid(True)\n",
    "plt.plot(history.history['accuracy'])\n",
    "plt.plot(history.history['val_accuracy'])\n",
    "\n",
    "plt.show()"
   ]
  }
 ],
 "metadata": {
  "kernelspec": {
   "display_name": "Python 3",
   "language": "python",
   "name": "python3"
  },
  "language_info": {
   "codemirror_mode": {
    "name": "ipython",
    "version": 3
   },
   "file_extension": ".py",
   "mimetype": "text/x-python",
   "name": "python",
   "nbconvert_exporter": "python",
   "pygments_lexer": "ipython3",
   "version": "3.6.9"
  }
 },
 "nbformat": 4,
 "nbformat_minor": 4
}
